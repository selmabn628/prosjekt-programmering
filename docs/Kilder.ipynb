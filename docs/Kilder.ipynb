{
 "cells": [
  {
   "cell_type": "markdown",
   "metadata": {},
   "source": [
    "## Kilder\n",
    "\n",
    "03024: Eksport av oppalen laks, etter varegruppe, uke og statistikkvariabel: \n",
    "\n",
    "https://www.ssb.no/statbank/table/03024/tableViewLayout1/ \n",
    "\n",
    "\n",
    "Valutakurs USD og EUR: \n",
    "\n",
    "https://app.norges-bank.no/query/index.html#/no/currency?currency=USD,EUR&frequency=B&startdate=2000-01-01&stopdate=2025-05-20 \n"
   ]
  }
 ],
 "metadata": {
  "language_info": {
   "name": "python"
  }
 },
 "nbformat": 4,
 "nbformat_minor": 2
}
