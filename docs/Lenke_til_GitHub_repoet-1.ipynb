{
 "cells": [
  {
   "cell_type": "markdown",
   "metadata": {},
   "source": [
    "[Klikk her for å åpne GitHub-repoet](https://github.com/selmabn628/prosjekt-programmering)"
   ]
  }
 ],
 "metadata": {
  "language_info": {
   "name": "python"
  }
 },
 "nbformat": 4,
 "nbformat_minor": 2
}
