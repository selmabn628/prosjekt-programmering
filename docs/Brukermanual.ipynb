{
 "cells": [
  {
   "cell_type": "markdown",
   "metadata": {},
   "source": [
    "# Brukermanual\n",
    "\n",
    "## Innledning\n",
    "\n",
    "I dette prosjektet ønsket vi å undersøke ulike faktorer ved eksport av fersk og frossen oppdrettslaks, ettersom det har oppstått mye misnøye rundt lakseeksport og klimavennlighet. Bærekraftig transport er særlig relevant innen vår studieretning, og vi ønsket derfor å vinkle miljødataanalyseprosjektet slik at vi kunne anvende kunnskap fra flere emner – både faglig og teknisk.\n",
    "\n",
    "Som hovedkilde har vi brukt **SSBs tabell 03024**: *Eksport av fersk og frossen oppdrettslaks*. Til sammenligning har vi analysert **valutakursene USD og EUR** hentet fra *Norges Bank*, samt sett på hvordan lakseeksporten kan påvirke **CO₂-utslipp**.\n",
    "\n",
    "Vi undersøker blant annet:\n",
    "- Hvordan kilosprisen endrer seg i takt med valutakurser\n",
    "- Mulig sammenheng mellom eksport og klimabelastning\n",
    "- Visualisering og prediksjon av utviklingstrekk\n",
    "\n",
    "---\n",
    "\n",
    "## Hvordan kjøre prosjektet\n",
    "\n",
    "1. Åpne `docs/Innholdsfortegnelse.ipynb`\n",
    "2. Der finner du **klikkbare lenker til hver oppgave**\n",
    "3. Gå gjennom Jupyter-notebooks én og én\n",
    "4. Kjør hver celle med `Shift + Enter`\n",
    "5. Data lastes automatisk fra API-er (SSB og Norges Bank)\n",
    "\n",
    "---\n",
    "\n",
    "## Hva kan du forvente\n",
    "\n",
    "- **Datainnsamling:** Automatisk henting av data via API-spørringer\n",
    "- **Databehandling:** Strukturering og rensing av datasett\n",
    "- **Dataanalyse:** Beregninger og enkel statistikk\n",
    "- **Visualisering:** Linjeplott, søylediagrammer og interaktive grafer\n",
    "- **Prediksjon:** Modellfremstilling for fremtidig utvikling\n",
    "\n",
    "---\n",
    "\n",
    "## Teknisk\n",
    "\n",
    "- Installer pakker i terminal:  \n",
    "  pip install -r requirements.txt\n"
   ]
  }
 ],
 "metadata": {
  "language_info": {
   "name": "python"
  }
 },
 "nbformat": 4,
 "nbformat_minor": 2
}
