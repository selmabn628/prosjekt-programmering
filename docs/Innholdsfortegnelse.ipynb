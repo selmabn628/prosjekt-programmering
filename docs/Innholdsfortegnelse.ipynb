{
 "cells": [
  {
   "cell_type": "markdown",
   "metadata": {},
   "source": [
    "## Innholdsfortegnelse\n",
    "\n",
    "[Brukermanual](Brukermanual.ipynb)\n",
    "\n",
    "[KI-deklarasjon](KI_Deklarasjon.png)\n",
    "\n",
    "[GitHub-repo](Lenke_til_GitHub_repoet-1.ipynb)\n",
    "\n",
    "### Datainnsamling\n",
    "- [README, datainnsamling](../notebooks/2_Datainnsamling/README_datainnsamling.md)\n",
    "- [Lakseeksport (API)](../notebooks/2_Datainnsamling/Lakseeksport_api.ipynb)\n",
    "- [Valutakurs USD og EUR (API)](../notebooks/2_Datainnsamling/Valutakurs_USD_EUR_api.ipynb)\n",
    "\n",
    "### Databehandling\n",
    "- [README, databehandling](../notebooks/3_Databehandling/README_databehandling.md)\n",
    "- [Datarensing av nullverdier](../notebooks/3_Databehandling/Datarensing_nullverdier.ipynb)\n",
    "- [Manipulasjon ved lambda](../notebooks/3_Databehandling/Lambda_manipulere_data.ipynb)\n",
    "- [Vekt, laks](../notebooks/3_Databehandling/Vekt-laks-2024.ipynb)\n",
    "\n",
    "### Dataanalyse\n",
    "- [README, dataanalyse](../notebooks/4_Dataanalyse/README_dataanalyse.md)\n",
    "- [Statistikk av kilospris](../notebooks/4_Dataanalyse/Statistikk_kilospris.ipynb)\n",
    "- [Statistisk dataanalyse](../notebooks/4_Dataanalyse/Statistisk_dataanalyse_.ipynb)\n",
    "- [Regresjonsanalyse](../notebooks/4_Dataanalyse/Regresjon_analyse.ipynb)\n",
    "\n",
    "### Visualisering\n",
    "- [README, visualisering](../notebooks/5_Visualisering/README_visualisering.md)\n",
    "- [Visualisering av kilospris](../notebooks/5_Visualisering/Visualisering_kilospris.ipynb)\n",
    "- [Visualisering av tidstrender](../notebooks/5_Visualisering/Visualisering_tidstrender.ipynb)\n",
    "- [CO2-utslipp](../notebooks/5_Visualisering/co2_utslipp.ipynb)\n",
    "\n",
    "### Prediksjon\n",
    "- [README, prediktiv analyse](../notebooks/6_Prediktiv_analyse/README_prediktiv_analyse.md)\n",
    "- [Prediksjon av eksportverdi](../notebooks/6_Prediktiv_analyse/Prediksjon_Eksportverdi.ipynb)\n",
    "\n",
    "### Refleksjonsnotat\n",
    "[Refleksjonsnotat](Refleksjonsnotat.ipynb)\n",
    "\n",
    "### Enhetstester\n",
    "- [API](../tests/laks_api_for_unittest.py)\n",
    "- [API, test](../tests/test_api.py)\n",
    "- [SSB-henting](../tests/ssb_henting.py)\n",
    "- [SSB-henting, test](../tests/test_ssb_henting.py)\n",
    "- [Valutadata](../tests/valutadata.py)\n",
    "- [Valutadata, test](../tests/test_valutadata.py)\n",
    "\n",
    "### Kilder\n",
    "[Kilder](Kilder.ipynb)"
   ]
  }
 ],
 "metadata": {
  "language_info": {
   "name": "python"
  }
 },
 "nbformat": 4,
 "nbformat_minor": 2
}
