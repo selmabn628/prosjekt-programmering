{
 "cells": [
  {
   "cell_type": "markdown",
   "metadata": {},
   "source": [
    "## Innholdsfortegnelse\n",
    "\n",
    "### Datainnsamling\n",
    "- [README_datainnsamling](notebooks/Datainnsamling/README_datainnsamling.md)\n",
    "- [Lakseeksport (API)](notebooks/Datainnsamling/Lakseeksport_api.ipynb)\n",
    "- [Valutakurs USD og EUR (API)](notebooks/Datainnsamling/Valutakurs_USD_EUR_api.ipynb)\n",
    "\n",
    "### Dataanalyse\n",
    "- [Statistikk på kilospris](notebooks/Dataanalyse/Statistikk_kilospris.ipynb)\n",
    "\n",
    "### Visualisering\n",
    "- [Interaktiv utvikling av kg-pris](notebooks/Visualisering/interaktiv_kg-pris.ipynb)\n",
    "\n",
    "### Prediksjon\n",
    "- [README_prediksjon.md](notebooks/Prediksjon/README_prediksjon.md)\n",
    "- [Prediksjon av kilospris](notebooks/Prediksjon/Prediksjons_kg-pris)\n",
    "\n"
   ]
  }
 ],
 "metadata": {
  "language_info": {
   "name": "python"
  }
 },
 "nbformat": 4,
 "nbformat_minor": 2
}
