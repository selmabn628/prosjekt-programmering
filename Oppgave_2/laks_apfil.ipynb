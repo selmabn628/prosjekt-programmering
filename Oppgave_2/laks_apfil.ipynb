{
 "cells": [
  {
   "cell_type": "code",
   "execution_count": 6,
   "metadata": {},
   "outputs": [],
   "source": [
    "#git clone https://github.com/selmabn628/prosjekt-programmering.git\n",
    "#cd prosjekt-programmering\n",
    "#code . "
   ]
  },
  {
   "cell_type": "code",
   "execution_count": null,
   "metadata": {},
   "outputs": [],
   "source": [
    "import requests\n",
    "import pandas as pd\n",
    "\n",
    "response = requests.get(\"https://data.ssb.no/api/v0/dataset/1122?lang=no\")\n",
    "print(response.status_code)"
   ]
  },
  {
   "cell_type": "code",
   "execution_count": 7,
   "metadata": {},
   "outputs": [
    {
     "ename": "ModuleNotFoundError",
     "evalue": "No module named 'requests'",
     "output_type": "error",
     "traceback": [
      "\u001b[31m---------------------------------------------------------------------------\u001b[39m",
      "\u001b[31mModuleNotFoundError\u001b[39m                       Traceback (most recent call last)",
      "\u001b[36mCell\u001b[39m\u001b[36m \u001b[39m\u001b[32mIn[7]\u001b[39m\u001b[32m, line 1\u001b[39m\n\u001b[32m----> \u001b[39m\u001b[32m1\u001b[39m \u001b[38;5;28;01mimport\u001b[39;00m\u001b[38;5;250m \u001b[39m\u001b[34;01mrequests\u001b[39;00m\n\u001b[32m      2\u001b[39m \u001b[38;5;28;01mimport\u001b[39;00m\u001b[38;5;250m \u001b[39m\u001b[34;01mpandas\u001b[39;00m\u001b[38;5;250m \u001b[39m\u001b[38;5;28;01mas\u001b[39;00m\u001b[38;5;250m \u001b[39m\u001b[34;01mpd\u001b[39;00m\n\u001b[32m      3\u001b[39m \u001b[38;5;28;01mfrom\u001b[39;00m\u001b[38;5;250m \u001b[39m\u001b[34;01mitertools\u001b[39;00m\u001b[38;5;250m \u001b[39m\u001b[38;5;28;01mimport\u001b[39;00m product\n",
      "\u001b[31mModuleNotFoundError\u001b[39m: No module named 'requests'"
     ]
    }
   ],
   "source": [
    "import requests\n",
    "import pandas as pd\n",
    "from itertools import product\n",
    "\n",
    "# URL til SSB API for tabell 03024\n",
    "api_url = \"https://data.ssb.no/api/v0/no/table/03024/\"\n",
    "\n",
    "# Definerer API-spørringen\n",
    "query = {\n",
    "    \"query\": [],\n",
    "    \"response\": {\n",
    "        \"format\": \"json-stat2\"\n",
    "    }\n",
    "}\n",
    "\n",
    "# Hente data fra API\n",
    "response = requests.post(api_url, json=query)\n",
    "\n",
    "# Sjekke om forespørselen var vellykket\n",
    "if response.status_code == 200:\n",
    "    data = response.json()\n",
    "    \n",
    "    # Ekstrahere dimensjonsnavn og verdier\n",
    "    dimension_names = list(data[\"dimension\"].keys())\n",
    "    values = data[\"value\"]\n",
    "    \n",
    "    # Opprette en liste av kombinasjoner av dimensjoner\n",
    "    dimensions = [list(data[\"dimension\"][dim][\"category\"][\"label\"].values()) for dim in dimension_names]\n",
    "    \n",
    "    # Generere alle kombinasjoner av dimensjonsverdier\n",
    "    all_combinations = list(product(*dimensions))\n",
    "    \n",
    "    # Lage en DataFrame med riktige dimensjoner\n",
    "    df = pd.DataFrame(all_combinations, columns=dimension_names)\n",
    "    df[\"Value\"] = values  # Knytte verdiene til riktige rader\n",
    "    \n",
    "    # Pivotere data for å få ønsket struktur\n",
    "    df_pivot = df.pivot_table(index=\"Tid\", columns=[\"VareGrupper2\", \"ContentsCode\"], values=\"Value\", aggfunc=\"sum\").reset_index()\n",
    "    \n",
    "    # Gi kolonnene mer forståelige navn med riktig rekkefølge\n",
    "    df_pivot.columns = [\"Tid\", \"Fersk laks - Kilospris\", \"Fersk laks - Vekt (tonn)\", \"Frosset laks - Kilospris\", \"Frosset laks - Vekt (tonn)\"]\n",
    "    \n",
    "    # Vise tabellen i et lesbart format\n",
    "    print(df_pivot.to_string(index=False))\n",
    "    \n",
    "    print(\"Data hentet, sortert og formatert for visning.\")\n",
    "else:\n",
    "    print(f\"Feil ved henting av data: {response.status_code}\")\n",
    "    print(response.text)  # Skriv ut feilmeldingen fra API-et"
   ]
  },
  {
   "cell_type": "code",
   "execution_count": null,
   "metadata": {},
   "outputs": [],
   "source": [
    "import requests\n",
    "import pandas as pd\n",
    "from itertools import product\n",
    "\n",
    "# URL til SSB API for tabell 03024\n",
    "API_URL = \"https://data.ssb.no/api/v0/no/table/03024/\"\n",
    "\n",
    "def fetch_data(api_url=API_URL):\n",
    "    \"\"\"Henter data fra SSB API og returnerer JSON-responsen.\"\"\"\n",
    "    query = {\n",
    "        \"query\": [],\n",
    "        \"response\": {\"format\": \"json-stat2\"}\n",
    "    }\n",
    "    response = requests.post(api_url, json=query)\n",
    "    if response.status_code == 200:\n",
    "        return response.json()\n",
    "    else:\n",
    "        raise Exception(f\"Feil ved henting av data: {response.status_code}\\n{response.text}\")\n",
    "\n",
    "def process_data(data):\n",
    "    \"\"\"Prosesserer JSON-data og returnerer en formatert Pandas DataFrame.\"\"\"\n",
    "    dimension_names = list(data[\"dimension\"].keys())\n",
    "    values = data[\"value\"]\n",
    "    \n",
    "    # Opprette en liste av kombinasjoner av dimensjoner\n",
    "    dimensions = [list(data[\"dimension\"][dim][\"category\"][\"label\"].values()) for dim in dimension_names]\n",
    "    all_combinations = list(product(*dimensions))\n",
    "    \n",
    "    # Lage en DataFrame med riktige dimensjoner\n",
    "    df = pd.DataFrame(all_combinations, columns=dimension_names)\n",
    "    df[\"Value\"] = values  # Knytte verdiene til riktige rader\n",
    "    \n",
    "    # Pivotere data for å få ønsket struktur\n",
    "    df_pivot = df.pivot_table(index=\"Tid\", columns=[\"VareGrupper2\", \"ContentsCode\"], values=\"Value\", aggfunc=\"sum\").reset_index()\n",
    "    \n",
    "    # Gi kolonnene mer forståelige navn med riktig rekkefølge\n",
    "    df_pivot.columns = [\"År og ukenr.\", \"Fersk laks - Kilospris\", \"Fersk laks - Vekt (tonn)\", \"Frosset laks - Kilospris\", \"Frosset laks - Vekt (tonn)\"]\n",
    "    \n",
    "    return df_pivot\n",
    "\n",
    "def main():\n",
    "    \"\"\"Hovedfunksjon for å hente og prosessere data.\"\"\"\n",
    "    try:\n",
    "        data = fetch_data()\n",
    "        df_pivot = process_data(data)\n",
    "        print(df_pivot.to_string(index=False))\n",
    "        print(\"Data hentet, sortert og formatert for visning.\")\n",
    "    except Exception as e:\n",
    "        print(e)\n",
    "\n",
    "if __name__ == \"__main__\":\n",
    "    main()"
   ]
  }
 ],
 "metadata": {
  "kernelspec": {
   "display_name": "prosjekt.venv",
   "language": "python",
   "name": "python3"
  },
  "language_info": {
   "codemirror_mode": {
    "name": "ipython",
    "version": 3
   },
   "file_extension": ".py",
   "mimetype": "text/x-python",
   "name": "python",
   "nbconvert_exporter": "python",
   "pygments_lexer": "ipython3",
   "version": "3.13.2"
  }
 },
 "nbformat": 4,
 "nbformat_minor": 2
}
