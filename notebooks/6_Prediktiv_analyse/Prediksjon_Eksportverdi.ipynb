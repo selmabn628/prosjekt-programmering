{
 "cells": [
  {
   "cell_type": "code",
   "execution_count": 7,
   "id": "916b631e",
   "metadata": {},
   "outputs": [
    {
     "data": {
      "application/vnd.plotly.v1+json": {
       "config": {
        "plotlyServerURL": "https://plot.ly"
       },
       "data": [
        {
         "mode": "lines+markers",
         "name": "Fersk laks - Vekt (tonn)",
         "type": "scatter",
         "x": {
          "bdata": "0AfRB9IH0wfUB9UH1gfXB9gH2QfaB9sH3AfdB94H3wfgB+EH4gfjB+QH5QfmB+cH6AfpBw==",
          "dtype": "i2"
         },
         "y": {
          "bdata": "O7ETO/Hds0AndmIndn2zQBQ7sRN7VLRAFDuxE3uRt0CzzyE1wRq5QLETO7ETEb1AAAAAAMApvkAUO7ETm73CQDuxEzsRVsNA0CE1wXhZxUBiJ3Zi53rHQJ7YiZ24CMpAxU7sxA51z0CKndiJvSHOQJ7YiZ24Js9Aln0OqQk+0ECxEzux08nOQMVO7MQOzM9AO7ETO4Hc0EDFTuzEvrfRQFITjLdydtFAT+zETvyq00B2Yid2ssnSQE/sxE5skdJAip3Yia0q0kBmZmZm9p/QQA==",
          "dtype": "f8"
         },
         "yaxis": "y"
        },
        {
         "mode": "lines+markers",
         "name": "Fersk laks - Kilospris (kr/kg)",
         "type": "scatter",
         "x": {
          "bdata": "0AfRB9IH0wfUB9UH1gfXB9gH2QfaB9sH3AfdB94H3wfgB+EH4gfjB+QH5QfmB+cH6AfpBw==",
          "dtype": "i2"
         },
         "y": {
          "bdata": "Noz2m/IEQEAEzFk2//w5QFlQ0vHpWzdAUUWIt6s+NUCVtuusJZE2QJEbuZEbOTpAyY3cyI00QEDwAz/wA686QDBn2fwzBjtA8Nn42DH2PkDBD/zAD7RCQORGbuRGfkBAd9W9Q6KqO0CWWqmVWuFDQMVO7MROrERAgpbpw3KGRUC1Uiu1UitOQNejcD0Kp05AFa5H4XqcTkB7h0QVIW5OQAaq0OhXvUxAJKoI8XadTUDJjdzIjTBUQBaUdHz6zldAwQ/8wA+cV0DVeOkmMdhWQA==",
          "dtype": "f8"
         },
         "yaxis": "y2"
        }
       ],
       "layout": {
        "height": 600,
        "hovermode": "x unified",
        "legend": {
         "x": 0.01,
         "y": 0.99
        },
        "template": {
         "data": {
          "bar": [
           {
            "error_x": {
             "color": "#2a3f5f"
            },
            "error_y": {
             "color": "#2a3f5f"
            },
            "marker": {
             "line": {
              "color": "white",
              "width": 0.5
             },
             "pattern": {
              "fillmode": "overlay",
              "size": 10,
              "solidity": 0.2
             }
            },
            "type": "bar"
           }
          ],
          "barpolar": [
           {
            "marker": {
             "line": {
              "color": "white",
              "width": 0.5
             },
             "pattern": {
              "fillmode": "overlay",
              "size": 10,
              "solidity": 0.2
             }
            },
            "type": "barpolar"
           }
          ],
          "carpet": [
           {
            "aaxis": {
             "endlinecolor": "#2a3f5f",
             "gridcolor": "#C8D4E3",
             "linecolor": "#C8D4E3",
             "minorgridcolor": "#C8D4E3",
             "startlinecolor": "#2a3f5f"
            },
            "baxis": {
             "endlinecolor": "#2a3f5f",
             "gridcolor": "#C8D4E3",
             "linecolor": "#C8D4E3",
             "minorgridcolor": "#C8D4E3",
             "startlinecolor": "#2a3f5f"
            },
            "type": "carpet"
           }
          ],
          "choropleth": [
           {
            "colorbar": {
             "outlinewidth": 0,
             "ticks": ""
            },
            "type": "choropleth"
           }
          ],
          "contour": [
           {
            "colorbar": {
             "outlinewidth": 0,
             "ticks": ""
            },
            "colorscale": [
             [
              0,
              "#0d0887"
             ],
             [
              0.1111111111111111,
              "#46039f"
             ],
             [
              0.2222222222222222,
              "#7201a8"
             ],
             [
              0.3333333333333333,
              "#9c179e"
             ],
             [
              0.4444444444444444,
              "#bd3786"
             ],
             [
              0.5555555555555556,
              "#d8576b"
             ],
             [
              0.6666666666666666,
              "#ed7953"
             ],
             [
              0.7777777777777778,
              "#fb9f3a"
             ],
             [
              0.8888888888888888,
              "#fdca26"
             ],
             [
              1,
              "#f0f921"
             ]
            ],
            "type": "contour"
           }
          ],
          "contourcarpet": [
           {
            "colorbar": {
             "outlinewidth": 0,
             "ticks": ""
            },
            "type": "contourcarpet"
           }
          ],
          "heatmap": [
           {
            "colorbar": {
             "outlinewidth": 0,
             "ticks": ""
            },
            "colorscale": [
             [
              0,
              "#0d0887"
             ],
             [
              0.1111111111111111,
              "#46039f"
             ],
             [
              0.2222222222222222,
              "#7201a8"
             ],
             [
              0.3333333333333333,
              "#9c179e"
             ],
             [
              0.4444444444444444,
              "#bd3786"
             ],
             [
              0.5555555555555556,
              "#d8576b"
             ],
             [
              0.6666666666666666,
              "#ed7953"
             ],
             [
              0.7777777777777778,
              "#fb9f3a"
             ],
             [
              0.8888888888888888,
              "#fdca26"
             ],
             [
              1,
              "#f0f921"
             ]
            ],
            "type": "heatmap"
           }
          ],
          "histogram": [
           {
            "marker": {
             "pattern": {
              "fillmode": "overlay",
              "size": 10,
              "solidity": 0.2
             }
            },
            "type": "histogram"
           }
          ],
          "histogram2d": [
           {
            "colorbar": {
             "outlinewidth": 0,
             "ticks": ""
            },
            "colorscale": [
             [
              0,
              "#0d0887"
             ],
             [
              0.1111111111111111,
              "#46039f"
             ],
             [
              0.2222222222222222,
              "#7201a8"
             ],
             [
              0.3333333333333333,
              "#9c179e"
             ],
             [
              0.4444444444444444,
              "#bd3786"
             ],
             [
              0.5555555555555556,
              "#d8576b"
             ],
             [
              0.6666666666666666,
              "#ed7953"
             ],
             [
              0.7777777777777778,
              "#fb9f3a"
             ],
             [
              0.8888888888888888,
              "#fdca26"
             ],
             [
              1,
              "#f0f921"
             ]
            ],
            "type": "histogram2d"
           }
          ],
          "histogram2dcontour": [
           {
            "colorbar": {
             "outlinewidth": 0,
             "ticks": ""
            },
            "colorscale": [
             [
              0,
              "#0d0887"
             ],
             [
              0.1111111111111111,
              "#46039f"
             ],
             [
              0.2222222222222222,
              "#7201a8"
             ],
             [
              0.3333333333333333,
              "#9c179e"
             ],
             [
              0.4444444444444444,
              "#bd3786"
             ],
             [
              0.5555555555555556,
              "#d8576b"
             ],
             [
              0.6666666666666666,
              "#ed7953"
             ],
             [
              0.7777777777777778,
              "#fb9f3a"
             ],
             [
              0.8888888888888888,
              "#fdca26"
             ],
             [
              1,
              "#f0f921"
             ]
            ],
            "type": "histogram2dcontour"
           }
          ],
          "mesh3d": [
           {
            "colorbar": {
             "outlinewidth": 0,
             "ticks": ""
            },
            "type": "mesh3d"
           }
          ],
          "parcoords": [
           {
            "line": {
             "colorbar": {
              "outlinewidth": 0,
              "ticks": ""
             }
            },
            "type": "parcoords"
           }
          ],
          "pie": [
           {
            "automargin": true,
            "type": "pie"
           }
          ],
          "scatter": [
           {
            "fillpattern": {
             "fillmode": "overlay",
             "size": 10,
             "solidity": 0.2
            },
            "type": "scatter"
           }
          ],
          "scatter3d": [
           {
            "line": {
             "colorbar": {
              "outlinewidth": 0,
              "ticks": ""
             }
            },
            "marker": {
             "colorbar": {
              "outlinewidth": 0,
              "ticks": ""
             }
            },
            "type": "scatter3d"
           }
          ],
          "scattercarpet": [
           {
            "marker": {
             "colorbar": {
              "outlinewidth": 0,
              "ticks": ""
             }
            },
            "type": "scattercarpet"
           }
          ],
          "scattergeo": [
           {
            "marker": {
             "colorbar": {
              "outlinewidth": 0,
              "ticks": ""
             }
            },
            "type": "scattergeo"
           }
          ],
          "scattergl": [
           {
            "marker": {
             "colorbar": {
              "outlinewidth": 0,
              "ticks": ""
             }
            },
            "type": "scattergl"
           }
          ],
          "scattermap": [
           {
            "marker": {
             "colorbar": {
              "outlinewidth": 0,
              "ticks": ""
             }
            },
            "type": "scattermap"
           }
          ],
          "scattermapbox": [
           {
            "marker": {
             "colorbar": {
              "outlinewidth": 0,
              "ticks": ""
             }
            },
            "type": "scattermapbox"
           }
          ],
          "scatterpolar": [
           {
            "marker": {
             "colorbar": {
              "outlinewidth": 0,
              "ticks": ""
             }
            },
            "type": "scatterpolar"
           }
          ],
          "scatterpolargl": [
           {
            "marker": {
             "colorbar": {
              "outlinewidth": 0,
              "ticks": ""
             }
            },
            "type": "scatterpolargl"
           }
          ],
          "scatterternary": [
           {
            "marker": {
             "colorbar": {
              "outlinewidth": 0,
              "ticks": ""
             }
            },
            "type": "scatterternary"
           }
          ],
          "surface": [
           {
            "colorbar": {
             "outlinewidth": 0,
             "ticks": ""
            },
            "colorscale": [
             [
              0,
              "#0d0887"
             ],
             [
              0.1111111111111111,
              "#46039f"
             ],
             [
              0.2222222222222222,
              "#7201a8"
             ],
             [
              0.3333333333333333,
              "#9c179e"
             ],
             [
              0.4444444444444444,
              "#bd3786"
             ],
             [
              0.5555555555555556,
              "#d8576b"
             ],
             [
              0.6666666666666666,
              "#ed7953"
             ],
             [
              0.7777777777777778,
              "#fb9f3a"
             ],
             [
              0.8888888888888888,
              "#fdca26"
             ],
             [
              1,
              "#f0f921"
             ]
            ],
            "type": "surface"
           }
          ],
          "table": [
           {
            "cells": {
             "fill": {
              "color": "#EBF0F8"
             },
             "line": {
              "color": "white"
             }
            },
            "header": {
             "fill": {
              "color": "#C8D4E3"
             },
             "line": {
              "color": "white"
             }
            },
            "type": "table"
           }
          ]
         },
         "layout": {
          "annotationdefaults": {
           "arrowcolor": "#2a3f5f",
           "arrowhead": 0,
           "arrowwidth": 1
          },
          "autotypenumbers": "strict",
          "coloraxis": {
           "colorbar": {
            "outlinewidth": 0,
            "ticks": ""
           }
          },
          "colorscale": {
           "diverging": [
            [
             0,
             "#8e0152"
            ],
            [
             0.1,
             "#c51b7d"
            ],
            [
             0.2,
             "#de77ae"
            ],
            [
             0.3,
             "#f1b6da"
            ],
            [
             0.4,
             "#fde0ef"
            ],
            [
             0.5,
             "#f7f7f7"
            ],
            [
             0.6,
             "#e6f5d0"
            ],
            [
             0.7,
             "#b8e186"
            ],
            [
             0.8,
             "#7fbc41"
            ],
            [
             0.9,
             "#4d9221"
            ],
            [
             1,
             "#276419"
            ]
           ],
           "sequential": [
            [
             0,
             "#0d0887"
            ],
            [
             0.1111111111111111,
             "#46039f"
            ],
            [
             0.2222222222222222,
             "#7201a8"
            ],
            [
             0.3333333333333333,
             "#9c179e"
            ],
            [
             0.4444444444444444,
             "#bd3786"
            ],
            [
             0.5555555555555556,
             "#d8576b"
            ],
            [
             0.6666666666666666,
             "#ed7953"
            ],
            [
             0.7777777777777778,
             "#fb9f3a"
            ],
            [
             0.8888888888888888,
             "#fdca26"
            ],
            [
             1,
             "#f0f921"
            ]
           ],
           "sequentialminus": [
            [
             0,
             "#0d0887"
            ],
            [
             0.1111111111111111,
             "#46039f"
            ],
            [
             0.2222222222222222,
             "#7201a8"
            ],
            [
             0.3333333333333333,
             "#9c179e"
            ],
            [
             0.4444444444444444,
             "#bd3786"
            ],
            [
             0.5555555555555556,
             "#d8576b"
            ],
            [
             0.6666666666666666,
             "#ed7953"
            ],
            [
             0.7777777777777778,
             "#fb9f3a"
            ],
            [
             0.8888888888888888,
             "#fdca26"
            ],
            [
             1,
             "#f0f921"
            ]
           ]
          },
          "colorway": [
           "#636efa",
           "#EF553B",
           "#00cc96",
           "#ab63fa",
           "#FFA15A",
           "#19d3f3",
           "#FF6692",
           "#B6E880",
           "#FF97FF",
           "#FECB52"
          ],
          "font": {
           "color": "#2a3f5f"
          },
          "geo": {
           "bgcolor": "white",
           "lakecolor": "white",
           "landcolor": "white",
           "showlakes": true,
           "showland": true,
           "subunitcolor": "#C8D4E3"
          },
          "hoverlabel": {
           "align": "left"
          },
          "hovermode": "closest",
          "mapbox": {
           "style": "light"
          },
          "paper_bgcolor": "white",
          "plot_bgcolor": "white",
          "polar": {
           "angularaxis": {
            "gridcolor": "#EBF0F8",
            "linecolor": "#EBF0F8",
            "ticks": ""
           },
           "bgcolor": "white",
           "radialaxis": {
            "gridcolor": "#EBF0F8",
            "linecolor": "#EBF0F8",
            "ticks": ""
           }
          },
          "scene": {
           "xaxis": {
            "backgroundcolor": "white",
            "gridcolor": "#DFE8F3",
            "gridwidth": 2,
            "linecolor": "#EBF0F8",
            "showbackground": true,
            "ticks": "",
            "zerolinecolor": "#EBF0F8"
           },
           "yaxis": {
            "backgroundcolor": "white",
            "gridcolor": "#DFE8F3",
            "gridwidth": 2,
            "linecolor": "#EBF0F8",
            "showbackground": true,
            "ticks": "",
            "zerolinecolor": "#EBF0F8"
           },
           "zaxis": {
            "backgroundcolor": "white",
            "gridcolor": "#DFE8F3",
            "gridwidth": 2,
            "linecolor": "#EBF0F8",
            "showbackground": true,
            "ticks": "",
            "zerolinecolor": "#EBF0F8"
           }
          },
          "shapedefaults": {
           "line": {
            "color": "#2a3f5f"
           }
          },
          "ternary": {
           "aaxis": {
            "gridcolor": "#DFE8F3",
            "linecolor": "#A2B1C6",
            "ticks": ""
           },
           "baxis": {
            "gridcolor": "#DFE8F3",
            "linecolor": "#A2B1C6",
            "ticks": ""
           },
           "bgcolor": "white",
           "caxis": {
            "gridcolor": "#DFE8F3",
            "linecolor": "#A2B1C6",
            "ticks": ""
           }
          },
          "title": {
           "x": 0.05
          },
          "xaxis": {
           "automargin": true,
           "gridcolor": "#EBF0F8",
           "linecolor": "#EBF0F8",
           "ticks": "",
           "title": {
            "standoff": 15
           },
           "zerolinecolor": "#EBF0F8",
           "zerolinewidth": 2
          },
          "yaxis": {
           "automargin": true,
           "gridcolor": "#EBF0F8",
           "linecolor": "#EBF0F8",
           "ticks": "",
           "title": {
            "standoff": 15
           },
           "zerolinecolor": "#EBF0F8",
           "zerolinewidth": 2
          }
         }
        },
        "title": {
         "text": "Fersk laks - Årlig gjennomsnitt av vekt og kilospris"
        },
        "xaxis": {
         "title": {
          "text": "År"
         }
        },
        "yaxis": {
         "side": "left",
         "title": {
          "text": "Vekt (tonn)"
         }
        },
        "yaxis2": {
         "overlaying": "y",
         "side": "right",
         "title": {
          "text": "Kilospris (kr/kg)"
         }
        }
       }
      }
     },
     "metadata": {},
     "output_type": "display_data"
    }
   ],
   "source": [
    "\"\"\"\n",
    "    Denne koden henter laksedata fra SSB og bruker Plotly til å lage en interaktiv visualisering med dobbel akse. \n",
    "    Det er brukt to y-akser for å illustrere sammenhengen tyelig\n",
    "    Grafene viser gjennomsnittlig årlig utvikling i vekt (tonn) og kilopris (kr/kg) for fersk laks fra 2000 til 2025.\n",
    "\"\"\"\n",
    "\n",
    "import requests\n",
    "import pandas as pd\n",
    "from itertools import product\n",
    "import plotly.graph_objects as go\n",
    "\n",
    "# Hent data fra SSB API\n",
    "api_url = \"https://data.ssb.no/api/v0/no/table/03024/\"\n",
    "query = {\n",
    "    \"query\": [],\n",
    "    \"response\": {\n",
    "        \"format\": \"json-stat2\"\n",
    "    }\n",
    "}\n",
    "response = requests.post(api_url, json=query)\n",
    "\n",
    "if response.status_code == 200:\n",
    "    data = response.json()\n",
    "\n",
    "    #Trekker ut dimensjoner og verdier\n",
    "    dimension_names = list(data[\"dimension\"].keys())\n",
    "    values = data[\"value\"]\n",
    "    dimensions = [list(data[\"dimension\"][dim][\"category\"][\"label\"].values()) for dim in dimension_names]\n",
    "    all_combinations = list(product(*dimensions))\n",
    "\n",
    "    df = pd.DataFrame(all_combinations, columns=dimension_names)\n",
    "    df[\"Value\"] = values\n",
    "\n",
    "    #Filtrer ut relevante rader for fersk og frosset laks\n",
    "    df_pivot = df.pivot_table(\n",
    "        index=\"Tid\",\n",
    "        columns=[\"VareGrupper2\", \"ContentsCode\"],\n",
    "        values=\"Value\",\n",
    "        aggfunc=\"sum\"\n",
    "    ).reset_index()\n",
    "\n",
    "    #Bytter ut og gir lesbare og forståelig navn på kolonnene \n",
    "    df_pivot.columns = [\"Tid\", \"Fersk laks - Kilospris\", \"Fersk laks - Vekt (tonn)\",\n",
    "                        \"Frosset laks - Kilospris\", \"Frosset laks - Vekt (tonn)\"]\n",
    "\n",
    "    # Hent ut år fra Tid (første 4 tegn)\n",
    "    df_pivot[\"År\"] = df_pivot[\"Tid\"].str[:4].astype(int)\n",
    "\n",
    "    #sorterer data per år og regner ut gjennomsnitt av alle numeriske kolonner per år \n",
    "    df_agg = df_pivot.groupby(\"År\", as_index=False).mean(numeric_only=True)\n",
    "\n",
    "    #Lager en interaktiv graf med Plotly \n",
    "    fig = go.Figure()\n",
    "\n",
    "    #Legger til en graf for fersk laks vekt og kilospris\n",
    "    fig.add_trace(go.Scatter(\n",
    "        x=df_agg[\"År\"],\n",
    "        y=df_agg[\"Fersk laks - Vekt (tonn)\"],\n",
    "        name=\"Fersk laks - Vekt (tonn)\",\n",
    "        yaxis=\"y1\",\n",
    "        mode=\"lines+markers\"\n",
    "    ))\n",
    "\n",
    "    fig.add_trace(go.Scatter(\n",
    "        x=df_agg[\"År\"],\n",
    "        y=df_agg[\"Fersk laks - Kilospris\"],\n",
    "        name=\"Fersk laks - Kilospris (kr/kg)\",\n",
    "        yaxis=\"y2\",\n",
    "        mode=\"lines+markers\"\n",
    "    ))\n",
    "    #Legger til layout for dobbel akse\n",
    "    fig.update_layout(\n",
    "        title=\"Fersk laks - Årlig gjennomsnitt av vekt og kilospris\",\n",
    "        xaxis=dict(title=\"År\"),\n",
    "        yaxis=dict(title=\"Vekt (tonn)\", side=\"left\"),\n",
    "        yaxis2=dict(title=\"Kilospris (kr/kg)\", overlaying=\"y\", side=\"right\"),\n",
    "        legend=dict(x=0.01, y=0.99),\n",
    "        hovermode=\"x unified\",\n",
    "        template=\"plotly_white\",\n",
    "        height=600\n",
    "    )\n",
    "\n",
    "    fig.show() #Viser grafen\n",
    "\n",
    "else:\n",
    "    print(f\"Feil ved henting av data: {response.status_code}\")\n",
    "    print(response.text)\n"
   ]
  },
  {
   "cell_type": "markdown",
   "id": "6c16c775",
   "metadata": {},
   "source": [
    "Grafen viser årlige gjennomsnittlige verdier av kilopris og eksportert vekt av fersk laks per år.\n",
    "**Blå graf** viser gjennomsnittlig eksportert mengde av fersk laks i tonn.\n",
    "**Rød linje** viser gjennomsnittlig kilopris  for fersk laks i kr/kg.\n",
    "Vi bruker to y-akser for å kunne sammenligne pris og volum i samme graf, selv om de har ulike måleenheter. \n",
    "Dette viser sammenhengen mellom mengde og pris der vi for eksempel kan se om høy eksportmengde av laks påvirker kiloprisen.\n"
   ]
  },
  {
   "cell_type": "code",
   "execution_count": 8,
   "id": "956c1ac1",
   "metadata": {},
   "outputs": [
    {
     "data": {
      "application/vnd.plotly.v1+json": {
       "config": {
        "plotlyServerURL": "https://plot.ly"
       },
       "data": [
        {
         "mode": "lines+markers",
         "name": "Fersk laks - Vekt (tonn)",
         "type": "scatter",
         "x": {
          "bdata": "3wfgB+EH4gfjB+QH5QfmB+cH6AfpBw==",
          "dtype": "i2"
         },
         "y": {
          "bdata": "ln0OqQk+0ECxEzux08nOQMVO7MQOzM9AO7ETO4Hc0EDFTuzEvrfRQFITjLdydtFAT+zETvyq00B2Yid2ssnSQE/sxE5skdJAip3Yia0q0kBmZmZm9p/QQA==",
          "dtype": "f8"
         },
         "yaxis": "y"
        },
        {
         "mode": "lines+markers",
         "name": "Fersk laks - Kilospris (kr/kg)",
         "type": "scatter",
         "x": {
          "bdata": "3wfgB+EH4gfjB+QH5QfmB+cH6AfpBw==",
          "dtype": "i2"
         },
         "y": {
          "bdata": "gpbpw3KGRUC1Uiu1UitOQNejcD0Kp05AFa5H4XqcTkB7h0QVIW5OQAaq0OhXvUxAJKoI8XadTUDJjdzIjTBUQBaUdHz6zldAwQ/8wA+cV0DVeOkmMdhWQA==",
          "dtype": "f8"
         },
         "yaxis": "y2"
        },
        {
         "mode": "lines+markers",
         "name": "Eksportverdi hittil i år (mrd NOK)",
         "type": "scatter",
         "x": {
          "bdata": "3wfgB+EH4gfjB+QH5QfmB+cH6AfpBw==",
          "dtype": "i2"
         },
         "y": {
          "bdata": "AAAAAAAA+H+kcD0K16MqQIXrUbgeBTBAUrgehetRL0BmZmZmZqYwQI/C9ShcTzJAAAAAAACAMUBcj8L1KBw3QNejcD0KlzxACtejcD3KO0D2KFyPwnU9QA==",
          "dtype": "f8"
         },
         "yaxis": "y3"
        }
       ],
       "layout": {
        "height": 650,
        "hovermode": "x unified",
        "legend": {
         "x": 0.01,
         "y": 0.99
        },
        "template": {
         "data": {
          "bar": [
           {
            "error_x": {
             "color": "#2a3f5f"
            },
            "error_y": {
             "color": "#2a3f5f"
            },
            "marker": {
             "line": {
              "color": "white",
              "width": 0.5
             },
             "pattern": {
              "fillmode": "overlay",
              "size": 10,
              "solidity": 0.2
             }
            },
            "type": "bar"
           }
          ],
          "barpolar": [
           {
            "marker": {
             "line": {
              "color": "white",
              "width": 0.5
             },
             "pattern": {
              "fillmode": "overlay",
              "size": 10,
              "solidity": 0.2
             }
            },
            "type": "barpolar"
           }
          ],
          "carpet": [
           {
            "aaxis": {
             "endlinecolor": "#2a3f5f",
             "gridcolor": "#C8D4E3",
             "linecolor": "#C8D4E3",
             "minorgridcolor": "#C8D4E3",
             "startlinecolor": "#2a3f5f"
            },
            "baxis": {
             "endlinecolor": "#2a3f5f",
             "gridcolor": "#C8D4E3",
             "linecolor": "#C8D4E3",
             "minorgridcolor": "#C8D4E3",
             "startlinecolor": "#2a3f5f"
            },
            "type": "carpet"
           }
          ],
          "choropleth": [
           {
            "colorbar": {
             "outlinewidth": 0,
             "ticks": ""
            },
            "type": "choropleth"
           }
          ],
          "contour": [
           {
            "colorbar": {
             "outlinewidth": 0,
             "ticks": ""
            },
            "colorscale": [
             [
              0,
              "#0d0887"
             ],
             [
              0.1111111111111111,
              "#46039f"
             ],
             [
              0.2222222222222222,
              "#7201a8"
             ],
             [
              0.3333333333333333,
              "#9c179e"
             ],
             [
              0.4444444444444444,
              "#bd3786"
             ],
             [
              0.5555555555555556,
              "#d8576b"
             ],
             [
              0.6666666666666666,
              "#ed7953"
             ],
             [
              0.7777777777777778,
              "#fb9f3a"
             ],
             [
              0.8888888888888888,
              "#fdca26"
             ],
             [
              1,
              "#f0f921"
             ]
            ],
            "type": "contour"
           }
          ],
          "contourcarpet": [
           {
            "colorbar": {
             "outlinewidth": 0,
             "ticks": ""
            },
            "type": "contourcarpet"
           }
          ],
          "heatmap": [
           {
            "colorbar": {
             "outlinewidth": 0,
             "ticks": ""
            },
            "colorscale": [
             [
              0,
              "#0d0887"
             ],
             [
              0.1111111111111111,
              "#46039f"
             ],
             [
              0.2222222222222222,
              "#7201a8"
             ],
             [
              0.3333333333333333,
              "#9c179e"
             ],
             [
              0.4444444444444444,
              "#bd3786"
             ],
             [
              0.5555555555555556,
              "#d8576b"
             ],
             [
              0.6666666666666666,
              "#ed7953"
             ],
             [
              0.7777777777777778,
              "#fb9f3a"
             ],
             [
              0.8888888888888888,
              "#fdca26"
             ],
             [
              1,
              "#f0f921"
             ]
            ],
            "type": "heatmap"
           }
          ],
          "histogram": [
           {
            "marker": {
             "pattern": {
              "fillmode": "overlay",
              "size": 10,
              "solidity": 0.2
             }
            },
            "type": "histogram"
           }
          ],
          "histogram2d": [
           {
            "colorbar": {
             "outlinewidth": 0,
             "ticks": ""
            },
            "colorscale": [
             [
              0,
              "#0d0887"
             ],
             [
              0.1111111111111111,
              "#46039f"
             ],
             [
              0.2222222222222222,
              "#7201a8"
             ],
             [
              0.3333333333333333,
              "#9c179e"
             ],
             [
              0.4444444444444444,
              "#bd3786"
             ],
             [
              0.5555555555555556,
              "#d8576b"
             ],
             [
              0.6666666666666666,
              "#ed7953"
             ],
             [
              0.7777777777777778,
              "#fb9f3a"
             ],
             [
              0.8888888888888888,
              "#fdca26"
             ],
             [
              1,
              "#f0f921"
             ]
            ],
            "type": "histogram2d"
           }
          ],
          "histogram2dcontour": [
           {
            "colorbar": {
             "outlinewidth": 0,
             "ticks": ""
            },
            "colorscale": [
             [
              0,
              "#0d0887"
             ],
             [
              0.1111111111111111,
              "#46039f"
             ],
             [
              0.2222222222222222,
              "#7201a8"
             ],
             [
              0.3333333333333333,
              "#9c179e"
             ],
             [
              0.4444444444444444,
              "#bd3786"
             ],
             [
              0.5555555555555556,
              "#d8576b"
             ],
             [
              0.6666666666666666,
              "#ed7953"
             ],
             [
              0.7777777777777778,
              "#fb9f3a"
             ],
             [
              0.8888888888888888,
              "#fdca26"
             ],
             [
              1,
              "#f0f921"
             ]
            ],
            "type": "histogram2dcontour"
           }
          ],
          "mesh3d": [
           {
            "colorbar": {
             "outlinewidth": 0,
             "ticks": ""
            },
            "type": "mesh3d"
           }
          ],
          "parcoords": [
           {
            "line": {
             "colorbar": {
              "outlinewidth": 0,
              "ticks": ""
             }
            },
            "type": "parcoords"
           }
          ],
          "pie": [
           {
            "automargin": true,
            "type": "pie"
           }
          ],
          "scatter": [
           {
            "fillpattern": {
             "fillmode": "overlay",
             "size": 10,
             "solidity": 0.2
            },
            "type": "scatter"
           }
          ],
          "scatter3d": [
           {
            "line": {
             "colorbar": {
              "outlinewidth": 0,
              "ticks": ""
             }
            },
            "marker": {
             "colorbar": {
              "outlinewidth": 0,
              "ticks": ""
             }
            },
            "type": "scatter3d"
           }
          ],
          "scattercarpet": [
           {
            "marker": {
             "colorbar": {
              "outlinewidth": 0,
              "ticks": ""
             }
            },
            "type": "scattercarpet"
           }
          ],
          "scattergeo": [
           {
            "marker": {
             "colorbar": {
              "outlinewidth": 0,
              "ticks": ""
             }
            },
            "type": "scattergeo"
           }
          ],
          "scattergl": [
           {
            "marker": {
             "colorbar": {
              "outlinewidth": 0,
              "ticks": ""
             }
            },
            "type": "scattergl"
           }
          ],
          "scattermap": [
           {
            "marker": {
             "colorbar": {
              "outlinewidth": 0,
              "ticks": ""
             }
            },
            "type": "scattermap"
           }
          ],
          "scattermapbox": [
           {
            "marker": {
             "colorbar": {
              "outlinewidth": 0,
              "ticks": ""
             }
            },
            "type": "scattermapbox"
           }
          ],
          "scatterpolar": [
           {
            "marker": {
             "colorbar": {
              "outlinewidth": 0,
              "ticks": ""
             }
            },
            "type": "scatterpolar"
           }
          ],
          "scatterpolargl": [
           {
            "marker": {
             "colorbar": {
              "outlinewidth": 0,
              "ticks": ""
             }
            },
            "type": "scatterpolargl"
           }
          ],
          "scatterternary": [
           {
            "marker": {
             "colorbar": {
              "outlinewidth": 0,
              "ticks": ""
             }
            },
            "type": "scatterternary"
           }
          ],
          "surface": [
           {
            "colorbar": {
             "outlinewidth": 0,
             "ticks": ""
            },
            "colorscale": [
             [
              0,
              "#0d0887"
             ],
             [
              0.1111111111111111,
              "#46039f"
             ],
             [
              0.2222222222222222,
              "#7201a8"
             ],
             [
              0.3333333333333333,
              "#9c179e"
             ],
             [
              0.4444444444444444,
              "#bd3786"
             ],
             [
              0.5555555555555556,
              "#d8576b"
             ],
             [
              0.6666666666666666,
              "#ed7953"
             ],
             [
              0.7777777777777778,
              "#fb9f3a"
             ],
             [
              0.8888888888888888,
              "#fdca26"
             ],
             [
              1,
              "#f0f921"
             ]
            ],
            "type": "surface"
           }
          ],
          "table": [
           {
            "cells": {
             "fill": {
              "color": "#EBF0F8"
             },
             "line": {
              "color": "white"
             }
            },
            "header": {
             "fill": {
              "color": "#C8D4E3"
             },
             "line": {
              "color": "white"
             }
            },
            "type": "table"
           }
          ]
         },
         "layout": {
          "annotationdefaults": {
           "arrowcolor": "#2a3f5f",
           "arrowhead": 0,
           "arrowwidth": 1
          },
          "autotypenumbers": "strict",
          "coloraxis": {
           "colorbar": {
            "outlinewidth": 0,
            "ticks": ""
           }
          },
          "colorscale": {
           "diverging": [
            [
             0,
             "#8e0152"
            ],
            [
             0.1,
             "#c51b7d"
            ],
            [
             0.2,
             "#de77ae"
            ],
            [
             0.3,
             "#f1b6da"
            ],
            [
             0.4,
             "#fde0ef"
            ],
            [
             0.5,
             "#f7f7f7"
            ],
            [
             0.6,
             "#e6f5d0"
            ],
            [
             0.7,
             "#b8e186"
            ],
            [
             0.8,
             "#7fbc41"
            ],
            [
             0.9,
             "#4d9221"
            ],
            [
             1,
             "#276419"
            ]
           ],
           "sequential": [
            [
             0,
             "#0d0887"
            ],
            [
             0.1111111111111111,
             "#46039f"
            ],
            [
             0.2222222222222222,
             "#7201a8"
            ],
            [
             0.3333333333333333,
             "#9c179e"
            ],
            [
             0.4444444444444444,
             "#bd3786"
            ],
            [
             0.5555555555555556,
             "#d8576b"
            ],
            [
             0.6666666666666666,
             "#ed7953"
            ],
            [
             0.7777777777777778,
             "#fb9f3a"
            ],
            [
             0.8888888888888888,
             "#fdca26"
            ],
            [
             1,
             "#f0f921"
            ]
           ],
           "sequentialminus": [
            [
             0,
             "#0d0887"
            ],
            [
             0.1111111111111111,
             "#46039f"
            ],
            [
             0.2222222222222222,
             "#7201a8"
            ],
            [
             0.3333333333333333,
             "#9c179e"
            ],
            [
             0.4444444444444444,
             "#bd3786"
            ],
            [
             0.5555555555555556,
             "#d8576b"
            ],
            [
             0.6666666666666666,
             "#ed7953"
            ],
            [
             0.7777777777777778,
             "#fb9f3a"
            ],
            [
             0.8888888888888888,
             "#fdca26"
            ],
            [
             1,
             "#f0f921"
            ]
           ]
          },
          "colorway": [
           "#636efa",
           "#EF553B",
           "#00cc96",
           "#ab63fa",
           "#FFA15A",
           "#19d3f3",
           "#FF6692",
           "#B6E880",
           "#FF97FF",
           "#FECB52"
          ],
          "font": {
           "color": "#2a3f5f"
          },
          "geo": {
           "bgcolor": "white",
           "lakecolor": "white",
           "landcolor": "white",
           "showlakes": true,
           "showland": true,
           "subunitcolor": "#C8D4E3"
          },
          "hoverlabel": {
           "align": "left"
          },
          "hovermode": "closest",
          "mapbox": {
           "style": "light"
          },
          "paper_bgcolor": "white",
          "plot_bgcolor": "white",
          "polar": {
           "angularaxis": {
            "gridcolor": "#EBF0F8",
            "linecolor": "#EBF0F8",
            "ticks": ""
           },
           "bgcolor": "white",
           "radialaxis": {
            "gridcolor": "#EBF0F8",
            "linecolor": "#EBF0F8",
            "ticks": ""
           }
          },
          "scene": {
           "xaxis": {
            "backgroundcolor": "white",
            "gridcolor": "#DFE8F3",
            "gridwidth": 2,
            "linecolor": "#EBF0F8",
            "showbackground": true,
            "ticks": "",
            "zerolinecolor": "#EBF0F8"
           },
           "yaxis": {
            "backgroundcolor": "white",
            "gridcolor": "#DFE8F3",
            "gridwidth": 2,
            "linecolor": "#EBF0F8",
            "showbackground": true,
            "ticks": "",
            "zerolinecolor": "#EBF0F8"
           },
           "zaxis": {
            "backgroundcolor": "white",
            "gridcolor": "#DFE8F3",
            "gridwidth": 2,
            "linecolor": "#EBF0F8",
            "showbackground": true,
            "ticks": "",
            "zerolinecolor": "#EBF0F8"
           }
          },
          "shapedefaults": {
           "line": {
            "color": "#2a3f5f"
           }
          },
          "ternary": {
           "aaxis": {
            "gridcolor": "#DFE8F3",
            "linecolor": "#A2B1C6",
            "ticks": ""
           },
           "baxis": {
            "gridcolor": "#DFE8F3",
            "linecolor": "#A2B1C6",
            "ticks": ""
           },
           "bgcolor": "white",
           "caxis": {
            "gridcolor": "#DFE8F3",
            "linecolor": "#A2B1C6",
            "ticks": ""
           }
          },
          "title": {
           "x": 0.05
          },
          "xaxis": {
           "automargin": true,
           "gridcolor": "#EBF0F8",
           "linecolor": "#EBF0F8",
           "ticks": "",
           "title": {
            "standoff": 15
           },
           "zerolinecolor": "#EBF0F8",
           "zerolinewidth": 2
          },
          "yaxis": {
           "automargin": true,
           "gridcolor": "#EBF0F8",
           "linecolor": "#EBF0F8",
           "ticks": "",
           "title": {
            "standoff": 15
           },
           "zerolinecolor": "#EBF0F8",
           "zerolinewidth": 2
          }
         }
        },
        "title": {
         "text": "Fersk laks – Vekt, Kilospris og Eksportverdi (per år)"
        },
        "xaxis": {
         "title": {
          "text": "År"
         }
        },
        "yaxis": {
         "position": 0,
         "side": "left",
         "title": {
          "text": "Vekt (tonn)"
         }
        },
        "yaxis2": {
         "overlaying": "y",
         "position": 1,
         "side": "right",
         "title": {
          "text": "Kilospris (kr/kg)"
         }
        },
        "yaxis3": {
         "anchor": "free",
         "overlaying": "y",
         "position": 0.85,
         "side": "right",
         "title": {
          "text": "Eksportverdi (mrd NOK)"
         }
        }
       }
      }
     },
     "metadata": {},
     "output_type": "display_data"
    },
    {
     "data": {
      "text/plain": [
       "' \\n    Her brukes en csv fil og ikke api nøkkel for eksportverdidata siden dataen vi fant ikke hadde noen api nøkkel. \\n    Dette gjør at dataene ikke blir oppdatert i sanntid og kan derfor utdateres. \\n    Api gjør at dataene blir oppdatert i sanntid og er derfor bedre å bruke enn csv fil.\\n    Hvis dataene skal brukes i virkeligheten bør analysen ha fått inn oppdaterte tall og verdier.\\n'"
      ]
     },
     "execution_count": 8,
     "metadata": {},
     "output_type": "execute_result"
    }
   ],
   "source": [
    "\"\"\" \n",
    "    Denne koden henter fersk laks data fra SSB API og visualiserer den i en interaktiv graf med Plotly.\n",
    "    Grafen viser en sammenheng mellom eksportverdi, vekt og kilospris for fersk laks over tid. \n",
    "    Ved å kombinere data fra både SSB API og en CSV-kilde kan vi analysere hvordan markedsverdien blir påvirket i forhold til vekt og kilospris for fersk laks. \n",
    "\"\"\"\n",
    "\n",
    "\n",
    "\n",
    "import requests\n",
    "import pandas as pd\n",
    "from itertools import product\n",
    "import plotly.graph_objects as go\n",
    "\n",
    "# --- LES CSV-FILEN ---\n",
    "csv_data = pd.read_csv(\"eksportverdi-laks-hittil-i-år-siste-10-år.csv\")\n",
    "csv_data.columns = [\"År\", \"Eksportverdi (mrd NOK)\"]\n",
    "csv_data[\"År\"] = csv_data[\"År\"].astype(int)\n",
    "\n",
    "csv_data[\"Eksportverdi (mill NOK)\"] = csv_data[\"Eksportverdi (mrd NOK)\"] * 1000\n",
    "\n",
    "\n",
    "# --- HENT OG BEHANDLE SSB-DATA ---\n",
    "api_url = \"https://data.ssb.no/api/v0/no/table/03024/\"\n",
    "query = {\"query\": [], \"response\": {\"format\": \"json-stat2\"}}\n",
    "response = requests.post(api_url, json=query)\n",
    "\n",
    "if response.status_code == 200:\n",
    "    data = response.json()\n",
    "    dimension_names = list(data[\"dimension\"].keys())\n",
    "    values = data[\"value\"]\n",
    "    dimensions = [list(data[\"dimension\"][dim][\"category\"][\"label\"].values()) for dim in dimension_names]\n",
    "    all_combinations = list(product(*dimensions))\n",
    "\n",
    "    df = pd.DataFrame(all_combinations, columns=dimension_names)\n",
    "    df[\"Value\"] = values\n",
    "\n",
    "    df_pivot = df.pivot_table(\n",
    "        index=\"Tid\",\n",
    "        columns=[\"VareGrupper2\", \"ContentsCode\"],\n",
    "        values=\"Value\",\n",
    "        aggfunc=\"sum\"\n",
    "    ).reset_index()\n",
    "\n",
    "    df_pivot.columns = [\"Tid\", \"Fersk laks - Kilospris\", \"Fersk laks - Vekt (tonn)\",\n",
    "                        \"Frosset laks - Kilospris\", \"Frosset laks - Vekt (tonn)\"]\n",
    "\n",
    "    df_pivot[\"År\"] = df_pivot[\"Tid\"].str[:4].astype(int)\n",
    "    df_agg = df_pivot.groupby(\"År\", as_index=False).mean(numeric_only=True)\n",
    "\n",
    "    # --- FLETT DATAENE ---\n",
    "    df_agg = df_agg[df_agg[\"År\"] >= 2015]  # Behold kun data fra og med 2015\n",
    "\n",
    "    merged = pd.merge(df_agg, csv_data, on=\"År\", how=\"left\")\n",
    "\n",
    "    # --- INTERAKTIV GRAF ---\n",
    "    fig = go.Figure()\n",
    "\n",
    "    fig.add_trace(go.Scatter(\n",
    "        x=merged[\"År\"],\n",
    "        y=merged[\"Fersk laks - Vekt (tonn)\"],\n",
    "        name=\"Fersk laks - Vekt (tonn)\",\n",
    "        yaxis=\"y1\",\n",
    "        mode=\"lines+markers\"\n",
    "    ))\n",
    "\n",
    "    fig.add_trace(go.Scatter(\n",
    "        x=merged[\"År\"],\n",
    "        y=merged[\"Fersk laks - Kilospris\"],\n",
    "        name=\"Fersk laks - Kilospris (kr/kg)\",\n",
    "        yaxis=\"y2\",\n",
    "        mode=\"lines+markers\"\n",
    "    ))\n",
    "\n",
    "    fig.add_trace(go.Scatter(\n",
    "        x=merged[\"År\"],\n",
    "        y=merged[\"Eksportverdi (mrd NOK)\"],\n",
    "        name=\"Eksportverdi hittil i år (mrd NOK)\",\n",
    "        yaxis=\"y3\",\n",
    "        mode=\"lines+markers\"\n",
    "    ))\n",
    "\n",
    "    fig.update_layout(\n",
    "        title=\"Fersk laks – Vekt, Kilospris og Eksportverdi (per år)\",\n",
    "        xaxis=dict(title=\"År\"),\n",
    "        yaxis=dict(title=\"Vekt (tonn)\", side=\"left\", position=0.0),\n",
    "        yaxis2=dict(title=\"Kilospris (kr/kg)\", overlaying=\"y\", side=\"right\", position=1.0),\n",
    "        yaxis3=dict(title=\"Eksportverdi (mrd NOK)\", overlaying=\"y\", anchor=\"free\", side=\"right\", position=0.85),\n",
    "        legend=dict(x=0.01, y=0.99),\n",
    "        hovermode=\"x unified\",\n",
    "        template=\"plotly_white\",\n",
    "        height=650\n",
    "    )\n",
    "\n",
    "    fig.show()\n",
    "\n",
    "\n",
    "\"\"\" \n",
    "    Her brukes en csv fil og ikke api nøkkel for eksportverdidata siden dataen vi fant ikke hadde noen api nøkkel. \n",
    "    Dette gjør at dataene ikke blir oppdatert i sanntid og kan derfor utdateres. \n",
    "    Api gjør at dataene blir oppdatert i sanntid og er derfor bedre å bruke enn csv fil.\n",
    "    Hvis dataene skal brukes i virkeligheten bør analysen ha fått inn oppdaterte tall og verdier.\n",
    "\"\"\""
   ]
  },
  {
   "cell_type": "markdown",
   "id": "aa90f36d",
   "metadata": {},
   "source": [
    "Denne grafen viser tre ulike variabler som ser sammenhengen mellom vekt, kilopris og eksportverdi fra 2015 og til 2024\n",
    "**Kilospris**: Prisen per kilo på laksen\n",
    "**Vekt**: Hvor mye laks som eksporteres\n",
    "**Eksportverdi (mrd NOK)**: Den totale verdien av eksporten som er data fra CSV\n",
    "\n",
    "Vi ser at eksportverdien følger en kombinasjon av pris og mengde.\n",
    "Når prisene stiger, vil eksportverdien øke, og mengden minker på slutten av grafen.\n",
    "Når mengden øker, holder kiloprisen seg stabil og eksportverdien øker litt.\n",
    "\n",
    "Dersom prisene er høye kan denne grafen vise hvordan eksportinntektene for Norge kan øke, selvom det er år der eksportvolumet er lavere.\n"
   ]
  },
  {
   "cell_type": "code",
   "execution_count": 9,
   "id": "51cd4af3",
   "metadata": {},
   "outputs": [
    {
     "data": {
      "application/vnd.plotly.v1+json": {
       "config": {
        "plotlyServerURL": "https://plot.ly"
       },
       "data": [
        {
         "mode": "lines+markers",
         "name": "Kilospris (kr/kg)",
         "type": "scatter",
         "x": {
          "bdata": "4AfhB+IH4wfkB+UH5gfnB+gH6Qc=",
          "dtype": "i2"
         },
         "y": {
          "bdata": "tVIrtVIrTkDXo3A9CqdOQBWuR+F6nE5Ae4dEFSFuTkAGqtDoV71MQCSqCPF2nU1AyY3cyI0wVEAWlHR8+s5XQMEP/MAPnFdA1XjpJjHYVkA=",
          "dtype": "f8"
         },
         "yaxis": "y"
        },
        {
         "mode": "lines+markers",
         "name": "Eksportverdi (mill NOK)",
         "type": "scatter",
         "x": {
          "bdata": "4AfhB+IH4wfkB+UH5gfnB+gH6Qc=",
          "dtype": "i2"
         },
         "y": {
          "bdata": "AAAAAAAEykAAAAAAAErPQAAAAAAAls5AAAAAAIBC0EAAAAAAgOHRQAAAAAAAF9FAAAAAAICR1kAAAAAAgOvbQAAAAACAI9tAAAAAAADF3EA=",
          "dtype": "f8"
         },
         "yaxis": "y2"
        },
        {
         "line": {
          "color": "orange",
          "dash": "dot"
         },
         "mode": "lines+markers",
         "name": "Predikert eksportverdi",
         "type": "scatter",
         "x": {
          "bdata": "BqrQ6Fe9TECYm2FcaR1PQJZG+We9vlBAX7/BIcbuUUAoOIrbzh5TQPGwUpXXTlRAuikbT+B+VUCEouMI6a5WQE0brMLx3ldAFpR0fPoOWUA=",
          "dtype": "f8"
         },
         "xaxis": "x2",
         "y": {
          "bdata": "qE2mEsEBzkAkDV3I8anQQHbzZgcDU9JAxtlwRhT800AWwHqFJaXVQGamhMQ2TtdAtoyOA0j32EAHc5hCWaDaQFdZooFqSdxApz+swHvy3UA=",
          "dtype": "f8"
         },
         "yaxis": "y2"
        }
       ],
       "layout": {
        "height": 650,
        "legend": {
         "x": 0.01,
         "y": 0.99
        },
        "template": {
         "data": {
          "bar": [
           {
            "error_x": {
             "color": "#2a3f5f"
            },
            "error_y": {
             "color": "#2a3f5f"
            },
            "marker": {
             "line": {
              "color": "white",
              "width": 0.5
             },
             "pattern": {
              "fillmode": "overlay",
              "size": 10,
              "solidity": 0.2
             }
            },
            "type": "bar"
           }
          ],
          "barpolar": [
           {
            "marker": {
             "line": {
              "color": "white",
              "width": 0.5
             },
             "pattern": {
              "fillmode": "overlay",
              "size": 10,
              "solidity": 0.2
             }
            },
            "type": "barpolar"
           }
          ],
          "carpet": [
           {
            "aaxis": {
             "endlinecolor": "#2a3f5f",
             "gridcolor": "#C8D4E3",
             "linecolor": "#C8D4E3",
             "minorgridcolor": "#C8D4E3",
             "startlinecolor": "#2a3f5f"
            },
            "baxis": {
             "endlinecolor": "#2a3f5f",
             "gridcolor": "#C8D4E3",
             "linecolor": "#C8D4E3",
             "minorgridcolor": "#C8D4E3",
             "startlinecolor": "#2a3f5f"
            },
            "type": "carpet"
           }
          ],
          "choropleth": [
           {
            "colorbar": {
             "outlinewidth": 0,
             "ticks": ""
            },
            "type": "choropleth"
           }
          ],
          "contour": [
           {
            "colorbar": {
             "outlinewidth": 0,
             "ticks": ""
            },
            "colorscale": [
             [
              0,
              "#0d0887"
             ],
             [
              0.1111111111111111,
              "#46039f"
             ],
             [
              0.2222222222222222,
              "#7201a8"
             ],
             [
              0.3333333333333333,
              "#9c179e"
             ],
             [
              0.4444444444444444,
              "#bd3786"
             ],
             [
              0.5555555555555556,
              "#d8576b"
             ],
             [
              0.6666666666666666,
              "#ed7953"
             ],
             [
              0.7777777777777778,
              "#fb9f3a"
             ],
             [
              0.8888888888888888,
              "#fdca26"
             ],
             [
              1,
              "#f0f921"
             ]
            ],
            "type": "contour"
           }
          ],
          "contourcarpet": [
           {
            "colorbar": {
             "outlinewidth": 0,
             "ticks": ""
            },
            "type": "contourcarpet"
           }
          ],
          "heatmap": [
           {
            "colorbar": {
             "outlinewidth": 0,
             "ticks": ""
            },
            "colorscale": [
             [
              0,
              "#0d0887"
             ],
             [
              0.1111111111111111,
              "#46039f"
             ],
             [
              0.2222222222222222,
              "#7201a8"
             ],
             [
              0.3333333333333333,
              "#9c179e"
             ],
             [
              0.4444444444444444,
              "#bd3786"
             ],
             [
              0.5555555555555556,
              "#d8576b"
             ],
             [
              0.6666666666666666,
              "#ed7953"
             ],
             [
              0.7777777777777778,
              "#fb9f3a"
             ],
             [
              0.8888888888888888,
              "#fdca26"
             ],
             [
              1,
              "#f0f921"
             ]
            ],
            "type": "heatmap"
           }
          ],
          "histogram": [
           {
            "marker": {
             "pattern": {
              "fillmode": "overlay",
              "size": 10,
              "solidity": 0.2
             }
            },
            "type": "histogram"
           }
          ],
          "histogram2d": [
           {
            "colorbar": {
             "outlinewidth": 0,
             "ticks": ""
            },
            "colorscale": [
             [
              0,
              "#0d0887"
             ],
             [
              0.1111111111111111,
              "#46039f"
             ],
             [
              0.2222222222222222,
              "#7201a8"
             ],
             [
              0.3333333333333333,
              "#9c179e"
             ],
             [
              0.4444444444444444,
              "#bd3786"
             ],
             [
              0.5555555555555556,
              "#d8576b"
             ],
             [
              0.6666666666666666,
              "#ed7953"
             ],
             [
              0.7777777777777778,
              "#fb9f3a"
             ],
             [
              0.8888888888888888,
              "#fdca26"
             ],
             [
              1,
              "#f0f921"
             ]
            ],
            "type": "histogram2d"
           }
          ],
          "histogram2dcontour": [
           {
            "colorbar": {
             "outlinewidth": 0,
             "ticks": ""
            },
            "colorscale": [
             [
              0,
              "#0d0887"
             ],
             [
              0.1111111111111111,
              "#46039f"
             ],
             [
              0.2222222222222222,
              "#7201a8"
             ],
             [
              0.3333333333333333,
              "#9c179e"
             ],
             [
              0.4444444444444444,
              "#bd3786"
             ],
             [
              0.5555555555555556,
              "#d8576b"
             ],
             [
              0.6666666666666666,
              "#ed7953"
             ],
             [
              0.7777777777777778,
              "#fb9f3a"
             ],
             [
              0.8888888888888888,
              "#fdca26"
             ],
             [
              1,
              "#f0f921"
             ]
            ],
            "type": "histogram2dcontour"
           }
          ],
          "mesh3d": [
           {
            "colorbar": {
             "outlinewidth": 0,
             "ticks": ""
            },
            "type": "mesh3d"
           }
          ],
          "parcoords": [
           {
            "line": {
             "colorbar": {
              "outlinewidth": 0,
              "ticks": ""
             }
            },
            "type": "parcoords"
           }
          ],
          "pie": [
           {
            "automargin": true,
            "type": "pie"
           }
          ],
          "scatter": [
           {
            "fillpattern": {
             "fillmode": "overlay",
             "size": 10,
             "solidity": 0.2
            },
            "type": "scatter"
           }
          ],
          "scatter3d": [
           {
            "line": {
             "colorbar": {
              "outlinewidth": 0,
              "ticks": ""
             }
            },
            "marker": {
             "colorbar": {
              "outlinewidth": 0,
              "ticks": ""
             }
            },
            "type": "scatter3d"
           }
          ],
          "scattercarpet": [
           {
            "marker": {
             "colorbar": {
              "outlinewidth": 0,
              "ticks": ""
             }
            },
            "type": "scattercarpet"
           }
          ],
          "scattergeo": [
           {
            "marker": {
             "colorbar": {
              "outlinewidth": 0,
              "ticks": ""
             }
            },
            "type": "scattergeo"
           }
          ],
          "scattergl": [
           {
            "marker": {
             "colorbar": {
              "outlinewidth": 0,
              "ticks": ""
             }
            },
            "type": "scattergl"
           }
          ],
          "scattermap": [
           {
            "marker": {
             "colorbar": {
              "outlinewidth": 0,
              "ticks": ""
             }
            },
            "type": "scattermap"
           }
          ],
          "scattermapbox": [
           {
            "marker": {
             "colorbar": {
              "outlinewidth": 0,
              "ticks": ""
             }
            },
            "type": "scattermapbox"
           }
          ],
          "scatterpolar": [
           {
            "marker": {
             "colorbar": {
              "outlinewidth": 0,
              "ticks": ""
             }
            },
            "type": "scatterpolar"
           }
          ],
          "scatterpolargl": [
           {
            "marker": {
             "colorbar": {
              "outlinewidth": 0,
              "ticks": ""
             }
            },
            "type": "scatterpolargl"
           }
          ],
          "scatterternary": [
           {
            "marker": {
             "colorbar": {
              "outlinewidth": 0,
              "ticks": ""
             }
            },
            "type": "scatterternary"
           }
          ],
          "surface": [
           {
            "colorbar": {
             "outlinewidth": 0,
             "ticks": ""
            },
            "colorscale": [
             [
              0,
              "#0d0887"
             ],
             [
              0.1111111111111111,
              "#46039f"
             ],
             [
              0.2222222222222222,
              "#7201a8"
             ],
             [
              0.3333333333333333,
              "#9c179e"
             ],
             [
              0.4444444444444444,
              "#bd3786"
             ],
             [
              0.5555555555555556,
              "#d8576b"
             ],
             [
              0.6666666666666666,
              "#ed7953"
             ],
             [
              0.7777777777777778,
              "#fb9f3a"
             ],
             [
              0.8888888888888888,
              "#fdca26"
             ],
             [
              1,
              "#f0f921"
             ]
            ],
            "type": "surface"
           }
          ],
          "table": [
           {
            "cells": {
             "fill": {
              "color": "#EBF0F8"
             },
             "line": {
              "color": "white"
             }
            },
            "header": {
             "fill": {
              "color": "#C8D4E3"
             },
             "line": {
              "color": "white"
             }
            },
            "type": "table"
           }
          ]
         },
         "layout": {
          "annotationdefaults": {
           "arrowcolor": "#2a3f5f",
           "arrowhead": 0,
           "arrowwidth": 1
          },
          "autotypenumbers": "strict",
          "coloraxis": {
           "colorbar": {
            "outlinewidth": 0,
            "ticks": ""
           }
          },
          "colorscale": {
           "diverging": [
            [
             0,
             "#8e0152"
            ],
            [
             0.1,
             "#c51b7d"
            ],
            [
             0.2,
             "#de77ae"
            ],
            [
             0.3,
             "#f1b6da"
            ],
            [
             0.4,
             "#fde0ef"
            ],
            [
             0.5,
             "#f7f7f7"
            ],
            [
             0.6,
             "#e6f5d0"
            ],
            [
             0.7,
             "#b8e186"
            ],
            [
             0.8,
             "#7fbc41"
            ],
            [
             0.9,
             "#4d9221"
            ],
            [
             1,
             "#276419"
            ]
           ],
           "sequential": [
            [
             0,
             "#0d0887"
            ],
            [
             0.1111111111111111,
             "#46039f"
            ],
            [
             0.2222222222222222,
             "#7201a8"
            ],
            [
             0.3333333333333333,
             "#9c179e"
            ],
            [
             0.4444444444444444,
             "#bd3786"
            ],
            [
             0.5555555555555556,
             "#d8576b"
            ],
            [
             0.6666666666666666,
             "#ed7953"
            ],
            [
             0.7777777777777778,
             "#fb9f3a"
            ],
            [
             0.8888888888888888,
             "#fdca26"
            ],
            [
             1,
             "#f0f921"
            ]
           ],
           "sequentialminus": [
            [
             0,
             "#0d0887"
            ],
            [
             0.1111111111111111,
             "#46039f"
            ],
            [
             0.2222222222222222,
             "#7201a8"
            ],
            [
             0.3333333333333333,
             "#9c179e"
            ],
            [
             0.4444444444444444,
             "#bd3786"
            ],
            [
             0.5555555555555556,
             "#d8576b"
            ],
            [
             0.6666666666666666,
             "#ed7953"
            ],
            [
             0.7777777777777778,
             "#fb9f3a"
            ],
            [
             0.8888888888888888,
             "#fdca26"
            ],
            [
             1,
             "#f0f921"
            ]
           ]
          },
          "colorway": [
           "#636efa",
           "#EF553B",
           "#00cc96",
           "#ab63fa",
           "#FFA15A",
           "#19d3f3",
           "#FF6692",
           "#B6E880",
           "#FF97FF",
           "#FECB52"
          ],
          "font": {
           "color": "#2a3f5f"
          },
          "geo": {
           "bgcolor": "white",
           "lakecolor": "white",
           "landcolor": "white",
           "showlakes": true,
           "showland": true,
           "subunitcolor": "#C8D4E3"
          },
          "hoverlabel": {
           "align": "left"
          },
          "hovermode": "closest",
          "mapbox": {
           "style": "light"
          },
          "paper_bgcolor": "white",
          "plot_bgcolor": "white",
          "polar": {
           "angularaxis": {
            "gridcolor": "#EBF0F8",
            "linecolor": "#EBF0F8",
            "ticks": ""
           },
           "bgcolor": "white",
           "radialaxis": {
            "gridcolor": "#EBF0F8",
            "linecolor": "#EBF0F8",
            "ticks": ""
           }
          },
          "scene": {
           "xaxis": {
            "backgroundcolor": "white",
            "gridcolor": "#DFE8F3",
            "gridwidth": 2,
            "linecolor": "#EBF0F8",
            "showbackground": true,
            "ticks": "",
            "zerolinecolor": "#EBF0F8"
           },
           "yaxis": {
            "backgroundcolor": "white",
            "gridcolor": "#DFE8F3",
            "gridwidth": 2,
            "linecolor": "#EBF0F8",
            "showbackground": true,
            "ticks": "",
            "zerolinecolor": "#EBF0F8"
           },
           "zaxis": {
            "backgroundcolor": "white",
            "gridcolor": "#DFE8F3",
            "gridwidth": 2,
            "linecolor": "#EBF0F8",
            "showbackground": true,
            "ticks": "",
            "zerolinecolor": "#EBF0F8"
           }
          },
          "shapedefaults": {
           "line": {
            "color": "#2a3f5f"
           }
          },
          "ternary": {
           "aaxis": {
            "gridcolor": "#DFE8F3",
            "linecolor": "#A2B1C6",
            "ticks": ""
           },
           "baxis": {
            "gridcolor": "#DFE8F3",
            "linecolor": "#A2B1C6",
            "ticks": ""
           },
           "bgcolor": "white",
           "caxis": {
            "gridcolor": "#DFE8F3",
            "linecolor": "#A2B1C6",
            "ticks": ""
           }
          },
          "title": {
           "x": 0.05
          },
          "xaxis": {
           "automargin": true,
           "gridcolor": "#EBF0F8",
           "linecolor": "#EBF0F8",
           "ticks": "",
           "title": {
            "standoff": 15
           },
           "zerolinecolor": "#EBF0F8",
           "zerolinewidth": 2
          },
          "yaxis": {
           "automargin": true,
           "gridcolor": "#EBF0F8",
           "linecolor": "#EBF0F8",
           "ticks": "",
           "title": {
            "standoff": 15
           },
           "zerolinecolor": "#EBF0F8",
           "zerolinewidth": 2
          }
         }
        },
        "title": {
         "text": "Fersk laks – Historisk og predikert eksportverdi"
        },
        "xaxis": {
         "domain": [
          0,
          0.7
         ],
         "title": {
          "text": "År"
         }
        },
        "xaxis2": {
         "anchor": "y2",
         "domain": [
          0.75,
          1
         ],
         "title": {
          "text": "Kilospris (kr/kg)"
         }
        },
        "yaxis": {
         "side": "left",
         "title": {
          "text": "Kilospris (kr/kg)"
         }
        },
        "yaxis2": {
         "overlaying": "y",
         "side": "right",
         "title": {
          "text": "Eksportverdi (mill NOK)"
         }
        }
       }
      }
     },
     "metadata": {},
     "output_type": "display_data"
    }
   ],
   "source": [
    "\"\"\" \n",
    "    Koden henter fersk laks-data fra SSB API og data fra en CSV-fil som inneholder eksportverdi for laks. \n",
    "    Den lager en interaktiv graf av kiloprisen og eksportverdien for fersk laks.\n",
    "    Den tar i tillegg med en prediksjon av eksportverdien basert på en regresjonsmodell som bruker kiloprisen som input verdi.\n",
    "    Dette viser hvordan eksportverdien kan forventes å utvikle seg i fremtiden basert på historiske data.\n",
    "\"\"\"\n",
    "\n",
    "import requests\n",
    "import pandas as pd\n",
    "from itertools import product\n",
    "import plotly.graph_objects as go\n",
    "from sklearn.linear_model import LinearRegression\n",
    "import numpy as np\n",
    "\n",
    "# --- 1. Les eksportverdi fra CSV ---\n",
    "csv_data = pd.read_csv(\"eksportverdi-laks-hittil-i-år-siste-10-år.csv\")\n",
    "csv_data.columns = [\"År\", \"Eksportverdi (mrd NOK)\"]\n",
    "csv_data[\"År\"] = csv_data[\"År\"].astype(int)\n",
    "csv_data[\"Eksportverdi (mill NOK)\"] = csv_data[\"Eksportverdi (mrd NOK)\"] * 1000\n",
    "\n",
    "# --- 2. Hent fersk laks-data fra SSB API ---\n",
    "api_url = \"https://data.ssb.no/api/v0/no/table/03024/\"\n",
    "query = {\"query\": [], \"response\": {\"format\": \"json-stat2\"}}\n",
    "response = requests.post(api_url, json=query)\n",
    "\n",
    "if response.status_code != 200:\n",
    "    raise Exception(f\"SSB API-feil: {response.status_code}\")\n",
    "\n",
    "data = response.json()\n",
    "dimension_names = list(data[\"dimension\"].keys())\n",
    "values = data[\"value\"]\n",
    "dimensions = [list(data[\"dimension\"][dim][\"category\"][\"label\"].values()) for dim in dimension_names]\n",
    "all_combinations = list(product(*dimensions))\n",
    "\n",
    "df = pd.DataFrame(all_combinations, columns=dimension_names)\n",
    "df[\"Value\"] = values\n",
    "\n",
    "df_pivot = df.pivot_table(\n",
    "    index=\"Tid\",\n",
    "    columns=[\"VareGrupper2\", \"ContentsCode\"],\n",
    "    values=\"Value\",\n",
    "    aggfunc=\"sum\"\n",
    ").reset_index()\n",
    "\n",
    "df_pivot.columns = [\"Tid\", \"Fersk laks - Kilospris\", \"Fersk laks - Vekt (tonn)\",\n",
    "                    \"Frosset laks - Kilospris\", \"Frosset laks - Vekt (tonn)\"]\n",
    "\n",
    "df_pivot[\"År\"] = df_pivot[\"Tid\"].str[:4].astype(int)\n",
    "df_agg = df_pivot.groupby(\"År\", as_index=False).mean(numeric_only=True)\n",
    "df_agg = df_agg[df_agg[\"År\"] >= 2015]\n",
    "\n",
    "# --- 3. Flett sammen eksportverdi og laksedata ---\n",
    "merged = pd.merge(df_agg, csv_data[[\"År\", \"Eksportverdi (mill NOK)\"]], on=\"År\", how=\"left\")\n",
    "filtered = merged.dropna(subset=[\"Eksportverdi (mill NOK)\", \"Fersk laks - Kilospris\"])\n",
    "\n",
    "# --- 4. Regresjonsmodell: Kilospris → Eksportverdi ---\n",
    "X = filtered[[\"Fersk laks - Kilospris\"]]\n",
    "y = filtered[\"Eksportverdi (mill NOK)\"]\n",
    "model = LinearRegression()\n",
    "model.fit(X, y)\n",
    "\n",
    "# Lag framtidige kilospriser (projiserte verdier) fra 2026 til 2035\n",
    "# For enkelhet bruker vi gjennomsnittlig pris + små endringer\n",
    "framtid_kilospris = np.linspace(X[\"Fersk laks - Kilospris\"].min(), X[\"Fersk laks - Kilospris\"].max() + 5, 10)\n",
    "framtid = pd.DataFrame({\"Fersk laks - Kilospris\": framtid_kilospris})\n",
    "framtid[\"Predikert eksportverdi\"] = model.predict(framtid)\n",
    "\n",
    "\n",
    "\n",
    "\n",
    "#Kombinert interaktiv graf\n",
    "fig = go.Figure()\n",
    "\n",
    "# Kilospris over tid\n",
    "fig.add_trace(go.Scatter(\n",
    "    x=filtered[\"År\"],\n",
    "    y=filtered[\"Fersk laks - Kilospris\"],\n",
    "    name=\"Kilospris (kr/kg)\",\n",
    "    yaxis=\"y1\",\n",
    "    mode=\"lines+markers\"\n",
    "))\n",
    "\n",
    "# Eksportverdi over tid\n",
    "fig.add_trace(go.Scatter(\n",
    "    x=filtered[\"År\"],\n",
    "    y=filtered[\"Eksportverdi (mill NOK)\"],\n",
    "    name=\"Eksportverdi (mill NOK)\",\n",
    "    yaxis=\"y2\",\n",
    "    mode=\"lines+markers\"\n",
    "))\n",
    "\n",
    "# Predikert eksportverdi basert på kilospris\n",
    "fig.add_trace(go.Scatter(\n",
    "    x=framtid[\"Fersk laks - Kilospris\"],\n",
    "    y=framtid[\"Predikert eksportverdi\"],\n",
    "    name=\"Predikert eksportverdi\",\n",
    "    xaxis=\"x2\",  # Bruk sekundær x-akse\n",
    "    yaxis=\"y2\",\n",
    "    mode=\"lines+markers\",\n",
    "    line=dict(dash=\"dot\", color=\"orange\")\n",
    "))\n",
    "\n",
    "# Layout med to x-akser og to y-akser\n",
    "fig.update_layout(\n",
    "    title=\"Fersk laks – Historisk og predikert eksportverdi\",\n",
    "    xaxis=dict(\n",
    "        title=\"År\",\n",
    "        domain=[0, 0.7]\n",
    "    ),\n",
    "    xaxis2=dict(\n",
    "        title=\"Kilospris (kr/kg)\",\n",
    "        domain=[0.75, 1],\n",
    "        anchor=\"y2\"\n",
    "    ),\n",
    "    yaxis=dict(\n",
    "        title=\"Kilospris (kr/kg)\",\n",
    "        side=\"left\"\n",
    "    ),\n",
    "    yaxis2=dict(\n",
    "        title=\"Eksportverdi (mill NOK)\",\n",
    "        side=\"right\",\n",
    "        overlaying=\"y\"\n",
    "    ),\n",
    "    legend=dict(x=0.01, y=0.99),\n",
    "    template=\"plotly_white\",\n",
    "    height=650\n",
    ")\n",
    "\n",
    "fig.show()"
   ]
  },
  {
   "cell_type": "markdown",
   "id": "7bdc44d4",
   "metadata": {},
   "source": [
    "Denne visualiseringe viser:\n",
    "- Historisk utvikling i kilopris og eksportverdi for fersk laks (2015–2025)\n",
    "- En prediktiv modell som estimerer fremtidig eksportverdi basert på kilospris (2026–2035).\n",
    "\n",
    "- Det er brukt lineær regresjon der mellom variabelen \"fersk laks - Kilospris\" og variabelen \"Eksportverdi i mill. NOK\".\n",
    "- Prediksjonen (oransje graf) viser hvordan eksportverdi kan utvikle seg hvis kiloprisen stiger jevnt i årene fremover.\n",
    "- Modellen er trent på reelle data men viser en forenklet trend for fremtiden.\n",
    "\n",
    "\n",
    "- Dette gir en verdifull innsikt i hvordan prisnivået alene kan påvirke eksportverdien, men forutsatt at volumet er stabilt.\n",
    "- Modellen tar ikke hensyn til valutakurser, etterspørsel eller politikk.\n",
    "- Ved å bruke \"scikit-learn og Plotly\" får vi analysert i detaljer og det gir gode og oversiktlige grafer.\n",
    "\n",
    "- Kilden for historiske eksportverdier er en CSV-fil som ikke oppdateres automatisk.\n",
    "- Vi brukte \"LinearRegression()\" fra \"sklearn\" og \"np.linspace()\" til å generere fremtidige prisnivåer.\n",
    "\n",
    "\n"
   ]
  },
  {
   "cell_type": "code",
   "execution_count": 10,
   "id": "c6ca4054",
   "metadata": {},
   "outputs": [
    {
     "data": {
      "application/vnd.plotly.v1+json": {
       "config": {
        "plotlyServerURL": "https://plot.ly"
       },
       "data": [
        {
         "mode": "lines+markers",
         "name": "Kilospris (kr/kg)",
         "type": "scatter",
         "x": {
          "bdata": "4AfhB+IH4wfkB+UH5gfnB+gH6Qc=",
          "dtype": "i2"
         },
         "y": {
          "bdata": "tVIrtVIrTkDXo3A9CqdOQBWuR+F6nE5Ae4dEFSFuTkAGqtDoV71MQCSqCPF2nU1AyY3cyI0wVEAWlHR8+s5XQMEP/MAPnFdA1XjpJjHYVkA=",
          "dtype": "f8"
         },
         "yaxis": "y"
        },
        {
         "mode": "lines+markers",
         "name": "Eksportverdi (mill NOK)",
         "type": "scatter",
         "x": {
          "bdata": "4AfhB+IH4wfkB+UH5gfnB+gH6Qc=",
          "dtype": "i2"
         },
         "y": {
          "bdata": "AAAAAAAEykAAAAAAAErPQAAAAAAAls5AAAAAAIBC0EAAAAAAgOHRQAAAAAAAF9FAAAAAAICR1kAAAAAAgOvbQAAAAACAI9tAAAAAAADF3EA=",
          "dtype": "f8"
         },
         "yaxis": "y2"
        },
        {
         "line": {
          "color": "orange",
          "dash": "dot"
         },
         "mode": "lines+markers",
         "name": "Predikert eksportverdi",
         "type": "scatter",
         "x": {
          "bdata": "6gfrB+wH7QfuB+8H8AfxB/IH8wc=",
          "dtype": "i2"
         },
         "y": {
          "bdata": "ibRHnc0G20AnCPfGijPbQMNbpvBHYNtAYa9VGgWN20D/AgVEwrnbQJ1WtG1/5ttAO6pjlzwT3EDZ/RLB+T/cQHdRwuq2bNxAFaVxFHSZ3EA=",
          "dtype": "f8"
         },
         "yaxis": "y2"
        }
       ],
       "layout": {
        "height": 650,
        "legend": {
         "x": 0.01,
         "y": 0.99
        },
        "template": {
         "data": {
          "bar": [
           {
            "error_x": {
             "color": "#2a3f5f"
            },
            "error_y": {
             "color": "#2a3f5f"
            },
            "marker": {
             "line": {
              "color": "white",
              "width": 0.5
             },
             "pattern": {
              "fillmode": "overlay",
              "size": 10,
              "solidity": 0.2
             }
            },
            "type": "bar"
           }
          ],
          "barpolar": [
           {
            "marker": {
             "line": {
              "color": "white",
              "width": 0.5
             },
             "pattern": {
              "fillmode": "overlay",
              "size": 10,
              "solidity": 0.2
             }
            },
            "type": "barpolar"
           }
          ],
          "carpet": [
           {
            "aaxis": {
             "endlinecolor": "#2a3f5f",
             "gridcolor": "#C8D4E3",
             "linecolor": "#C8D4E3",
             "minorgridcolor": "#C8D4E3",
             "startlinecolor": "#2a3f5f"
            },
            "baxis": {
             "endlinecolor": "#2a3f5f",
             "gridcolor": "#C8D4E3",
             "linecolor": "#C8D4E3",
             "minorgridcolor": "#C8D4E3",
             "startlinecolor": "#2a3f5f"
            },
            "type": "carpet"
           }
          ],
          "choropleth": [
           {
            "colorbar": {
             "outlinewidth": 0,
             "ticks": ""
            },
            "type": "choropleth"
           }
          ],
          "contour": [
           {
            "colorbar": {
             "outlinewidth": 0,
             "ticks": ""
            },
            "colorscale": [
             [
              0,
              "#0d0887"
             ],
             [
              0.1111111111111111,
              "#46039f"
             ],
             [
              0.2222222222222222,
              "#7201a8"
             ],
             [
              0.3333333333333333,
              "#9c179e"
             ],
             [
              0.4444444444444444,
              "#bd3786"
             ],
             [
              0.5555555555555556,
              "#d8576b"
             ],
             [
              0.6666666666666666,
              "#ed7953"
             ],
             [
              0.7777777777777778,
              "#fb9f3a"
             ],
             [
              0.8888888888888888,
              "#fdca26"
             ],
             [
              1,
              "#f0f921"
             ]
            ],
            "type": "contour"
           }
          ],
          "contourcarpet": [
           {
            "colorbar": {
             "outlinewidth": 0,
             "ticks": ""
            },
            "type": "contourcarpet"
           }
          ],
          "heatmap": [
           {
            "colorbar": {
             "outlinewidth": 0,
             "ticks": ""
            },
            "colorscale": [
             [
              0,
              "#0d0887"
             ],
             [
              0.1111111111111111,
              "#46039f"
             ],
             [
              0.2222222222222222,
              "#7201a8"
             ],
             [
              0.3333333333333333,
              "#9c179e"
             ],
             [
              0.4444444444444444,
              "#bd3786"
             ],
             [
              0.5555555555555556,
              "#d8576b"
             ],
             [
              0.6666666666666666,
              "#ed7953"
             ],
             [
              0.7777777777777778,
              "#fb9f3a"
             ],
             [
              0.8888888888888888,
              "#fdca26"
             ],
             [
              1,
              "#f0f921"
             ]
            ],
            "type": "heatmap"
           }
          ],
          "histogram": [
           {
            "marker": {
             "pattern": {
              "fillmode": "overlay",
              "size": 10,
              "solidity": 0.2
             }
            },
            "type": "histogram"
           }
          ],
          "histogram2d": [
           {
            "colorbar": {
             "outlinewidth": 0,
             "ticks": ""
            },
            "colorscale": [
             [
              0,
              "#0d0887"
             ],
             [
              0.1111111111111111,
              "#46039f"
             ],
             [
              0.2222222222222222,
              "#7201a8"
             ],
             [
              0.3333333333333333,
              "#9c179e"
             ],
             [
              0.4444444444444444,
              "#bd3786"
             ],
             [
              0.5555555555555556,
              "#d8576b"
             ],
             [
              0.6666666666666666,
              "#ed7953"
             ],
             [
              0.7777777777777778,
              "#fb9f3a"
             ],
             [
              0.8888888888888888,
              "#fdca26"
             ],
             [
              1,
              "#f0f921"
             ]
            ],
            "type": "histogram2d"
           }
          ],
          "histogram2dcontour": [
           {
            "colorbar": {
             "outlinewidth": 0,
             "ticks": ""
            },
            "colorscale": [
             [
              0,
              "#0d0887"
             ],
             [
              0.1111111111111111,
              "#46039f"
             ],
             [
              0.2222222222222222,
              "#7201a8"
             ],
             [
              0.3333333333333333,
              "#9c179e"
             ],
             [
              0.4444444444444444,
              "#bd3786"
             ],
             [
              0.5555555555555556,
              "#d8576b"
             ],
             [
              0.6666666666666666,
              "#ed7953"
             ],
             [
              0.7777777777777778,
              "#fb9f3a"
             ],
             [
              0.8888888888888888,
              "#fdca26"
             ],
             [
              1,
              "#f0f921"
             ]
            ],
            "type": "histogram2dcontour"
           }
          ],
          "mesh3d": [
           {
            "colorbar": {
             "outlinewidth": 0,
             "ticks": ""
            },
            "type": "mesh3d"
           }
          ],
          "parcoords": [
           {
            "line": {
             "colorbar": {
              "outlinewidth": 0,
              "ticks": ""
             }
            },
            "type": "parcoords"
           }
          ],
          "pie": [
           {
            "automargin": true,
            "type": "pie"
           }
          ],
          "scatter": [
           {
            "fillpattern": {
             "fillmode": "overlay",
             "size": 10,
             "solidity": 0.2
            },
            "type": "scatter"
           }
          ],
          "scatter3d": [
           {
            "line": {
             "colorbar": {
              "outlinewidth": 0,
              "ticks": ""
             }
            },
            "marker": {
             "colorbar": {
              "outlinewidth": 0,
              "ticks": ""
             }
            },
            "type": "scatter3d"
           }
          ],
          "scattercarpet": [
           {
            "marker": {
             "colorbar": {
              "outlinewidth": 0,
              "ticks": ""
             }
            },
            "type": "scattercarpet"
           }
          ],
          "scattergeo": [
           {
            "marker": {
             "colorbar": {
              "outlinewidth": 0,
              "ticks": ""
             }
            },
            "type": "scattergeo"
           }
          ],
          "scattergl": [
           {
            "marker": {
             "colorbar": {
              "outlinewidth": 0,
              "ticks": ""
             }
            },
            "type": "scattergl"
           }
          ],
          "scattermap": [
           {
            "marker": {
             "colorbar": {
              "outlinewidth": 0,
              "ticks": ""
             }
            },
            "type": "scattermap"
           }
          ],
          "scattermapbox": [
           {
            "marker": {
             "colorbar": {
              "outlinewidth": 0,
              "ticks": ""
             }
            },
            "type": "scattermapbox"
           }
          ],
          "scatterpolar": [
           {
            "marker": {
             "colorbar": {
              "outlinewidth": 0,
              "ticks": ""
             }
            },
            "type": "scatterpolar"
           }
          ],
          "scatterpolargl": [
           {
            "marker": {
             "colorbar": {
              "outlinewidth": 0,
              "ticks": ""
             }
            },
            "type": "scatterpolargl"
           }
          ],
          "scatterternary": [
           {
            "marker": {
             "colorbar": {
              "outlinewidth": 0,
              "ticks": ""
             }
            },
            "type": "scatterternary"
           }
          ],
          "surface": [
           {
            "colorbar": {
             "outlinewidth": 0,
             "ticks": ""
            },
            "colorscale": [
             [
              0,
              "#0d0887"
             ],
             [
              0.1111111111111111,
              "#46039f"
             ],
             [
              0.2222222222222222,
              "#7201a8"
             ],
             [
              0.3333333333333333,
              "#9c179e"
             ],
             [
              0.4444444444444444,
              "#bd3786"
             ],
             [
              0.5555555555555556,
              "#d8576b"
             ],
             [
              0.6666666666666666,
              "#ed7953"
             ],
             [
              0.7777777777777778,
              "#fb9f3a"
             ],
             [
              0.8888888888888888,
              "#fdca26"
             ],
             [
              1,
              "#f0f921"
             ]
            ],
            "type": "surface"
           }
          ],
          "table": [
           {
            "cells": {
             "fill": {
              "color": "#EBF0F8"
             },
             "line": {
              "color": "white"
             }
            },
            "header": {
             "fill": {
              "color": "#C8D4E3"
             },
             "line": {
              "color": "white"
             }
            },
            "type": "table"
           }
          ]
         },
         "layout": {
          "annotationdefaults": {
           "arrowcolor": "#2a3f5f",
           "arrowhead": 0,
           "arrowwidth": 1
          },
          "autotypenumbers": "strict",
          "coloraxis": {
           "colorbar": {
            "outlinewidth": 0,
            "ticks": ""
           }
          },
          "colorscale": {
           "diverging": [
            [
             0,
             "#8e0152"
            ],
            [
             0.1,
             "#c51b7d"
            ],
            [
             0.2,
             "#de77ae"
            ],
            [
             0.3,
             "#f1b6da"
            ],
            [
             0.4,
             "#fde0ef"
            ],
            [
             0.5,
             "#f7f7f7"
            ],
            [
             0.6,
             "#e6f5d0"
            ],
            [
             0.7,
             "#b8e186"
            ],
            [
             0.8,
             "#7fbc41"
            ],
            [
             0.9,
             "#4d9221"
            ],
            [
             1,
             "#276419"
            ]
           ],
           "sequential": [
            [
             0,
             "#0d0887"
            ],
            [
             0.1111111111111111,
             "#46039f"
            ],
            [
             0.2222222222222222,
             "#7201a8"
            ],
            [
             0.3333333333333333,
             "#9c179e"
            ],
            [
             0.4444444444444444,
             "#bd3786"
            ],
            [
             0.5555555555555556,
             "#d8576b"
            ],
            [
             0.6666666666666666,
             "#ed7953"
            ],
            [
             0.7777777777777778,
             "#fb9f3a"
            ],
            [
             0.8888888888888888,
             "#fdca26"
            ],
            [
             1,
             "#f0f921"
            ]
           ],
           "sequentialminus": [
            [
             0,
             "#0d0887"
            ],
            [
             0.1111111111111111,
             "#46039f"
            ],
            [
             0.2222222222222222,
             "#7201a8"
            ],
            [
             0.3333333333333333,
             "#9c179e"
            ],
            [
             0.4444444444444444,
             "#bd3786"
            ],
            [
             0.5555555555555556,
             "#d8576b"
            ],
            [
             0.6666666666666666,
             "#ed7953"
            ],
            [
             0.7777777777777778,
             "#fb9f3a"
            ],
            [
             0.8888888888888888,
             "#fdca26"
            ],
            [
             1,
             "#f0f921"
            ]
           ]
          },
          "colorway": [
           "#636efa",
           "#EF553B",
           "#00cc96",
           "#ab63fa",
           "#FFA15A",
           "#19d3f3",
           "#FF6692",
           "#B6E880",
           "#FF97FF",
           "#FECB52"
          ],
          "font": {
           "color": "#2a3f5f"
          },
          "geo": {
           "bgcolor": "white",
           "lakecolor": "white",
           "landcolor": "white",
           "showlakes": true,
           "showland": true,
           "subunitcolor": "#C8D4E3"
          },
          "hoverlabel": {
           "align": "left"
          },
          "hovermode": "closest",
          "mapbox": {
           "style": "light"
          },
          "paper_bgcolor": "white",
          "plot_bgcolor": "white",
          "polar": {
           "angularaxis": {
            "gridcolor": "#EBF0F8",
            "linecolor": "#EBF0F8",
            "ticks": ""
           },
           "bgcolor": "white",
           "radialaxis": {
            "gridcolor": "#EBF0F8",
            "linecolor": "#EBF0F8",
            "ticks": ""
           }
          },
          "scene": {
           "xaxis": {
            "backgroundcolor": "white",
            "gridcolor": "#DFE8F3",
            "gridwidth": 2,
            "linecolor": "#EBF0F8",
            "showbackground": true,
            "ticks": "",
            "zerolinecolor": "#EBF0F8"
           },
           "yaxis": {
            "backgroundcolor": "white",
            "gridcolor": "#DFE8F3",
            "gridwidth": 2,
            "linecolor": "#EBF0F8",
            "showbackground": true,
            "ticks": "",
            "zerolinecolor": "#EBF0F8"
           },
           "zaxis": {
            "backgroundcolor": "white",
            "gridcolor": "#DFE8F3",
            "gridwidth": 2,
            "linecolor": "#EBF0F8",
            "showbackground": true,
            "ticks": "",
            "zerolinecolor": "#EBF0F8"
           }
          },
          "shapedefaults": {
           "line": {
            "color": "#2a3f5f"
           }
          },
          "ternary": {
           "aaxis": {
            "gridcolor": "#DFE8F3",
            "linecolor": "#A2B1C6",
            "ticks": ""
           },
           "baxis": {
            "gridcolor": "#DFE8F3",
            "linecolor": "#A2B1C6",
            "ticks": ""
           },
           "bgcolor": "white",
           "caxis": {
            "gridcolor": "#DFE8F3",
            "linecolor": "#A2B1C6",
            "ticks": ""
           }
          },
          "title": {
           "x": 0.05
          },
          "xaxis": {
           "automargin": true,
           "gridcolor": "#EBF0F8",
           "linecolor": "#EBF0F8",
           "ticks": "",
           "title": {
            "standoff": 15
           },
           "zerolinecolor": "#EBF0F8",
           "zerolinewidth": 2
          },
          "yaxis": {
           "automargin": true,
           "gridcolor": "#EBF0F8",
           "linecolor": "#EBF0F8",
           "ticks": "",
           "title": {
            "standoff": 15
           },
           "zerolinecolor": "#EBF0F8",
           "zerolinewidth": 2
          }
         }
        },
        "title": {
         "text": "Fersk laks – Kilospris og eksportverdi med prediktiv analyse"
        },
        "xaxis": {
         "title": {
          "text": "År"
         }
        },
        "yaxis": {
         "side": "left",
         "title": {
          "text": "Kilospris (kr/kg)"
         }
        },
        "yaxis2": {
         "overlaying": "y",
         "side": "right",
         "title": {
          "text": "Eksportverdi (mill NOK)"
         }
        }
       }
      }
     },
     "metadata": {},
     "output_type": "display_data"
    }
   ],
   "source": [
    "\"\"\"\n",
    "    Denne koden kombinerer API-data fra SSB og CSV-data om eksportverdi.\n",
    "    Koden trener en lineær regresjonsmodell for å forutsi fremtidig eksportverdi basert på kilopris for fersk laks, og visualiserer sammenhengen og prediksjonen\n",
    "    i en interaktiv graf med dobbel y-akse.\n",
    "    Dette viser sammenhengen mellom kilospris og eksportverdi både historisk og fremover i tid.\n",
    "\"\"\"\n",
    "\n",
    "\n",
    "\n",
    "\n",
    "import requests\n",
    "import pandas as pd\n",
    "from itertools import product\n",
    "import plotly.graph_objects as go\n",
    "from sklearn.linear_model import LinearRegression\n",
    "import numpy as np\n",
    "\n",
    "# --- 1. Les eksportverdi fra CSV ---\n",
    "csv_data = pd.read_csv(\"eksportverdi-laks-hittil-i-år-siste-10-år.csv\")\n",
    "csv_data.columns = [\"År\", \"Eksportverdi (mrd NOK)\"]\n",
    "csv_data[\"År\"] = csv_data[\"År\"].astype(int)\n",
    "csv_data[\"Eksportverdi (mill NOK)\"] = csv_data[\"Eksportverdi (mrd NOK)\"] * 1000\n",
    "\n",
    "# --- 2. Hent fersk laks-data fra SSB API ---\n",
    "api_url = \"https://data.ssb.no/api/v0/no/table/03024/\"\n",
    "query = {\"query\": [], \"response\": {\"format\": \"json-stat2\"}}\n",
    "response = requests.post(api_url, json=query)\n",
    "data = response.json()\n",
    "\n",
    "# Pakk ut data\n",
    "dimension_names = list(data[\"dimension\"].keys())\n",
    "values = data[\"value\"]\n",
    "dimensions = [list(data[\"dimension\"][dim][\"category\"][\"label\"].values()) for dim in dimension_names]\n",
    "all_combinations = list(product(*dimensions))\n",
    "\n",
    "df = pd.DataFrame(all_combinations, columns=dimension_names)\n",
    "df[\"Value\"] = values\n",
    "\n",
    "# Pivot tabellen\n",
    "df_pivot = df.pivot_table(\n",
    "    index=\"Tid\",\n",
    "    columns=[\"VareGrupper2\", \"ContentsCode\"],\n",
    "    values=\"Value\",\n",
    "    aggfunc=\"sum\"\n",
    ").reset_index()\n",
    "\n",
    "df_pivot.columns = [\"Tid\", \"Fersk laks - Kilospris\", \"Fersk laks - Vekt (tonn)\",\n",
    "                    \"Frosset laks - Kilospris\", \"Frosset laks - Vekt (tonn)\"]\n",
    "\n",
    "df_pivot[\"År\"] = df_pivot[\"Tid\"].str[:4].astype(int)\n",
    "df_agg = df_pivot.groupby(\"År\", as_index=False).mean(numeric_only=True)\n",
    "df_agg = df_agg[df_agg[\"År\"] >= 2015]\n",
    "\n",
    "# --- 3. Flett dataene ---\n",
    "merged = pd.merge(df_agg, csv_data[[\"År\", \"Eksportverdi (mill NOK)\"]], on=\"År\", how=\"left\")\n",
    "filtered = merged.dropna(subset=[\"Eksportverdi (mill NOK)\", \"Fersk laks - Kilospris\"])\n",
    "\n",
    "# --- 4. Tren regresjonsmodell ---\n",
    "X = filtered[[\"Fersk laks - Kilospris\"]]\n",
    "y = filtered[\"Eksportverdi (mill NOK)\"]\n",
    "\n",
    "model = LinearRegression()\n",
    "model.fit(X, y)\n",
    "\n",
    "# --- 5. Lag prediksjon for fremtidige år ---\n",
    "framtid_år = list(range(filtered[\"År\"].max() + 1, filtered[\"År\"].max() + 11))\n",
    "siste_pris = filtered[\"Fersk laks - Kilospris\"].iloc[-1]\n",
    "prisvekst = 0.5  # kr/kg økning per år\n",
    "\n",
    "framtid = pd.DataFrame({\n",
    "    \"År\": framtid_år,\n",
    "    \"Fersk laks - Kilospris\": [siste_pris + prisvekst * i for i in range(1, 11)]\n",
    "})\n",
    "framtid[\"Predikert eksportverdi\"] = model.predict(framtid[[\"Fersk laks - Kilospris\"]])\n",
    "\n",
    "# --- 6. Kombinert graf med to y-akser ---\n",
    "fig = go.Figure()\n",
    "\n",
    "# Historisk kilospris\n",
    "fig.add_trace(go.Scatter(\n",
    "    x=filtered[\"År\"],\n",
    "    y=filtered[\"Fersk laks - Kilospris\"],\n",
    "    name=\"Kilospris (kr/kg)\",\n",
    "    yaxis=\"y1\",\n",
    "    mode=\"lines+markers\"\n",
    "))\n",
    "\n",
    "# Historisk eksportverdi\n",
    "fig.add_trace(go.Scatter(\n",
    "    x=filtered[\"År\"],\n",
    "    y=filtered[\"Eksportverdi (mill NOK)\"],\n",
    "    name=\"Eksportverdi (mill NOK)\",\n",
    "    yaxis=\"y2\",\n",
    "    mode=\"lines+markers\"\n",
    "))\n",
    "\n",
    "# Predikert eksportverdi\n",
    "fig.add_trace(go.Scatter(\n",
    "    x=framtid[\"År\"],\n",
    "    y=framtid[\"Predikert eksportverdi\"],\n",
    "    name=\"Predikert eksportverdi\",\n",
    "    yaxis=\"y2\",\n",
    "    mode=\"lines+markers\",\n",
    "    line=dict(dash=\"dot\", color=\"orange\")\n",
    "))\n",
    "\n",
    "# Oppsett\n",
    "fig.update_layout(\n",
    "    title=\"Fersk laks – Kilospris og eksportverdi med prediktiv analyse\",\n",
    "    xaxis=dict(title=\"År\"),\n",
    "    yaxis=dict(title=\"Kilospris (kr/kg)\", side=\"left\"),\n",
    "    yaxis2=dict(title=\"Eksportverdi (mill NOK)\", overlaying=\"y\", side=\"right\"),\n",
    "    legend=dict(x=0.01, y=0.99),\n",
    "    template=\"plotly_white\",\n",
    "    height=650\n",
    ")\n",
    "\n",
    "fig.show()"
   ]
  },
  {
   "cell_type": "markdown",
   "id": "1d71e4e1",
   "metadata": {},
   "source": [
    "Prisen og eksportverdien henger sammen fordi når kiloprisen går opp, ser vi også at eksportverdien går opp. Dette kan skyldes høyere etterspørsel, bedre kvalitet eller lavere tilbud.\n",
    "Modellen sin prediksjon antar at det er en jevn prisvekst. Den er basert på litt prisøkning hvert år og er en forenklet modell fordi vi vet at verdien vil svinge enda mer enn den linære linjen viser.\n",
    "\n",
    "Modellen tar ikke hensyn til valutakurser, produksjonsvolum, globale markeder eller verdenssituasjonen.\n",
    "Grafen kan brukes til å gi et grovt estimat på fremtidig eksportverdi, og illustrerer hvordan pris påvirker inntektene fra eksport."
   ]
  }
 ],
 "metadata": {
  "kernelspec": {
   "display_name": "venv",
   "language": "python",
   "name": "python3"
  },
  "language_info": {
   "codemirror_mode": {
    "name": "ipython",
    "version": 3
   },
   "file_extension": ".py",
   "mimetype": "text/x-python",
   "name": "python",
   "nbconvert_exporter": "python",
   "pygments_lexer": "ipython3",
   "version": "3.13.2"
  }
 },
 "nbformat": 4,
 "nbformat_minor": 5
}
