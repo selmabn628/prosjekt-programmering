{
 "cells": [
  {
   "cell_type": "code",
   "execution_count": 4,
   "metadata": {},
   "outputs": [
    {
     "ename": "ModuleNotFoundError",
     "evalue": "No module named 'ssb_api_fetch'",
     "output_type": "error",
     "traceback": [
      "\u001b[31m---------------------------------------------------------------------------\u001b[39m",
      "\u001b[31mModuleNotFoundError\u001b[39m                       Traceback (most recent call last)",
      "\u001b[36mCell\u001b[39m\u001b[36m \u001b[39m\u001b[32mIn[4]\u001b[39m\u001b[32m, line 4\u001b[39m\n\u001b[32m      2\u001b[39m \u001b[38;5;28;01mimport\u001b[39;00m\u001b[38;5;250m \u001b[39m\u001b[34;01mpandas\u001b[39;00m\u001b[38;5;250m \u001b[39m\u001b[38;5;28;01mas\u001b[39;00m\u001b[38;5;250m \u001b[39m\u001b[34;01mpd\u001b[39;00m\n\u001b[32m      3\u001b[39m \u001b[38;5;28;01mimport\u001b[39;00m\u001b[38;5;250m \u001b[39m\u001b[34;01mjson\u001b[39;00m\n\u001b[32m----> \u001b[39m\u001b[32m4\u001b[39m \u001b[38;5;28;01mfrom\u001b[39;00m\u001b[38;5;250m \u001b[39m\u001b[34;01mssb_api_fetch\u001b[39;00m\u001b[38;5;250m \u001b[39m\u001b[38;5;28;01mimport\u001b[39;00m fetch_data, process_data  \u001b[38;5;66;03m# Importerer funksjonene fra hovedfilen\u001b[39;00m\n\u001b[32m      6\u001b[39m \u001b[38;5;28;01mclass\u001b[39;00m\u001b[38;5;250m \u001b[39m\u001b[34;01mTestSSBAPI\u001b[39;00m(unittest.TestCase):\n\u001b[32m      8\u001b[39m     \u001b[38;5;28;01mdef\u001b[39;00m\u001b[38;5;250m \u001b[39m\u001b[34mtest_fetch_data_success\u001b[39m(\u001b[38;5;28mself\u001b[39m):\n",
      "\u001b[31mModuleNotFoundError\u001b[39m: No module named 'ssb_api_fetch'"
     ]
    }
   ],
   "source": [
    "import unittest\n",
    "import pandas as pd\n",
    "import json\n",
    "from ssb_api_fetch import fetch_data, process_data  # Importerer funksjonene fra hovedfilen\n",
    "\n",
    "class TestSSBAPI(unittest.TestCase):\n",
    "\n",
    "    def test_fetch_data_success(self):\n",
    "        \"\"\" Tester om API-et returnerer en gyldig JSON-struktur \"\"\"\n",
    "        data = fetch_data()\n",
    "        self.assertIsInstance(data, dict)\n",
    "        self.assertIn(\"dimension\", data)\n",
    "        self.assertIn(\"value\", data)\n",
    "\n",
    "    def test_process_data_structure(self):\n",
    "        \"\"\" Tester om data blir prosessert korrekt til en Pandas DataFrame \"\"\"\n",
    "        mock_data = {\n",
    "            \"dimension\": {\n",
    "                \"Tid\": {\"category\": {\"label\": {\"2025U08\": \"2025U08\", \"2025U09\": \"2025U09\"}}},\n",
    "                \"VareGrupper2\": {\"category\": {\"label\": {\"Fersk laks\": \"Fersk laks\", \"Frosset laks\": \"Frosset laks\"}}},\n",
    "                \"ContentsCode\": {\"category\": {\"label\": {\"Kilospris\": \"Kilospris\", \"Vekt (tonn)\": \"Vekt (tonn)\"}}}\n",
    "            },\n",
    "            \"value\": [100, 200, 300, 400]  # Testdata\n",
    "        }\n",
    "\n",
    "        df = process_data(mock_data)\n",
    "\n",
    "        # Sjekk at df er en Pandas DataFrame\n",
    "        self.assertIsInstance(df, pd.DataFrame)\n",
    "\n",
    "        # Sjekk at de forventede kolonnene finnes\n",
    "        expected_columns = [\"År og ukenr.\", \"Fersk laks - Kilospris\", \"Fersk laks - Vekt (tonn)\", \"Frosset laks - Kilospris\", \"Frosset laks - Vekt (tonn)\"]\n",
    "        self.assertListEqual(list(df.columns), expected_columns)\n",
    "\n",
    "    def test_process_data_values(self):\n",
    "        \"\"\" Tester om dataene havner i riktige kolonner \"\"\"\n",
    "        mock_data = {\n",
    "            \"dimension\": {\n",
    "                \"Tid\": {\"category\": {\"label\": {\"2025U08\": \"2025U08\"}}},\n",
    "                \"VareGrupper2\": {\"category\": {\"label\": {\"Fersk laks\": \"Fersk laks\", \"Frosset laks\": \"Frosset laks\"}}},\n",
    "                \"ContentsCode\": {\"category\": {\"label\": {\"Kilospris\": \"Kilospris\", \"Vekt (tonn)\": \"Vekt (tonn)\"}}}\n",
    "            },\n",
    "            \"value\": [120, 300, 450, 600]  # Testdata\n",
    "        }\n",
    "\n",
    "        df = process_data(mock_data)\n",
    "\n",
    "        # Sjekk at verdiene stemmer\n",
    "        self.assertEqual(df.iloc[0][\"Fersk laks - Kilospris\"], 120)\n",
    "        self.assertEqual(df.iloc[0][\"Fersk laks - Vekt (tonn)\"], 300)\n",
    "        self.assertEqual(df.iloc[0][\"Frosset laks - Kilospris\"], 450)\n",
    "        self.assertEqual(df.iloc[0][\"Frosset laks - Vekt (tonn)\"], 600)\n",
    "\n",
    "    def test_fetch_data_failure(self):\n",
    "        \"\"\" Tester om fetch_data håndterer feil riktig \"\"\"\n",
    "        with self.assertRaises(Exception):\n",
    "            fetch_data(api_url=\"https://data.ssb.no/api/v0/no/table/INVALID_TABLE/\")  # Ugyldig URL\n",
    "\n",
    "if __name__ == '__main__':\n",
    "    unittest.main()\n"
   ]
  }
 ],
 "metadata": {
  "kernelspec": {
   "display_name": "venv",
   "language": "python",
   "name": "python3"
  },
  "language_info": {
   "codemirror_mode": {
    "name": "ipython",
    "version": 3
   },
   "file_extension": ".py",
   "mimetype": "text/x-python",
   "name": "python",
   "nbconvert_exporter": "python",
   "pygments_lexer": "ipython3",
   "version": "3.13.1"
  }
 },
 "nbformat": 4,
 "nbformat_minor": 2
}
