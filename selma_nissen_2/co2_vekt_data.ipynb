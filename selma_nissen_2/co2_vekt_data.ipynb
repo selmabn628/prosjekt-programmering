{
 "cells": [
  {
   "cell_type": "code",
   "execution_count": 2,
   "id": "3811af39",
   "metadata": {},
   "outputs": [
    {
     "name": "stdout",
     "output_type": "stream",
     "text": [
      "     År og ukenr. Transporttype  Total CO2-utslipp (kg)\n",
      "0         2000U01    Fersk laks               8201600.0\n",
      "1         2000U01  Frosset laks                 19150.0\n",
      "2         2000U02    Fersk laks               8918800.0\n",
      "3         2000U02  Frosset laks                 10800.0\n",
      "4         2000U03    Fersk laks               8894600.0\n",
      "...           ...           ...                     ...\n",
      "2631      2025U12  Frosset laks                 23650.0\n",
      "2632      2025U13    Fersk laks              41421600.0\n",
      "2633      2025U13  Frosset laks                 28000.0\n",
      "2634      2025U14    Fersk laks              41916600.0\n",
      "2635      2025U14  Frosset laks                 30600.0\n",
      "\n",
      "[2636 rows x 3 columns]\n"
     ]
    }
   ],
   "source": [
    "import requests\n",
    "import pandas as pd\n",
    "from itertools import product\n",
    "from pandasql import sqldf # pip install pandasql\n",
    "\n",
    "# ------------------------------\n",
    "# 1. Hente data fra SSB\n",
    "# ------------------------------\n",
    "API_URL = \"https://data.ssb.no/api/v0/no/table/03024/\"\n",
    "\n",
    "def fetch_data(api_url=API_URL):\n",
    "    \"\"\"Henter data fra SSB API og returnerer JSON-responsen.\"\"\"\n",
    "    query = {\n",
    "        \"query\": [],\n",
    "        \"response\": {\"format\": \"json-stat2\"}\n",
    "    }\n",
    "    response = requests.post(api_url, json=query)\n",
    "    if response.status_code == 200:\n",
    "        return response.json()\n",
    "    else:\n",
    "        raise Exception(f\"Feil ved henting av data: {response.status_code}\\n{response.text}\")\n",
    "\n",
    "\n",
    "# ------------------------------\n",
    "# 2. Prosessere og strukturere data\n",
    "# ------------------------------\n",
    "def process_data(data):\n",
    "    \"\"\"Prosesserer JSON-data og returnerer en formatert Pandas DataFrame.\"\"\"\n",
    "    dimension_names = list(data[\"dimension\"].keys())\n",
    "    values = data[\"value\"]\n",
    "    \n",
    "    dimensions = [list(data[\"dimension\"][dim][\"category\"][\"label\"].values()) for dim in dimension_names]\n",
    "    all_combinations = list(product(*dimensions))\n",
    "\n",
    "    df = pd.DataFrame(all_combinations, columns=dimension_names)\n",
    "    df[\"Value\"] = values\n",
    "    \n",
    "    # Pivot for å få én kolonne per måling\n",
    "    df_pivot = df.pivot_table(index=\"Tid\", columns=[\"VareGrupper2\", \"ContentsCode\"], values=\"Value\", aggfunc=\"sum\").reset_index()\n",
    "\n",
    "    # Navngi kolonner tydelig\n",
    "    df_pivot.columns = [\"År og ukenr.\", \n",
    "                        \"Fersk laks - Kilospris\", \n",
    "                        \"Fersk laks - Vekt (tonn)\", \n",
    "                        \"Frosset laks - Kilospris\", \n",
    "                        \"Frosset laks - Vekt (tonn)\"]\n",
    "\n",
    "    return df_pivot\n",
    "\n",
    "\n",
    "# ------------------------------\n",
    "# 3. Beregne CO₂-utslipp\n",
    "# ------------------------------\n",
    "CO2_FACTORS = {\n",
    "    \"Fersk laks\": 1.1,    # kg CO₂ per tonn-km (fly)\n",
    "    \"Frosset laks\": 0.01  # kg CO₂ per tonn-km (skip)\n",
    "}\n",
    "\n",
    "DISTANCES = {\n",
    "    \"Fersk laks\": 2000,\n",
    "    \"Frosset laks\": 5000\n",
    "}\n",
    "\n",
    "def beregn_co2_utslipp(df):\n",
    "    \"\"\"Legger til CO₂-utslipp basert på vekt og transporttype.\"\"\"\n",
    "    # Smelt datasettet for lettere håndtering\n",
    "    df_melted = pd.melt(\n",
    "        df, \n",
    "        id_vars=[\"År og ukenr.\"], \n",
    "        value_vars=[\"Fersk laks - Vekt (tonn)\", \"Frosset laks - Vekt (tonn)\"],\n",
    "        var_name=\"Type\", \n",
    "        value_name=\"Vekt (tonn)\"\n",
    "    )\n",
    "    df_melted.dropna(subset=[\"Vekt (tonn)\"], inplace=True)\n",
    "\n",
    "    # Trekk ut transporttype\n",
    "    df_melted[\"Transporttype\"] = df_melted[\"Type\"].apply(lambda x: \"Fersk laks\" if \"Fersk\" in x else \"Frosset laks\")\n",
    "\n",
    "    # Beregn CO₂-utslipp med list comprehension\n",
    "    df_melted[\"CO2-utslipp (kg)\"] = [\n",
    "        vekt * CO2_FACTORS[typ] * DISTANCES[typ]\n",
    "        for vekt, typ in zip(df_melted[\"Vekt (tonn)\"], df_melted[\"Transporttype\"])\n",
    "    ]\n",
    "    \n",
    "    return df_melted\n",
    "\n",
    "\n",
    "# ------------------------------\n",
    "# 4. Bruk av Pandas SQL for analyse\n",
    "# ------------------------------\n",
    "def total_utslipp_per_uke(df):\n",
    "    \"\"\"Oppsummerer CO₂-utslipp per uke med SQL.\"\"\"\n",
    "    query = \"\"\"\n",
    "        SELECT \n",
    "            `År og ukenr.`, \n",
    "            Transporttype, \n",
    "            SUM(`CO2-utslipp (kg)`) AS `Total CO2-utslipp (kg)`\n",
    "        FROM df\n",
    "        GROUP BY `År og ukenr.`, Transporttype\n",
    "        ORDER BY `År og ukenr.`\n",
    "    \"\"\"\n",
    "    return sqldf(query)\n",
    "\n",
    "\n",
    "# ------------------------------\n",
    "# 5. Kjør alt sammen\n",
    "# ------------------------------\n",
    "def main():\n",
    "    try:\n",
    "        # Hent og prosesser data\n",
    "        data = fetch_data()\n",
    "        df_pivot = process_data(data)\n",
    "\n",
    "        # Rens: fjern rader med NaN i vekt, som er nullverdier\n",
    "        df_clean = df_pivot.dropna(subset=[\"Fersk laks - Vekt (tonn)\", \"Frosset laks - Vekt (tonn)\"], how='all')\n",
    "\n",
    "        # Definerer CO₂ utslipp \n",
    "        df_with_co2 = beregn_co2_utslipp(df_clean) \n",
    "\n",
    "        # defienrer sammenfattet data\n",
    "        df_summary = total_utslipp_per_uke(df_with_co2)\n",
    "\n",
    "        return df_summary\n",
    "\n",
    "    except Exception as e:\n",
    "        print(\"Feil:\", e)\n",
    "        return None\n",
    "\n",
    "\n",
    "df_summary = main()\n",
    "print(df_summary)\n",
    "\n",
    "#if __name__ == \"__main__\":\n",
    "    #main()\n",
    "    \n",
    "\n"
   ]
  },
  {
   "cell_type": "code",
   "execution_count": 3,
   "id": "f809db4d",
   "metadata": {},
   "outputs": [
    {
     "data": {
      "application/vnd.plotly.v1+json": {
       "config": {
        "plotlyServerURL": "https://plot.ly"
       },
       "data": [
        {
         "customdata": [
          [
           "Fersk laks"
          ],
          [
           "Fersk laks"
          ],
          [
           "Fersk laks"
          ],
          [
           "Fersk laks"
          ],
          [
           "Fersk laks"
          ],
          [
           "Fersk laks"
          ],
          [
           "Fersk laks"
          ],
          [
           "Fersk laks"
          ],
          [
           "Fersk laks"
          ],
          [
           "Fersk laks"
          ],
          [
           "Fersk laks"
          ],
          [
           "Fersk laks"
          ],
          [
           "Fersk laks"
          ],
          [
           "Fersk laks"
          ],
          [
           "Fersk laks"
          ],
          [
           "Fersk laks"
          ],
          [
           "Fersk laks"
          ],
          [
           "Fersk laks"
          ],
          [
           "Fersk laks"
          ],
          [
           "Fersk laks"
          ],
          [
           "Fersk laks"
          ],
          [
           "Fersk laks"
          ],
          [
           "Fersk laks"
          ],
          [
           "Fersk laks"
          ],
          [
           "Fersk laks"
          ],
          [
           "Fersk laks"
          ],
          [
           "Fersk laks"
          ],
          [
           "Fersk laks"
          ],
          [
           "Fersk laks"
          ],
          [
           "Fersk laks"
          ],
          [
           "Fersk laks"
          ],
          [
           "Fersk laks"
          ],
          [
           "Fersk laks"
          ],
          [
           "Fersk laks"
          ],
          [
           "Fersk laks"
          ],
          [
           "Fersk laks"
          ],
          [
           "Fersk laks"
          ],
          [
           "Fersk laks"
          ],
          [
           "Fersk laks"
          ],
          [
           "Fersk laks"
          ],
          [
           "Fersk laks"
          ],
          [
           "Fersk laks"
          ],
          [
           "Fersk laks"
          ],
          [
           "Fersk laks"
          ],
          [
           "Fersk laks"
          ],
          [
           "Fersk laks"
          ],
          [
           "Fersk laks"
          ],
          [
           "Fersk laks"
          ],
          [
           "Fersk laks"
          ],
          [
           "Fersk laks"
          ],
          [
           "Fersk laks"
          ],
          [
           "Fersk laks"
          ],
          [
           "Fersk laks"
          ],
          [
           "Fersk laks"
          ],
          [
           "Fersk laks"
          ],
          [
           "Fersk laks"
          ],
          [
           "Fersk laks"
          ],
          [
           "Fersk laks"
          ],
          [
           "Fersk laks"
          ],
          [
           "Fersk laks"
          ],
          [
           "Fersk laks"
          ],
          [
           "Fersk laks"
          ],
          [
           "Fersk laks"
          ],
          [
           "Fersk laks"
          ],
          [
           "Fersk laks"
          ],
          [
           "Fersk laks"
          ],
          [
           "Fersk laks"
          ],
          [
           "Fersk laks"
          ],
          [
           "Fersk laks"
          ],
          [
           "Fersk laks"
          ],
          [
           "Fersk laks"
          ],
          [
           "Fersk laks"
          ],
          [
           "Fersk laks"
          ],
          [
           "Fersk laks"
          ],
          [
           "Fersk laks"
          ],
          [
           "Fersk laks"
          ],
          [
           "Fersk laks"
          ],
          [
           "Fersk laks"
          ],
          [
           "Fersk laks"
          ],
          [
           "Fersk laks"
          ],
          [
           "Fersk laks"
          ],
          [
           "Fersk laks"
          ],
          [
           "Fersk laks"
          ],
          [
           "Fersk laks"
          ],
          [
           "Fersk laks"
          ],
          [
           "Fersk laks"
          ],
          [
           "Fersk laks"
          ],
          [
           "Fersk laks"
          ],
          [
           "Fersk laks"
          ],
          [
           "Fersk laks"
          ],
          [
           "Fersk laks"
          ],
          [
           "Fersk laks"
          ],
          [
           "Fersk laks"
          ],
          [
           "Fersk laks"
          ],
          [
           "Fersk laks"
          ],
          [
           "Fersk laks"
          ],
          [
           "Fersk laks"
          ],
          [
           "Fersk laks"
          ],
          [
           "Fersk laks"
          ],
          [
           "Fersk laks"
          ],
          [
           "Fersk laks"
          ],
          [
           "Fersk laks"
          ],
          [
           "Fersk laks"
          ],
          [
           "Fersk laks"
          ],
          [
           "Fersk laks"
          ],
          [
           "Fersk laks"
          ],
          [
           "Fersk laks"
          ],
          [
           "Fersk laks"
          ],
          [
           "Fersk laks"
          ],
          [
           "Fersk laks"
          ],
          [
           "Fersk laks"
          ],
          [
           "Fersk laks"
          ],
          [
           "Fersk laks"
          ],
          [
           "Fersk laks"
          ],
          [
           "Fersk laks"
          ],
          [
           "Fersk laks"
          ],
          [
           "Fersk laks"
          ],
          [
           "Fersk laks"
          ],
          [
           "Fersk laks"
          ],
          [
           "Fersk laks"
          ],
          [
           "Fersk laks"
          ],
          [
           "Fersk laks"
          ],
          [
           "Fersk laks"
          ],
          [
           "Fersk laks"
          ],
          [
           "Fersk laks"
          ],
          [
           "Fersk laks"
          ],
          [
           "Fersk laks"
          ],
          [
           "Fersk laks"
          ],
          [
           "Fersk laks"
          ],
          [
           "Fersk laks"
          ],
          [
           "Fersk laks"
          ],
          [
           "Fersk laks"
          ],
          [
           "Fersk laks"
          ],
          [
           "Fersk laks"
          ],
          [
           "Fersk laks"
          ],
          [
           "Fersk laks"
          ],
          [
           "Fersk laks"
          ],
          [
           "Fersk laks"
          ],
          [
           "Fersk laks"
          ],
          [
           "Fersk laks"
          ],
          [
           "Fersk laks"
          ],
          [
           "Fersk laks"
          ],
          [
           "Fersk laks"
          ],
          [
           "Fersk laks"
          ],
          [
           "Fersk laks"
          ],
          [
           "Fersk laks"
          ],
          [
           "Fersk laks"
          ],
          [
           "Fersk laks"
          ],
          [
           "Fersk laks"
          ],
          [
           "Fersk laks"
          ],
          [
           "Fersk laks"
          ],
          [
           "Fersk laks"
          ],
          [
           "Fersk laks"
          ],
          [
           "Fersk laks"
          ],
          [
           "Fersk laks"
          ],
          [
           "Fersk laks"
          ],
          [
           "Fersk laks"
          ],
          [
           "Fersk laks"
          ],
          [
           "Fersk laks"
          ],
          [
           "Fersk laks"
          ],
          [
           "Fersk laks"
          ],
          [
           "Fersk laks"
          ],
          [
           "Fersk laks"
          ],
          [
           "Fersk laks"
          ],
          [
           "Fersk laks"
          ],
          [
           "Fersk laks"
          ],
          [
           "Fersk laks"
          ],
          [
           "Fersk laks"
          ],
          [
           "Fersk laks"
          ],
          [
           "Fersk laks"
          ],
          [
           "Fersk laks"
          ],
          [
           "Fersk laks"
          ],
          [
           "Fersk laks"
          ],
          [
           "Fersk laks"
          ],
          [
           "Fersk laks"
          ],
          [
           "Fersk laks"
          ],
          [
           "Fersk laks"
          ],
          [
           "Fersk laks"
          ],
          [
           "Fersk laks"
          ],
          [
           "Fersk laks"
          ],
          [
           "Fersk laks"
          ],
          [
           "Fersk laks"
          ],
          [
           "Fersk laks"
          ],
          [
           "Fersk laks"
          ],
          [
           "Fersk laks"
          ],
          [
           "Fersk laks"
          ],
          [
           "Fersk laks"
          ],
          [
           "Fersk laks"
          ],
          [
           "Fersk laks"
          ],
          [
           "Fersk laks"
          ],
          [
           "Fersk laks"
          ],
          [
           "Fersk laks"
          ],
          [
           "Fersk laks"
          ],
          [
           "Fersk laks"
          ],
          [
           "Fersk laks"
          ],
          [
           "Fersk laks"
          ],
          [
           "Fersk laks"
          ],
          [
           "Fersk laks"
          ],
          [
           "Fersk laks"
          ],
          [
           "Fersk laks"
          ],
          [
           "Fersk laks"
          ],
          [
           "Fersk laks"
          ],
          [
           "Fersk laks"
          ],
          [
           "Fersk laks"
          ],
          [
           "Fersk laks"
          ],
          [
           "Fersk laks"
          ],
          [
           "Fersk laks"
          ],
          [
           "Fersk laks"
          ],
          [
           "Fersk laks"
          ],
          [
           "Fersk laks"
          ],
          [
           "Fersk laks"
          ],
          [
           "Fersk laks"
          ],
          [
           "Fersk laks"
          ],
          [
           "Fersk laks"
          ],
          [
           "Fersk laks"
          ],
          [
           "Fersk laks"
          ],
          [
           "Fersk laks"
          ],
          [
           "Fersk laks"
          ],
          [
           "Fersk laks"
          ],
          [
           "Fersk laks"
          ],
          [
           "Fersk laks"
          ],
          [
           "Fersk laks"
          ],
          [
           "Fersk laks"
          ],
          [
           "Fersk laks"
          ],
          [
           "Fersk laks"
          ],
          [
           "Fersk laks"
          ],
          [
           "Fersk laks"
          ],
          [
           "Fersk laks"
          ],
          [
           "Fersk laks"
          ],
          [
           "Fersk laks"
          ],
          [
           "Fersk laks"
          ],
          [
           "Fersk laks"
          ],
          [
           "Fersk laks"
          ],
          [
           "Fersk laks"
          ],
          [
           "Fersk laks"
          ],
          [
           "Fersk laks"
          ],
          [
           "Fersk laks"
          ],
          [
           "Fersk laks"
          ],
          [
           "Fersk laks"
          ],
          [
           "Fersk laks"
          ],
          [
           "Fersk laks"
          ],
          [
           "Fersk laks"
          ],
          [
           "Fersk laks"
          ],
          [
           "Fersk laks"
          ],
          [
           "Fersk laks"
          ],
          [
           "Fersk laks"
          ],
          [
           "Fersk laks"
          ],
          [
           "Fersk laks"
          ],
          [
           "Fersk laks"
          ],
          [
           "Fersk laks"
          ],
          [
           "Fersk laks"
          ],
          [
           "Fersk laks"
          ],
          [
           "Fersk laks"
          ],
          [
           "Fersk laks"
          ],
          [
           "Fersk laks"
          ],
          [
           "Fersk laks"
          ],
          [
           "Fersk laks"
          ],
          [
           "Fersk laks"
          ],
          [
           "Fersk laks"
          ],
          [
           "Fersk laks"
          ],
          [
           "Fersk laks"
          ],
          [
           "Fersk laks"
          ],
          [
           "Fersk laks"
          ],
          [
           "Fersk laks"
          ],
          [
           "Fersk laks"
          ],
          [
           "Fersk laks"
          ],
          [
           "Fersk laks"
          ],
          [
           "Fersk laks"
          ],
          [
           "Fersk laks"
          ],
          [
           "Fersk laks"
          ],
          [
           "Fersk laks"
          ],
          [
           "Fersk laks"
          ],
          [
           "Fersk laks"
          ],
          [
           "Fersk laks"
          ],
          [
           "Fersk laks"
          ],
          [
           "Fersk laks"
          ],
          [
           "Fersk laks"
          ],
          [
           "Fersk laks"
          ],
          [
           "Fersk laks"
          ],
          [
           "Fersk laks"
          ],
          [
           "Fersk laks"
          ],
          [
           "Fersk laks"
          ],
          [
           "Fersk laks"
          ],
          [
           "Fersk laks"
          ],
          [
           "Fersk laks"
          ],
          [
           "Fersk laks"
          ],
          [
           "Fersk laks"
          ],
          [
           "Fersk laks"
          ],
          [
           "Fersk laks"
          ],
          [
           "Fersk laks"
          ],
          [
           "Fersk laks"
          ],
          [
           "Fersk laks"
          ],
          [
           "Fersk laks"
          ],
          [
           "Fersk laks"
          ],
          [
           "Fersk laks"
          ],
          [
           "Fersk laks"
          ],
          [
           "Fersk laks"
          ],
          [
           "Fersk laks"
          ],
          [
           "Fersk laks"
          ],
          [
           "Fersk laks"
          ],
          [
           "Fersk laks"
          ],
          [
           "Fersk laks"
          ],
          [
           "Fersk laks"
          ],
          [
           "Fersk laks"
          ],
          [
           "Fersk laks"
          ],
          [
           "Fersk laks"
          ],
          [
           "Fersk laks"
          ],
          [
           "Fersk laks"
          ],
          [
           "Fersk laks"
          ],
          [
           "Fersk laks"
          ],
          [
           "Fersk laks"
          ],
          [
           "Fersk laks"
          ],
          [
           "Fersk laks"
          ],
          [
           "Fersk laks"
          ],
          [
           "Fersk laks"
          ],
          [
           "Fersk laks"
          ],
          [
           "Fersk laks"
          ],
          [
           "Fersk laks"
          ],
          [
           "Fersk laks"
          ],
          [
           "Fersk laks"
          ],
          [
           "Fersk laks"
          ],
          [
           "Fersk laks"
          ],
          [
           "Fersk laks"
          ],
          [
           "Fersk laks"
          ],
          [
           "Fersk laks"
          ],
          [
           "Fersk laks"
          ],
          [
           "Fersk laks"
          ],
          [
           "Fersk laks"
          ],
          [
           "Fersk laks"
          ],
          [
           "Fersk laks"
          ],
          [
           "Fersk laks"
          ],
          [
           "Fersk laks"
          ],
          [
           "Fersk laks"
          ],
          [
           "Fersk laks"
          ],
          [
           "Fersk laks"
          ],
          [
           "Fersk laks"
          ],
          [
           "Fersk laks"
          ],
          [
           "Fersk laks"
          ],
          [
           "Fersk laks"
          ],
          [
           "Fersk laks"
          ],
          [
           "Fersk laks"
          ],
          [
           "Fersk laks"
          ],
          [
           "Fersk laks"
          ],
          [
           "Fersk laks"
          ],
          [
           "Fersk laks"
          ],
          [
           "Fersk laks"
          ],
          [
           "Fersk laks"
          ],
          [
           "Fersk laks"
          ],
          [
           "Fersk laks"
          ],
          [
           "Fersk laks"
          ],
          [
           "Fersk laks"
          ],
          [
           "Fersk laks"
          ],
          [
           "Fersk laks"
          ],
          [
           "Fersk laks"
          ],
          [
           "Fersk laks"
          ],
          [
           "Fersk laks"
          ],
          [
           "Fersk laks"
          ],
          [
           "Fersk laks"
          ],
          [
           "Fersk laks"
          ],
          [
           "Fersk laks"
          ],
          [
           "Fersk laks"
          ],
          [
           "Fersk laks"
          ],
          [
           "Fersk laks"
          ],
          [
           "Fersk laks"
          ],
          [
           "Fersk laks"
          ],
          [
           "Fersk laks"
          ],
          [
           "Fersk laks"
          ],
          [
           "Fersk laks"
          ],
          [
           "Fersk laks"
          ],
          [
           "Fersk laks"
          ],
          [
           "Fersk laks"
          ],
          [
           "Fersk laks"
          ],
          [
           "Fersk laks"
          ],
          [
           "Fersk laks"
          ],
          [
           "Fersk laks"
          ],
          [
           "Fersk laks"
          ],
          [
           "Fersk laks"
          ],
          [
           "Fersk laks"
          ],
          [
           "Fersk laks"
          ],
          [
           "Fersk laks"
          ],
          [
           "Fersk laks"
          ],
          [
           "Fersk laks"
          ],
          [
           "Fersk laks"
          ],
          [
           "Fersk laks"
          ],
          [
           "Fersk laks"
          ],
          [
           "Fersk laks"
          ],
          [
           "Fersk laks"
          ],
          [
           "Fersk laks"
          ],
          [
           "Fersk laks"
          ],
          [
           "Fersk laks"
          ],
          [
           "Fersk laks"
          ],
          [
           "Fersk laks"
          ],
          [
           "Fersk laks"
          ],
          [
           "Fersk laks"
          ],
          [
           "Fersk laks"
          ],
          [
           "Fersk laks"
          ],
          [
           "Fersk laks"
          ],
          [
           "Fersk laks"
          ],
          [
           "Fersk laks"
          ],
          [
           "Fersk laks"
          ],
          [
           "Fersk laks"
          ],
          [
           "Fersk laks"
          ],
          [
           "Fersk laks"
          ],
          [
           "Fersk laks"
          ],
          [
           "Fersk laks"
          ],
          [
           "Fersk laks"
          ],
          [
           "Fersk laks"
          ],
          [
           "Fersk laks"
          ],
          [
           "Fersk laks"
          ],
          [
           "Fersk laks"
          ],
          [
           "Fersk laks"
          ],
          [
           "Fersk laks"
          ],
          [
           "Fersk laks"
          ],
          [
           "Fersk laks"
          ],
          [
           "Fersk laks"
          ],
          [
           "Fersk laks"
          ],
          [
           "Fersk laks"
          ],
          [
           "Fersk laks"
          ],
          [
           "Fersk laks"
          ],
          [
           "Fersk laks"
          ],
          [
           "Fersk laks"
          ],
          [
           "Fersk laks"
          ],
          [
           "Fersk laks"
          ],
          [
           "Fersk laks"
          ],
          [
           "Fersk laks"
          ],
          [
           "Fersk laks"
          ],
          [
           "Fersk laks"
          ],
          [
           "Fersk laks"
          ],
          [
           "Fersk laks"
          ],
          [
           "Fersk laks"
          ],
          [
           "Fersk laks"
          ],
          [
           "Fersk laks"
          ],
          [
           "Fersk laks"
          ],
          [
           "Fersk laks"
          ],
          [
           "Fersk laks"
          ],
          [
           "Fersk laks"
          ],
          [
           "Fersk laks"
          ],
          [
           "Fersk laks"
          ],
          [
           "Fersk laks"
          ],
          [
           "Fersk laks"
          ],
          [
           "Fersk laks"
          ],
          [
           "Fersk laks"
          ],
          [
           "Fersk laks"
          ],
          [
           "Fersk laks"
          ],
          [
           "Fersk laks"
          ],
          [
           "Fersk laks"
          ],
          [
           "Fersk laks"
          ],
          [
           "Fersk laks"
          ],
          [
           "Fersk laks"
          ],
          [
           "Fersk laks"
          ],
          [
           "Fersk laks"
          ],
          [
           "Fersk laks"
          ],
          [
           "Fersk laks"
          ],
          [
           "Fersk laks"
          ],
          [
           "Fersk laks"
          ],
          [
           "Fersk laks"
          ],
          [
           "Fersk laks"
          ],
          [
           "Fersk laks"
          ],
          [
           "Fersk laks"
          ],
          [
           "Fersk laks"
          ],
          [
           "Fersk laks"
          ],
          [
           "Fersk laks"
          ],
          [
           "Fersk laks"
          ],
          [
           "Fersk laks"
          ],
          [
           "Fersk laks"
          ],
          [
           "Fersk laks"
          ],
          [
           "Fersk laks"
          ],
          [
           "Fersk laks"
          ],
          [
           "Fersk laks"
          ],
          [
           "Fersk laks"
          ],
          [
           "Fersk laks"
          ],
          [
           "Fersk laks"
          ],
          [
           "Fersk laks"
          ],
          [
           "Fersk laks"
          ],
          [
           "Fersk laks"
          ],
          [
           "Fersk laks"
          ],
          [
           "Fersk laks"
          ],
          [
           "Fersk laks"
          ],
          [
           "Fersk laks"
          ],
          [
           "Fersk laks"
          ],
          [
           "Fersk laks"
          ],
          [
           "Fersk laks"
          ],
          [
           "Fersk laks"
          ],
          [
           "Fersk laks"
          ],
          [
           "Fersk laks"
          ],
          [
           "Fersk laks"
          ],
          [
           "Fersk laks"
          ],
          [
           "Fersk laks"
          ],
          [
           "Fersk laks"
          ],
          [
           "Fersk laks"
          ],
          [
           "Fersk laks"
          ],
          [
           "Fersk laks"
          ],
          [
           "Fersk laks"
          ],
          [
           "Fersk laks"
          ],
          [
           "Fersk laks"
          ],
          [
           "Fersk laks"
          ],
          [
           "Fersk laks"
          ],
          [
           "Fersk laks"
          ],
          [
           "Fersk laks"
          ],
          [
           "Fersk laks"
          ],
          [
           "Fersk laks"
          ],
          [
           "Fersk laks"
          ],
          [
           "Fersk laks"
          ],
          [
           "Fersk laks"
          ],
          [
           "Fersk laks"
          ],
          [
           "Fersk laks"
          ],
          [
           "Fersk laks"
          ],
          [
           "Fersk laks"
          ],
          [
           "Fersk laks"
          ],
          [
           "Fersk laks"
          ],
          [
           "Fersk laks"
          ],
          [
           "Fersk laks"
          ],
          [
           "Fersk laks"
          ],
          [
           "Fersk laks"
          ],
          [
           "Fersk laks"
          ],
          [
           "Fersk laks"
          ],
          [
           "Fersk laks"
          ],
          [
           "Fersk laks"
          ],
          [
           "Fersk laks"
          ],
          [
           "Fersk laks"
          ],
          [
           "Fersk laks"
          ],
          [
           "Fersk laks"
          ],
          [
           "Fersk laks"
          ],
          [
           "Fersk laks"
          ],
          [
           "Fersk laks"
          ],
          [
           "Fersk laks"
          ],
          [
           "Fersk laks"
          ],
          [
           "Fersk laks"
          ],
          [
           "Fersk laks"
          ],
          [
           "Fersk laks"
          ],
          [
           "Fersk laks"
          ],
          [
           "Fersk laks"
          ],
          [
           "Fersk laks"
          ],
          [
           "Fersk laks"
          ],
          [
           "Fersk laks"
          ],
          [
           "Fersk laks"
          ],
          [
           "Fersk laks"
          ],
          [
           "Fersk laks"
          ],
          [
           "Fersk laks"
          ],
          [
           "Fersk laks"
          ],
          [
           "Fersk laks"
          ],
          [
           "Fersk laks"
          ],
          [
           "Fersk laks"
          ],
          [
           "Fersk laks"
          ],
          [
           "Fersk laks"
          ],
          [
           "Fersk laks"
          ],
          [
           "Fersk laks"
          ],
          [
           "Fersk laks"
          ],
          [
           "Fersk laks"
          ],
          [
           "Fersk laks"
          ],
          [
           "Fersk laks"
          ],
          [
           "Fersk laks"
          ],
          [
           "Fersk laks"
          ],
          [
           "Fersk laks"
          ],
          [
           "Fersk laks"
          ],
          [
           "Fersk laks"
          ],
          [
           "Fersk laks"
          ],
          [
           "Fersk laks"
          ],
          [
           "Fersk laks"
          ],
          [
           "Fersk laks"
          ],
          [
           "Fersk laks"
          ],
          [
           "Fersk laks"
          ],
          [
           "Fersk laks"
          ],
          [
           "Fersk laks"
          ],
          [
           "Fersk laks"
          ],
          [
           "Fersk laks"
          ],
          [
           "Fersk laks"
          ],
          [
           "Fersk laks"
          ],
          [
           "Fersk laks"
          ],
          [
           "Fersk laks"
          ],
          [
           "Fersk laks"
          ],
          [
           "Fersk laks"
          ],
          [
           "Fersk laks"
          ],
          [
           "Fersk laks"
          ],
          [
           "Fersk laks"
          ],
          [
           "Fersk laks"
          ],
          [
           "Fersk laks"
          ],
          [
           "Fersk laks"
          ],
          [
           "Fersk laks"
          ],
          [
           "Fersk laks"
          ],
          [
           "Fersk laks"
          ],
          [
           "Fersk laks"
          ],
          [
           "Fersk laks"
          ],
          [
           "Fersk laks"
          ],
          [
           "Fersk laks"
          ],
          [
           "Fersk laks"
          ],
          [
           "Fersk laks"
          ],
          [
           "Fersk laks"
          ],
          [
           "Fersk laks"
          ],
          [
           "Fersk laks"
          ],
          [
           "Fersk laks"
          ],
          [
           "Fersk laks"
          ],
          [
           "Fersk laks"
          ],
          [
           "Fersk laks"
          ],
          [
           "Fersk laks"
          ],
          [
           "Fersk laks"
          ],
          [
           "Fersk laks"
          ],
          [
           "Fersk laks"
          ],
          [
           "Fersk laks"
          ],
          [
           "Fersk laks"
          ],
          [
           "Fersk laks"
          ],
          [
           "Fersk laks"
          ],
          [
           "Fersk laks"
          ],
          [
           "Fersk laks"
          ],
          [
           "Fersk laks"
          ],
          [
           "Fersk laks"
          ],
          [
           "Fersk laks"
          ],
          [
           "Fersk laks"
          ],
          [
           "Fersk laks"
          ],
          [
           "Fersk laks"
          ],
          [
           "Fersk laks"
          ],
          [
           "Fersk laks"
          ],
          [
           "Fersk laks"
          ],
          [
           "Fersk laks"
          ],
          [
           "Fersk laks"
          ],
          [
           "Fersk laks"
          ],
          [
           "Fersk laks"
          ],
          [
           "Fersk laks"
          ],
          [
           "Fersk laks"
          ],
          [
           "Fersk laks"
          ],
          [
           "Fersk laks"
          ],
          [
           "Fersk laks"
          ],
          [
           "Fersk laks"
          ],
          [
           "Fersk laks"
          ],
          [
           "Fersk laks"
          ],
          [
           "Fersk laks"
          ],
          [
           "Fersk laks"
          ],
          [
           "Fersk laks"
          ],
          [
           "Fersk laks"
          ],
          [
           "Fersk laks"
          ],
          [
           "Fersk laks"
          ],
          [
           "Fersk laks"
          ],
          [
           "Fersk laks"
          ],
          [
           "Fersk laks"
          ],
          [
           "Fersk laks"
          ],
          [
           "Fersk laks"
          ],
          [
           "Fersk laks"
          ],
          [
           "Fersk laks"
          ],
          [
           "Fersk laks"
          ],
          [
           "Fersk laks"
          ],
          [
           "Fersk laks"
          ],
          [
           "Fersk laks"
          ],
          [
           "Fersk laks"
          ],
          [
           "Fersk laks"
          ],
          [
           "Fersk laks"
          ],
          [
           "Fersk laks"
          ],
          [
           "Fersk laks"
          ],
          [
           "Fersk laks"
          ],
          [
           "Fersk laks"
          ],
          [
           "Fersk laks"
          ],
          [
           "Fersk laks"
          ],
          [
           "Fersk laks"
          ],
          [
           "Fersk laks"
          ],
          [
           "Fersk laks"
          ],
          [
           "Fersk laks"
          ],
          [
           "Fersk laks"
          ],
          [
           "Fersk laks"
          ],
          [
           "Fersk laks"
          ],
          [
           "Fersk laks"
          ],
          [
           "Fersk laks"
          ],
          [
           "Fersk laks"
          ],
          [
           "Fersk laks"
          ],
          [
           "Fersk laks"
          ],
          [
           "Fersk laks"
          ],
          [
           "Fersk laks"
          ],
          [
           "Fersk laks"
          ],
          [
           "Fersk laks"
          ],
          [
           "Fersk laks"
          ],
          [
           "Fersk laks"
          ],
          [
           "Fersk laks"
          ],
          [
           "Fersk laks"
          ],
          [
           "Fersk laks"
          ],
          [
           "Fersk laks"
          ],
          [
           "Fersk laks"
          ],
          [
           "Fersk laks"
          ],
          [
           "Fersk laks"
          ],
          [
           "Fersk laks"
          ],
          [
           "Fersk laks"
          ],
          [
           "Fersk laks"
          ],
          [
           "Fersk laks"
          ],
          [
           "Fersk laks"
          ],
          [
           "Fersk laks"
          ],
          [
           "Fersk laks"
          ],
          [
           "Fersk laks"
          ],
          [
           "Fersk laks"
          ],
          [
           "Fersk laks"
          ],
          [
           "Fersk laks"
          ],
          [
           "Fersk laks"
          ],
          [
           "Fersk laks"
          ],
          [
           "Fersk laks"
          ],
          [
           "Fersk laks"
          ],
          [
           "Fersk laks"
          ],
          [
           "Fersk laks"
          ],
          [
           "Fersk laks"
          ],
          [
           "Fersk laks"
          ],
          [
           "Fersk laks"
          ],
          [
           "Fersk laks"
          ],
          [
           "Fersk laks"
          ],
          [
           "Fersk laks"
          ],
          [
           "Fersk laks"
          ],
          [
           "Fersk laks"
          ],
          [
           "Fersk laks"
          ],
          [
           "Fersk laks"
          ],
          [
           "Fersk laks"
          ],
          [
           "Fersk laks"
          ],
          [
           "Fersk laks"
          ],
          [
           "Fersk laks"
          ],
          [
           "Fersk laks"
          ],
          [
           "Fersk laks"
          ],
          [
           "Fersk laks"
          ],
          [
           "Fersk laks"
          ],
          [
           "Fersk laks"
          ],
          [
           "Fersk laks"
          ],
          [
           "Fersk laks"
          ],
          [
           "Fersk laks"
          ],
          [
           "Fersk laks"
          ],
          [
           "Fersk laks"
          ],
          [
           "Fersk laks"
          ],
          [
           "Fersk laks"
          ],
          [
           "Fersk laks"
          ],
          [
           "Fersk laks"
          ],
          [
           "Fersk laks"
          ],
          [
           "Fersk laks"
          ],
          [
           "Fersk laks"
          ],
          [
           "Fersk laks"
          ],
          [
           "Fersk laks"
          ],
          [
           "Fersk laks"
          ],
          [
           "Fersk laks"
          ],
          [
           "Fersk laks"
          ],
          [
           "Fersk laks"
          ],
          [
           "Fersk laks"
          ],
          [
           "Fersk laks"
          ],
          [
           "Fersk laks"
          ],
          [
           "Fersk laks"
          ],
          [
           "Fersk laks"
          ],
          [
           "Fersk laks"
          ],
          [
           "Fersk laks"
          ],
          [
           "Fersk laks"
          ],
          [
           "Fersk laks"
          ],
          [
           "Fersk laks"
          ],
          [
           "Fersk laks"
          ],
          [
           "Fersk laks"
          ],
          [
           "Fersk laks"
          ],
          [
           "Fersk laks"
          ],
          [
           "Fersk laks"
          ],
          [
           "Fersk laks"
          ],
          [
           "Fersk laks"
          ],
          [
           "Fersk laks"
          ],
          [
           "Fersk laks"
          ],
          [
           "Fersk laks"
          ],
          [
           "Fersk laks"
          ],
          [
           "Fersk laks"
          ],
          [
           "Fersk laks"
          ],
          [
           "Fersk laks"
          ],
          [
           "Fersk laks"
          ],
          [
           "Fersk laks"
          ],
          [
           "Fersk laks"
          ],
          [
           "Fersk laks"
          ],
          [
           "Fersk laks"
          ],
          [
           "Fersk laks"
          ],
          [
           "Fersk laks"
          ],
          [
           "Fersk laks"
          ],
          [
           "Fersk laks"
          ],
          [
           "Fersk laks"
          ],
          [
           "Fersk laks"
          ],
          [
           "Fersk laks"
          ],
          [
           "Fersk laks"
          ],
          [
           "Fersk laks"
          ],
          [
           "Fersk laks"
          ],
          [
           "Fersk laks"
          ],
          [
           "Fersk laks"
          ],
          [
           "Fersk laks"
          ],
          [
           "Fersk laks"
          ],
          [
           "Fersk laks"
          ],
          [
           "Fersk laks"
          ],
          [
           "Fersk laks"
          ],
          [
           "Fersk laks"
          ],
          [
           "Fersk laks"
          ],
          [
           "Fersk laks"
          ],
          [
           "Fersk laks"
          ],
          [
           "Fersk laks"
          ],
          [
           "Fersk laks"
          ],
          [
           "Fersk laks"
          ],
          [
           "Fersk laks"
          ],
          [
           "Fersk laks"
          ],
          [
           "Fersk laks"
          ],
          [
           "Fersk laks"
          ],
          [
           "Fersk laks"
          ],
          [
           "Fersk laks"
          ],
          [
           "Fersk laks"
          ],
          [
           "Fersk laks"
          ],
          [
           "Fersk laks"
          ],
          [
           "Fersk laks"
          ],
          [
           "Fersk laks"
          ],
          [
           "Fersk laks"
          ],
          [
           "Fersk laks"
          ],
          [
           "Fersk laks"
          ],
          [
           "Fersk laks"
          ],
          [
           "Fersk laks"
          ],
          [
           "Fersk laks"
          ],
          [
           "Fersk laks"
          ],
          [
           "Fersk laks"
          ],
          [
           "Fersk laks"
          ],
          [
           "Fersk laks"
          ],
          [
           "Fersk laks"
          ],
          [
           "Fersk laks"
          ],
          [
           "Fersk laks"
          ],
          [
           "Fersk laks"
          ],
          [
           "Fersk laks"
          ],
          [
           "Fersk laks"
          ],
          [
           "Fersk laks"
          ],
          [
           "Fersk laks"
          ],
          [
           "Fersk laks"
          ],
          [
           "Fersk laks"
          ],
          [
           "Fersk laks"
          ],
          [
           "Fersk laks"
          ],
          [
           "Fersk laks"
          ],
          [
           "Fersk laks"
          ],
          [
           "Fersk laks"
          ],
          [
           "Fersk laks"
          ],
          [
           "Fersk laks"
          ],
          [
           "Fersk laks"
          ],
          [
           "Fersk laks"
          ],
          [
           "Fersk laks"
          ],
          [
           "Fersk laks"
          ],
          [
           "Fersk laks"
          ],
          [
           "Fersk laks"
          ],
          [
           "Fersk laks"
          ],
          [
           "Fersk laks"
          ],
          [
           "Fersk laks"
          ],
          [
           "Fersk laks"
          ],
          [
           "Fersk laks"
          ],
          [
           "Fersk laks"
          ],
          [
           "Fersk laks"
          ],
          [
           "Fersk laks"
          ],
          [
           "Fersk laks"
          ],
          [
           "Fersk laks"
          ],
          [
           "Fersk laks"
          ],
          [
           "Fersk laks"
          ],
          [
           "Fersk laks"
          ],
          [
           "Fersk laks"
          ],
          [
           "Fersk laks"
          ],
          [
           "Fersk laks"
          ],
          [
           "Fersk laks"
          ],
          [
           "Fersk laks"
          ],
          [
           "Fersk laks"
          ],
          [
           "Fersk laks"
          ],
          [
           "Fersk laks"
          ],
          [
           "Fersk laks"
          ],
          [
           "Fersk laks"
          ],
          [
           "Fersk laks"
          ],
          [
           "Fersk laks"
          ],
          [
           "Fersk laks"
          ],
          [
           "Fersk laks"
          ],
          [
           "Fersk laks"
          ],
          [
           "Fersk laks"
          ],
          [
           "Fersk laks"
          ],
          [
           "Fersk laks"
          ],
          [
           "Fersk laks"
          ],
          [
           "Fersk laks"
          ],
          [
           "Fersk laks"
          ],
          [
           "Fersk laks"
          ],
          [
           "Fersk laks"
          ],
          [
           "Fersk laks"
          ],
          [
           "Fersk laks"
          ],
          [
           "Fersk laks"
          ],
          [
           "Fersk laks"
          ],
          [
           "Fersk laks"
          ],
          [
           "Fersk laks"
          ],
          [
           "Fersk laks"
          ],
          [
           "Fersk laks"
          ],
          [
           "Fersk laks"
          ],
          [
           "Fersk laks"
          ],
          [
           "Fersk laks"
          ],
          [
           "Fersk laks"
          ],
          [
           "Fersk laks"
          ],
          [
           "Fersk laks"
          ],
          [
           "Fersk laks"
          ],
          [
           "Fersk laks"
          ],
          [
           "Fersk laks"
          ],
          [
           "Fersk laks"
          ],
          [
           "Fersk laks"
          ],
          [
           "Fersk laks"
          ],
          [
           "Fersk laks"
          ],
          [
           "Fersk laks"
          ],
          [
           "Fersk laks"
          ],
          [
           "Fersk laks"
          ],
          [
           "Fersk laks"
          ],
          [
           "Fersk laks"
          ],
          [
           "Fersk laks"
          ],
          [
           "Fersk laks"
          ],
          [
           "Fersk laks"
          ],
          [
           "Fersk laks"
          ],
          [
           "Fersk laks"
          ],
          [
           "Fersk laks"
          ],
          [
           "Fersk laks"
          ],
          [
           "Fersk laks"
          ],
          [
           "Fersk laks"
          ],
          [
           "Fersk laks"
          ],
          [
           "Fersk laks"
          ],
          [
           "Fersk laks"
          ],
          [
           "Fersk laks"
          ],
          [
           "Fersk laks"
          ],
          [
           "Fersk laks"
          ],
          [
           "Fersk laks"
          ],
          [
           "Fersk laks"
          ],
          [
           "Fersk laks"
          ],
          [
           "Fersk laks"
          ],
          [
           "Fersk laks"
          ],
          [
           "Fersk laks"
          ],
          [
           "Fersk laks"
          ],
          [
           "Fersk laks"
          ],
          [
           "Fersk laks"
          ],
          [
           "Fersk laks"
          ],
          [
           "Fersk laks"
          ],
          [
           "Fersk laks"
          ],
          [
           "Fersk laks"
          ],
          [
           "Fersk laks"
          ],
          [
           "Fersk laks"
          ],
          [
           "Fersk laks"
          ],
          [
           "Fersk laks"
          ],
          [
           "Fersk laks"
          ],
          [
           "Fersk laks"
          ],
          [
           "Fersk laks"
          ],
          [
           "Fersk laks"
          ],
          [
           "Fersk laks"
          ],
          [
           "Fersk laks"
          ],
          [
           "Fersk laks"
          ],
          [
           "Fersk laks"
          ],
          [
           "Fersk laks"
          ],
          [
           "Fersk laks"
          ],
          [
           "Fersk laks"
          ],
          [
           "Fersk laks"
          ],
          [
           "Fersk laks"
          ],
          [
           "Fersk laks"
          ],
          [
           "Fersk laks"
          ],
          [
           "Fersk laks"
          ],
          [
           "Fersk laks"
          ],
          [
           "Fersk laks"
          ],
          [
           "Fersk laks"
          ],
          [
           "Fersk laks"
          ],
          [
           "Fersk laks"
          ],
          [
           "Fersk laks"
          ],
          [
           "Fersk laks"
          ],
          [
           "Fersk laks"
          ],
          [
           "Fersk laks"
          ],
          [
           "Fersk laks"
          ],
          [
           "Fersk laks"
          ],
          [
           "Fersk laks"
          ],
          [
           "Fersk laks"
          ],
          [
           "Fersk laks"
          ],
          [
           "Fersk laks"
          ],
          [
           "Fersk laks"
          ],
          [
           "Fersk laks"
          ],
          [
           "Fersk laks"
          ],
          [
           "Fersk laks"
          ],
          [
           "Fersk laks"
          ],
          [
           "Fersk laks"
          ],
          [
           "Fersk laks"
          ],
          [
           "Fersk laks"
          ],
          [
           "Fersk laks"
          ],
          [
           "Fersk laks"
          ],
          [
           "Fersk laks"
          ],
          [
           "Fersk laks"
          ],
          [
           "Fersk laks"
          ],
          [
           "Fersk laks"
          ],
          [
           "Fersk laks"
          ],
          [
           "Fersk laks"
          ],
          [
           "Fersk laks"
          ],
          [
           "Fersk laks"
          ],
          [
           "Fersk laks"
          ],
          [
           "Fersk laks"
          ],
          [
           "Fersk laks"
          ],
          [
           "Fersk laks"
          ],
          [
           "Fersk laks"
          ],
          [
           "Fersk laks"
          ],
          [
           "Fersk laks"
          ],
          [
           "Fersk laks"
          ],
          [
           "Fersk laks"
          ],
          [
           "Fersk laks"
          ],
          [
           "Fersk laks"
          ],
          [
           "Fersk laks"
          ],
          [
           "Fersk laks"
          ],
          [
           "Fersk laks"
          ],
          [
           "Fersk laks"
          ],
          [
           "Fersk laks"
          ],
          [
           "Fersk laks"
          ],
          [
           "Fersk laks"
          ],
          [
           "Fersk laks"
          ],
          [
           "Fersk laks"
          ],
          [
           "Fersk laks"
          ],
          [
           "Fersk laks"
          ],
          [
           "Fersk laks"
          ],
          [
           "Fersk laks"
          ],
          [
           "Fersk laks"
          ],
          [
           "Fersk laks"
          ],
          [
           "Fersk laks"
          ],
          [
           "Fersk laks"
          ],
          [
           "Fersk laks"
          ],
          [
           "Fersk laks"
          ],
          [
           "Fersk laks"
          ],
          [
           "Fersk laks"
          ],
          [
           "Fersk laks"
          ],
          [
           "Fersk laks"
          ],
          [
           "Fersk laks"
          ],
          [
           "Fersk laks"
          ],
          [
           "Fersk laks"
          ],
          [
           "Fersk laks"
          ],
          [
           "Fersk laks"
          ],
          [
           "Fersk laks"
          ],
          [
           "Fersk laks"
          ],
          [
           "Fersk laks"
          ],
          [
           "Fersk laks"
          ],
          [
           "Fersk laks"
          ],
          [
           "Fersk laks"
          ],
          [
           "Fersk laks"
          ],
          [
           "Fersk laks"
          ],
          [
           "Fersk laks"
          ],
          [
           "Fersk laks"
          ],
          [
           "Fersk laks"
          ],
          [
           "Fersk laks"
          ],
          [
           "Fersk laks"
          ],
          [
           "Fersk laks"
          ],
          [
           "Fersk laks"
          ],
          [
           "Fersk laks"
          ],
          [
           "Fersk laks"
          ],
          [
           "Fersk laks"
          ],
          [
           "Fersk laks"
          ],
          [
           "Fersk laks"
          ],
          [
           "Fersk laks"
          ],
          [
           "Fersk laks"
          ],
          [
           "Fersk laks"
          ],
          [
           "Fersk laks"
          ],
          [
           "Fersk laks"
          ],
          [
           "Fersk laks"
          ],
          [
           "Fersk laks"
          ],
          [
           "Fersk laks"
          ],
          [
           "Fersk laks"
          ],
          [
           "Fersk laks"
          ],
          [
           "Fersk laks"
          ],
          [
           "Fersk laks"
          ],
          [
           "Fersk laks"
          ],
          [
           "Fersk laks"
          ],
          [
           "Fersk laks"
          ],
          [
           "Fersk laks"
          ],
          [
           "Fersk laks"
          ],
          [
           "Fersk laks"
          ],
          [
           "Fersk laks"
          ],
          [
           "Fersk laks"
          ],
          [
           "Fersk laks"
          ],
          [
           "Fersk laks"
          ],
          [
           "Fersk laks"
          ],
          [
           "Fersk laks"
          ],
          [
           "Fersk laks"
          ],
          [
           "Fersk laks"
          ],
          [
           "Fersk laks"
          ],
          [
           "Fersk laks"
          ],
          [
           "Fersk laks"
          ],
          [
           "Fersk laks"
          ],
          [
           "Fersk laks"
          ],
          [
           "Fersk laks"
          ],
          [
           "Fersk laks"
          ],
          [
           "Fersk laks"
          ],
          [
           "Fersk laks"
          ],
          [
           "Fersk laks"
          ],
          [
           "Fersk laks"
          ],
          [
           "Fersk laks"
          ],
          [
           "Fersk laks"
          ],
          [
           "Fersk laks"
          ],
          [
           "Fersk laks"
          ],
          [
           "Fersk laks"
          ],
          [
           "Fersk laks"
          ],
          [
           "Fersk laks"
          ],
          [
           "Fersk laks"
          ],
          [
           "Fersk laks"
          ],
          [
           "Fersk laks"
          ],
          [
           "Fersk laks"
          ],
          [
           "Fersk laks"
          ],
          [
           "Fersk laks"
          ],
          [
           "Fersk laks"
          ],
          [
           "Fersk laks"
          ],
          [
           "Fersk laks"
          ],
          [
           "Fersk laks"
          ],
          [
           "Fersk laks"
          ],
          [
           "Fersk laks"
          ],
          [
           "Fersk laks"
          ],
          [
           "Fersk laks"
          ],
          [
           "Fersk laks"
          ],
          [
           "Fersk laks"
          ],
          [
           "Fersk laks"
          ],
          [
           "Fersk laks"
          ],
          [
           "Fersk laks"
          ],
          [
           "Fersk laks"
          ],
          [
           "Fersk laks"
          ],
          [
           "Fersk laks"
          ],
          [
           "Fersk laks"
          ],
          [
           "Fersk laks"
          ],
          [
           "Fersk laks"
          ],
          [
           "Fersk laks"
          ],
          [
           "Fersk laks"
          ],
          [
           "Fersk laks"
          ],
          [
           "Fersk laks"
          ],
          [
           "Fersk laks"
          ],
          [
           "Fersk laks"
          ],
          [
           "Fersk laks"
          ],
          [
           "Fersk laks"
          ],
          [
           "Fersk laks"
          ],
          [
           "Fersk laks"
          ],
          [
           "Fersk laks"
          ],
          [
           "Fersk laks"
          ],
          [
           "Fersk laks"
          ],
          [
           "Fersk laks"
          ],
          [
           "Fersk laks"
          ],
          [
           "Fersk laks"
          ],
          [
           "Fersk laks"
          ],
          [
           "Fersk laks"
          ],
          [
           "Fersk laks"
          ],
          [
           "Fersk laks"
          ],
          [
           "Fersk laks"
          ],
          [
           "Fersk laks"
          ],
          [
           "Fersk laks"
          ],
          [
           "Fersk laks"
          ],
          [
           "Fersk laks"
          ],
          [
           "Fersk laks"
          ],
          [
           "Fersk laks"
          ],
          [
           "Fersk laks"
          ],
          [
           "Fersk laks"
          ],
          [
           "Fersk laks"
          ],
          [
           "Fersk laks"
          ],
          [
           "Fersk laks"
          ],
          [
           "Fersk laks"
          ],
          [
           "Fersk laks"
          ],
          [
           "Fersk laks"
          ],
          [
           "Fersk laks"
          ],
          [
           "Fersk laks"
          ],
          [
           "Fersk laks"
          ],
          [
           "Fersk laks"
          ],
          [
           "Fersk laks"
          ],
          [
           "Fersk laks"
          ],
          [
           "Fersk laks"
          ],
          [
           "Fersk laks"
          ],
          [
           "Fersk laks"
          ],
          [
           "Fersk laks"
          ],
          [
           "Fersk laks"
          ],
          [
           "Fersk laks"
          ],
          [
           "Fersk laks"
          ],
          [
           "Fersk laks"
          ],
          [
           "Fersk laks"
          ],
          [
           "Fersk laks"
          ],
          [
           "Fersk laks"
          ],
          [
           "Fersk laks"
          ],
          [
           "Fersk laks"
          ],
          [
           "Fersk laks"
          ],
          [
           "Fersk laks"
          ],
          [
           "Fersk laks"
          ],
          [
           "Fersk laks"
          ],
          [
           "Fersk laks"
          ],
          [
           "Fersk laks"
          ],
          [
           "Fersk laks"
          ],
          [
           "Fersk laks"
          ],
          [
           "Fersk laks"
          ],
          [
           "Fersk laks"
          ],
          [
           "Fersk laks"
          ],
          [
           "Fersk laks"
          ],
          [
           "Fersk laks"
          ],
          [
           "Fersk laks"
          ],
          [
           "Fersk laks"
          ],
          [
           "Fersk laks"
          ],
          [
           "Fersk laks"
          ],
          [
           "Fersk laks"
          ],
          [
           "Fersk laks"
          ],
          [
           "Fersk laks"
          ],
          [
           "Fersk laks"
          ],
          [
           "Fersk laks"
          ],
          [
           "Fersk laks"
          ],
          [
           "Fersk laks"
          ],
          [
           "Fersk laks"
          ],
          [
           "Fersk laks"
          ],
          [
           "Fersk laks"
          ],
          [
           "Fersk laks"
          ],
          [
           "Fersk laks"
          ],
          [
           "Fersk laks"
          ],
          [
           "Fersk laks"
          ],
          [
           "Fersk laks"
          ],
          [
           "Fersk laks"
          ],
          [
           "Fersk laks"
          ],
          [
           "Fersk laks"
          ],
          [
           "Fersk laks"
          ],
          [
           "Fersk laks"
          ],
          [
           "Fersk laks"
          ],
          [
           "Fersk laks"
          ],
          [
           "Fersk laks"
          ],
          [
           "Fersk laks"
          ],
          [
           "Fersk laks"
          ],
          [
           "Fersk laks"
          ],
          [
           "Fersk laks"
          ],
          [
           "Fersk laks"
          ],
          [
           "Fersk laks"
          ],
          [
           "Fersk laks"
          ],
          [
           "Fersk laks"
          ],
          [
           "Fersk laks"
          ],
          [
           "Fersk laks"
          ],
          [
           "Fersk laks"
          ],
          [
           "Fersk laks"
          ],
          [
           "Fersk laks"
          ],
          [
           "Fersk laks"
          ],
          [
           "Fersk laks"
          ],
          [
           "Fersk laks"
          ],
          [
           "Fersk laks"
          ],
          [
           "Fersk laks"
          ],
          [
           "Fersk laks"
          ],
          [
           "Fersk laks"
          ],
          [
           "Fersk laks"
          ],
          [
           "Fersk laks"
          ],
          [
           "Fersk laks"
          ],
          [
           "Fersk laks"
          ],
          [
           "Fersk laks"
          ],
          [
           "Fersk laks"
          ],
          [
           "Fersk laks"
          ],
          [
           "Fersk laks"
          ],
          [
           "Fersk laks"
          ],
          [
           "Fersk laks"
          ],
          [
           "Fersk laks"
          ],
          [
           "Fersk laks"
          ],
          [
           "Fersk laks"
          ],
          [
           "Fersk laks"
          ],
          [
           "Fersk laks"
          ],
          [
           "Fersk laks"
          ],
          [
           "Fersk laks"
          ],
          [
           "Fersk laks"
          ],
          [
           "Fersk laks"
          ],
          [
           "Fersk laks"
          ],
          [
           "Fersk laks"
          ],
          [
           "Fersk laks"
          ],
          [
           "Fersk laks"
          ],
          [
           "Fersk laks"
          ],
          [
           "Fersk laks"
          ],
          [
           "Fersk laks"
          ],
          [
           "Fersk laks"
          ],
          [
           "Fersk laks"
          ],
          [
           "Fersk laks"
          ],
          [
           "Fersk laks"
          ],
          [
           "Fersk laks"
          ],
          [
           "Fersk laks"
          ],
          [
           "Fersk laks"
          ],
          [
           "Fersk laks"
          ],
          [
           "Fersk laks"
          ],
          [
           "Fersk laks"
          ],
          [
           "Fersk laks"
          ],
          [
           "Fersk laks"
          ],
          [
           "Fersk laks"
          ],
          [
           "Fersk laks"
          ],
          [
           "Fersk laks"
          ],
          [
           "Fersk laks"
          ],
          [
           "Fersk laks"
          ],
          [
           "Fersk laks"
          ],
          [
           "Fersk laks"
          ],
          [
           "Fersk laks"
          ],
          [
           "Fersk laks"
          ],
          [
           "Fersk laks"
          ],
          [
           "Fersk laks"
          ],
          [
           "Fersk laks"
          ],
          [
           "Fersk laks"
          ],
          [
           "Fersk laks"
          ],
          [
           "Fersk laks"
          ],
          [
           "Fersk laks"
          ],
          [
           "Fersk laks"
          ],
          [
           "Fersk laks"
          ],
          [
           "Fersk laks"
          ],
          [
           "Fersk laks"
          ],
          [
           "Fersk laks"
          ],
          [
           "Fersk laks"
          ],
          [
           "Fersk laks"
          ],
          [
           "Fersk laks"
          ],
          [
           "Fersk laks"
          ],
          [
           "Fersk laks"
          ],
          [
           "Fersk laks"
          ],
          [
           "Fersk laks"
          ],
          [
           "Fersk laks"
          ],
          [
           "Fersk laks"
          ],
          [
           "Fersk laks"
          ],
          [
           "Fersk laks"
          ],
          [
           "Fersk laks"
          ],
          [
           "Fersk laks"
          ],
          [
           "Fersk laks"
          ],
          [
           "Fersk laks"
          ],
          [
           "Fersk laks"
          ],
          [
           "Fersk laks"
          ],
          [
           "Fersk laks"
          ],
          [
           "Fersk laks"
          ],
          [
           "Fersk laks"
          ],
          [
           "Fersk laks"
          ],
          [
           "Fersk laks"
          ],
          [
           "Fersk laks"
          ],
          [
           "Fersk laks"
          ],
          [
           "Fersk laks"
          ],
          [
           "Fersk laks"
          ],
          [
           "Fersk laks"
          ],
          [
           "Fersk laks"
          ],
          [
           "Fersk laks"
          ],
          [
           "Fersk laks"
          ],
          [
           "Fersk laks"
          ],
          [
           "Fersk laks"
          ],
          [
           "Fersk laks"
          ],
          [
           "Fersk laks"
          ],
          [
           "Fersk laks"
          ],
          [
           "Fersk laks"
          ],
          [
           "Fersk laks"
          ],
          [
           "Fersk laks"
          ],
          [
           "Fersk laks"
          ],
          [
           "Fersk laks"
          ],
          [
           "Fersk laks"
          ],
          [
           "Fersk laks"
          ],
          [
           "Fersk laks"
          ],
          [
           "Fersk laks"
          ],
          [
           "Fersk laks"
          ],
          [
           "Fersk laks"
          ],
          [
           "Fersk laks"
          ]
         ],
         "hovertemplate": "Transporttype=%{customdata[0]}<br>År og ukenr.=%{x}<br>Total CO2-utslipp (kg)=%{y:.0f}<extra></extra>",
         "legendgroup": "Fersk laks",
         "line": {
          "color": "#636efa",
          "dash": "solid",
          "width": 2
         },
         "marker": {
          "symbol": "circle"
         },
         "mode": "lines+markers",
         "name": "Fersk laks",
         "showlegend": true,
         "type": "scattergl",
         "x": [
          "2000U01",
          "2000U02",
          "2000U03",
          "2000U04",
          "2000U05",
          "2000U06",
          "2000U07",
          "2000U08",
          "2000U09",
          "2000U10",
          "2000U11",
          "2000U12",
          "2000U13",
          "2000U14",
          "2000U15",
          "2000U16",
          "2000U17",
          "2000U18",
          "2000U19",
          "2000U20",
          "2000U21",
          "2000U22",
          "2000U23",
          "2000U24",
          "2000U25",
          "2000U26",
          "2000U27",
          "2000U28",
          "2000U29",
          "2000U30",
          "2000U31",
          "2000U32",
          "2000U33",
          "2000U34",
          "2000U35",
          "2000U36",
          "2000U37",
          "2000U38",
          "2000U39",
          "2000U40",
          "2000U41",
          "2000U42",
          "2000U43",
          "2000U44",
          "2000U45",
          "2000U46",
          "2000U47",
          "2000U48",
          "2000U49",
          "2000U50",
          "2000U51",
          "2000U52",
          "2001U01",
          "2001U02",
          "2001U03",
          "2001U04",
          "2001U05",
          "2001U06",
          "2001U07",
          "2001U08",
          "2001U09",
          "2001U10",
          "2001U11",
          "2001U12",
          "2001U13",
          "2001U14",
          "2001U15",
          "2001U16",
          "2001U17",
          "2001U18",
          "2001U19",
          "2001U20",
          "2001U21",
          "2001U22",
          "2001U23",
          "2001U24",
          "2001U25",
          "2001U26",
          "2001U27",
          "2001U28",
          "2001U29",
          "2001U30",
          "2001U31",
          "2001U32",
          "2001U33",
          "2001U34",
          "2001U35",
          "2001U36",
          "2001U37",
          "2001U38",
          "2001U39",
          "2001U40",
          "2001U41",
          "2001U42",
          "2001U43",
          "2001U44",
          "2001U45",
          "2001U46",
          "2001U47",
          "2001U48",
          "2001U49",
          "2001U50",
          "2001U51",
          "2001U52",
          "2002U01",
          "2002U02",
          "2002U03",
          "2002U04",
          "2002U05",
          "2002U06",
          "2002U07",
          "2002U08",
          "2002U09",
          "2002U10",
          "2002U11",
          "2002U12",
          "2002U13",
          "2002U14",
          "2002U15",
          "2002U16",
          "2002U17",
          "2002U18",
          "2002U19",
          "2002U20",
          "2002U21",
          "2002U22",
          "2002U23",
          "2002U24",
          "2002U25",
          "2002U26",
          "2002U27",
          "2002U28",
          "2002U29",
          "2002U30",
          "2002U31",
          "2002U32",
          "2002U33",
          "2002U34",
          "2002U35",
          "2002U36",
          "2002U37",
          "2002U38",
          "2002U39",
          "2002U40",
          "2002U41",
          "2002U42",
          "2002U43",
          "2002U44",
          "2002U45",
          "2002U46",
          "2002U47",
          "2002U48",
          "2002U49",
          "2002U50",
          "2002U51",
          "2002U52",
          "2003U01",
          "2003U02",
          "2003U03",
          "2003U04",
          "2003U05",
          "2003U06",
          "2003U07",
          "2003U08",
          "2003U09",
          "2003U10",
          "2003U11",
          "2003U12",
          "2003U13",
          "2003U14",
          "2003U15",
          "2003U16",
          "2003U17",
          "2003U18",
          "2003U19",
          "2003U20",
          "2003U21",
          "2003U22",
          "2003U23",
          "2003U24",
          "2003U25",
          "2003U26",
          "2003U27",
          "2003U28",
          "2003U29",
          "2003U30",
          "2003U31",
          "2003U32",
          "2003U33",
          "2003U34",
          "2003U35",
          "2003U36",
          "2003U37",
          "2003U38",
          "2003U39",
          "2003U40",
          "2003U41",
          "2003U42",
          "2003U43",
          "2003U44",
          "2003U45",
          "2003U46",
          "2003U47",
          "2003U48",
          "2003U49",
          "2003U50",
          "2003U51",
          "2003U52",
          "2004U01",
          "2004U02",
          "2004U03",
          "2004U04",
          "2004U05",
          "2004U06",
          "2004U07",
          "2004U08",
          "2004U09",
          "2004U10",
          "2004U11",
          "2004U12",
          "2004U13",
          "2004U14",
          "2004U15",
          "2004U16",
          "2004U17",
          "2004U18",
          "2004U19",
          "2004U20",
          "2004U21",
          "2004U22",
          "2004U23",
          "2004U24",
          "2004U25",
          "2004U26",
          "2004U27",
          "2004U28",
          "2004U29",
          "2004U30",
          "2004U31",
          "2004U32",
          "2004U33",
          "2004U34",
          "2004U35",
          "2004U36",
          "2004U37",
          "2004U38",
          "2004U39",
          "2004U40",
          "2004U41",
          "2004U42",
          "2004U43",
          "2004U44",
          "2004U45",
          "2004U46",
          "2004U47",
          "2004U48",
          "2004U49",
          "2004U50",
          "2004U51",
          "2004U52",
          "2004U53",
          "2005U01",
          "2005U02",
          "2005U03",
          "2005U04",
          "2005U05",
          "2005U06",
          "2005U07",
          "2005U08",
          "2005U09",
          "2005U10",
          "2005U11",
          "2005U12",
          "2005U13",
          "2005U14",
          "2005U15",
          "2005U16",
          "2005U17",
          "2005U18",
          "2005U19",
          "2005U20",
          "2005U21",
          "2005U22",
          "2005U23",
          "2005U24",
          "2005U25",
          "2005U26",
          "2005U27",
          "2005U28",
          "2005U29",
          "2005U30",
          "2005U31",
          "2005U32",
          "2005U33",
          "2005U34",
          "2005U35",
          "2005U36",
          "2005U37",
          "2005U38",
          "2005U39",
          "2005U40",
          "2005U41",
          "2005U42",
          "2005U43",
          "2005U44",
          "2005U45",
          "2005U46",
          "2005U47",
          "2005U48",
          "2005U49",
          "2005U50",
          "2005U51",
          "2005U52",
          "2006U01",
          "2006U02",
          "2006U03",
          "2006U04",
          "2006U05",
          "2006U06",
          "2006U07",
          "2006U08",
          "2006U09",
          "2006U10",
          "2006U11",
          "2006U12",
          "2006U13",
          "2006U14",
          "2006U15",
          "2006U16",
          "2006U17",
          "2006U18",
          "2006U19",
          "2006U20",
          "2006U21",
          "2006U22",
          "2006U23",
          "2006U24",
          "2006U25",
          "2006U26",
          "2006U27",
          "2006U28",
          "2006U29",
          "2006U30",
          "2006U31",
          "2006U32",
          "2006U33",
          "2006U34",
          "2006U35",
          "2006U36",
          "2006U37",
          "2006U38",
          "2006U39",
          "2006U40",
          "2006U41",
          "2006U42",
          "2006U43",
          "2006U44",
          "2006U45",
          "2006U46",
          "2006U47",
          "2006U48",
          "2006U49",
          "2006U50",
          "2006U51",
          "2006U52",
          "2007U01",
          "2007U02",
          "2007U03",
          "2007U04",
          "2007U05",
          "2007U06",
          "2007U07",
          "2007U08",
          "2007U09",
          "2007U10",
          "2007U11",
          "2007U12",
          "2007U13",
          "2007U14",
          "2007U15",
          "2007U16",
          "2007U17",
          "2007U18",
          "2007U19",
          "2007U20",
          "2007U21",
          "2007U22",
          "2007U23",
          "2007U24",
          "2007U25",
          "2007U26",
          "2007U27",
          "2007U28",
          "2007U29",
          "2007U30",
          "2007U31",
          "2007U32",
          "2007U33",
          "2007U34",
          "2007U35",
          "2007U36",
          "2007U37",
          "2007U38",
          "2007U39",
          "2007U40",
          "2007U41",
          "2007U42",
          "2007U43",
          "2007U44",
          "2007U45",
          "2007U46",
          "2007U47",
          "2007U48",
          "2007U49",
          "2007U50",
          "2007U51",
          "2007U52",
          "2008U01",
          "2008U02",
          "2008U03",
          "2008U04",
          "2008U05",
          "2008U06",
          "2008U07",
          "2008U08",
          "2008U09",
          "2008U10",
          "2008U11",
          "2008U12",
          "2008U13",
          "2008U14",
          "2008U15",
          "2008U16",
          "2008U17",
          "2008U18",
          "2008U19",
          "2008U20",
          "2008U21",
          "2008U22",
          "2008U23",
          "2008U24",
          "2008U25",
          "2008U26",
          "2008U27",
          "2008U28",
          "2008U29",
          "2008U30",
          "2008U31",
          "2008U32",
          "2008U33",
          "2008U34",
          "2008U35",
          "2008U36",
          "2008U37",
          "2008U38",
          "2008U39",
          "2008U40",
          "2008U41",
          "2008U42",
          "2008U43",
          "2008U44",
          "2008U45",
          "2008U46",
          "2008U47",
          "2008U48",
          "2008U49",
          "2008U50",
          "2008U51",
          "2008U52",
          "2009U01",
          "2009U02",
          "2009U03",
          "2009U04",
          "2009U05",
          "2009U06",
          "2009U07",
          "2009U08",
          "2009U09",
          "2009U10",
          "2009U11",
          "2009U12",
          "2009U13",
          "2009U14",
          "2009U15",
          "2009U16",
          "2009U17",
          "2009U18",
          "2009U19",
          "2009U20",
          "2009U21",
          "2009U22",
          "2009U23",
          "2009U24",
          "2009U25",
          "2009U26",
          "2009U27",
          "2009U28",
          "2009U29",
          "2009U30",
          "2009U31",
          "2009U32",
          "2009U33",
          "2009U34",
          "2009U35",
          "2009U36",
          "2009U37",
          "2009U38",
          "2009U39",
          "2009U40",
          "2009U41",
          "2009U42",
          "2009U43",
          "2009U44",
          "2009U45",
          "2009U46",
          "2009U47",
          "2009U48",
          "2009U49",
          "2009U50",
          "2009U51",
          "2009U52",
          "2009U53",
          "2010U01",
          "2010U02",
          "2010U03",
          "2010U04",
          "2010U05",
          "2010U06",
          "2010U07",
          "2010U08",
          "2010U09",
          "2010U10",
          "2010U11",
          "2010U12",
          "2010U13",
          "2010U14",
          "2010U15",
          "2010U16",
          "2010U17",
          "2010U18",
          "2010U19",
          "2010U20",
          "2010U21",
          "2010U22",
          "2010U23",
          "2010U24",
          "2010U25",
          "2010U26",
          "2010U27",
          "2010U28",
          "2010U29",
          "2010U30",
          "2010U31",
          "2010U32",
          "2010U33",
          "2010U34",
          "2010U35",
          "2010U36",
          "2010U37",
          "2010U38",
          "2010U39",
          "2010U40",
          "2010U41",
          "2010U42",
          "2010U43",
          "2010U44",
          "2010U45",
          "2010U46",
          "2010U47",
          "2010U48",
          "2010U49",
          "2010U50",
          "2010U51",
          "2010U52",
          "2011U01",
          "2011U02",
          "2011U03",
          "2011U04",
          "2011U05",
          "2011U06",
          "2011U07",
          "2011U08",
          "2011U09",
          "2011U10",
          "2011U11",
          "2011U12",
          "2011U13",
          "2011U14",
          "2011U15",
          "2011U16",
          "2011U17",
          "2011U18",
          "2011U19",
          "2011U20",
          "2011U21",
          "2011U22",
          "2011U23",
          "2011U24",
          "2011U25",
          "2011U26",
          "2011U27",
          "2011U28",
          "2011U29",
          "2011U30",
          "2011U31",
          "2011U32",
          "2011U33",
          "2011U34",
          "2011U35",
          "2011U36",
          "2011U37",
          "2011U38",
          "2011U39",
          "2011U40",
          "2011U41",
          "2011U42",
          "2011U43",
          "2011U44",
          "2011U45",
          "2011U46",
          "2011U47",
          "2011U48",
          "2011U49",
          "2011U50",
          "2011U51",
          "2011U52",
          "2012U01",
          "2012U02",
          "2012U03",
          "2012U04",
          "2012U05",
          "2012U06",
          "2012U07",
          "2012U08",
          "2012U09",
          "2012U10",
          "2012U11",
          "2012U12",
          "2012U13",
          "2012U14",
          "2012U15",
          "2012U16",
          "2012U17",
          "2012U18",
          "2012U19",
          "2012U20",
          "2012U21",
          "2012U22",
          "2012U23",
          "2012U24",
          "2012U25",
          "2012U26",
          "2012U27",
          "2012U28",
          "2012U29",
          "2012U30",
          "2012U31",
          "2012U32",
          "2012U33",
          "2012U34",
          "2012U35",
          "2012U36",
          "2012U37",
          "2012U38",
          "2012U39",
          "2012U40",
          "2012U41",
          "2012U42",
          "2012U43",
          "2012U44",
          "2012U45",
          "2012U46",
          "2012U47",
          "2012U48",
          "2012U49",
          "2012U50",
          "2012U51",
          "2012U52",
          "2013U01",
          "2013U02",
          "2013U03",
          "2013U04",
          "2013U05",
          "2013U06",
          "2013U07",
          "2013U08",
          "2013U09",
          "2013U10",
          "2013U11",
          "2013U12",
          "2013U13",
          "2013U14",
          "2013U15",
          "2013U16",
          "2013U17",
          "2013U18",
          "2013U19",
          "2013U20",
          "2013U21",
          "2013U22",
          "2013U23",
          "2013U24",
          "2013U25",
          "2013U26",
          "2013U27",
          "2013U28",
          "2013U29",
          "2013U30",
          "2013U31",
          "2013U32",
          "2013U33",
          "2013U34",
          "2013U35",
          "2013U36",
          "2013U37",
          "2013U38",
          "2013U39",
          "2013U40",
          "2013U41",
          "2013U42",
          "2013U43",
          "2013U44",
          "2013U45",
          "2013U46",
          "2013U47",
          "2013U48",
          "2013U49",
          "2013U50",
          "2013U51",
          "2013U52",
          "2014U01",
          "2014U02",
          "2014U03",
          "2014U04",
          "2014U05",
          "2014U06",
          "2014U07",
          "2014U08",
          "2014U09",
          "2014U10",
          "2014U11",
          "2014U12",
          "2014U13",
          "2014U14",
          "2014U15",
          "2014U16",
          "2014U17",
          "2014U18",
          "2014U19",
          "2014U20",
          "2014U21",
          "2014U22",
          "2014U23",
          "2014U24",
          "2014U25",
          "2014U26",
          "2014U27",
          "2014U28",
          "2014U29",
          "2014U30",
          "2014U31",
          "2014U32",
          "2014U33",
          "2014U34",
          "2014U35",
          "2014U36",
          "2014U37",
          "2014U38",
          "2014U39",
          "2014U40",
          "2014U41",
          "2014U42",
          "2014U43",
          "2014U44",
          "2014U45",
          "2014U46",
          "2014U47",
          "2014U48",
          "2014U49",
          "2014U50",
          "2014U51",
          "2014U52",
          "2015U01",
          "2015U02",
          "2015U03",
          "2015U04",
          "2015U05",
          "2015U06",
          "2015U07",
          "2015U08",
          "2015U09",
          "2015U10",
          "2015U11",
          "2015U12",
          "2015U13",
          "2015U14",
          "2015U15",
          "2015U16",
          "2015U17",
          "2015U18",
          "2015U19",
          "2015U20",
          "2015U21",
          "2015U22",
          "2015U23",
          "2015U24",
          "2015U25",
          "2015U26",
          "2015U27",
          "2015U28",
          "2015U29",
          "2015U30",
          "2015U31",
          "2015U32",
          "2015U33",
          "2015U34",
          "2015U35",
          "2015U36",
          "2015U37",
          "2015U38",
          "2015U39",
          "2015U40",
          "2015U41",
          "2015U42",
          "2015U43",
          "2015U44",
          "2015U45",
          "2015U46",
          "2015U47",
          "2015U48",
          "2015U49",
          "2015U50",
          "2015U51",
          "2015U52",
          "2015U53",
          "2016U01",
          "2016U02",
          "2016U03",
          "2016U04",
          "2016U05",
          "2016U06",
          "2016U07",
          "2016U08",
          "2016U09",
          "2016U10",
          "2016U11",
          "2016U12",
          "2016U13",
          "2016U14",
          "2016U15",
          "2016U16",
          "2016U17",
          "2016U18",
          "2016U19",
          "2016U20",
          "2016U21",
          "2016U22",
          "2016U23",
          "2016U24",
          "2016U25",
          "2016U26",
          "2016U27",
          "2016U28",
          "2016U29",
          "2016U30",
          "2016U31",
          "2016U32",
          "2016U33",
          "2016U34",
          "2016U35",
          "2016U36",
          "2016U37",
          "2016U38",
          "2016U39",
          "2016U40",
          "2016U41",
          "2016U42",
          "2016U43",
          "2016U44",
          "2016U45",
          "2016U46",
          "2016U47",
          "2016U48",
          "2016U49",
          "2016U50",
          "2016U51",
          "2016U52",
          "2017U01",
          "2017U02",
          "2017U03",
          "2017U04",
          "2017U05",
          "2017U06",
          "2017U07",
          "2017U08",
          "2017U09",
          "2017U10",
          "2017U11",
          "2017U12",
          "2017U13",
          "2017U14",
          "2017U15",
          "2017U16",
          "2017U17",
          "2017U18",
          "2017U19",
          "2017U20",
          "2017U21",
          "2017U22",
          "2017U23",
          "2017U24",
          "2017U25",
          "2017U26",
          "2017U27",
          "2017U28",
          "2017U29",
          "2017U30",
          "2017U31",
          "2017U32",
          "2017U33",
          "2017U34",
          "2017U35",
          "2017U36",
          "2017U37",
          "2017U38",
          "2017U39",
          "2017U40",
          "2017U41",
          "2017U42",
          "2017U43",
          "2017U44",
          "2017U45",
          "2017U46",
          "2017U47",
          "2017U48",
          "2017U49",
          "2017U50",
          "2017U51",
          "2017U52",
          "2018U01",
          "2018U02",
          "2018U03",
          "2018U04",
          "2018U05",
          "2018U06",
          "2018U07",
          "2018U08",
          "2018U09",
          "2018U10",
          "2018U11",
          "2018U12",
          "2018U13",
          "2018U14",
          "2018U15",
          "2018U16",
          "2018U17",
          "2018U18",
          "2018U19",
          "2018U20",
          "2018U21",
          "2018U22",
          "2018U23",
          "2018U24",
          "2018U25",
          "2018U26",
          "2018U27",
          "2018U28",
          "2018U29",
          "2018U30",
          "2018U31",
          "2018U32",
          "2018U33",
          "2018U34",
          "2018U35",
          "2018U36",
          "2018U37",
          "2018U38",
          "2018U39",
          "2018U40",
          "2018U41",
          "2018U42",
          "2018U43",
          "2018U44",
          "2018U45",
          "2018U46",
          "2018U47",
          "2018U48",
          "2018U49",
          "2018U50",
          "2018U51",
          "2018U52",
          "2019U01",
          "2019U02",
          "2019U03",
          "2019U04",
          "2019U05",
          "2019U06",
          "2019U07",
          "2019U08",
          "2019U09",
          "2019U10",
          "2019U11",
          "2019U12",
          "2019U13",
          "2019U14",
          "2019U15",
          "2019U16",
          "2019U17",
          "2019U18",
          "2019U19",
          "2019U20",
          "2019U21",
          "2019U22",
          "2019U23",
          "2019U24",
          "2019U25",
          "2019U26",
          "2019U27",
          "2019U28",
          "2019U29",
          "2019U30",
          "2019U31",
          "2019U32",
          "2019U33",
          "2019U34",
          "2019U35",
          "2019U36",
          "2019U37",
          "2019U38",
          "2019U39",
          "2019U40",
          "2019U41",
          "2019U42",
          "2019U43",
          "2019U44",
          "2019U45",
          "2019U46",
          "2019U47",
          "2019U48",
          "2019U49",
          "2019U50",
          "2019U51",
          "2019U52",
          "2020U01",
          "2020U02",
          "2020U03",
          "2020U04",
          "2020U05",
          "2020U06",
          "2020U07",
          "2020U08",
          "2020U09",
          "2020U10",
          "2020U11",
          "2020U12",
          "2020U13",
          "2020U14",
          "2020U15",
          "2020U16",
          "2020U17",
          "2020U18",
          "2020U19",
          "2020U20",
          "2020U21",
          "2020U22",
          "2020U23",
          "2020U24",
          "2020U25",
          "2020U26",
          "2020U27",
          "2020U28",
          "2020U29",
          "2020U30",
          "2020U31",
          "2020U32",
          "2020U33",
          "2020U34",
          "2020U35",
          "2020U36",
          "2020U37",
          "2020U38",
          "2020U39",
          "2020U40",
          "2020U41",
          "2020U42",
          "2020U43",
          "2020U44",
          "2020U45",
          "2020U46",
          "2020U47",
          "2020U48",
          "2020U49",
          "2020U50",
          "2020U51",
          "2020U52",
          "2020U53",
          "2021U01",
          "2021U02",
          "2021U03",
          "2021U04",
          "2021U05",
          "2021U06",
          "2021U07",
          "2021U08",
          "2021U09",
          "2021U10",
          "2021U11",
          "2021U12",
          "2021U13",
          "2021U14",
          "2021U15",
          "2021U16",
          "2021U17",
          "2021U18",
          "2021U19",
          "2021U20",
          "2021U21",
          "2021U22",
          "2021U23",
          "2021U24",
          "2021U25",
          "2021U26",
          "2021U27",
          "2021U28",
          "2021U29",
          "2021U30",
          "2021U31",
          "2021U32",
          "2021U33",
          "2021U34",
          "2021U35",
          "2021U36",
          "2021U37",
          "2021U38",
          "2021U39",
          "2021U40",
          "2021U41",
          "2021U42",
          "2021U43",
          "2021U44",
          "2021U45",
          "2021U46",
          "2021U47",
          "2021U48",
          "2021U49",
          "2021U50",
          "2021U51",
          "2021U52",
          "2022U01",
          "2022U02",
          "2022U03",
          "2022U04",
          "2022U05",
          "2022U06",
          "2022U07",
          "2022U08",
          "2022U09",
          "2022U10",
          "2022U11",
          "2022U12",
          "2022U13",
          "2022U14",
          "2022U15",
          "2022U16",
          "2022U17",
          "2022U18",
          "2022U19",
          "2022U20",
          "2022U21",
          "2022U22",
          "2022U23",
          "2022U24",
          "2022U25",
          "2022U26",
          "2022U27",
          "2022U28",
          "2022U29",
          "2022U30",
          "2022U31",
          "2022U32",
          "2022U33",
          "2022U34",
          "2022U35",
          "2022U36",
          "2022U37",
          "2022U38",
          "2022U39",
          "2022U40",
          "2022U41",
          "2022U42",
          "2022U43",
          "2022U44",
          "2022U45",
          "2022U46",
          "2022U47",
          "2022U48",
          "2022U49",
          "2022U50",
          "2022U51",
          "2022U52",
          "2023U01",
          "2023U02",
          "2023U03",
          "2023U04",
          "2023U05",
          "2023U06",
          "2023U07",
          "2023U08",
          "2023U09",
          "2023U10",
          "2023U11",
          "2023U12",
          "2023U13",
          "2023U14",
          "2023U15",
          "2023U16",
          "2023U17",
          "2023U18",
          "2023U19",
          "2023U20",
          "2023U21",
          "2023U22",
          "2023U23",
          "2023U24",
          "2023U25",
          "2023U26",
          "2023U27",
          "2023U28",
          "2023U29",
          "2023U30",
          "2023U31",
          "2023U32",
          "2023U33",
          "2023U34",
          "2023U35",
          "2023U36",
          "2023U37",
          "2023U38",
          "2023U39",
          "2023U40",
          "2023U41",
          "2023U42",
          "2023U43",
          "2023U44",
          "2023U45",
          "2023U46",
          "2023U47",
          "2023U48",
          "2023U49",
          "2023U50",
          "2023U51",
          "2023U52",
          "2024U01",
          "2024U02",
          "2024U03",
          "2024U04",
          "2024U05",
          "2024U06",
          "2024U07",
          "2024U08",
          "2024U09",
          "2024U10",
          "2024U11",
          "2024U12",
          "2024U13",
          "2024U14",
          "2024U15",
          "2024U16",
          "2024U17",
          "2024U18",
          "2024U19",
          "2024U20",
          "2024U21",
          "2024U22",
          "2024U23",
          "2024U24",
          "2024U25",
          "2024U26",
          "2024U27",
          "2024U28",
          "2024U29",
          "2024U30",
          "2024U31",
          "2024U32",
          "2024U33",
          "2024U34",
          "2024U35",
          "2024U36",
          "2024U37",
          "2024U38",
          "2024U39",
          "2024U40",
          "2024U41",
          "2024U42",
          "2024U43",
          "2024U44",
          "2024U45",
          "2024U46",
          "2024U47",
          "2024U48",
          "2024U49",
          "2024U50",
          "2024U51",
          "2024U52",
          "2025U01",
          "2025U02",
          "2025U03",
          "2025U04",
          "2025U05",
          "2025U06",
          "2025U07",
          "2025U08",
          "2025U09",
          "2025U10",
          "2025U11",
          "2025U12",
          "2025U13",
          "2025U14"
         ],
         "xaxis": "x",
         "y": {
          "bdata": "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",
          "dtype": "f8"
         },
         "yaxis": "y"
        },
        {
         "customdata": [
          [
           "Frosset laks"
          ],
          [
           "Frosset laks"
          ],
          [
           "Frosset laks"
          ],
          [
           "Frosset laks"
          ],
          [
           "Frosset laks"
          ],
          [
           "Frosset laks"
          ],
          [
           "Frosset laks"
          ],
          [
           "Frosset laks"
          ],
          [
           "Frosset laks"
          ],
          [
           "Frosset laks"
          ],
          [
           "Frosset laks"
          ],
          [
           "Frosset laks"
          ],
          [
           "Frosset laks"
          ],
          [
           "Frosset laks"
          ],
          [
           "Frosset laks"
          ],
          [
           "Frosset laks"
          ],
          [
           "Frosset laks"
          ],
          [
           "Frosset laks"
          ],
          [
           "Frosset laks"
          ],
          [
           "Frosset laks"
          ],
          [
           "Frosset laks"
          ],
          [
           "Frosset laks"
          ],
          [
           "Frosset laks"
          ],
          [
           "Frosset laks"
          ],
          [
           "Frosset laks"
          ],
          [
           "Frosset laks"
          ],
          [
           "Frosset laks"
          ],
          [
           "Frosset laks"
          ],
          [
           "Frosset laks"
          ],
          [
           "Frosset laks"
          ],
          [
           "Frosset laks"
          ],
          [
           "Frosset laks"
          ],
          [
           "Frosset laks"
          ],
          [
           "Frosset laks"
          ],
          [
           "Frosset laks"
          ],
          [
           "Frosset laks"
          ],
          [
           "Frosset laks"
          ],
          [
           "Frosset laks"
          ],
          [
           "Frosset laks"
          ],
          [
           "Frosset laks"
          ],
          [
           "Frosset laks"
          ],
          [
           "Frosset laks"
          ],
          [
           "Frosset laks"
          ],
          [
           "Frosset laks"
          ],
          [
           "Frosset laks"
          ],
          [
           "Frosset laks"
          ],
          [
           "Frosset laks"
          ],
          [
           "Frosset laks"
          ],
          [
           "Frosset laks"
          ],
          [
           "Frosset laks"
          ],
          [
           "Frosset laks"
          ],
          [
           "Frosset laks"
          ],
          [
           "Frosset laks"
          ],
          [
           "Frosset laks"
          ],
          [
           "Frosset laks"
          ],
          [
           "Frosset laks"
          ],
          [
           "Frosset laks"
          ],
          [
           "Frosset laks"
          ],
          [
           "Frosset laks"
          ],
          [
           "Frosset laks"
          ],
          [
           "Frosset laks"
          ],
          [
           "Frosset laks"
          ],
          [
           "Frosset laks"
          ],
          [
           "Frosset laks"
          ],
          [
           "Frosset laks"
          ],
          [
           "Frosset laks"
          ],
          [
           "Frosset laks"
          ],
          [
           "Frosset laks"
          ],
          [
           "Frosset laks"
          ],
          [
           "Frosset laks"
          ],
          [
           "Frosset laks"
          ],
          [
           "Frosset laks"
          ],
          [
           "Frosset laks"
          ],
          [
           "Frosset laks"
          ],
          [
           "Frosset laks"
          ],
          [
           "Frosset laks"
          ],
          [
           "Frosset laks"
          ],
          [
           "Frosset laks"
          ],
          [
           "Frosset laks"
          ],
          [
           "Frosset laks"
          ],
          [
           "Frosset laks"
          ],
          [
           "Frosset laks"
          ],
          [
           "Frosset laks"
          ],
          [
           "Frosset laks"
          ],
          [
           "Frosset laks"
          ],
          [
           "Frosset laks"
          ],
          [
           "Frosset laks"
          ],
          [
           "Frosset laks"
          ],
          [
           "Frosset laks"
          ],
          [
           "Frosset laks"
          ],
          [
           "Frosset laks"
          ],
          [
           "Frosset laks"
          ],
          [
           "Frosset laks"
          ],
          [
           "Frosset laks"
          ],
          [
           "Frosset laks"
          ],
          [
           "Frosset laks"
          ],
          [
           "Frosset laks"
          ],
          [
           "Frosset laks"
          ],
          [
           "Frosset laks"
          ],
          [
           "Frosset laks"
          ],
          [
           "Frosset laks"
          ],
          [
           "Frosset laks"
          ],
          [
           "Frosset laks"
          ],
          [
           "Frosset laks"
          ],
          [
           "Frosset laks"
          ],
          [
           "Frosset laks"
          ],
          [
           "Frosset laks"
          ],
          [
           "Frosset laks"
          ],
          [
           "Frosset laks"
          ],
          [
           "Frosset laks"
          ],
          [
           "Frosset laks"
          ],
          [
           "Frosset laks"
          ],
          [
           "Frosset laks"
          ],
          [
           "Frosset laks"
          ],
          [
           "Frosset laks"
          ],
          [
           "Frosset laks"
          ],
          [
           "Frosset laks"
          ],
          [
           "Frosset laks"
          ],
          [
           "Frosset laks"
          ],
          [
           "Frosset laks"
          ],
          [
           "Frosset laks"
          ],
          [
           "Frosset laks"
          ],
          [
           "Frosset laks"
          ],
          [
           "Frosset laks"
          ],
          [
           "Frosset laks"
          ],
          [
           "Frosset laks"
          ],
          [
           "Frosset laks"
          ],
          [
           "Frosset laks"
          ],
          [
           "Frosset laks"
          ],
          [
           "Frosset laks"
          ],
          [
           "Frosset laks"
          ],
          [
           "Frosset laks"
          ],
          [
           "Frosset laks"
          ],
          [
           "Frosset laks"
          ],
          [
           "Frosset laks"
          ],
          [
           "Frosset laks"
          ],
          [
           "Frosset laks"
          ],
          [
           "Frosset laks"
          ],
          [
           "Frosset laks"
          ],
          [
           "Frosset laks"
          ],
          [
           "Frosset laks"
          ],
          [
           "Frosset laks"
          ],
          [
           "Frosset laks"
          ],
          [
           "Frosset laks"
          ],
          [
           "Frosset laks"
          ],
          [
           "Frosset laks"
          ],
          [
           "Frosset laks"
          ],
          [
           "Frosset laks"
          ],
          [
           "Frosset laks"
          ],
          [
           "Frosset laks"
          ],
          [
           "Frosset laks"
          ],
          [
           "Frosset laks"
          ],
          [
           "Frosset laks"
          ],
          [
           "Frosset laks"
          ],
          [
           "Frosset laks"
          ],
          [
           "Frosset laks"
          ],
          [
           "Frosset laks"
          ],
          [
           "Frosset laks"
          ],
          [
           "Frosset laks"
          ],
          [
           "Frosset laks"
          ],
          [
           "Frosset laks"
          ],
          [
           "Frosset laks"
          ],
          [
           "Frosset laks"
          ],
          [
           "Frosset laks"
          ],
          [
           "Frosset laks"
          ],
          [
           "Frosset laks"
          ],
          [
           "Frosset laks"
          ],
          [
           "Frosset laks"
          ],
          [
           "Frosset laks"
          ],
          [
           "Frosset laks"
          ],
          [
           "Frosset laks"
          ],
          [
           "Frosset laks"
          ],
          [
           "Frosset laks"
          ],
          [
           "Frosset laks"
          ],
          [
           "Frosset laks"
          ],
          [
           "Frosset laks"
          ],
          [
           "Frosset laks"
          ],
          [
           "Frosset laks"
          ],
          [
           "Frosset laks"
          ],
          [
           "Frosset laks"
          ],
          [
           "Frosset laks"
          ],
          [
           "Frosset laks"
          ],
          [
           "Frosset laks"
          ],
          [
           "Frosset laks"
          ],
          [
           "Frosset laks"
          ],
          [
           "Frosset laks"
          ],
          [
           "Frosset laks"
          ],
          [
           "Frosset laks"
          ],
          [
           "Frosset laks"
          ],
          [
           "Frosset laks"
          ],
          [
           "Frosset laks"
          ],
          [
           "Frosset laks"
          ],
          [
           "Frosset laks"
          ],
          [
           "Frosset laks"
          ],
          [
           "Frosset laks"
          ],
          [
           "Frosset laks"
          ],
          [
           "Frosset laks"
          ],
          [
           "Frosset laks"
          ],
          [
           "Frosset laks"
          ],
          [
           "Frosset laks"
          ],
          [
           "Frosset laks"
          ],
          [
           "Frosset laks"
          ],
          [
           "Frosset laks"
          ],
          [
           "Frosset laks"
          ],
          [
           "Frosset laks"
          ],
          [
           "Frosset laks"
          ],
          [
           "Frosset laks"
          ],
          [
           "Frosset laks"
          ],
          [
           "Frosset laks"
          ],
          [
           "Frosset laks"
          ],
          [
           "Frosset laks"
          ],
          [
           "Frosset laks"
          ],
          [
           "Frosset laks"
          ],
          [
           "Frosset laks"
          ],
          [
           "Frosset laks"
          ],
          [
           "Frosset laks"
          ],
          [
           "Frosset laks"
          ],
          [
           "Frosset laks"
          ],
          [
           "Frosset laks"
          ],
          [
           "Frosset laks"
          ],
          [
           "Frosset laks"
          ],
          [
           "Frosset laks"
          ],
          [
           "Frosset laks"
          ],
          [
           "Frosset laks"
          ],
          [
           "Frosset laks"
          ],
          [
           "Frosset laks"
          ],
          [
           "Frosset laks"
          ],
          [
           "Frosset laks"
          ],
          [
           "Frosset laks"
          ],
          [
           "Frosset laks"
          ],
          [
           "Frosset laks"
          ],
          [
           "Frosset laks"
          ],
          [
           "Frosset laks"
          ],
          [
           "Frosset laks"
          ],
          [
           "Frosset laks"
          ],
          [
           "Frosset laks"
          ],
          [
           "Frosset laks"
          ],
          [
           "Frosset laks"
          ],
          [
           "Frosset laks"
          ],
          [
           "Frosset laks"
          ],
          [
           "Frosset laks"
          ],
          [
           "Frosset laks"
          ],
          [
           "Frosset laks"
          ],
          [
           "Frosset laks"
          ],
          [
           "Frosset laks"
          ],
          [
           "Frosset laks"
          ],
          [
           "Frosset laks"
          ],
          [
           "Frosset laks"
          ],
          [
           "Frosset laks"
          ],
          [
           "Frosset laks"
          ],
          [
           "Frosset laks"
          ],
          [
           "Frosset laks"
          ],
          [
           "Frosset laks"
          ],
          [
           "Frosset laks"
          ],
          [
           "Frosset laks"
          ],
          [
           "Frosset laks"
          ],
          [
           "Frosset laks"
          ],
          [
           "Frosset laks"
          ],
          [
           "Frosset laks"
          ],
          [
           "Frosset laks"
          ],
          [
           "Frosset laks"
          ],
          [
           "Frosset laks"
          ],
          [
           "Frosset laks"
          ],
          [
           "Frosset laks"
          ],
          [
           "Frosset laks"
          ],
          [
           "Frosset laks"
          ],
          [
           "Frosset laks"
          ],
          [
           "Frosset laks"
          ],
          [
           "Frosset laks"
          ],
          [
           "Frosset laks"
          ],
          [
           "Frosset laks"
          ],
          [
           "Frosset laks"
          ],
          [
           "Frosset laks"
          ],
          [
           "Frosset laks"
          ],
          [
           "Frosset laks"
          ],
          [
           "Frosset laks"
          ],
          [
           "Frosset laks"
          ],
          [
           "Frosset laks"
          ],
          [
           "Frosset laks"
          ],
          [
           "Frosset laks"
          ],
          [
           "Frosset laks"
          ],
          [
           "Frosset laks"
          ],
          [
           "Frosset laks"
          ],
          [
           "Frosset laks"
          ],
          [
           "Frosset laks"
          ],
          [
           "Frosset laks"
          ],
          [
           "Frosset laks"
          ],
          [
           "Frosset laks"
          ],
          [
           "Frosset laks"
          ],
          [
           "Frosset laks"
          ],
          [
           "Frosset laks"
          ],
          [
           "Frosset laks"
          ],
          [
           "Frosset laks"
          ],
          [
           "Frosset laks"
          ],
          [
           "Frosset laks"
          ],
          [
           "Frosset laks"
          ],
          [
           "Frosset laks"
          ],
          [
           "Frosset laks"
          ],
          [
           "Frosset laks"
          ],
          [
           "Frosset laks"
          ],
          [
           "Frosset laks"
          ],
          [
           "Frosset laks"
          ],
          [
           "Frosset laks"
          ],
          [
           "Frosset laks"
          ],
          [
           "Frosset laks"
          ],
          [
           "Frosset laks"
          ],
          [
           "Frosset laks"
          ],
          [
           "Frosset laks"
          ],
          [
           "Frosset laks"
          ],
          [
           "Frosset laks"
          ],
          [
           "Frosset laks"
          ],
          [
           "Frosset laks"
          ],
          [
           "Frosset laks"
          ],
          [
           "Frosset laks"
          ],
          [
           "Frosset laks"
          ],
          [
           "Frosset laks"
          ],
          [
           "Frosset laks"
          ],
          [
           "Frosset laks"
          ],
          [
           "Frosset laks"
          ],
          [
           "Frosset laks"
          ],
          [
           "Frosset laks"
          ],
          [
           "Frosset laks"
          ],
          [
           "Frosset laks"
          ],
          [
           "Frosset laks"
          ],
          [
           "Frosset laks"
          ],
          [
           "Frosset laks"
          ],
          [
           "Frosset laks"
          ],
          [
           "Frosset laks"
          ],
          [
           "Frosset laks"
          ],
          [
           "Frosset laks"
          ],
          [
           "Frosset laks"
          ],
          [
           "Frosset laks"
          ],
          [
           "Frosset laks"
          ],
          [
           "Frosset laks"
          ],
          [
           "Frosset laks"
          ],
          [
           "Frosset laks"
          ],
          [
           "Frosset laks"
          ],
          [
           "Frosset laks"
          ],
          [
           "Frosset laks"
          ],
          [
           "Frosset laks"
          ],
          [
           "Frosset laks"
          ],
          [
           "Frosset laks"
          ],
          [
           "Frosset laks"
          ],
          [
           "Frosset laks"
          ],
          [
           "Frosset laks"
          ],
          [
           "Frosset laks"
          ],
          [
           "Frosset laks"
          ],
          [
           "Frosset laks"
          ],
          [
           "Frosset laks"
          ],
          [
           "Frosset laks"
          ],
          [
           "Frosset laks"
          ],
          [
           "Frosset laks"
          ],
          [
           "Frosset laks"
          ],
          [
           "Frosset laks"
          ],
          [
           "Frosset laks"
          ],
          [
           "Frosset laks"
          ],
          [
           "Frosset laks"
          ],
          [
           "Frosset laks"
          ],
          [
           "Frosset laks"
          ],
          [
           "Frosset laks"
          ],
          [
           "Frosset laks"
          ],
          [
           "Frosset laks"
          ],
          [
           "Frosset laks"
          ],
          [
           "Frosset laks"
          ],
          [
           "Frosset laks"
          ],
          [
           "Frosset laks"
          ],
          [
           "Frosset laks"
          ],
          [
           "Frosset laks"
          ],
          [
           "Frosset laks"
          ],
          [
           "Frosset laks"
          ],
          [
           "Frosset laks"
          ],
          [
           "Frosset laks"
          ],
          [
           "Frosset laks"
          ],
          [
           "Frosset laks"
          ],
          [
           "Frosset laks"
          ],
          [
           "Frosset laks"
          ],
          [
           "Frosset laks"
          ],
          [
           "Frosset laks"
          ],
          [
           "Frosset laks"
          ],
          [
           "Frosset laks"
          ],
          [
           "Frosset laks"
          ],
          [
           "Frosset laks"
          ],
          [
           "Frosset laks"
          ],
          [
           "Frosset laks"
          ],
          [
           "Frosset laks"
          ],
          [
           "Frosset laks"
          ],
          [
           "Frosset laks"
          ],
          [
           "Frosset laks"
          ],
          [
           "Frosset laks"
          ],
          [
           "Frosset laks"
          ],
          [
           "Frosset laks"
          ],
          [
           "Frosset laks"
          ],
          [
           "Frosset laks"
          ],
          [
           "Frosset laks"
          ],
          [
           "Frosset laks"
          ],
          [
           "Frosset laks"
          ],
          [
           "Frosset laks"
          ],
          [
           "Frosset laks"
          ],
          [
           "Frosset laks"
          ],
          [
           "Frosset laks"
          ],
          [
           "Frosset laks"
          ],
          [
           "Frosset laks"
          ],
          [
           "Frosset laks"
          ],
          [
           "Frosset laks"
          ],
          [
           "Frosset laks"
          ],
          [
           "Frosset laks"
          ],
          [
           "Frosset laks"
          ],
          [
           "Frosset laks"
          ],
          [
           "Frosset laks"
          ],
          [
           "Frosset laks"
          ],
          [
           "Frosset laks"
          ],
          [
           "Frosset laks"
          ],
          [
           "Frosset laks"
          ],
          [
           "Frosset laks"
          ],
          [
           "Frosset laks"
          ],
          [
           "Frosset laks"
          ],
          [
           "Frosset laks"
          ],
          [
           "Frosset laks"
          ],
          [
           "Frosset laks"
          ],
          [
           "Frosset laks"
          ],
          [
           "Frosset laks"
          ],
          [
           "Frosset laks"
          ],
          [
           "Frosset laks"
          ],
          [
           "Frosset laks"
          ],
          [
           "Frosset laks"
          ],
          [
           "Frosset laks"
          ],
          [
           "Frosset laks"
          ],
          [
           "Frosset laks"
          ],
          [
           "Frosset laks"
          ],
          [
           "Frosset laks"
          ],
          [
           "Frosset laks"
          ],
          [
           "Frosset laks"
          ],
          [
           "Frosset laks"
          ],
          [
           "Frosset laks"
          ],
          [
           "Frosset laks"
          ],
          [
           "Frosset laks"
          ],
          [
           "Frosset laks"
          ],
          [
           "Frosset laks"
          ],
          [
           "Frosset laks"
          ],
          [
           "Frosset laks"
          ],
          [
           "Frosset laks"
          ],
          [
           "Frosset laks"
          ],
          [
           "Frosset laks"
          ],
          [
           "Frosset laks"
          ],
          [
           "Frosset laks"
          ],
          [
           "Frosset laks"
          ],
          [
           "Frosset laks"
          ],
          [
           "Frosset laks"
          ],
          [
           "Frosset laks"
          ],
          [
           "Frosset laks"
          ],
          [
           "Frosset laks"
          ],
          [
           "Frosset laks"
          ],
          [
           "Frosset laks"
          ],
          [
           "Frosset laks"
          ],
          [
           "Frosset laks"
          ],
          [
           "Frosset laks"
          ],
          [
           "Frosset laks"
          ],
          [
           "Frosset laks"
          ],
          [
           "Frosset laks"
          ],
          [
           "Frosset laks"
          ],
          [
           "Frosset laks"
          ],
          [
           "Frosset laks"
          ],
          [
           "Frosset laks"
          ],
          [
           "Frosset laks"
          ],
          [
           "Frosset laks"
          ],
          [
           "Frosset laks"
          ],
          [
           "Frosset laks"
          ],
          [
           "Frosset laks"
          ],
          [
           "Frosset laks"
          ],
          [
           "Frosset laks"
          ],
          [
           "Frosset laks"
          ],
          [
           "Frosset laks"
          ],
          [
           "Frosset laks"
          ],
          [
           "Frosset laks"
          ],
          [
           "Frosset laks"
          ],
          [
           "Frosset laks"
          ],
          [
           "Frosset laks"
          ],
          [
           "Frosset laks"
          ],
          [
           "Frosset laks"
          ],
          [
           "Frosset laks"
          ],
          [
           "Frosset laks"
          ],
          [
           "Frosset laks"
          ],
          [
           "Frosset laks"
          ],
          [
           "Frosset laks"
          ],
          [
           "Frosset laks"
          ],
          [
           "Frosset laks"
          ],
          [
           "Frosset laks"
          ],
          [
           "Frosset laks"
          ],
          [
           "Frosset laks"
          ],
          [
           "Frosset laks"
          ],
          [
           "Frosset laks"
          ],
          [
           "Frosset laks"
          ],
          [
           "Frosset laks"
          ],
          [
           "Frosset laks"
          ],
          [
           "Frosset laks"
          ],
          [
           "Frosset laks"
          ],
          [
           "Frosset laks"
          ],
          [
           "Frosset laks"
          ],
          [
           "Frosset laks"
          ],
          [
           "Frosset laks"
          ],
          [
           "Frosset laks"
          ],
          [
           "Frosset laks"
          ],
          [
           "Frosset laks"
          ],
          [
           "Frosset laks"
          ],
          [
           "Frosset laks"
          ],
          [
           "Frosset laks"
          ],
          [
           "Frosset laks"
          ],
          [
           "Frosset laks"
          ],
          [
           "Frosset laks"
          ],
          [
           "Frosset laks"
          ],
          [
           "Frosset laks"
          ],
          [
           "Frosset laks"
          ],
          [
           "Frosset laks"
          ],
          [
           "Frosset laks"
          ],
          [
           "Frosset laks"
          ],
          [
           "Frosset laks"
          ],
          [
           "Frosset laks"
          ],
          [
           "Frosset laks"
          ],
          [
           "Frosset laks"
          ],
          [
           "Frosset laks"
          ],
          [
           "Frosset laks"
          ],
          [
           "Frosset laks"
          ],
          [
           "Frosset laks"
          ],
          [
           "Frosset laks"
          ],
          [
           "Frosset laks"
          ],
          [
           "Frosset laks"
          ],
          [
           "Frosset laks"
          ],
          [
           "Frosset laks"
          ],
          [
           "Frosset laks"
          ],
          [
           "Frosset laks"
          ],
          [
           "Frosset laks"
          ],
          [
           "Frosset laks"
          ],
          [
           "Frosset laks"
          ],
          [
           "Frosset laks"
          ],
          [
           "Frosset laks"
          ],
          [
           "Frosset laks"
          ],
          [
           "Frosset laks"
          ],
          [
           "Frosset laks"
          ],
          [
           "Frosset laks"
          ],
          [
           "Frosset laks"
          ],
          [
           "Frosset laks"
          ],
          [
           "Frosset laks"
          ],
          [
           "Frosset laks"
          ],
          [
           "Frosset laks"
          ],
          [
           "Frosset laks"
          ],
          [
           "Frosset laks"
          ],
          [
           "Frosset laks"
          ],
          [
           "Frosset laks"
          ],
          [
           "Frosset laks"
          ],
          [
           "Frosset laks"
          ],
          [
           "Frosset laks"
          ],
          [
           "Frosset laks"
          ],
          [
           "Frosset laks"
          ],
          [
           "Frosset laks"
          ],
          [
           "Frosset laks"
          ],
          [
           "Frosset laks"
          ],
          [
           "Frosset laks"
          ],
          [
           "Frosset laks"
          ],
          [
           "Frosset laks"
          ],
          [
           "Frosset laks"
          ],
          [
           "Frosset laks"
          ],
          [
           "Frosset laks"
          ],
          [
           "Frosset laks"
          ],
          [
           "Frosset laks"
          ],
          [
           "Frosset laks"
          ],
          [
           "Frosset laks"
          ],
          [
           "Frosset laks"
          ],
          [
           "Frosset laks"
          ],
          [
           "Frosset laks"
          ],
          [
           "Frosset laks"
          ],
          [
           "Frosset laks"
          ],
          [
           "Frosset laks"
          ],
          [
           "Frosset laks"
          ],
          [
           "Frosset laks"
          ],
          [
           "Frosset laks"
          ],
          [
           "Frosset laks"
          ],
          [
           "Frosset laks"
          ],
          [
           "Frosset laks"
          ],
          [
           "Frosset laks"
          ],
          [
           "Frosset laks"
          ],
          [
           "Frosset laks"
          ],
          [
           "Frosset laks"
          ],
          [
           "Frosset laks"
          ],
          [
           "Frosset laks"
          ],
          [
           "Frosset laks"
          ],
          [
           "Frosset laks"
          ],
          [
           "Frosset laks"
          ],
          [
           "Frosset laks"
          ],
          [
           "Frosset laks"
          ],
          [
           "Frosset laks"
          ],
          [
           "Frosset laks"
          ],
          [
           "Frosset laks"
          ],
          [
           "Frosset laks"
          ],
          [
           "Frosset laks"
          ],
          [
           "Frosset laks"
          ],
          [
           "Frosset laks"
          ],
          [
           "Frosset laks"
          ],
          [
           "Frosset laks"
          ],
          [
           "Frosset laks"
          ],
          [
           "Frosset laks"
          ],
          [
           "Frosset laks"
          ],
          [
           "Frosset laks"
          ],
          [
           "Frosset laks"
          ],
          [
           "Frosset laks"
          ],
          [
           "Frosset laks"
          ],
          [
           "Frosset laks"
          ],
          [
           "Frosset laks"
          ],
          [
           "Frosset laks"
          ],
          [
           "Frosset laks"
          ],
          [
           "Frosset laks"
          ],
          [
           "Frosset laks"
          ],
          [
           "Frosset laks"
          ],
          [
           "Frosset laks"
          ],
          [
           "Frosset laks"
          ],
          [
           "Frosset laks"
          ],
          [
           "Frosset laks"
          ],
          [
           "Frosset laks"
          ],
          [
           "Frosset laks"
          ],
          [
           "Frosset laks"
          ],
          [
           "Frosset laks"
          ],
          [
           "Frosset laks"
          ],
          [
           "Frosset laks"
          ],
          [
           "Frosset laks"
          ],
          [
           "Frosset laks"
          ],
          [
           "Frosset laks"
          ],
          [
           "Frosset laks"
          ],
          [
           "Frosset laks"
          ],
          [
           "Frosset laks"
          ],
          [
           "Frosset laks"
          ],
          [
           "Frosset laks"
          ],
          [
           "Frosset laks"
          ],
          [
           "Frosset laks"
          ],
          [
           "Frosset laks"
          ],
          [
           "Frosset laks"
          ],
          [
           "Frosset laks"
          ],
          [
           "Frosset laks"
          ],
          [
           "Frosset laks"
          ],
          [
           "Frosset laks"
          ],
          [
           "Frosset laks"
          ],
          [
           "Frosset laks"
          ],
          [
           "Frosset laks"
          ],
          [
           "Frosset laks"
          ],
          [
           "Frosset laks"
          ],
          [
           "Frosset laks"
          ],
          [
           "Frosset laks"
          ],
          [
           "Frosset laks"
          ],
          [
           "Frosset laks"
          ],
          [
           "Frosset laks"
          ],
          [
           "Frosset laks"
          ],
          [
           "Frosset laks"
          ],
          [
           "Frosset laks"
          ],
          [
           "Frosset laks"
          ],
          [
           "Frosset laks"
          ],
          [
           "Frosset laks"
          ],
          [
           "Frosset laks"
          ],
          [
           "Frosset laks"
          ],
          [
           "Frosset laks"
          ],
          [
           "Frosset laks"
          ],
          [
           "Frosset laks"
          ],
          [
           "Frosset laks"
          ],
          [
           "Frosset laks"
          ],
          [
           "Frosset laks"
          ],
          [
           "Frosset laks"
          ],
          [
           "Frosset laks"
          ],
          [
           "Frosset laks"
          ],
          [
           "Frosset laks"
          ],
          [
           "Frosset laks"
          ],
          [
           "Frosset laks"
          ],
          [
           "Frosset laks"
          ],
          [
           "Frosset laks"
          ],
          [
           "Frosset laks"
          ],
          [
           "Frosset laks"
          ],
          [
           "Frosset laks"
          ],
          [
           "Frosset laks"
          ],
          [
           "Frosset laks"
          ],
          [
           "Frosset laks"
          ],
          [
           "Frosset laks"
          ],
          [
           "Frosset laks"
          ],
          [
           "Frosset laks"
          ],
          [
           "Frosset laks"
          ],
          [
           "Frosset laks"
          ],
          [
           "Frosset laks"
          ],
          [
           "Frosset laks"
          ],
          [
           "Frosset laks"
          ],
          [
           "Frosset laks"
          ],
          [
           "Frosset laks"
          ],
          [
           "Frosset laks"
          ],
          [
           "Frosset laks"
          ],
          [
           "Frosset laks"
          ],
          [
           "Frosset laks"
          ],
          [
           "Frosset laks"
          ],
          [
           "Frosset laks"
          ],
          [
           "Frosset laks"
          ],
          [
           "Frosset laks"
          ],
          [
           "Frosset laks"
          ],
          [
           "Frosset laks"
          ],
          [
           "Frosset laks"
          ],
          [
           "Frosset laks"
          ],
          [
           "Frosset laks"
          ],
          [
           "Frosset laks"
          ],
          [
           "Frosset laks"
          ],
          [
           "Frosset laks"
          ],
          [
           "Frosset laks"
          ],
          [
           "Frosset laks"
          ],
          [
           "Frosset laks"
          ],
          [
           "Frosset laks"
          ],
          [
           "Frosset laks"
          ],
          [
           "Frosset laks"
          ],
          [
           "Frosset laks"
          ],
          [
           "Frosset laks"
          ],
          [
           "Frosset laks"
          ],
          [
           "Frosset laks"
          ],
          [
           "Frosset laks"
          ],
          [
           "Frosset laks"
          ],
          [
           "Frosset laks"
          ],
          [
           "Frosset laks"
          ],
          [
           "Frosset laks"
          ],
          [
           "Frosset laks"
          ],
          [
           "Frosset laks"
          ],
          [
           "Frosset laks"
          ],
          [
           "Frosset laks"
          ],
          [
           "Frosset laks"
          ],
          [
           "Frosset laks"
          ],
          [
           "Frosset laks"
          ],
          [
           "Frosset laks"
          ],
          [
           "Frosset laks"
          ],
          [
           "Frosset laks"
          ],
          [
           "Frosset laks"
          ],
          [
           "Frosset laks"
          ],
          [
           "Frosset laks"
          ],
          [
           "Frosset laks"
          ],
          [
           "Frosset laks"
          ],
          [
           "Frosset laks"
          ],
          [
           "Frosset laks"
          ],
          [
           "Frosset laks"
          ],
          [
           "Frosset laks"
          ],
          [
           "Frosset laks"
          ],
          [
           "Frosset laks"
          ],
          [
           "Frosset laks"
          ],
          [
           "Frosset laks"
          ],
          [
           "Frosset laks"
          ],
          [
           "Frosset laks"
          ],
          [
           "Frosset laks"
          ],
          [
           "Frosset laks"
          ],
          [
           "Frosset laks"
          ],
          [
           "Frosset laks"
          ],
          [
           "Frosset laks"
          ],
          [
           "Frosset laks"
          ],
          [
           "Frosset laks"
          ],
          [
           "Frosset laks"
          ],
          [
           "Frosset laks"
          ],
          [
           "Frosset laks"
          ],
          [
           "Frosset laks"
          ],
          [
           "Frosset laks"
          ],
          [
           "Frosset laks"
          ],
          [
           "Frosset laks"
          ],
          [
           "Frosset laks"
          ],
          [
           "Frosset laks"
          ],
          [
           "Frosset laks"
          ],
          [
           "Frosset laks"
          ],
          [
           "Frosset laks"
          ],
          [
           "Frosset laks"
          ],
          [
           "Frosset laks"
          ],
          [
           "Frosset laks"
          ],
          [
           "Frosset laks"
          ],
          [
           "Frosset laks"
          ],
          [
           "Frosset laks"
          ],
          [
           "Frosset laks"
          ],
          [
           "Frosset laks"
          ],
          [
           "Frosset laks"
          ],
          [
           "Frosset laks"
          ],
          [
           "Frosset laks"
          ],
          [
           "Frosset laks"
          ],
          [
           "Frosset laks"
          ],
          [
           "Frosset laks"
          ],
          [
           "Frosset laks"
          ],
          [
           "Frosset laks"
          ],
          [
           "Frosset laks"
          ],
          [
           "Frosset laks"
          ],
          [
           "Frosset laks"
          ],
          [
           "Frosset laks"
          ],
          [
           "Frosset laks"
          ],
          [
           "Frosset laks"
          ],
          [
           "Frosset laks"
          ],
          [
           "Frosset laks"
          ],
          [
           "Frosset laks"
          ],
          [
           "Frosset laks"
          ],
          [
           "Frosset laks"
          ],
          [
           "Frosset laks"
          ],
          [
           "Frosset laks"
          ],
          [
           "Frosset laks"
          ],
          [
           "Frosset laks"
          ],
          [
           "Frosset laks"
          ],
          [
           "Frosset laks"
          ],
          [
           "Frosset laks"
          ],
          [
           "Frosset laks"
          ],
          [
           "Frosset laks"
          ],
          [
           "Frosset laks"
          ],
          [
           "Frosset laks"
          ],
          [
           "Frosset laks"
          ],
          [
           "Frosset laks"
          ],
          [
           "Frosset laks"
          ],
          [
           "Frosset laks"
          ],
          [
           "Frosset laks"
          ],
          [
           "Frosset laks"
          ],
          [
           "Frosset laks"
          ],
          [
           "Frosset laks"
          ],
          [
           "Frosset laks"
          ],
          [
           "Frosset laks"
          ],
          [
           "Frosset laks"
          ],
          [
           "Frosset laks"
          ],
          [
           "Frosset laks"
          ],
          [
           "Frosset laks"
          ],
          [
           "Frosset laks"
          ],
          [
           "Frosset laks"
          ],
          [
           "Frosset laks"
          ],
          [
           "Frosset laks"
          ],
          [
           "Frosset laks"
          ],
          [
           "Frosset laks"
          ],
          [
           "Frosset laks"
          ],
          [
           "Frosset laks"
          ],
          [
           "Frosset laks"
          ],
          [
           "Frosset laks"
          ],
          [
           "Frosset laks"
          ],
          [
           "Frosset laks"
          ],
          [
           "Frosset laks"
          ],
          [
           "Frosset laks"
          ],
          [
           "Frosset laks"
          ],
          [
           "Frosset laks"
          ],
          [
           "Frosset laks"
          ],
          [
           "Frosset laks"
          ],
          [
           "Frosset laks"
          ],
          [
           "Frosset laks"
          ],
          [
           "Frosset laks"
          ],
          [
           "Frosset laks"
          ],
          [
           "Frosset laks"
          ],
          [
           "Frosset laks"
          ],
          [
           "Frosset laks"
          ],
          [
           "Frosset laks"
          ],
          [
           "Frosset laks"
          ],
          [
           "Frosset laks"
          ],
          [
           "Frosset laks"
          ],
          [
           "Frosset laks"
          ],
          [
           "Frosset laks"
          ],
          [
           "Frosset laks"
          ],
          [
           "Frosset laks"
          ],
          [
           "Frosset laks"
          ],
          [
           "Frosset laks"
          ],
          [
           "Frosset laks"
          ],
          [
           "Frosset laks"
          ],
          [
           "Frosset laks"
          ],
          [
           "Frosset laks"
          ],
          [
           "Frosset laks"
          ],
          [
           "Frosset laks"
          ],
          [
           "Frosset laks"
          ],
          [
           "Frosset laks"
          ],
          [
           "Frosset laks"
          ],
          [
           "Frosset laks"
          ],
          [
           "Frosset laks"
          ],
          [
           "Frosset laks"
          ],
          [
           "Frosset laks"
          ],
          [
           "Frosset laks"
          ],
          [
           "Frosset laks"
          ],
          [
           "Frosset laks"
          ],
          [
           "Frosset laks"
          ],
          [
           "Frosset laks"
          ],
          [
           "Frosset laks"
          ],
          [
           "Frosset laks"
          ],
          [
           "Frosset laks"
          ],
          [
           "Frosset laks"
          ],
          [
           "Frosset laks"
          ],
          [
           "Frosset laks"
          ],
          [
           "Frosset laks"
          ],
          [
           "Frosset laks"
          ],
          [
           "Frosset laks"
          ],
          [
           "Frosset laks"
          ],
          [
           "Frosset laks"
          ],
          [
           "Frosset laks"
          ],
          [
           "Frosset laks"
          ],
          [
           "Frosset laks"
          ],
          [
           "Frosset laks"
          ],
          [
           "Frosset laks"
          ],
          [
           "Frosset laks"
          ],
          [
           "Frosset laks"
          ],
          [
           "Frosset laks"
          ],
          [
           "Frosset laks"
          ],
          [
           "Frosset laks"
          ],
          [
           "Frosset laks"
          ],
          [
           "Frosset laks"
          ],
          [
           "Frosset laks"
          ],
          [
           "Frosset laks"
          ],
          [
           "Frosset laks"
          ],
          [
           "Frosset laks"
          ],
          [
           "Frosset laks"
          ],
          [
           "Frosset laks"
          ],
          [
           "Frosset laks"
          ],
          [
           "Frosset laks"
          ],
          [
           "Frosset laks"
          ],
          [
           "Frosset laks"
          ],
          [
           "Frosset laks"
          ],
          [
           "Frosset laks"
          ],
          [
           "Frosset laks"
          ],
          [
           "Frosset laks"
          ],
          [
           "Frosset laks"
          ],
          [
           "Frosset laks"
          ],
          [
           "Frosset laks"
          ],
          [
           "Frosset laks"
          ],
          [
           "Frosset laks"
          ],
          [
           "Frosset laks"
          ],
          [
           "Frosset laks"
          ],
          [
           "Frosset laks"
          ],
          [
           "Frosset laks"
          ],
          [
           "Frosset laks"
          ],
          [
           "Frosset laks"
          ],
          [
           "Frosset laks"
          ],
          [
           "Frosset laks"
          ],
          [
           "Frosset laks"
          ],
          [
           "Frosset laks"
          ],
          [
           "Frosset laks"
          ],
          [
           "Frosset laks"
          ],
          [
           "Frosset laks"
          ],
          [
           "Frosset laks"
          ],
          [
           "Frosset laks"
          ],
          [
           "Frosset laks"
          ],
          [
           "Frosset laks"
          ],
          [
           "Frosset laks"
          ],
          [
           "Frosset laks"
          ],
          [
           "Frosset laks"
          ],
          [
           "Frosset laks"
          ],
          [
           "Frosset laks"
          ],
          [
           "Frosset laks"
          ],
          [
           "Frosset laks"
          ],
          [
           "Frosset laks"
          ],
          [
           "Frosset laks"
          ],
          [
           "Frosset laks"
          ],
          [
           "Frosset laks"
          ],
          [
           "Frosset laks"
          ],
          [
           "Frosset laks"
          ],
          [
           "Frosset laks"
          ],
          [
           "Frosset laks"
          ],
          [
           "Frosset laks"
          ],
          [
           "Frosset laks"
          ],
          [
           "Frosset laks"
          ],
          [
           "Frosset laks"
          ],
          [
           "Frosset laks"
          ],
          [
           "Frosset laks"
          ],
          [
           "Frosset laks"
          ],
          [
           "Frosset laks"
          ],
          [
           "Frosset laks"
          ],
          [
           "Frosset laks"
          ],
          [
           "Frosset laks"
          ],
          [
           "Frosset laks"
          ],
          [
           "Frosset laks"
          ],
          [
           "Frosset laks"
          ],
          [
           "Frosset laks"
          ],
          [
           "Frosset laks"
          ],
          [
           "Frosset laks"
          ],
          [
           "Frosset laks"
          ],
          [
           "Frosset laks"
          ],
          [
           "Frosset laks"
          ],
          [
           "Frosset laks"
          ],
          [
           "Frosset laks"
          ],
          [
           "Frosset laks"
          ],
          [
           "Frosset laks"
          ],
          [
           "Frosset laks"
          ],
          [
           "Frosset laks"
          ],
          [
           "Frosset laks"
          ],
          [
           "Frosset laks"
          ],
          [
           "Frosset laks"
          ],
          [
           "Frosset laks"
          ],
          [
           "Frosset laks"
          ],
          [
           "Frosset laks"
          ],
          [
           "Frosset laks"
          ],
          [
           "Frosset laks"
          ],
          [
           "Frosset laks"
          ],
          [
           "Frosset laks"
          ],
          [
           "Frosset laks"
          ],
          [
           "Frosset laks"
          ],
          [
           "Frosset laks"
          ],
          [
           "Frosset laks"
          ],
          [
           "Frosset laks"
          ],
          [
           "Frosset laks"
          ],
          [
           "Frosset laks"
          ],
          [
           "Frosset laks"
          ],
          [
           "Frosset laks"
          ],
          [
           "Frosset laks"
          ],
          [
           "Frosset laks"
          ],
          [
           "Frosset laks"
          ],
          [
           "Frosset laks"
          ],
          [
           "Frosset laks"
          ],
          [
           "Frosset laks"
          ],
          [
           "Frosset laks"
          ],
          [
           "Frosset laks"
          ],
          [
           "Frosset laks"
          ],
          [
           "Frosset laks"
          ],
          [
           "Frosset laks"
          ],
          [
           "Frosset laks"
          ],
          [
           "Frosset laks"
          ],
          [
           "Frosset laks"
          ],
          [
           "Frosset laks"
          ],
          [
           "Frosset laks"
          ],
          [
           "Frosset laks"
          ],
          [
           "Frosset laks"
          ],
          [
           "Frosset laks"
          ],
          [
           "Frosset laks"
          ],
          [
           "Frosset laks"
          ],
          [
           "Frosset laks"
          ],
          [
           "Frosset laks"
          ],
          [
           "Frosset laks"
          ],
          [
           "Frosset laks"
          ],
          [
           "Frosset laks"
          ],
          [
           "Frosset laks"
          ],
          [
           "Frosset laks"
          ],
          [
           "Frosset laks"
          ],
          [
           "Frosset laks"
          ],
          [
           "Frosset laks"
          ],
          [
           "Frosset laks"
          ],
          [
           "Frosset laks"
          ],
          [
           "Frosset laks"
          ],
          [
           "Frosset laks"
          ],
          [
           "Frosset laks"
          ],
          [
           "Frosset laks"
          ],
          [
           "Frosset laks"
          ],
          [
           "Frosset laks"
          ],
          [
           "Frosset laks"
          ],
          [
           "Frosset laks"
          ],
          [
           "Frosset laks"
          ],
          [
           "Frosset laks"
          ],
          [
           "Frosset laks"
          ],
          [
           "Frosset laks"
          ],
          [
           "Frosset laks"
          ],
          [
           "Frosset laks"
          ],
          [
           "Frosset laks"
          ],
          [
           "Frosset laks"
          ],
          [
           "Frosset laks"
          ],
          [
           "Frosset laks"
          ],
          [
           "Frosset laks"
          ],
          [
           "Frosset laks"
          ],
          [
           "Frosset laks"
          ],
          [
           "Frosset laks"
          ],
          [
           "Frosset laks"
          ],
          [
           "Frosset laks"
          ],
          [
           "Frosset laks"
          ],
          [
           "Frosset laks"
          ],
          [
           "Frosset laks"
          ],
          [
           "Frosset laks"
          ],
          [
           "Frosset laks"
          ],
          [
           "Frosset laks"
          ],
          [
           "Frosset laks"
          ],
          [
           "Frosset laks"
          ],
          [
           "Frosset laks"
          ],
          [
           "Frosset laks"
          ],
          [
           "Frosset laks"
          ],
          [
           "Frosset laks"
          ],
          [
           "Frosset laks"
          ],
          [
           "Frosset laks"
          ],
          [
           "Frosset laks"
          ],
          [
           "Frosset laks"
          ],
          [
           "Frosset laks"
          ],
          [
           "Frosset laks"
          ],
          [
           "Frosset laks"
          ],
          [
           "Frosset laks"
          ],
          [
           "Frosset laks"
          ],
          [
           "Frosset laks"
          ],
          [
           "Frosset laks"
          ],
          [
           "Frosset laks"
          ],
          [
           "Frosset laks"
          ],
          [
           "Frosset laks"
          ],
          [
           "Frosset laks"
          ],
          [
           "Frosset laks"
          ],
          [
           "Frosset laks"
          ],
          [
           "Frosset laks"
          ],
          [
           "Frosset laks"
          ],
          [
           "Frosset laks"
          ],
          [
           "Frosset laks"
          ],
          [
           "Frosset laks"
          ],
          [
           "Frosset laks"
          ],
          [
           "Frosset laks"
          ],
          [
           "Frosset laks"
          ],
          [
           "Frosset laks"
          ],
          [
           "Frosset laks"
          ],
          [
           "Frosset laks"
          ],
          [
           "Frosset laks"
          ],
          [
           "Frosset laks"
          ],
          [
           "Frosset laks"
          ],
          [
           "Frosset laks"
          ],
          [
           "Frosset laks"
          ],
          [
           "Frosset laks"
          ],
          [
           "Frosset laks"
          ],
          [
           "Frosset laks"
          ],
          [
           "Frosset laks"
          ],
          [
           "Frosset laks"
          ],
          [
           "Frosset laks"
          ],
          [
           "Frosset laks"
          ],
          [
           "Frosset laks"
          ],
          [
           "Frosset laks"
          ],
          [
           "Frosset laks"
          ],
          [
           "Frosset laks"
          ],
          [
           "Frosset laks"
          ],
          [
           "Frosset laks"
          ],
          [
           "Frosset laks"
          ],
          [
           "Frosset laks"
          ],
          [
           "Frosset laks"
          ],
          [
           "Frosset laks"
          ],
          [
           "Frosset laks"
          ],
          [
           "Frosset laks"
          ],
          [
           "Frosset laks"
          ],
          [
           "Frosset laks"
          ],
          [
           "Frosset laks"
          ],
          [
           "Frosset laks"
          ],
          [
           "Frosset laks"
          ],
          [
           "Frosset laks"
          ],
          [
           "Frosset laks"
          ],
          [
           "Frosset laks"
          ],
          [
           "Frosset laks"
          ],
          [
           "Frosset laks"
          ],
          [
           "Frosset laks"
          ],
          [
           "Frosset laks"
          ],
          [
           "Frosset laks"
          ],
          [
           "Frosset laks"
          ],
          [
           "Frosset laks"
          ],
          [
           "Frosset laks"
          ],
          [
           "Frosset laks"
          ],
          [
           "Frosset laks"
          ],
          [
           "Frosset laks"
          ],
          [
           "Frosset laks"
          ],
          [
           "Frosset laks"
          ],
          [
           "Frosset laks"
          ],
          [
           "Frosset laks"
          ],
          [
           "Frosset laks"
          ],
          [
           "Frosset laks"
          ],
          [
           "Frosset laks"
          ],
          [
           "Frosset laks"
          ],
          [
           "Frosset laks"
          ],
          [
           "Frosset laks"
          ],
          [
           "Frosset laks"
          ],
          [
           "Frosset laks"
          ],
          [
           "Frosset laks"
          ],
          [
           "Frosset laks"
          ],
          [
           "Frosset laks"
          ],
          [
           "Frosset laks"
          ],
          [
           "Frosset laks"
          ],
          [
           "Frosset laks"
          ],
          [
           "Frosset laks"
          ],
          [
           "Frosset laks"
          ],
          [
           "Frosset laks"
          ],
          [
           "Frosset laks"
          ],
          [
           "Frosset laks"
          ],
          [
           "Frosset laks"
          ],
          [
           "Frosset laks"
          ],
          [
           "Frosset laks"
          ],
          [
           "Frosset laks"
          ],
          [
           "Frosset laks"
          ],
          [
           "Frosset laks"
          ],
          [
           "Frosset laks"
          ],
          [
           "Frosset laks"
          ],
          [
           "Frosset laks"
          ],
          [
           "Frosset laks"
          ],
          [
           "Frosset laks"
          ],
          [
           "Frosset laks"
          ],
          [
           "Frosset laks"
          ],
          [
           "Frosset laks"
          ],
          [
           "Frosset laks"
          ],
          [
           "Frosset laks"
          ],
          [
           "Frosset laks"
          ],
          [
           "Frosset laks"
          ],
          [
           "Frosset laks"
          ],
          [
           "Frosset laks"
          ],
          [
           "Frosset laks"
          ],
          [
           "Frosset laks"
          ],
          [
           "Frosset laks"
          ],
          [
           "Frosset laks"
          ],
          [
           "Frosset laks"
          ],
          [
           "Frosset laks"
          ],
          [
           "Frosset laks"
          ],
          [
           "Frosset laks"
          ],
          [
           "Frosset laks"
          ],
          [
           "Frosset laks"
          ],
          [
           "Frosset laks"
          ],
          [
           "Frosset laks"
          ],
          [
           "Frosset laks"
          ],
          [
           "Frosset laks"
          ],
          [
           "Frosset laks"
          ],
          [
           "Frosset laks"
          ],
          [
           "Frosset laks"
          ],
          [
           "Frosset laks"
          ],
          [
           "Frosset laks"
          ],
          [
           "Frosset laks"
          ],
          [
           "Frosset laks"
          ],
          [
           "Frosset laks"
          ],
          [
           "Frosset laks"
          ],
          [
           "Frosset laks"
          ],
          [
           "Frosset laks"
          ],
          [
           "Frosset laks"
          ],
          [
           "Frosset laks"
          ],
          [
           "Frosset laks"
          ],
          [
           "Frosset laks"
          ],
          [
           "Frosset laks"
          ],
          [
           "Frosset laks"
          ],
          [
           "Frosset laks"
          ],
          [
           "Frosset laks"
          ],
          [
           "Frosset laks"
          ],
          [
           "Frosset laks"
          ],
          [
           "Frosset laks"
          ],
          [
           "Frosset laks"
          ],
          [
           "Frosset laks"
          ],
          [
           "Frosset laks"
          ],
          [
           "Frosset laks"
          ],
          [
           "Frosset laks"
          ],
          [
           "Frosset laks"
          ],
          [
           "Frosset laks"
          ],
          [
           "Frosset laks"
          ],
          [
           "Frosset laks"
          ],
          [
           "Frosset laks"
          ],
          [
           "Frosset laks"
          ],
          [
           "Frosset laks"
          ],
          [
           "Frosset laks"
          ],
          [
           "Frosset laks"
          ],
          [
           "Frosset laks"
          ],
          [
           "Frosset laks"
          ],
          [
           "Frosset laks"
          ],
          [
           "Frosset laks"
          ],
          [
           "Frosset laks"
          ],
          [
           "Frosset laks"
          ],
          [
           "Frosset laks"
          ],
          [
           "Frosset laks"
          ],
          [
           "Frosset laks"
          ],
          [
           "Frosset laks"
          ],
          [
           "Frosset laks"
          ],
          [
           "Frosset laks"
          ],
          [
           "Frosset laks"
          ],
          [
           "Frosset laks"
          ],
          [
           "Frosset laks"
          ],
          [
           "Frosset laks"
          ],
          [
           "Frosset laks"
          ],
          [
           "Frosset laks"
          ],
          [
           "Frosset laks"
          ],
          [
           "Frosset laks"
          ],
          [
           "Frosset laks"
          ],
          [
           "Frosset laks"
          ],
          [
           "Frosset laks"
          ],
          [
           "Frosset laks"
          ],
          [
           "Frosset laks"
          ],
          [
           "Frosset laks"
          ],
          [
           "Frosset laks"
          ],
          [
           "Frosset laks"
          ],
          [
           "Frosset laks"
          ],
          [
           "Frosset laks"
          ],
          [
           "Frosset laks"
          ],
          [
           "Frosset laks"
          ],
          [
           "Frosset laks"
          ],
          [
           "Frosset laks"
          ],
          [
           "Frosset laks"
          ],
          [
           "Frosset laks"
          ],
          [
           "Frosset laks"
          ],
          [
           "Frosset laks"
          ],
          [
           "Frosset laks"
          ],
          [
           "Frosset laks"
          ],
          [
           "Frosset laks"
          ],
          [
           "Frosset laks"
          ],
          [
           "Frosset laks"
          ],
          [
           "Frosset laks"
          ],
          [
           "Frosset laks"
          ],
          [
           "Frosset laks"
          ],
          [
           "Frosset laks"
          ],
          [
           "Frosset laks"
          ],
          [
           "Frosset laks"
          ],
          [
           "Frosset laks"
          ],
          [
           "Frosset laks"
          ],
          [
           "Frosset laks"
          ],
          [
           "Frosset laks"
          ],
          [
           "Frosset laks"
          ],
          [
           "Frosset laks"
          ],
          [
           "Frosset laks"
          ],
          [
           "Frosset laks"
          ],
          [
           "Frosset laks"
          ],
          [
           "Frosset laks"
          ],
          [
           "Frosset laks"
          ],
          [
           "Frosset laks"
          ],
          [
           "Frosset laks"
          ],
          [
           "Frosset laks"
          ],
          [
           "Frosset laks"
          ],
          [
           "Frosset laks"
          ],
          [
           "Frosset laks"
          ],
          [
           "Frosset laks"
          ],
          [
           "Frosset laks"
          ],
          [
           "Frosset laks"
          ],
          [
           "Frosset laks"
          ],
          [
           "Frosset laks"
          ],
          [
           "Frosset laks"
          ],
          [
           "Frosset laks"
          ],
          [
           "Frosset laks"
          ],
          [
           "Frosset laks"
          ],
          [
           "Frosset laks"
          ],
          [
           "Frosset laks"
          ],
          [
           "Frosset laks"
          ],
          [
           "Frosset laks"
          ],
          [
           "Frosset laks"
          ],
          [
           "Frosset laks"
          ],
          [
           "Frosset laks"
          ],
          [
           "Frosset laks"
          ],
          [
           "Frosset laks"
          ],
          [
           "Frosset laks"
          ],
          [
           "Frosset laks"
          ],
          [
           "Frosset laks"
          ],
          [
           "Frosset laks"
          ],
          [
           "Frosset laks"
          ],
          [
           "Frosset laks"
          ],
          [
           "Frosset laks"
          ],
          [
           "Frosset laks"
          ],
          [
           "Frosset laks"
          ],
          [
           "Frosset laks"
          ],
          [
           "Frosset laks"
          ],
          [
           "Frosset laks"
          ],
          [
           "Frosset laks"
          ],
          [
           "Frosset laks"
          ],
          [
           "Frosset laks"
          ],
          [
           "Frosset laks"
          ]
         ],
         "hovertemplate": "Transporttype=%{customdata[0]}<br>År og ukenr.=%{x}<br>Total CO2-utslipp (kg)=%{y:.0f}<extra></extra>",
         "legendgroup": "Frosset laks",
         "line": {
          "color": "#EF553B",
          "dash": "solid",
          "width": 2
         },
         "marker": {
          "symbol": "circle"
         },
         "mode": "lines+markers",
         "name": "Frosset laks",
         "showlegend": true,
         "type": "scattergl",
         "x": [
          "2000U01",
          "2000U02",
          "2000U03",
          "2000U04",
          "2000U05",
          "2000U06",
          "2000U07",
          "2000U08",
          "2000U09",
          "2000U10",
          "2000U11",
          "2000U12",
          "2000U13",
          "2000U14",
          "2000U15",
          "2000U16",
          "2000U17",
          "2000U18",
          "2000U19",
          "2000U20",
          "2000U21",
          "2000U22",
          "2000U23",
          "2000U24",
          "2000U25",
          "2000U26",
          "2000U27",
          "2000U28",
          "2000U29",
          "2000U30",
          "2000U31",
          "2000U32",
          "2000U33",
          "2000U34",
          "2000U35",
          "2000U36",
          "2000U37",
          "2000U38",
          "2000U39",
          "2000U40",
          "2000U41",
          "2000U42",
          "2000U43",
          "2000U44",
          "2000U45",
          "2000U46",
          "2000U47",
          "2000U48",
          "2000U49",
          "2000U50",
          "2000U51",
          "2000U52",
          "2001U01",
          "2001U02",
          "2001U03",
          "2001U04",
          "2001U05",
          "2001U06",
          "2001U07",
          "2001U08",
          "2001U09",
          "2001U10",
          "2001U11",
          "2001U12",
          "2001U13",
          "2001U14",
          "2001U15",
          "2001U16",
          "2001U17",
          "2001U18",
          "2001U19",
          "2001U20",
          "2001U21",
          "2001U22",
          "2001U23",
          "2001U24",
          "2001U25",
          "2001U26",
          "2001U27",
          "2001U28",
          "2001U29",
          "2001U30",
          "2001U31",
          "2001U32",
          "2001U33",
          "2001U34",
          "2001U35",
          "2001U36",
          "2001U37",
          "2001U38",
          "2001U39",
          "2001U40",
          "2001U41",
          "2001U42",
          "2001U43",
          "2001U44",
          "2001U45",
          "2001U46",
          "2001U47",
          "2001U48",
          "2001U49",
          "2001U50",
          "2001U51",
          "2001U52",
          "2002U01",
          "2002U02",
          "2002U03",
          "2002U04",
          "2002U05",
          "2002U06",
          "2002U07",
          "2002U08",
          "2002U09",
          "2002U10",
          "2002U11",
          "2002U12",
          "2002U13",
          "2002U14",
          "2002U15",
          "2002U16",
          "2002U17",
          "2002U18",
          "2002U19",
          "2002U20",
          "2002U21",
          "2002U22",
          "2002U23",
          "2002U24",
          "2002U25",
          "2002U26",
          "2002U27",
          "2002U28",
          "2002U29",
          "2002U30",
          "2002U31",
          "2002U32",
          "2002U33",
          "2002U34",
          "2002U35",
          "2002U36",
          "2002U37",
          "2002U38",
          "2002U39",
          "2002U40",
          "2002U41",
          "2002U42",
          "2002U43",
          "2002U44",
          "2002U45",
          "2002U46",
          "2002U47",
          "2002U48",
          "2002U49",
          "2002U50",
          "2002U51",
          "2002U52",
          "2003U01",
          "2003U02",
          "2003U03",
          "2003U04",
          "2003U05",
          "2003U06",
          "2003U07",
          "2003U08",
          "2003U09",
          "2003U10",
          "2003U11",
          "2003U12",
          "2003U13",
          "2003U14",
          "2003U15",
          "2003U16",
          "2003U17",
          "2003U18",
          "2003U19",
          "2003U20",
          "2003U21",
          "2003U22",
          "2003U23",
          "2003U24",
          "2003U25",
          "2003U26",
          "2003U27",
          "2003U28",
          "2003U29",
          "2003U30",
          "2003U31",
          "2003U32",
          "2003U33",
          "2003U34",
          "2003U35",
          "2003U36",
          "2003U37",
          "2003U38",
          "2003U39",
          "2003U40",
          "2003U41",
          "2003U42",
          "2003U43",
          "2003U44",
          "2003U45",
          "2003U46",
          "2003U47",
          "2003U48",
          "2003U49",
          "2003U50",
          "2003U51",
          "2003U52",
          "2004U01",
          "2004U02",
          "2004U03",
          "2004U04",
          "2004U05",
          "2004U06",
          "2004U07",
          "2004U08",
          "2004U09",
          "2004U10",
          "2004U11",
          "2004U12",
          "2004U13",
          "2004U14",
          "2004U15",
          "2004U16",
          "2004U17",
          "2004U18",
          "2004U19",
          "2004U20",
          "2004U21",
          "2004U22",
          "2004U23",
          "2004U24",
          "2004U25",
          "2004U26",
          "2004U27",
          "2004U28",
          "2004U29",
          "2004U30",
          "2004U31",
          "2004U32",
          "2004U33",
          "2004U34",
          "2004U35",
          "2004U36",
          "2004U37",
          "2004U38",
          "2004U39",
          "2004U40",
          "2004U41",
          "2004U42",
          "2004U43",
          "2004U44",
          "2004U45",
          "2004U46",
          "2004U47",
          "2004U48",
          "2004U49",
          "2004U50",
          "2004U51",
          "2004U52",
          "2004U53",
          "2005U01",
          "2005U02",
          "2005U03",
          "2005U04",
          "2005U05",
          "2005U06",
          "2005U07",
          "2005U08",
          "2005U09",
          "2005U10",
          "2005U11",
          "2005U12",
          "2005U13",
          "2005U14",
          "2005U15",
          "2005U16",
          "2005U17",
          "2005U18",
          "2005U19",
          "2005U20",
          "2005U21",
          "2005U22",
          "2005U23",
          "2005U24",
          "2005U25",
          "2005U26",
          "2005U27",
          "2005U28",
          "2005U29",
          "2005U30",
          "2005U31",
          "2005U32",
          "2005U33",
          "2005U34",
          "2005U35",
          "2005U36",
          "2005U37",
          "2005U38",
          "2005U39",
          "2005U40",
          "2005U41",
          "2005U42",
          "2005U43",
          "2005U44",
          "2005U45",
          "2005U46",
          "2005U47",
          "2005U48",
          "2005U49",
          "2005U50",
          "2005U51",
          "2005U52",
          "2006U01",
          "2006U02",
          "2006U03",
          "2006U04",
          "2006U05",
          "2006U06",
          "2006U07",
          "2006U08",
          "2006U09",
          "2006U10",
          "2006U11",
          "2006U12",
          "2006U13",
          "2006U14",
          "2006U15",
          "2006U16",
          "2006U17",
          "2006U18",
          "2006U19",
          "2006U20",
          "2006U21",
          "2006U22",
          "2006U23",
          "2006U24",
          "2006U25",
          "2006U26",
          "2006U27",
          "2006U28",
          "2006U29",
          "2006U30",
          "2006U31",
          "2006U32",
          "2006U33",
          "2006U34",
          "2006U35",
          "2006U36",
          "2006U37",
          "2006U38",
          "2006U39",
          "2006U40",
          "2006U41",
          "2006U42",
          "2006U43",
          "2006U44",
          "2006U45",
          "2006U46",
          "2006U47",
          "2006U48",
          "2006U49",
          "2006U50",
          "2006U51",
          "2006U52",
          "2007U01",
          "2007U02",
          "2007U03",
          "2007U04",
          "2007U05",
          "2007U06",
          "2007U07",
          "2007U08",
          "2007U09",
          "2007U10",
          "2007U11",
          "2007U12",
          "2007U13",
          "2007U14",
          "2007U15",
          "2007U16",
          "2007U17",
          "2007U18",
          "2007U19",
          "2007U20",
          "2007U21",
          "2007U22",
          "2007U23",
          "2007U24",
          "2007U25",
          "2007U26",
          "2007U27",
          "2007U28",
          "2007U29",
          "2007U30",
          "2007U31",
          "2007U32",
          "2007U33",
          "2007U34",
          "2007U35",
          "2007U36",
          "2007U37",
          "2007U38",
          "2007U39",
          "2007U40",
          "2007U41",
          "2007U42",
          "2007U43",
          "2007U44",
          "2007U45",
          "2007U46",
          "2007U47",
          "2007U48",
          "2007U49",
          "2007U50",
          "2007U51",
          "2007U52",
          "2008U01",
          "2008U02",
          "2008U03",
          "2008U04",
          "2008U05",
          "2008U06",
          "2008U07",
          "2008U08",
          "2008U09",
          "2008U10",
          "2008U11",
          "2008U12",
          "2008U13",
          "2008U14",
          "2008U15",
          "2008U16",
          "2008U17",
          "2008U18",
          "2008U19",
          "2008U20",
          "2008U21",
          "2008U22",
          "2008U23",
          "2008U24",
          "2008U25",
          "2008U26",
          "2008U27",
          "2008U28",
          "2008U29",
          "2008U30",
          "2008U31",
          "2008U32",
          "2008U33",
          "2008U34",
          "2008U35",
          "2008U36",
          "2008U37",
          "2008U38",
          "2008U39",
          "2008U40",
          "2008U41",
          "2008U42",
          "2008U43",
          "2008U44",
          "2008U45",
          "2008U46",
          "2008U47",
          "2008U48",
          "2008U49",
          "2008U50",
          "2008U51",
          "2008U52",
          "2009U01",
          "2009U02",
          "2009U03",
          "2009U04",
          "2009U05",
          "2009U06",
          "2009U07",
          "2009U08",
          "2009U09",
          "2009U10",
          "2009U11",
          "2009U12",
          "2009U13",
          "2009U14",
          "2009U15",
          "2009U16",
          "2009U17",
          "2009U18",
          "2009U19",
          "2009U20",
          "2009U21",
          "2009U22",
          "2009U23",
          "2009U24",
          "2009U25",
          "2009U26",
          "2009U27",
          "2009U28",
          "2009U29",
          "2009U30",
          "2009U31",
          "2009U32",
          "2009U33",
          "2009U34",
          "2009U35",
          "2009U36",
          "2009U37",
          "2009U38",
          "2009U39",
          "2009U40",
          "2009U41",
          "2009U42",
          "2009U43",
          "2009U44",
          "2009U45",
          "2009U46",
          "2009U47",
          "2009U48",
          "2009U49",
          "2009U50",
          "2009U51",
          "2009U52",
          "2009U53",
          "2010U01",
          "2010U02",
          "2010U03",
          "2010U04",
          "2010U05",
          "2010U06",
          "2010U07",
          "2010U08",
          "2010U09",
          "2010U10",
          "2010U11",
          "2010U12",
          "2010U13",
          "2010U14",
          "2010U15",
          "2010U16",
          "2010U17",
          "2010U18",
          "2010U19",
          "2010U20",
          "2010U21",
          "2010U22",
          "2010U23",
          "2010U24",
          "2010U25",
          "2010U26",
          "2010U27",
          "2010U28",
          "2010U29",
          "2010U30",
          "2010U31",
          "2010U32",
          "2010U33",
          "2010U34",
          "2010U35",
          "2010U36",
          "2010U37",
          "2010U38",
          "2010U39",
          "2010U40",
          "2010U41",
          "2010U42",
          "2010U43",
          "2010U44",
          "2010U45",
          "2010U46",
          "2010U47",
          "2010U48",
          "2010U49",
          "2010U50",
          "2010U51",
          "2010U52",
          "2011U01",
          "2011U02",
          "2011U03",
          "2011U04",
          "2011U05",
          "2011U06",
          "2011U07",
          "2011U08",
          "2011U09",
          "2011U10",
          "2011U11",
          "2011U12",
          "2011U13",
          "2011U14",
          "2011U15",
          "2011U16",
          "2011U17",
          "2011U18",
          "2011U19",
          "2011U20",
          "2011U21",
          "2011U22",
          "2011U23",
          "2011U24",
          "2011U25",
          "2011U26",
          "2011U27",
          "2011U28",
          "2011U29",
          "2011U30",
          "2011U31",
          "2011U32",
          "2011U33",
          "2011U34",
          "2011U35",
          "2011U36",
          "2011U37",
          "2011U38",
          "2011U39",
          "2011U40",
          "2011U41",
          "2011U42",
          "2011U43",
          "2011U44",
          "2011U45",
          "2011U46",
          "2011U47",
          "2011U48",
          "2011U49",
          "2011U50",
          "2011U51",
          "2011U52",
          "2012U01",
          "2012U02",
          "2012U03",
          "2012U04",
          "2012U05",
          "2012U06",
          "2012U07",
          "2012U08",
          "2012U09",
          "2012U10",
          "2012U11",
          "2012U12",
          "2012U13",
          "2012U14",
          "2012U15",
          "2012U16",
          "2012U17",
          "2012U18",
          "2012U19",
          "2012U20",
          "2012U21",
          "2012U22",
          "2012U23",
          "2012U24",
          "2012U25",
          "2012U26",
          "2012U27",
          "2012U28",
          "2012U29",
          "2012U30",
          "2012U31",
          "2012U32",
          "2012U33",
          "2012U34",
          "2012U35",
          "2012U36",
          "2012U37",
          "2012U38",
          "2012U39",
          "2012U40",
          "2012U41",
          "2012U42",
          "2012U43",
          "2012U44",
          "2012U45",
          "2012U46",
          "2012U47",
          "2012U48",
          "2012U49",
          "2012U50",
          "2012U51",
          "2012U52",
          "2013U01",
          "2013U02",
          "2013U03",
          "2013U04",
          "2013U05",
          "2013U06",
          "2013U07",
          "2013U08",
          "2013U09",
          "2013U10",
          "2013U11",
          "2013U12",
          "2013U13",
          "2013U14",
          "2013U15",
          "2013U16",
          "2013U17",
          "2013U18",
          "2013U19",
          "2013U20",
          "2013U21",
          "2013U22",
          "2013U23",
          "2013U24",
          "2013U25",
          "2013U26",
          "2013U27",
          "2013U28",
          "2013U29",
          "2013U30",
          "2013U31",
          "2013U32",
          "2013U33",
          "2013U34",
          "2013U35",
          "2013U36",
          "2013U37",
          "2013U38",
          "2013U39",
          "2013U40",
          "2013U41",
          "2013U42",
          "2013U43",
          "2013U44",
          "2013U45",
          "2013U46",
          "2013U47",
          "2013U48",
          "2013U49",
          "2013U50",
          "2013U51",
          "2013U52",
          "2014U01",
          "2014U02",
          "2014U03",
          "2014U04",
          "2014U05",
          "2014U06",
          "2014U07",
          "2014U08",
          "2014U09",
          "2014U10",
          "2014U11",
          "2014U12",
          "2014U13",
          "2014U14",
          "2014U15",
          "2014U16",
          "2014U17",
          "2014U18",
          "2014U19",
          "2014U20",
          "2014U21",
          "2014U22",
          "2014U23",
          "2014U24",
          "2014U25",
          "2014U26",
          "2014U27",
          "2014U28",
          "2014U29",
          "2014U30",
          "2014U31",
          "2014U32",
          "2014U33",
          "2014U34",
          "2014U35",
          "2014U36",
          "2014U37",
          "2014U38",
          "2014U39",
          "2014U40",
          "2014U41",
          "2014U42",
          "2014U43",
          "2014U44",
          "2014U45",
          "2014U46",
          "2014U47",
          "2014U48",
          "2014U49",
          "2014U50",
          "2014U51",
          "2014U52",
          "2015U01",
          "2015U02",
          "2015U03",
          "2015U04",
          "2015U05",
          "2015U06",
          "2015U07",
          "2015U08",
          "2015U09",
          "2015U10",
          "2015U11",
          "2015U12",
          "2015U13",
          "2015U14",
          "2015U15",
          "2015U16",
          "2015U17",
          "2015U18",
          "2015U19",
          "2015U20",
          "2015U21",
          "2015U22",
          "2015U23",
          "2015U24",
          "2015U25",
          "2015U26",
          "2015U27",
          "2015U28",
          "2015U29",
          "2015U30",
          "2015U31",
          "2015U32",
          "2015U33",
          "2015U34",
          "2015U35",
          "2015U36",
          "2015U37",
          "2015U38",
          "2015U39",
          "2015U40",
          "2015U41",
          "2015U42",
          "2015U43",
          "2015U44",
          "2015U45",
          "2015U46",
          "2015U47",
          "2015U48",
          "2015U49",
          "2015U50",
          "2015U51",
          "2015U52",
          "2015U53",
          "2016U01",
          "2016U02",
          "2016U03",
          "2016U04",
          "2016U05",
          "2016U06",
          "2016U07",
          "2016U08",
          "2016U09",
          "2016U10",
          "2016U11",
          "2016U12",
          "2016U13",
          "2016U14",
          "2016U15",
          "2016U16",
          "2016U17",
          "2016U18",
          "2016U19",
          "2016U20",
          "2016U21",
          "2016U22",
          "2016U23",
          "2016U24",
          "2016U25",
          "2016U26",
          "2016U27",
          "2016U28",
          "2016U29",
          "2016U30",
          "2016U31",
          "2016U32",
          "2016U33",
          "2016U34",
          "2016U35",
          "2016U36",
          "2016U37",
          "2016U38",
          "2016U39",
          "2016U40",
          "2016U41",
          "2016U42",
          "2016U43",
          "2016U44",
          "2016U45",
          "2016U46",
          "2016U47",
          "2016U48",
          "2016U49",
          "2016U50",
          "2016U51",
          "2016U52",
          "2017U01",
          "2017U02",
          "2017U03",
          "2017U04",
          "2017U05",
          "2017U06",
          "2017U07",
          "2017U08",
          "2017U09",
          "2017U10",
          "2017U11",
          "2017U12",
          "2017U13",
          "2017U14",
          "2017U15",
          "2017U16",
          "2017U17",
          "2017U18",
          "2017U19",
          "2017U20",
          "2017U21",
          "2017U22",
          "2017U23",
          "2017U24",
          "2017U25",
          "2017U26",
          "2017U27",
          "2017U28",
          "2017U29",
          "2017U30",
          "2017U31",
          "2017U32",
          "2017U33",
          "2017U34",
          "2017U35",
          "2017U36",
          "2017U37",
          "2017U38",
          "2017U39",
          "2017U40",
          "2017U41",
          "2017U42",
          "2017U43",
          "2017U44",
          "2017U45",
          "2017U46",
          "2017U47",
          "2017U48",
          "2017U49",
          "2017U50",
          "2017U51",
          "2017U52",
          "2018U01",
          "2018U02",
          "2018U03",
          "2018U04",
          "2018U05",
          "2018U06",
          "2018U07",
          "2018U08",
          "2018U09",
          "2018U10",
          "2018U11",
          "2018U12",
          "2018U13",
          "2018U14",
          "2018U15",
          "2018U16",
          "2018U17",
          "2018U18",
          "2018U19",
          "2018U20",
          "2018U21",
          "2018U22",
          "2018U23",
          "2018U24",
          "2018U25",
          "2018U26",
          "2018U27",
          "2018U28",
          "2018U29",
          "2018U30",
          "2018U31",
          "2018U32",
          "2018U33",
          "2018U34",
          "2018U35",
          "2018U36",
          "2018U37",
          "2018U38",
          "2018U39",
          "2018U40",
          "2018U41",
          "2018U42",
          "2018U43",
          "2018U44",
          "2018U45",
          "2018U46",
          "2018U47",
          "2018U48",
          "2018U49",
          "2018U50",
          "2018U51",
          "2018U52",
          "2019U01",
          "2019U02",
          "2019U03",
          "2019U04",
          "2019U05",
          "2019U06",
          "2019U07",
          "2019U08",
          "2019U09",
          "2019U10",
          "2019U11",
          "2019U12",
          "2019U13",
          "2019U14",
          "2019U15",
          "2019U16",
          "2019U17",
          "2019U18",
          "2019U19",
          "2019U20",
          "2019U21",
          "2019U22",
          "2019U23",
          "2019U24",
          "2019U25",
          "2019U26",
          "2019U27",
          "2019U28",
          "2019U29",
          "2019U30",
          "2019U31",
          "2019U32",
          "2019U33",
          "2019U34",
          "2019U35",
          "2019U36",
          "2019U37",
          "2019U38",
          "2019U39",
          "2019U40",
          "2019U41",
          "2019U42",
          "2019U43",
          "2019U44",
          "2019U45",
          "2019U46",
          "2019U47",
          "2019U48",
          "2019U49",
          "2019U50",
          "2019U51",
          "2019U52",
          "2020U01",
          "2020U02",
          "2020U03",
          "2020U04",
          "2020U05",
          "2020U06",
          "2020U07",
          "2020U08",
          "2020U09",
          "2020U10",
          "2020U11",
          "2020U12",
          "2020U13",
          "2020U14",
          "2020U15",
          "2020U16",
          "2020U17",
          "2020U18",
          "2020U19",
          "2020U20",
          "2020U21",
          "2020U22",
          "2020U23",
          "2020U24",
          "2020U25",
          "2020U26",
          "2020U27",
          "2020U28",
          "2020U29",
          "2020U30",
          "2020U31",
          "2020U32",
          "2020U33",
          "2020U34",
          "2020U35",
          "2020U36",
          "2020U37",
          "2020U38",
          "2020U39",
          "2020U40",
          "2020U41",
          "2020U42",
          "2020U43",
          "2020U44",
          "2020U45",
          "2020U46",
          "2020U47",
          "2020U48",
          "2020U49",
          "2020U50",
          "2020U51",
          "2020U52",
          "2020U53",
          "2021U01",
          "2021U02",
          "2021U03",
          "2021U04",
          "2021U05",
          "2021U06",
          "2021U07",
          "2021U08",
          "2021U09",
          "2021U10",
          "2021U11",
          "2021U12",
          "2021U13",
          "2021U14",
          "2021U15",
          "2021U16",
          "2021U17",
          "2021U18",
          "2021U19",
          "2021U20",
          "2021U21",
          "2021U22",
          "2021U23",
          "2021U24",
          "2021U25",
          "2021U26",
          "2021U27",
          "2021U28",
          "2021U29",
          "2021U30",
          "2021U31",
          "2021U32",
          "2021U33",
          "2021U34",
          "2021U35",
          "2021U36",
          "2021U37",
          "2021U38",
          "2021U39",
          "2021U40",
          "2021U41",
          "2021U42",
          "2021U43",
          "2021U44",
          "2021U45",
          "2021U46",
          "2021U47",
          "2021U48",
          "2021U49",
          "2021U50",
          "2021U51",
          "2021U52",
          "2022U01",
          "2022U02",
          "2022U03",
          "2022U04",
          "2022U05",
          "2022U06",
          "2022U07",
          "2022U08",
          "2022U09",
          "2022U10",
          "2022U11",
          "2022U12",
          "2022U13",
          "2022U14",
          "2022U15",
          "2022U16",
          "2022U17",
          "2022U18",
          "2022U19",
          "2022U20",
          "2022U21",
          "2022U22",
          "2022U23",
          "2022U24",
          "2022U25",
          "2022U26",
          "2022U27",
          "2022U28",
          "2022U29",
          "2022U30",
          "2022U31",
          "2022U32",
          "2022U33",
          "2022U34",
          "2022U35",
          "2022U36",
          "2022U37",
          "2022U38",
          "2022U39",
          "2022U40",
          "2022U41",
          "2022U42",
          "2022U43",
          "2022U44",
          "2022U45",
          "2022U46",
          "2022U47",
          "2022U48",
          "2022U49",
          "2022U50",
          "2022U51",
          "2022U52",
          "2023U01",
          "2023U02",
          "2023U03",
          "2023U04",
          "2023U05",
          "2023U06",
          "2023U07",
          "2023U08",
          "2023U09",
          "2023U10",
          "2023U11",
          "2023U12",
          "2023U13",
          "2023U14",
          "2023U15",
          "2023U16",
          "2023U17",
          "2023U18",
          "2023U19",
          "2023U20",
          "2023U21",
          "2023U22",
          "2023U23",
          "2023U24",
          "2023U25",
          "2023U26",
          "2023U27",
          "2023U28",
          "2023U29",
          "2023U30",
          "2023U31",
          "2023U32",
          "2023U33",
          "2023U34",
          "2023U35",
          "2023U36",
          "2023U37",
          "2023U38",
          "2023U39",
          "2023U40",
          "2023U41",
          "2023U42",
          "2023U43",
          "2023U44",
          "2023U45",
          "2023U46",
          "2023U47",
          "2023U48",
          "2023U49",
          "2023U50",
          "2023U51",
          "2023U52",
          "2024U01",
          "2024U02",
          "2024U03",
          "2024U04",
          "2024U05",
          "2024U06",
          "2024U07",
          "2024U08",
          "2024U09",
          "2024U10",
          "2024U11",
          "2024U12",
          "2024U13",
          "2024U14",
          "2024U15",
          "2024U16",
          "2024U17",
          "2024U18",
          "2024U19",
          "2024U20",
          "2024U21",
          "2024U22",
          "2024U23",
          "2024U24",
          "2024U25",
          "2024U26",
          "2024U27",
          "2024U28",
          "2024U29",
          "2024U30",
          "2024U31",
          "2024U32",
          "2024U33",
          "2024U34",
          "2024U35",
          "2024U36",
          "2024U37",
          "2024U38",
          "2024U39",
          "2024U40",
          "2024U41",
          "2024U42",
          "2024U43",
          "2024U44",
          "2024U45",
          "2024U46",
          "2024U47",
          "2024U48",
          "2024U49",
          "2024U50",
          "2024U51",
          "2024U52",
          "2025U01",
          "2025U02",
          "2025U03",
          "2025U04",
          "2025U05",
          "2025U06",
          "2025U07",
          "2025U08",
          "2025U09",
          "2025U10",
          "2025U11",
          "2025U12",
          "2025U13",
          "2025U14"
         ],
         "xaxis": "x",
         "y": {
          "bdata": "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",
          "dtype": "f8"
         },
         "yaxis": "y"
        }
       ],
       "layout": {
        "height": 600,
        "legend": {
         "title": {
          "text": "Transporttype"
         },
         "tracegroupgap": 0
        },
        "template": {
         "data": {
          "bar": [
           {
            "error_x": {
             "color": "#2a3f5f"
            },
            "error_y": {
             "color": "#2a3f5f"
            },
            "marker": {
             "line": {
              "color": "#E5ECF6",
              "width": 0.5
             },
             "pattern": {
              "fillmode": "overlay",
              "size": 10,
              "solidity": 0.2
             }
            },
            "type": "bar"
           }
          ],
          "barpolar": [
           {
            "marker": {
             "line": {
              "color": "#E5ECF6",
              "width": 0.5
             },
             "pattern": {
              "fillmode": "overlay",
              "size": 10,
              "solidity": 0.2
             }
            },
            "type": "barpolar"
           }
          ],
          "carpet": [
           {
            "aaxis": {
             "endlinecolor": "#2a3f5f",
             "gridcolor": "white",
             "linecolor": "white",
             "minorgridcolor": "white",
             "startlinecolor": "#2a3f5f"
            },
            "baxis": {
             "endlinecolor": "#2a3f5f",
             "gridcolor": "white",
             "linecolor": "white",
             "minorgridcolor": "white",
             "startlinecolor": "#2a3f5f"
            },
            "type": "carpet"
           }
          ],
          "choropleth": [
           {
            "colorbar": {
             "outlinewidth": 0,
             "ticks": ""
            },
            "type": "choropleth"
           }
          ],
          "contour": [
           {
            "colorbar": {
             "outlinewidth": 0,
             "ticks": ""
            },
            "colorscale": [
             [
              0,
              "#0d0887"
             ],
             [
              0.1111111111111111,
              "#46039f"
             ],
             [
              0.2222222222222222,
              "#7201a8"
             ],
             [
              0.3333333333333333,
              "#9c179e"
             ],
             [
              0.4444444444444444,
              "#bd3786"
             ],
             [
              0.5555555555555556,
              "#d8576b"
             ],
             [
              0.6666666666666666,
              "#ed7953"
             ],
             [
              0.7777777777777778,
              "#fb9f3a"
             ],
             [
              0.8888888888888888,
              "#fdca26"
             ],
             [
              1,
              "#f0f921"
             ]
            ],
            "type": "contour"
           }
          ],
          "contourcarpet": [
           {
            "colorbar": {
             "outlinewidth": 0,
             "ticks": ""
            },
            "type": "contourcarpet"
           }
          ],
          "heatmap": [
           {
            "colorbar": {
             "outlinewidth": 0,
             "ticks": ""
            },
            "colorscale": [
             [
              0,
              "#0d0887"
             ],
             [
              0.1111111111111111,
              "#46039f"
             ],
             [
              0.2222222222222222,
              "#7201a8"
             ],
             [
              0.3333333333333333,
              "#9c179e"
             ],
             [
              0.4444444444444444,
              "#bd3786"
             ],
             [
              0.5555555555555556,
              "#d8576b"
             ],
             [
              0.6666666666666666,
              "#ed7953"
             ],
             [
              0.7777777777777778,
              "#fb9f3a"
             ],
             [
              0.8888888888888888,
              "#fdca26"
             ],
             [
              1,
              "#f0f921"
             ]
            ],
            "type": "heatmap"
           }
          ],
          "histogram": [
           {
            "marker": {
             "pattern": {
              "fillmode": "overlay",
              "size": 10,
              "solidity": 0.2
             }
            },
            "type": "histogram"
           }
          ],
          "histogram2d": [
           {
            "colorbar": {
             "outlinewidth": 0,
             "ticks": ""
            },
            "colorscale": [
             [
              0,
              "#0d0887"
             ],
             [
              0.1111111111111111,
              "#46039f"
             ],
             [
              0.2222222222222222,
              "#7201a8"
             ],
             [
              0.3333333333333333,
              "#9c179e"
             ],
             [
              0.4444444444444444,
              "#bd3786"
             ],
             [
              0.5555555555555556,
              "#d8576b"
             ],
             [
              0.6666666666666666,
              "#ed7953"
             ],
             [
              0.7777777777777778,
              "#fb9f3a"
             ],
             [
              0.8888888888888888,
              "#fdca26"
             ],
             [
              1,
              "#f0f921"
             ]
            ],
            "type": "histogram2d"
           }
          ],
          "histogram2dcontour": [
           {
            "colorbar": {
             "outlinewidth": 0,
             "ticks": ""
            },
            "colorscale": [
             [
              0,
              "#0d0887"
             ],
             [
              0.1111111111111111,
              "#46039f"
             ],
             [
              0.2222222222222222,
              "#7201a8"
             ],
             [
              0.3333333333333333,
              "#9c179e"
             ],
             [
              0.4444444444444444,
              "#bd3786"
             ],
             [
              0.5555555555555556,
              "#d8576b"
             ],
             [
              0.6666666666666666,
              "#ed7953"
             ],
             [
              0.7777777777777778,
              "#fb9f3a"
             ],
             [
              0.8888888888888888,
              "#fdca26"
             ],
             [
              1,
              "#f0f921"
             ]
            ],
            "type": "histogram2dcontour"
           }
          ],
          "mesh3d": [
           {
            "colorbar": {
             "outlinewidth": 0,
             "ticks": ""
            },
            "type": "mesh3d"
           }
          ],
          "parcoords": [
           {
            "line": {
             "colorbar": {
              "outlinewidth": 0,
              "ticks": ""
             }
            },
            "type": "parcoords"
           }
          ],
          "pie": [
           {
            "automargin": true,
            "type": "pie"
           }
          ],
          "scatter": [
           {
            "fillpattern": {
             "fillmode": "overlay",
             "size": 10,
             "solidity": 0.2
            },
            "type": "scatter"
           }
          ],
          "scatter3d": [
           {
            "line": {
             "colorbar": {
              "outlinewidth": 0,
              "ticks": ""
             }
            },
            "marker": {
             "colorbar": {
              "outlinewidth": 0,
              "ticks": ""
             }
            },
            "type": "scatter3d"
           }
          ],
          "scattercarpet": [
           {
            "marker": {
             "colorbar": {
              "outlinewidth": 0,
              "ticks": ""
             }
            },
            "type": "scattercarpet"
           }
          ],
          "scattergeo": [
           {
            "marker": {
             "colorbar": {
              "outlinewidth": 0,
              "ticks": ""
             }
            },
            "type": "scattergeo"
           }
          ],
          "scattergl": [
           {
            "marker": {
             "colorbar": {
              "outlinewidth": 0,
              "ticks": ""
             }
            },
            "type": "scattergl"
           }
          ],
          "scattermap": [
           {
            "marker": {
             "colorbar": {
              "outlinewidth": 0,
              "ticks": ""
             }
            },
            "type": "scattermap"
           }
          ],
          "scattermapbox": [
           {
            "marker": {
             "colorbar": {
              "outlinewidth": 0,
              "ticks": ""
             }
            },
            "type": "scattermapbox"
           }
          ],
          "scatterpolar": [
           {
            "marker": {
             "colorbar": {
              "outlinewidth": 0,
              "ticks": ""
             }
            },
            "type": "scatterpolar"
           }
          ],
          "scatterpolargl": [
           {
            "marker": {
             "colorbar": {
              "outlinewidth": 0,
              "ticks": ""
             }
            },
            "type": "scatterpolargl"
           }
          ],
          "scatterternary": [
           {
            "marker": {
             "colorbar": {
              "outlinewidth": 0,
              "ticks": ""
             }
            },
            "type": "scatterternary"
           }
          ],
          "surface": [
           {
            "colorbar": {
             "outlinewidth": 0,
             "ticks": ""
            },
            "colorscale": [
             [
              0,
              "#0d0887"
             ],
             [
              0.1111111111111111,
              "#46039f"
             ],
             [
              0.2222222222222222,
              "#7201a8"
             ],
             [
              0.3333333333333333,
              "#9c179e"
             ],
             [
              0.4444444444444444,
              "#bd3786"
             ],
             [
              0.5555555555555556,
              "#d8576b"
             ],
             [
              0.6666666666666666,
              "#ed7953"
             ],
             [
              0.7777777777777778,
              "#fb9f3a"
             ],
             [
              0.8888888888888888,
              "#fdca26"
             ],
             [
              1,
              "#f0f921"
             ]
            ],
            "type": "surface"
           }
          ],
          "table": [
           {
            "cells": {
             "fill": {
              "color": "#EBF0F8"
             },
             "line": {
              "color": "white"
             }
            },
            "header": {
             "fill": {
              "color": "#C8D4E3"
             },
             "line": {
              "color": "white"
             }
            },
            "type": "table"
           }
          ]
         },
         "layout": {
          "annotationdefaults": {
           "arrowcolor": "#2a3f5f",
           "arrowhead": 0,
           "arrowwidth": 1
          },
          "autotypenumbers": "strict",
          "coloraxis": {
           "colorbar": {
            "outlinewidth": 0,
            "ticks": ""
           }
          },
          "colorscale": {
           "diverging": [
            [
             0,
             "#8e0152"
            ],
            [
             0.1,
             "#c51b7d"
            ],
            [
             0.2,
             "#de77ae"
            ],
            [
             0.3,
             "#f1b6da"
            ],
            [
             0.4,
             "#fde0ef"
            ],
            [
             0.5,
             "#f7f7f7"
            ],
            [
             0.6,
             "#e6f5d0"
            ],
            [
             0.7,
             "#b8e186"
            ],
            [
             0.8,
             "#7fbc41"
            ],
            [
             0.9,
             "#4d9221"
            ],
            [
             1,
             "#276419"
            ]
           ],
           "sequential": [
            [
             0,
             "#0d0887"
            ],
            [
             0.1111111111111111,
             "#46039f"
            ],
            [
             0.2222222222222222,
             "#7201a8"
            ],
            [
             0.3333333333333333,
             "#9c179e"
            ],
            [
             0.4444444444444444,
             "#bd3786"
            ],
            [
             0.5555555555555556,
             "#d8576b"
            ],
            [
             0.6666666666666666,
             "#ed7953"
            ],
            [
             0.7777777777777778,
             "#fb9f3a"
            ],
            [
             0.8888888888888888,
             "#fdca26"
            ],
            [
             1,
             "#f0f921"
            ]
           ],
           "sequentialminus": [
            [
             0,
             "#0d0887"
            ],
            [
             0.1111111111111111,
             "#46039f"
            ],
            [
             0.2222222222222222,
             "#7201a8"
            ],
            [
             0.3333333333333333,
             "#9c179e"
            ],
            [
             0.4444444444444444,
             "#bd3786"
            ],
            [
             0.5555555555555556,
             "#d8576b"
            ],
            [
             0.6666666666666666,
             "#ed7953"
            ],
            [
             0.7777777777777778,
             "#fb9f3a"
            ],
            [
             0.8888888888888888,
             "#fdca26"
            ],
            [
             1,
             "#f0f921"
            ]
           ]
          },
          "colorway": [
           "#636efa",
           "#EF553B",
           "#00cc96",
           "#ab63fa",
           "#FFA15A",
           "#19d3f3",
           "#FF6692",
           "#B6E880",
           "#FF97FF",
           "#FECB52"
          ],
          "font": {
           "color": "#2a3f5f"
          },
          "geo": {
           "bgcolor": "white",
           "lakecolor": "white",
           "landcolor": "#E5ECF6",
           "showlakes": true,
           "showland": true,
           "subunitcolor": "white"
          },
          "hoverlabel": {
           "align": "left"
          },
          "hovermode": "closest",
          "mapbox": {
           "style": "light"
          },
          "paper_bgcolor": "white",
          "plot_bgcolor": "#E5ECF6",
          "polar": {
           "angularaxis": {
            "gridcolor": "white",
            "linecolor": "white",
            "ticks": ""
           },
           "bgcolor": "#E5ECF6",
           "radialaxis": {
            "gridcolor": "white",
            "linecolor": "white",
            "ticks": ""
           }
          },
          "scene": {
           "xaxis": {
            "backgroundcolor": "#E5ECF6",
            "gridcolor": "white",
            "gridwidth": 2,
            "linecolor": "white",
            "showbackground": true,
            "ticks": "",
            "zerolinecolor": "white"
           },
           "yaxis": {
            "backgroundcolor": "#E5ECF6",
            "gridcolor": "white",
            "gridwidth": 2,
            "linecolor": "white",
            "showbackground": true,
            "ticks": "",
            "zerolinecolor": "white"
           },
           "zaxis": {
            "backgroundcolor": "#E5ECF6",
            "gridcolor": "white",
            "gridwidth": 2,
            "linecolor": "white",
            "showbackground": true,
            "ticks": "",
            "zerolinecolor": "white"
           }
          },
          "shapedefaults": {
           "line": {
            "color": "#2a3f5f"
           }
          },
          "ternary": {
           "aaxis": {
            "gridcolor": "white",
            "linecolor": "white",
            "ticks": ""
           },
           "baxis": {
            "gridcolor": "white",
            "linecolor": "white",
            "ticks": ""
           },
           "bgcolor": "#E5ECF6",
           "caxis": {
            "gridcolor": "white",
            "linecolor": "white",
            "ticks": ""
           }
          },
          "title": {
           "x": 0.05
          },
          "xaxis": {
           "automargin": true,
           "gridcolor": "white",
           "linecolor": "white",
           "ticks": "",
           "title": {
            "standoff": 15
           },
           "zerolinecolor": "white",
           "zerolinewidth": 2
          },
          "yaxis": {
           "automargin": true,
           "gridcolor": "white",
           "linecolor": "white",
           "ticks": "",
           "title": {
            "standoff": 15
           },
           "zerolinecolor": "white",
           "zerolinewidth": 2
          }
         }
        },
        "title": {
         "text": "Interaktivt CO₂-utslipp per uke for fersk og frossen laks",
         "x": 0.5
        },
        "width": 1300,
        "xaxis": {
         "anchor": "y",
         "domain": [
          0,
          1
         ],
         "tickangle": -45,
         "title": {
          "text": "Ukenummer (år+uke)"
         }
        },
        "yaxis": {
         "anchor": "x",
         "domain": [
          0,
          1
         ],
         "title": {
          "text": "CO₂-utslipp i kg"
         }
        }
       }
      }
     },
     "metadata": {},
     "output_type": "display_data"
    }
   ],
   "source": [
    "import plotly.io as pio\n",
    "import plotly.express as px\n",
    "\n",
    "fig = px.line(\n",
    "    df_summary,\n",
    "    x=\"År og ukenr.\",\n",
    "    y=\"Total CO2-utslipp (kg)\",\n",
    "    color=\"Transporttype\",\n",
    "    markers=True,\n",
    "    title=\"Interaktivt CO₂-utslipp per uke for fersk og frossen laks\",\n",
    "    hover_data={\n",
    "        \"År og ukenr.\": True,\n",
    "        \"Total CO2-utslipp (kg)\": \":.0f\",\n",
    "        \"Transporttype\": True\n",
    "    }\n",
    ")\n",
    "\n",
    "fig.update_traces(line=dict(width=2))  # litt tykkere linjer\n",
    "\n",
    "fig.update_layout(\n",
    "    width=1300,\n",
    "    height=600,\n",
    "    xaxis_title=\"Ukenummer (år+uke)\",\n",
    "    yaxis_title=\"CO₂-utslipp i kg\",\n",
    "    legend_title=\"Transporttype\",\n",
    "    title_x=0.5,\n",
    "    xaxis_tickangle=-45\n",
    ")\n",
    "\n",
    "pio.show(fig)\n"
   ]
  },
  {
   "cell_type": "code",
   "execution_count": null,
   "id": "cc12b37e",
   "metadata": {},
   "outputs": [
    {
     "name": "stdout",
     "output_type": "stream",
     "text": [
      "        År  Uke  Fersk laks - Kilospris  Fersk laks - Vekt (tonn)  Frosset laks - Kilospris  Frosset laks - Vekt (tonn)\n",
      "0     2000    1                   30.98                    3728.0                     32.54                       383.0\n",
      "1     2000    2                   31.12                    4054.0                     33.63                       216.0\n",
      "2     2000    3                   31.03                    4043.0                     36.06                       633.0\n",
      "3     2000    4                   30.95                    3730.0                     34.27                       393.0\n",
      "4     2000    5                   31.30                    3831.0                     33.91                       453.0\n",
      "5     2000    6                   32.53                    4415.0                     35.30                       265.0\n",
      "6     2000    7                   32.46                    4617.0                     34.49                       344.0\n",
      "7     2000    8                   32.19                    4463.0                     36.34                       542.0\n",
      "8     2000    9                   32.04                    4025.0                     36.70                       490.0\n",
      "9     2000   10                   32.00                    4274.0                     34.85                       738.0\n",
      "10    2000   11                   33.29                    4797.0                     37.93                       820.0\n",
      "11    2000   12                   33.77                    5004.0                     36.86                       747.0\n",
      "12    2000   13                   34.11                    5336.0                     37.41                       456.0\n",
      "13    2000   14                   34.61                    6091.0                     38.06                       869.0\n",
      "14    2000   15                   34.12                    6460.0                     37.76                       505.0\n",
      "15    2000   16                   34.45                    3511.0                     36.39                       329.0\n",
      "16    2000   17                   35.56                    4224.0                     38.33                       611.0\n",
      "17    2000   18                   37.69                    4537.0                     41.97                       367.0\n",
      "18    2000   19                   37.94                    4922.0                     42.15                       575.0\n",
      "19    2000   20                   37.32                    4527.0                     40.88                       693.0\n",
      "20    2000   21                   35.40                    5188.0                     43.17                       769.0\n",
      "21    2000   22                   34.63                    4500.0                     42.67                       383.0\n",
      "22    2000   23                   34.00                    5062.0                     41.36                       500.0\n",
      "23    2000   24                   34.39                    4601.0                     43.10                       838.0\n",
      "24    2000   25                   35.33                    5185.0                     41.53                       824.0\n",
      "25    2000   26                   36.00                    5075.0                     40.32                       482.0\n",
      "26    2000   27                   35.23                    4775.0                     40.86                       603.0\n",
      "27    2000   28                   35.33                    3930.0                     40.58                       767.0\n",
      "28    2000   29                   35.31                    3825.0                     39.66                       622.0\n",
      "29    2000   30                   35.86                    3584.0                     40.96                       556.0\n",
      "30    2000   31                   36.09                    4667.0                     40.30                       385.0\n",
      "31    2000   32                   35.44                    4776.0                     41.76                       512.0\n",
      "32    2000   33                   34.07                    4649.0                     42.94                       549.0\n",
      "33    2000   34                   33.46                    5381.0                     41.32                       620.0\n",
      "34    2000   35                   32.03                    5973.0                     40.15                       687.0\n",
      "35    2000   36                   30.65                    5469.0                     38.86                       591.0\n",
      "36    2000   37                   29.51                    5597.0                     38.48                       969.0\n",
      "37    2000   38                   29.33                    5854.0                     36.88                       803.0\n",
      "38    2000   39                   29.18                    6081.0                     39.17                       849.0\n",
      "39    2000   40                   28.44                    5978.0                     36.53                       923.0\n",
      "40    2000   41                   27.76                    5637.0                     36.01                       839.0\n",
      "41    2000   42                   27.01                    5829.0                     34.92                      1013.0\n",
      "42    2000   43                   27.13                    6040.0                     36.47                       827.0\n",
      "43    2000   44                   27.22                    5937.0                     34.63                       689.0\n",
      "44    2000   45                   27.20                    6442.0                     34.20                       772.0\n",
      "45    2000   46                   26.88                    6690.0                     33.19                       849.0\n",
      "46    2000   47                   26.65                    6565.0                     32.42                       944.0\n",
      "47    2000   48                   26.43                    6017.0                     32.07                       945.0\n",
      "48    2000   49                   26.71                    8205.0                     31.91                      1063.0\n",
      "49    2000   50                   27.60                    5263.0                     31.14                       428.0\n",
      "50    2000   51                   27.93                    7839.0                     32.48                      1004.0\n",
      "51    2000   52                   28.35                    3266.0                     30.94                       285.0\n",
      "52    2001    1                   28.04                    4089.0                     33.09                       451.0\n",
      "53    2001    2                   27.32                    4959.0                     29.72                       690.0\n",
      "54    2001    3                   26.58                    4610.0                     29.11                       823.0\n",
      "55    2001    4                   26.16                    4470.0                     31.11                       632.0\n",
      "56    2001    5                   26.27                    4523.0                     28.24                       810.0\n",
      "57    2001    6                   26.73                    4462.0                     29.24                       655.0\n",
      "58    2001    7                   26.85                    4533.0                     29.01                       821.0\n",
      "59    2001    8                   27.15                    3807.0                     28.02                       730.0\n",
      "60    2001    9                   27.44                    4772.0                     29.02                       946.0\n",
      "61    2001   10                   28.00                    4936.0                     30.15                       630.0\n",
      "62    2001   11                   28.09                    5334.0                     28.30                       661.0\n",
      "63    2001   12                   28.08                    5328.0                     29.62                       788.0\n",
      "64    2001   13                   27.21                    5283.0                     30.77                       702.0\n",
      "65    2001   14                   26.98                    6047.0                     31.66                       487.0\n",
      "66    2001   15                   27.77                    3776.0                     29.06                       756.0\n",
      "67    2001   16                   27.79                    4253.0                     28.61                       660.0\n",
      "68    2001   17                   27.77                    5246.0                     28.00                       514.0\n",
      "69    2001   18                   27.46                    4547.0                     32.76                       336.0\n",
      "70    2001   19                   27.36                    5184.0                     30.62                       421.0\n",
      "71    2001   20                   27.28                    4913.0                     30.02                       546.0\n",
      "72    2001   21                   27.13                    5052.0                     29.24                       373.0\n",
      "73    2001   22                   27.12                    5554.0                     29.54                       605.0\n",
      "74    2001   23                   27.07                    4129.0                     28.44                       457.0\n",
      "75    2001   24                   26.75                    5454.0                     27.89                       550.0\n",
      "76    2001   25                   27.03                    4891.0                     29.48                       570.0\n",
      "77    2001   26                   26.97                    5077.0                     29.11                       723.0\n",
      "78    2001   27                   26.69                    4247.0                     29.21                       609.0\n",
      "79    2001   28                   26.19                    4272.0                     30.06                       576.0\n",
      "80    2001   29                   26.31                    4015.0                     29.38                       448.0\n",
      "81    2001   30                   26.20                    4075.0                     28.84                       380.0\n",
      "82    2001   31                   26.32                    4372.0                     28.06                       481.0\n",
      "83    2001   32                   26.71                    3994.0                     27.37                       395.0\n",
      "84    2001   33                   26.05                    4821.0                     27.80                       560.0\n",
      "85    2001   34                   26.02                    4843.0                     28.37                       724.0\n",
      "86    2001   35                   25.91                    5175.0                     26.84                       752.0\n",
      "87    2001   36                   25.92                    4746.0                     26.16                       725.0\n",
      "88    2001   37                   25.66                    4833.0                     25.85                       869.0\n",
      "89    2001   38                   25.15                    4999.0                     25.60                       871.0\n",
      "90    2001   39                   25.08                    5478.0                     24.77                       548.0\n",
      "91    2001   40                   24.55                    5121.0                     24.58                       558.0\n",
      "92    2001   41                   24.66                    4492.0                     23.75                       719.0\n",
      "93    2001   42                   24.43                    4935.0                     24.03                       661.0\n",
      "94    2001   43                   23.98                    5169.0                     21.97                       692.0\n",
      "95    2001   44                   23.28                    5369.0                     22.02                       765.0\n",
      "96    2001   45                   23.50                    5196.0                     21.85                       782.0\n",
      "97    2001   46                   23.09                    5808.0                     21.05                      1043.0\n",
      "98    2001   47                   23.22                    5488.0                     19.62                      1348.0\n",
      "99    2001   48                   22.95                    6132.0                     19.68                      1060.0\n",
      "100   2001   49                   22.71                    6720.0                     19.11                      1217.0\n",
      "101   2001   50                   22.80                    9219.0                     18.80                      1093.0\n",
      "102   2001   51                   22.86                    7911.0                     18.47                      1543.0\n",
      "103   2001   52                   22.75                    2793.0                     18.80                       323.0\n",
      "104   2002    1                   23.21                    3353.0                     18.28                       385.0\n",
      "105   2002    2                   22.51                    4595.0                     19.26                       619.0\n",
      "106   2002    3                   22.28                    3872.0                     18.88                       678.0\n",
      "107   2002    4                   22.96                    3346.0                     18.29                       699.0\n",
      "108   2002    5                   22.65                    1263.0                     18.27                       156.0\n",
      "109   2002    6                   22.28                    4730.0                     18.81                       826.0\n",
      "110   2002    7                   22.39                    4081.0                     18.99                       716.0\n",
      "111   2002    8                   22.65                    4013.0                     18.99                       727.0\n",
      "112   2002    9                   22.73                    5140.0                     19.24                       878.0\n",
      "113   2002   10                   23.05                    5121.0                     19.32                       646.0\n",
      "114   2002   11                   23.57                    5765.0                     19.98                      1021.0\n",
      "115   2002   12                   23.94                    6336.0                     19.68                       826.0\n",
      "116   2002   13                   23.79                    3748.0                     21.24                       523.0\n",
      "117   2002   14                   24.04                    4828.0                     20.81                       596.0\n",
      "118   2002   15                   23.87                    5104.0                     21.52                       656.0\n",
      "119   2002   16                   24.03                    4897.0                     21.21                       635.0\n",
      "120   2002   17                   23.96                    4493.0                     22.27                       542.0\n",
      "121   2002   18                   23.97                    4860.0                     22.12                       511.0\n",
      "122   2002   19                   24.00                    5118.0                     21.98                       400.0\n",
      "123   2002   20                   24.70                    5929.0                     22.03                       564.0\n",
      "124   2002   21                   25.21                    5521.0                     23.21                       759.0\n",
      "125   2002   22                   24.75                    5663.0                     23.33                       858.0\n",
      "126   2002   23                   24.24                    5932.0                     23.81                       806.0\n",
      "127   2002   24                   23.63                    5993.0                     24.11                       962.0\n",
      "128   2002   25                   23.44                    5172.0                     25.19                       851.0\n",
      "129   2002   26                   23.18                    5254.0                     25.48                       782.0\n",
      "130   2002   27                   22.82                    5145.0                     23.52                       946.0\n",
      "131   2002   28                   22.70                    4476.0                     23.10                       793.0\n",
      "132   2002   29                   22.80                    5131.0                     24.00                       460.0\n",
      "133   2002   30                   22.93                    4766.0                     23.80                       620.0\n",
      "134   2002   31                   23.25                    4785.0                     22.59                       645.0\n",
      "135   2002   32                   24.10                    5210.0                     24.25                       520.0\n",
      "136   2002   33                   24.05                    5169.0                     25.12                       589.0\n",
      "137   2002   34                   24.22                    4924.0                     25.38                       514.0\n",
      "138   2002   35                   23.48                    4973.0                     24.30                       787.0\n",
      "139   2002   36                   23.37                    5067.0                     25.16                       661.0\n",
      "140   2002   37                   23.71                    5352.0                     25.53                       756.0\n",
      "141   2002   38                   23.55                    5064.0                     24.98                       776.0\n",
      "142   2002   39                   23.85                    4894.0                     25.41                       720.0\n",
      "143   2002   40                   23.74                    5412.0                     24.46                       710.0\n",
      "144   2002   41                   23.68                    5261.0                     25.12                      1070.0\n",
      "145   2002   42                   23.22                    5059.0                     26.03                       597.0\n",
      "146   2002   43                   22.93                    6252.0                     24.56                       694.0\n",
      "147   2002   44                   23.09                    5502.0                     26.37                       681.0\n",
      "148   2002   45                   22.78                    6145.0                     26.25                       639.0\n",
      "149   2002   46                   22.62                    5757.0                     26.66                       714.0\n",
      "150   2002   47                   22.47                    5700.0                     25.05                      1004.0\n",
      "151   2002   48                   21.94                    6830.0                     24.40                      1198.0\n",
      "152   2002   49                   22.45                    8613.0                     25.11                      1311.0\n",
      "153   2002   50                   23.00                    9967.0                     26.21                      1193.0\n",
      "154   2002   51                   23.39                    8424.0                     25.17                      1372.0\n",
      "155   2002   52                   23.50                    2628.0                     28.47                       141.0\n",
      "156   2003    1                   22.93                    2825.0                     25.41                        65.0\n",
      "157   2003    2                   23.19                    5503.0                     26.37                       518.0\n",
      "158   2003    3                   22.78                    5051.0                     26.02                       592.0\n",
      "159   2003    4                   22.51                    4812.0                     25.10                       763.0\n",
      "160   2003    5                   22.68                    4752.0                     24.57                       741.0\n",
      "161   2003    6                   22.62                    4607.0                     24.08                       981.0\n",
      "162   2003    7                   22.97                    4702.0                     25.21                       605.0\n",
      "163   2003    8                   22.99                    4772.0                     24.17                       932.0\n",
      "164   2003    9                   22.52                    4265.0                     24.23                       484.0\n",
      "165   2003   10                   23.14                    5586.0                     26.17                      1025.0\n",
      "166   2003   11                   22.91                    5101.0                     23.78                       710.0\n",
      "167   2003   12                   23.05                    5066.0                     24.34                       827.0\n",
      "168   2003   13                   23.44                    6378.0                     25.47                       974.0\n",
      "169   2003   14                   23.50                    6481.0                     25.33                       809.0\n",
      "170   2003   15                   22.84                    6695.0                     24.58                       714.0\n",
      "171   2003   16                   22.69                    4648.0                     25.80                       524.0\n",
      "172   2003   17                   22.95                    5944.0                     23.97                       591.0\n",
      "173   2003   18                   22.67                    5162.0                     23.96                       554.0\n",
      "174   2003   19                   22.43                    5986.0                     23.54                       638.0\n",
      "175   2003   20                   22.40                    6581.0                     24.50                       701.0\n",
      "176   2003   21                   22.20                    6510.0                     23.22                      1044.0\n",
      "177   2003   22                   21.35                    5799.0                     24.36                       748.0\n",
      "178   2003   23                   19.27                    6385.0                     23.74                       639.0\n",
      "179   2003   24                   19.43                    6434.0                     23.92                       601.0\n",
      "180   2003   25                   18.76                    5769.0                     22.13                       830.0\n",
      "181   2003   26                   18.60                    6179.0                     22.48                      1046.0\n",
      "182   2003   27                   17.67                    5768.0                     22.23                      1129.0\n",
      "183   2003   28                   17.46                    6185.0                     20.01                      1122.0\n",
      "184   2003   29                   18.26                    5054.0                     21.43                       989.0\n",
      "185   2003   30                   18.07                    5548.0                     21.05                       785.0\n",
      "186   2003   31                   18.09                    5987.0                     20.81                       737.0\n",
      "187   2003   32                   18.05                    5434.0                     21.32                       523.0\n",
      "188   2003   33                   18.48                    6220.0                     21.88                       794.0\n",
      "189   2003   34                   18.81                    5399.0                     21.25                       854.0\n",
      "190   2003   35                   19.65                    6289.0                     21.58                      1080.0\n",
      "191   2003   36                   20.41                    6565.0                     23.30                      1271.0\n",
      "192   2003   37                   20.86                    5636.0                     22.90                      1061.0\n",
      "193   2003   38                   21.17                    5621.0                     22.13                      1179.0\n",
      "194   2003   39                   21.78                    7397.0                     23.30                      1255.0\n",
      "195   2003   40                   22.21                    6337.0                     24.02                       876.0\n",
      "196   2003   41                   22.67                    6062.0                     22.27                       623.0\n",
      "197   2003   42                   22.60                    6976.0                     23.83                       924.0\n",
      "198   2003   43                   22.58                    7962.0                     24.96                      1062.0\n",
      "199   2003   44                   21.72                    6153.0                     25.33                      1080.0\n",
      "200   2003   45                   21.03                    7396.0                     24.05                      1152.0\n",
      "201   2003   46                   20.47                    7044.0                     24.52                      1208.0\n",
      "202   2003   47                   20.66                    6429.0                     23.48                      1178.0\n",
      "203   2003   48                   21.22                    7852.0                     23.71                      1238.0\n",
      "204   2003   49                   21.24                    7786.0                     23.08                      1431.0\n",
      "205   2003   50                   21.24                   11559.0                     24.03                      1213.0\n",
      "206   2003   51                   20.61                    9398.0                     22.90                      1199.0\n",
      "207   2003   52                   20.90                    3691.0                     23.99                       410.0\n",
      "208   2004    1                   22.06                    1306.0                     21.78                        69.0\n",
      "209   2004    2                   22.09                    7777.0                     22.93                       630.0\n",
      "210   2004    3                   22.25                    5115.0                     23.77                       863.0\n",
      "211   2004    4                   21.93                    5387.0                     23.30                      1015.0\n",
      "212   2004    5                   21.86                    5300.0                     23.57                      1100.0\n",
      "213   2004    6                   22.71                    5171.0                     23.09                      1095.0\n",
      "214   2004    7                   23.30                    5118.0                     24.10                       680.0\n",
      "215   2004    8                   23.26                    5066.0                     23.78                       758.0\n",
      "216   2004    9                   23.05                    5297.0                     23.83                       840.0\n",
      "217   2004   10                   23.20                    5813.0                     24.73                       906.0\n",
      "218   2004   11                   23.77                    6063.0                     25.33                       838.0\n",
      "219   2004   12                   24.35                    6036.0                     24.96                       863.0\n",
      "220   2004   13                   24.73                    5638.0                     25.79                       682.0\n",
      "221   2004   14                   24.88                    7622.0                     25.55                       859.0\n",
      "222   2004   15                   25.10                    4720.0                     26.06                       528.0\n",
      "223   2004   16                   24.99                    4778.0                     26.48                       428.0\n",
      "224   2004   17                   25.08                    5059.0                     25.77                       559.0\n",
      "225   2004   18                   24.82                    5947.0                     28.94                       751.0\n",
      "226   2004   19                   24.37                    5742.0                     28.09                       512.0\n",
      "227   2004   20                   23.81                    6703.0                     27.16                       975.0\n",
      "228   2004   21                   23.71                    4984.0                     26.97                       750.0\n",
      "229   2004   22                   23.22                    6487.0                     26.10                       950.0\n",
      "230   2004   23                   22.91                    6196.0                     24.62                       785.0\n",
      "231   2004   24                   22.06                    6745.0                     25.09                      1041.0\n",
      "232   2004   25                   21.61                    7319.0                     24.69                      1032.0\n",
      "233   2004   26                   21.61                    6614.0                     25.07                      1118.0\n",
      "234   2004   27                   21.25                    6634.0                     24.50                      1273.0\n",
      "235   2004   28                   21.06                    6138.0                     24.18                      1162.0\n",
      "236   2004   29                   21.25                    6436.0                     23.61                      1159.0\n",
      "237   2004   30                   21.73                    5754.0                     24.64                       748.0\n",
      "238   2004   31                   22.46                    5600.0                     24.41                       750.0\n",
      "239   2004   32                   23.43                    6542.0                     24.44                       753.0\n",
      "240   2004   33                   23.45                    5601.0                     26.50                       553.0\n",
      "241   2004   34                   22.83                    6597.0                     24.86                       811.0\n",
      "242   2004   35                   22.39                    6129.0                     24.19                       958.0\n",
      "243   2004   36                   22.08                    6314.0                     24.63                      1020.0\n",
      "244   2004   37                   22.29                    6870.0                     25.67                      1013.0\n",
      "245   2004   38                   22.51                    7175.0                     24.18                      1224.0\n",
      "246   2004   39                   22.47                    7092.0                     24.45                      1107.0\n",
      "247   2004   40                   22.04                    7116.0                     24.64                      1171.0\n",
      "248   2004   41                   21.46                    7158.0                     24.49                      1270.0\n",
      "249   2004   42                   21.37                    6820.0                     24.25                      1096.0\n",
      "250   2004   43                   20.86                    7190.0                     23.81                      1073.0\n",
      "251   2004   44                   20.46                    6761.0                     23.49                       895.0\n",
      "252   2004   45                   20.11                    7756.0                     22.67                      1341.0\n",
      "253   2004   46                   19.94                    7391.0                     21.91                      1263.0\n",
      "254   2004   47                   20.44                    7661.0                     22.78                      1177.0\n",
      "255   2004   48                   20.47                    8017.0                     22.39                      1009.0\n",
      "256   2004   49                   21.06                    8986.0                     22.41                      1112.0\n",
      "257   2004   50                   21.79                   10506.0                     23.03                      1423.0\n",
      "258   2004   51                   22.88                   12242.0                     23.10                      1027.0\n",
      "259   2004   52                   23.67                    8315.0                     23.27                       847.0\n",
      "260   2004   53                   23.57                    3814.0                     23.22                       556.0\n",
      "261   2005    1                   23.29                    6661.0                     23.56                       349.0\n",
      "262   2005    2                   22.67                    5900.0                     23.48                       476.0\n",
      "263   2005    3                   22.87                    6172.0                     23.66                       756.0\n",
      "264   2005    4                   23.75                    6245.0                     24.43                      1050.0\n",
      "265   2005    5                   24.50                    6368.0                     24.67                       934.0\n",
      "266   2005    6                   24.99                    5667.0                     25.49                       887.0\n",
      "267   2005    7                   24.98                    6128.0                     24.14                      1021.0\n",
      "268   2005    8                   25.05                    6789.0                     24.72                       650.0\n",
      "269   2005    9                   24.86                    7157.0                     25.46                       936.0\n",
      "270   2005   10                   24.44                    7280.0                     23.88                       752.0\n",
      "271   2005   11                   24.33                    8013.0                     24.28                      1074.0\n",
      "272   2005   12                   25.13                    5269.0                     23.53                       757.0\n",
      "273   2005   13                   25.22                    6429.0                     25.11                       784.0\n",
      "274   2005   14                   25.56                    7458.0                     25.03                       852.0\n",
      "275   2005   15                   25.27                    7508.0                     25.44                       826.0\n",
      "276   2005   16                   24.90                    7282.0                     25.03                       509.0\n",
      "277   2005   17                   24.90                    6057.0                     25.94                       748.0\n",
      "278   2005   18                   24.59                    5955.0                     24.02                       548.0\n",
      "279   2005   19                   25.27                    7039.0                     24.30                       493.0\n",
      "280   2005   20                   26.40                    5925.0                     25.42                      1052.0\n",
      "281   2005   21                   25.98                    7011.0                     25.43                       718.0\n",
      "282   2005   22                   25.36                    6599.0                     25.25                       585.0\n",
      "283   2005   23                   27.82                    6661.0                     25.67                       446.0\n",
      "284   2005   24                   28.17                    7316.0                     25.54                       333.0\n",
      "285   2005   25                   27.67                    7104.0                     25.86                       538.0\n",
      "286   2005   26                   26.57                    6666.0                     27.07                       550.0\n",
      "287   2005   27                   28.15                    6938.0                     26.49                       740.0\n",
      "288   2005   28                   29.28                    6560.0                     27.11                       661.0\n",
      "289   2005   29                   29.62                    6492.0                     26.81                       615.0\n",
      "290   2005   30                   29.58                    6252.0                     28.47                       443.0\n",
      "291   2005   31                   27.97                    5744.0                     27.99                       270.0\n",
      "292   2005   32                   27.86                    5938.0                     28.35                       376.0\n",
      "293   2005   33                   28.00                    7257.0                     28.88                       438.0\n",
      "294   2005   34                   27.91                    7349.0                     29.60                       522.0\n",
      "295   2005   35                   28.36                    8007.0                     30.63                       590.0\n",
      "296   2005   36                   27.67                    7334.0                     31.70                       504.0\n",
      "297   2005   37                   26.60                    8891.0                     29.18                       778.0\n",
      "298   2005   38                   25.67                    8266.0                     30.61                       928.0\n",
      "299   2005   39                   25.53                    8167.0                     30.28                       986.0\n",
      "300   2005   40                   25.67                    8201.0                     29.28                       973.0\n",
      "301   2005   41                   26.24                    9160.0                     29.85                      1025.0\n",
      "302   2005   42                   26.43                    8163.0                     29.83                      1013.0\n",
      "303   2005   43                   26.54                    8520.0                     30.99                       766.0\n",
      "304   2005   44                   26.54                    9099.0                     29.69                      1293.0\n",
      "305   2005   45                   26.10                    8708.0                     29.51                       993.0\n",
      "306   2005   46                   25.51                    8910.0                     29.40                      1497.0\n",
      "307   2005   47                   25.89                    9499.0                     30.71                       974.0\n",
      "308   2005   48                   27.07                   10348.0                     30.02                      1701.0\n",
      "309   2005   49                   28.70                   12019.0                     30.89                      1439.0\n",
      "310   2005   50                   28.08                   12564.0                     30.07                      1353.0\n",
      "311   2005   51                   27.30                   10057.0                     30.71                       851.0\n",
      "312   2005   52                   26.79                    5834.0                     29.38                       555.0\n",
      "313   2006    1                   25.96                    5955.0                     32.62                       236.0\n",
      "314   2006    2                   25.70                    5698.0                     29.41                       739.0\n",
      "315   2006    3                   26.54                    6728.0                     29.48                      1734.0\n",
      "316   2006    4                   28.54                    6778.0                     30.51                      1027.0\n",
      "317   2006    5                   27.21                    6739.0                     29.38                      1179.0\n",
      "318   2006    6                   26.68                    6872.0                     29.34                      1108.0\n",
      "319   2006    7                   26.53                    6857.0                     29.63                      1261.0\n",
      "320   2006    8                   27.55                    7017.0                     30.17                       929.0\n",
      "321   2006    9                   28.66                    8359.0                     30.28                      1202.0\n",
      "322   2006   10                   29.78                    7991.0                     30.83                      1093.0\n",
      "323   2006   11                   30.48                    7623.0                     31.37                       891.0\n",
      "324   2006   12                   31.18                    7507.0                     31.16                       970.0\n",
      "325   2006   13                   32.81                    7690.0                     32.42                       677.0\n",
      "326   2006   14                   34.82                    8464.0                     33.12                       547.0\n",
      "327   2006   15                   34.68                    6145.0                     33.11                       465.0\n",
      "328   2006   16                   34.58                    6523.0                     33.67                       421.0\n",
      "329   2006   17                   34.97                    8521.0                     36.12                       513.0\n",
      "330   2006   18                   36.48                    6516.0                     36.35                       512.0\n",
      "331   2006   19                   36.28                    7247.0                     36.18                       452.0\n",
      "332   2006   20                   37.00                    6114.0                     39.09                       340.0\n",
      "333   2006   21                   40.03                    6596.0                     38.16                       780.0\n",
      "334   2006   22                   40.76                    7602.0                     39.77                       756.0\n",
      "335   2006   23                   40.50                    6451.0                     40.38                       514.0\n",
      "336   2006   24                   41.07                    7247.0                     41.54                       591.0\n",
      "337   2006   25                   43.05                    7246.0                     43.30                       729.0\n",
      "338   2006   26                   42.51                    6665.0                     45.92                       514.0\n",
      "339   2006   27                   38.57                    6345.0                     46.47                       568.0\n",
      "340   2006   28                   37.91                    5684.0                     43.15                       370.0\n",
      "341   2006   29                   39.00                    5464.0                     43.15                       732.0\n",
      "342   2006   30                   38.13                    6132.0                     43.67                       462.0\n",
      "343   2006   31                   37.85                    6567.0                     44.75                       562.0\n",
      "344   2006   32                   37.24                    5688.0                     43.97                       453.0\n",
      "345   2006   33                   36.80                    6247.0                     42.42                       606.0\n",
      "346   2006   34                   36.12                    7043.0                     43.55                       618.0\n",
      "347   2006   35                   33.29                    7080.0                     42.12                       561.0\n",
      "348   2006   36                   31.17                    7400.0                     41.19                       543.0\n",
      "349   2006   37                   31.20                    8038.0                     36.58                       956.0\n",
      "350   2006   38                   30.67                    8112.0                     38.26                      1539.0\n",
      "351   2006   39                   29.19                    8308.0                     37.04                      1108.0\n",
      "352   2006   40                   28.06                    8670.0                     34.83                      1015.0\n",
      "353   2006   41                   28.65                    8965.0                     34.32                      1064.0\n",
      "354   2006   42                   29.24                    9567.0                     35.22                       816.0\n",
      "355   2006   43                   28.59                    9668.0                     35.20                      1097.0\n",
      "356   2006   44                   27.57                    9795.0                     34.06                      1296.0\n",
      "357   2006   45                   27.02                    9748.0                     33.03                       850.0\n",
      "358   2006   46                   26.85                   10635.0                     32.32                      1225.0\n",
      "359   2006   47                   28.19                   10873.0                     30.53                      1544.0\n",
      "360   2006   48                   28.73                   11548.0                     30.27                      1117.0\n",
      "361   2006   49                   28.04                   12571.0                     31.56                      1314.0\n",
      "362   2006   50                   27.55                   13003.0                     29.96                       811.0\n",
      "363   2006   51                   27.11                   10766.0                     30.93                      1039.0\n",
      "364   2006   52                   28.26                    4463.0                     29.77                       592.0\n",
      "365   2007    1                   28.37                    6809.0                     30.43                       141.0\n",
      "366   2007    2                   28.38                    8281.0                     31.14                       615.0\n",
      "367   2007    3                   29.13                    8553.0                     30.44                       921.0\n",
      "368   2007    4                   28.33                    8179.0                     31.39                       671.0\n",
      "369   2007    5                   27.50                    8257.0                     28.49                      1117.0\n",
      "370   2007    6                   27.19                    7426.0                     31.82                      1440.0\n",
      "371   2007    7                   28.91                    8098.0                     27.89                      1232.0\n",
      "372   2007    8                   30.62                    8584.0                     29.24                       747.0\n",
      "373   2007    9                   28.30                    8942.0                     28.09                       933.0\n",
      "374   2007   10                   28.22                    9049.0                     28.77                       863.0\n",
      "375   2007   11                   29.56                    9449.0                     29.02                      1014.0\n",
      "376   2007   12                   29.17                   10099.0                     27.20                       724.0\n",
      "377   2007   13                   28.78                   10544.0                     29.22                      1061.0\n",
      "378   2007   14                   29.22                    6351.0                     28.53                       775.0\n",
      "379   2007   15                   29.82                    8667.0                     28.24                       472.0\n",
      "380   2007   16                   28.76                    9395.0                     27.47                       760.0\n",
      "381   2007   17                   27.32                    9062.0                     28.97                       526.0\n",
      "382   2007   18                   27.33                    8602.0                     27.79                      1043.0\n",
      "383   2007   19                   26.99                   10500.0                     30.14                       687.0\n",
      "384   2007   20                   26.54                    8723.0                     28.95                       623.0\n",
      "385   2007   21                   26.17                    9919.0                     29.01                       877.0\n",
      "386   2007   22                   26.17                    9120.0                     28.21                       731.0\n",
      "387   2007   23                   25.83                   10068.0                     29.01                       592.0\n",
      "388   2007   24                   25.33                    9937.0                     28.21                       706.0\n",
      "389   2007   25                   25.21                    9998.0                     27.48                       826.0\n",
      "390   2007   26                   24.77                    9379.0                     26.28                       939.0\n",
      "391   2007   27                   24.53                    9432.0                     25.57                       845.0\n",
      "392   2007   28                   24.87                    8751.0                     25.67                       669.0\n",
      "393   2007   29                   25.56                   10250.0                     25.46                       905.0\n",
      "394   2007   30                   25.73                    7690.0                     24.10                       915.0\n",
      "395   2007   31                   26.33                    6857.0                     23.73                      1020.0\n",
      "396   2007   32                   28.11                    8199.0                     25.39                       887.0\n",
      "397   2007   33                   28.95                    8299.0                     24.58                       946.0\n",
      "398   2007   34                   27.52                    9204.0                     27.43                       650.0\n",
      "399   2007   35                   26.96                   11755.0                     27.40                      1247.0\n",
      "400   2007   36                   26.95                    9861.0                     27.09                      1106.0\n",
      "401   2007   37                   26.43                   10193.0                     26.11                      1020.0\n",
      "402   2007   38                   25.36                   10452.0                     27.31                       806.0\n",
      "403   2007   39                   24.49                    9769.0                     26.34                       718.0\n",
      "404   2007   40                   24.77                   10289.0                     25.74                      1031.0\n",
      "405   2007   41                   24.39                   10399.0                     24.32                      1510.0\n",
      "406   2007   42                   23.99                   10181.0                     27.73                       881.0\n",
      "407   2007   43                   23.69                   10419.0                     24.91                      1035.0\n",
      "408   2007   44                   23.90                   10324.0                     25.86                       939.0\n",
      "409   2007   45                   23.70                   11347.0                     24.70                      1270.0\n",
      "410   2007   46                   24.22                   11692.0                     24.92                      1333.0\n",
      "411   2007   47                   24.89                   12571.0                     25.44                      1252.0\n",
      "412   2007   48                   25.14                   13049.0                     25.40                      1559.0\n",
      "413   2007   49                   25.17                   13712.0                     24.85                      1537.0\n",
      "414   2007   50                   25.21                   15381.0                     25.35                      1482.0\n",
      "415   2007   51                   25.98                   13180.0                     25.04                      1020.0\n",
      "416   2007   52                   28.79                    3704.0                     25.80                       410.0\n",
      "417   2008    1                   29.00                    5833.0                     26.63                       242.0\n",
      "418   2008    2                   26.77                    9909.0                     25.92                       347.0\n",
      "419   2008    3                   25.07                    8979.0                     24.70                       560.0\n",
      "420   2008    4                   24.69                    8883.0                     26.31                       435.0\n",
      "421   2008    5                   25.18                    9599.0                     25.58                       753.0\n",
      "422   2008    6                   25.35                    9034.0                     25.57                      1352.0\n",
      "423   2008    7                   26.14                    9617.0                     26.99                      1066.0\n",
      "424   2008    8                   25.92                    9710.0                     26.78                       830.0\n",
      "425   2008    9                   24.94                    9878.0                     26.88                       468.0\n",
      "426   2008   10                   25.71                   10872.0                     26.49                       827.0\n",
      "427   2008   11                   26.96                   12246.0                     26.81                       894.0\n",
      "428   2008   12                   28.03                    7122.0                     27.18                       363.0\n",
      "429   2008   13                   27.21                    8071.0                     25.85                       454.0\n",
      "430   2008   14                   26.41                    9656.0                     25.81                       395.0\n",
      "431   2008   15                   26.13                    9157.0                     26.67                       588.0\n",
      "432   2008   16                   25.60                    9729.0                     27.00                       549.0\n",
      "433   2008   17                   25.47                    8814.0                     26.33                       498.0\n",
      "434   2008   18                   26.87                    8704.0                     27.97                       410.0\n",
      "435   2008   19                   28.61                   10724.0                     26.16                       683.0\n",
      "436   2008   20                   27.35                    9294.0                     26.99                       756.0\n",
      "437   2008   21                   25.96                   10176.0                     27.77                       646.0\n",
      "438   2008   22                   25.23                   10394.0                     27.00                       829.0\n",
      "439   2008   23                   25.33                    9633.0                     27.44                       787.0\n",
      "440   2008   24                   27.28                   10872.0                     28.00                      1032.0\n",
      "441   2008   25                   27.18                   10353.0                     27.02                       745.0\n",
      "442   2008   26                   25.98                    9400.0                     28.48                      1105.0\n",
      "443   2008   27                   26.49                    9692.0                     28.13                      1093.0\n",
      "444   2008   28                   29.05                    9244.0                     28.42                       808.0\n",
      "445   2008   29                   29.81                    8921.0                     28.85                       558.0\n",
      "446   2008   30                   29.41                    7698.0                     31.08                       435.0\n",
      "447   2008   31                   28.59                    8191.0                     30.07                       738.0\n",
      "448   2008   32                   29.85                    8494.0                     28.36                       414.0\n",
      "449   2008   33                   30.21                    8681.0                     30.14                       470.0\n",
      "450   2008   34                   28.10                    9420.0                     31.99                       489.0\n",
      "451   2008   35                   26.45                    8947.0                     31.40                       606.0\n",
      "452   2008   36                   27.99                    9287.0                     29.73                       517.0\n",
      "453   2008   37                   29.94                   10043.0                     31.52                       637.0\n",
      "454   2008   38                   28.10                    9953.0                     32.94                       779.0\n",
      "455   2008   39                   26.98                   10136.0                     31.26                       694.0\n",
      "456   2008   40                   26.32                   10235.0                     30.33                       909.0\n",
      "457   2008   41                   26.79                   10027.0                     29.90                      1084.0\n",
      "458   2008   42                   27.15                   10137.0                     31.95                       696.0\n",
      "459   2008   43                   26.61                   11187.0                     31.02                       968.0\n",
      "460   2008   44                   27.46                   10383.0                     32.93                       840.0\n",
      "461   2008   45                   26.06                   11321.0                     31.80                       910.0\n",
      "462   2008   46                   25.24                   12023.0                     30.51                       845.0\n",
      "463   2008   47                   26.05                   11824.0                     29.94                      1190.0\n",
      "464   2008   48                   28.01                   13752.0                     30.87                      1379.0\n",
      "465   2008   49                   27.37                   13907.0                     29.60                      1369.0\n",
      "466   2008   50                   26.08                   14658.0                     30.93                      1392.0\n",
      "467   2008   51                   26.83                   14634.0                     30.29                       787.0\n",
      "468   2008   52                   29.95                    5353.0                     29.85                       267.0\n",
      "469   2009    1                   31.42                    5603.0                     31.26                       129.0\n",
      "470   2009    2                   29.64                   11607.0                     30.54                       388.0\n",
      "471   2009    3                   27.44                    9512.0                     29.04                       642.0\n",
      "472   2009    4                   27.92                    9537.0                     27.24                       629.0\n",
      "473   2009    5                   28.60                    9775.0                     29.08                       836.0\n",
      "474   2009    6                   28.16                    8558.0                     28.06                       457.0\n",
      "475   2009    7                   27.65                    9227.0                     30.38                       517.0\n",
      "476   2009    8                   27.49                    9146.0                     29.46                       814.0\n",
      "477   2009    9                   29.79                    9673.0                     31.99                       672.0\n",
      "478   2009   10                   29.08                   10225.0                     29.63                       658.0\n",
      "479   2009   11                   30.94                   10794.0                     30.46                       875.0\n",
      "480   2009   12                   31.28                   10646.0                     31.47                       476.0\n",
      "481   2009   13                   30.10                   10545.0                     31.95                       638.0\n",
      "482   2009   14                   30.05                   12375.0                     29.50                       742.0\n",
      "483   2009   15                   33.70                    7742.0                     29.38                       507.0\n",
      "484   2009   16                   32.40                    9269.0                     30.20                       371.0\n",
      "485   2009   17                   31.56                   11134.0                     30.80                       595.0\n",
      "486   2009   18                   32.62                    9588.0                     31.31                       492.0\n",
      "487   2009   19                   33.70                   10890.0                     34.81                       347.0\n",
      "488   2009   20                   34.16                   10061.0                     33.39                       427.0\n",
      "489   2009   21                   37.34                   10244.0                     33.08                       332.0\n",
      "490   2009   22                   35.55                   11275.0                     35.87                       506.0\n",
      "491   2009   23                   33.15                    9428.0                     35.91                       446.0\n",
      "492   2009   24                   35.03                   10301.0                     35.36                       604.0\n",
      "493   2009   25                   36.76                   11039.0                     35.24                       458.0\n",
      "494   2009   26                   35.73                   10779.0                     34.49                       427.0\n",
      "495   2009   27                   36.10                   10580.0                     37.24                       499.0\n",
      "496   2009   28                   36.65                    9215.0                     36.49                       431.0\n",
      "497   2009   29                   38.36                    9538.0                     37.06                       396.0\n",
      "498   2009   30                   37.97                    9717.0                     35.97                       452.0\n",
      "499   2009   31                   34.21                    9966.0                     37.76                       395.0\n",
      "500   2009   32                   31.32                   10678.0                     35.70                       474.0\n",
      "501   2009   33                   30.44                   10821.0                     34.12                       663.0\n",
      "502   2009   34                   30.32                   10898.0                     35.33                       787.0\n",
      "503   2009   35                   29.10                   11458.0                     35.12                       986.0\n",
      "504   2009   36                   29.83                   11090.0                     33.81                      1038.0\n",
      "505   2009   37                   30.91                   12080.0                     34.14                      1025.0\n",
      "506   2009   38                   29.76                   10904.0                     35.14                       655.0\n",
      "507   2009   39                   28.31                   12990.0                     33.44                      1028.0\n",
      "508   2009   40                   28.47                   12325.0                     34.66                      1024.0\n",
      "509   2009   41                   27.90                   12257.0                     33.75                      1082.0\n",
      "510   2009   42                   26.81                   12246.0                     33.34                      1038.0\n",
      "511   2009   43                   26.07                   12351.0                     32.20                      1078.0\n",
      "512   2009   44                   27.51                   12408.0                     32.08                      1153.0\n",
      "513   2009   45                   27.72                   11732.0                     32.85                      1397.0\n",
      "514   2009   46                   28.52                   12702.0                     33.87                       922.0\n",
      "515   2009   47                   28.20                   14181.0                     31.88                      1403.0\n",
      "516   2009   48                   28.55                   14963.0                     31.35                       988.0\n",
      "517   2009   49                   27.69                   15027.0                     31.60                      1221.0\n",
      "518   2009   50                   28.48                   16657.0                     31.98                      1685.0\n",
      "519   2009   51                   28.95                   17766.0                     32.49                      1002.0\n",
      "520   2009   52                   30.68                    8265.0                     32.63                       425.0\n",
      "521   2009   53                   30.88                    7552.0                     32.82                       388.0\n",
      "522   2010    1                   29.82                   11067.0                     32.54                       456.0\n",
      "523   2010    2                   28.17                   10808.0                     32.08                       674.0\n",
      "524   2010    3                   28.92                   10891.0                     31.70                      1003.0\n",
      "525   2010    4                   29.69                   10967.0                     31.86                      1098.0\n",
      "526   2010    5                   31.84                   10826.0                     33.02                       982.0\n",
      "527   2010    6                   34.23                   10929.0                     33.72                       883.0\n",
      "528   2010    7                   34.88                   10891.0                     35.49                       917.0\n",
      "529   2010    8                   33.76                    9293.0                     35.54                       654.0\n",
      "530   2010    9                   35.37                   10902.0                     35.53                       508.0\n",
      "531   2010   10                   35.87                   11640.0                     35.38                       652.0\n",
      "532   2010   11                   36.65                   11921.0                     36.76                       584.0\n",
      "533   2010   12                   35.12                   13320.0                     37.97                       667.0\n",
      "534   2010   13                   38.46                    7751.0                     37.22                       383.0\n",
      "535   2010   14                   39.26                    9929.0                     37.57                       302.0\n",
      "536   2010   15                   39.60                   11632.0                     37.97                       530.0\n",
      "537   2010   16                   37.92                   11073.0                     39.43                       373.0\n",
      "538   2010   17                   38.62                   10955.0                     39.32                       462.0\n",
      "539   2010   18                   38.87                   11785.0                     38.26                       454.0\n",
      "540   2010   19                   39.51                   10533.0                     38.07                       499.0\n",
      "541   2010   20                   41.78                   10629.0                     40.10                       332.0\n",
      "542   2010   21                   39.65                   11535.0                     41.23                       531.0\n",
      "543   2010   22                   38.03                   12513.0                     45.21                       576.0\n",
      "544   2010   23                   37.16                   11780.0                     43.04                       874.0\n",
      "545   2010   24                   38.74                   12639.0                     43.12                       993.0\n",
      "546   2010   25                   40.05                   12280.0                     43.85                       859.0\n",
      "547   2010   26                   39.09                   12245.0                     42.61                       653.0\n",
      "548   2010   27                   40.07                   11817.0                     44.61                       905.0\n",
      "549   2010   28                   40.73                   11275.0                     43.93                       665.0\n",
      "550   2010   29                   38.50                   10242.0                     43.00                       740.0\n",
      "551   2010   30                   38.49                   10625.0                     41.64                       779.0\n",
      "552   2010   31                   38.85                    9884.0                     40.48                       727.0\n",
      "553   2010   32                   39.85                   10182.0                     40.85                       582.0\n",
      "554   2010   33                   41.31                   11048.0                     40.69                       549.0\n",
      "555   2010   34                   39.58                   12120.0                     41.52                       570.0\n",
      "556   2010   35                   37.62                   12697.0                     43.49                       671.0\n",
      "557   2010   36                   37.07                   13132.0                     42.52                       795.0\n",
      "558   2010   37                   36.76                   12597.0                     40.50                       882.0\n",
      "559   2010   38                   37.86                   13516.0                     40.13                       678.0\n",
      "560   2010   39                   37.20                   13536.0                     41.47                      1076.0\n",
      "561   2010   40                   36.15                   13279.0                     40.22                       891.0\n",
      "562   2010   41                   37.84                   13935.0                     40.26                      1082.0\n",
      "563   2010   42                   37.31                   13539.0                     40.74                       962.0\n",
      "564   2010   43                   36.11                   14335.0                     39.56                      1288.0\n",
      "565   2010   44                   36.06                   13748.0                     41.07                      1294.0\n",
      "566   2010   45                   35.76                   13988.0                     40.70                      1320.0\n",
      "567   2010   46                   36.30                   14497.0                     40.49                      1414.0\n",
      "568   2010   47                   36.05                   15255.0                     40.67                      1317.0\n",
      "569   2010   48                   38.42                   15346.0                     41.16                      1888.0\n",
      "570   2010   49                   43.13                   17626.0                     41.08                       983.0\n",
      "571   2010   50                   43.46                   17716.0                     41.47                       680.0\n",
      "572   2010   51                   43.24                   10713.0                     40.22                       537.0\n",
      "573   2010   52                   40.37                    7752.0                     41.14                       483.0\n",
      "574   2011    1                   38.43                    9309.0                     39.64                       518.0\n",
      "575   2011    2                   39.96                   11133.0                     41.85                       789.0\n",
      "576   2011    3                   40.44                   11853.0                     42.38                      1014.0\n",
      "577   2011    4                   38.82                   11570.0                     42.30                       913.0\n",
      "578   2011    5                   39.98                   10320.0                     43.00                      1050.0\n",
      "579   2011    6                   39.71                   10817.0                     43.16                       780.0\n",
      "580   2011    7                   40.81                   10982.0                     43.51                       870.0\n",
      "581   2011    8                   41.61                   10585.0                     44.25                       512.0\n",
      "582   2011    9                   40.89                   10941.0                     44.47                       805.0\n",
      "583   2011   10                   40.56                   12801.0                     43.92                       630.0\n",
      "584   2011   11                   40.44                   12165.0                     42.82                       634.0\n",
      "585   2011   12                   40.79                   11899.0                     43.45                       720.0\n",
      "586   2011   13                   40.94                   10941.0                     42.47                       756.0\n",
      "587   2011   14                   42.20                   12729.0                     42.95                       753.0\n",
      "588   2011   15                   43.61                   13763.0                     40.59                       773.0\n",
      "589   2011   16                   43.08                    8130.0                     44.00                       299.0\n",
      "590   2011   17                   42.71                    9888.0                     41.06                       222.0\n",
      "591   2011   18                   42.21                   11889.0                     40.60                       306.0\n",
      "592   2011   19                   40.05                   13036.0                     39.77                       320.0\n",
      "593   2011   20                   38.75                   10413.0                     41.97                       334.0\n",
      "594   2011   21                   36.67                   12609.0                     41.50                       843.0\n",
      "595   2011   22                   36.08                   10992.0                     41.99                       790.0\n",
      "596   2011   23                   34.11                   13201.0                     39.65                       914.0\n",
      "597   2011   24                   33.37                   11833.0                     39.81                       925.0\n",
      "598   2011   25                   31.61                   13159.0                     39.45                       889.0\n",
      "599   2011   26                   28.54                   12880.0                     38.24                       941.0\n",
      "600   2011   27                   31.20                   12160.0                     37.24                      1048.0\n",
      "601   2011   28                   33.21                   13277.0                     35.12                      1109.0\n",
      "602   2011   29                   30.11                   12758.0                     35.10                      1033.0\n",
      "603   2011   30                   30.62                   10897.0                     35.27                       760.0\n",
      "604   2011   31                   29.35                   11197.0                     34.46                       516.0\n",
      "605   2011   32                   29.59                   12169.0                     34.81                       859.0\n",
      "606   2011   33                   28.91                   12639.0                     34.74                       532.0\n",
      "607   2011   34                   26.55                   13788.0                     33.82                       722.0\n",
      "608   2011   35                   27.27                   13819.0                     33.49                       831.0\n",
      "609   2011   36                   27.47                   14804.0                     31.36                       493.0\n",
      "610   2011   37                   25.97                   14613.0                     32.68                       993.0\n",
      "611   2011   38                   26.59                   14992.0                     32.47                       993.0\n",
      "612   2011   39                   25.23                   16079.0                     31.21                       978.0\n",
      "613   2011   40                   24.55                   16648.0                     32.66                      1101.0\n",
      "614   2011   41                   24.20                   16376.0                     29.74                      1425.0\n",
      "615   2011   42                   23.01                   16207.0                     29.27                       966.0\n",
      "616   2011   43                   21.63                   15906.0                     27.80                      1062.0\n",
      "617   2011   44                   24.18                   15301.0                     27.15                      1440.0\n",
      "618   2011   45                   25.23                   16194.0                     27.53                      1051.0\n",
      "619   2011   46                   24.16                   17327.0                     28.20                      1234.0\n",
      "620   2011   47                   26.15                   18890.0                     27.89                      1221.0\n",
      "621   2011   48                   26.06                   18710.0                     28.41                      1105.0\n",
      "622   2011   49                   25.90                   19953.0                     29.33                       956.0\n",
      "623   2011   50                   28.49                   22369.0                     28.59                      1240.0\n",
      "624   2011   51                   26.90                   16499.0                     29.36                       535.0\n",
      "625   2011   52                   26.40                    9721.0                     30.69                       405.0\n",
      "626   2012    1                   25.65                   11785.0                     30.21                       483.0\n",
      "627   2012    2                   24.95                   12528.0                     28.34                       755.0\n",
      "628   2012    3                   26.71                   13994.0                     28.42                      1331.0\n",
      "629   2012    4                   25.26                   12990.0                     27.13                       767.0\n",
      "630   2012    5                   25.31                   13226.0                     28.09                       775.0\n",
      "631   2012    6                   27.51                   12883.0                     27.60                       700.0\n",
      "632   2012    7                   28.49                   13613.0                     27.84                       685.0\n",
      "633   2012    8                   29.84                   14382.0                     28.01                      1062.0\n",
      "634   2012    9                   28.77                   15829.0                     28.97                       631.0\n",
      "635   2012   10                   28.64                   15525.0                     28.70                       731.0\n",
      "636   2012   11                   29.07                   16395.0                     29.60                       775.0\n",
      "637   2012   12                   28.27                   17175.0                     28.23                       597.0\n",
      "638   2012   13                   26.64                   18334.0                     30.21                       814.0\n",
      "639   2012   14                   29.61                    9286.0                     29.12                       507.0\n",
      "640   2012   15                   29.34                   15530.0                     30.62                       570.0\n",
      "641   2012   16                   28.70                   16510.0                     28.20                       433.0\n",
      "642   2012   17                   29.11                   15370.0                     29.46                       415.0\n",
      "643   2012   18                   29.11                   13019.0                     31.42                       400.0\n",
      "644   2012   19                   29.06                   16526.0                     28.90                       665.0\n",
      "645   2012   20                   31.27                   14425.0                     30.12                       542.0\n",
      "646   2012   21                   29.51                   16542.0                     30.92                       642.0\n",
      "647   2012   22                   28.30                   15328.0                     29.23                       455.0\n",
      "648   2012   23                   26.42                   16993.0                     32.10                       722.0\n",
      "649   2012   24                   25.92                   17607.0                     30.39                      1230.0\n",
      "650   2012   25                   27.59                   16734.0                     29.34                      1071.0\n",
      "651   2012   26                   26.90                   15826.0                     31.05                      1023.0\n",
      "652   2012   27                   27.70                   16555.0                     29.64                       659.0\n",
      "653   2012   28                   26.90                   16064.0                     28.36                       578.0\n",
      "654   2012   29                   26.40                   14412.0                     29.72                       612.0\n",
      "655   2012   30                   26.56                   14355.0                     28.87                       796.0\n",
      "656   2012   31                   27.17                   15238.0                     29.47                       904.0\n",
      "657   2012   32                   28.31                   15064.0                     29.14                       746.0\n",
      "658   2012   33                   27.36                   15317.0                     30.38                       455.0\n",
      "659   2012   34                   27.67                   15533.0                     30.55                       840.0\n",
      "660   2012   35                   29.10                   16542.0                     29.08                       756.0\n",
      "661   2012   36                   28.60                   16474.0                     29.98                       787.0\n",
      "662   2012   37                   26.92                   17354.0                     29.40                       645.0\n",
      "663   2012   38                   26.02                   18359.0                     29.83                       902.0\n",
      "664   2012   39                   23.99                   18459.0                     29.30                       864.0\n",
      "665   2012   40                   24.28                   17312.0                     28.41                      1461.0\n",
      "666   2012   41                   26.66                   17499.0                     28.09                       898.0\n",
      "667   2012   42                   26.24                   18298.0                     29.59                       876.0\n",
      "668   2012   43                   25.10                   17301.0                     29.52                       941.0\n",
      "669   2012   44                   27.02                   17795.0                     28.09                       954.0\n",
      "670   2012   45                   26.59                   17867.0                     28.91                       943.0\n",
      "671   2012   46                   27.73                   18453.0                     29.18                       902.0\n",
      "672   2012   47                   26.63                   19372.0                     30.04                      1002.0\n",
      "673   2012   48                   27.15                   19394.0                     28.61                      1058.0\n",
      "674   2012   49                   29.16                   21897.0                     29.62                      1047.0\n",
      "675   2012   50                   30.78                   23674.0                     28.92                       772.0\n",
      "676   2012   51                   29.56                   23219.0                     28.72                       888.0\n",
      "677   2012   52                   33.11                    7356.0                     29.81                       158.0\n",
      "678   2013    1                   33.57                   10364.0                     27.16                       204.0\n",
      "679   2013    2                   33.35                   15684.0                     30.22                       553.0\n",
      "680   2013    3                   34.76                   15135.0                     30.12                       814.0\n",
      "681   2013    4                   36.51                   14010.0                     29.67                       838.0\n",
      "682   2013    5                   35.27                   13732.0                     31.88                       575.0\n",
      "683   2013    6                   34.84                   13631.0                     33.27                       485.0\n",
      "684   2013    7                   36.13                   14332.0                     33.11                       382.0\n",
      "685   2013    8                   37.03                   13163.0                     35.22                       474.0\n",
      "686   2013    9                   38.97                   13550.0                     32.61                       639.0\n",
      "687   2013   10                   38.90                   14576.0                     36.80                       359.0\n",
      "688   2013   11                   37.70                   15892.0                     38.33                       455.0\n",
      "689   2013   12                   36.02                   18376.0                     38.09                       433.0\n",
      "690   2013   13                   37.93                   10986.0                     35.12                       357.0\n",
      "691   2013   14                   39.85                   11291.0                     38.83                       228.0\n",
      "692   2013   15                   42.27                   13550.0                     38.35                       221.0\n",
      "693   2013   16                   43.23                   13438.0                     38.79                       309.0\n",
      "694   2013   17                   42.00                   14289.0                     40.88                       315.0\n",
      "695   2013   18                   42.41                   13265.0                     42.57                       266.0\n",
      "696   2013   19                   42.31                   14217.0                     40.02                       275.0\n",
      "697   2013   20                   43.51                   14132.0                     41.00                       322.0\n",
      "698   2013   21                   43.81                   14456.0                     39.45                       253.0\n",
      "699   2013   22                   40.77                   15171.0                     42.52                       528.0\n",
      "700   2013   23                   40.22                   14847.0                     42.43                       404.0\n",
      "701   2013   24                   39.22                   14940.0                     43.06                       548.0\n",
      "702   2013   25                   41.19                   13330.0                     42.09                       484.0\n",
      "703   2013   26                   43.40                   13309.0                     41.64                       650.0\n",
      "704   2013   27                   45.15                   14217.0                     43.08                       356.0\n",
      "705   2013   28                   44.26                   14102.0                     42.68                       386.0\n",
      "706   2013   29                   45.12                   14098.0                     43.29                       444.0\n",
      "707   2013   30                   43.01                   13509.0                     43.89                       549.0\n",
      "708   2013   31                   40.14                   12572.0                     43.08                       442.0\n",
      "709   2013   32                   39.92                   13734.0                     43.27                       580.0\n",
      "710   2013   33                   43.43                   13675.0                     39.76                       580.0\n",
      "711   2013   34                   42.03                   15530.0                     40.66                       539.0\n",
      "712   2013   35                   38.16                   16403.0                     41.94                       515.0\n",
      "713   2013   36                   37.31                   16791.0                     41.13                       737.0\n",
      "714   2013   37                   33.73                   18020.0                     41.63                      1032.0\n",
      "715   2013   38                   30.04                   18859.0                     40.26                      1136.0\n",
      "716   2013   39                   32.82                   18487.0                     36.94                      1490.0\n",
      "717   2013   40                   35.87                   18727.0                     37.35                      1330.0\n",
      "718   2013   41                   35.68                   18442.0                     39.39                      1274.0\n",
      "719   2013   42                   38.32                   18051.0                     38.78                      1247.0\n",
      "720   2013   43                   38.74                   18068.0                     39.97                      1283.0\n",
      "721   2013   44                   39.70                   18734.0                     40.73                      1258.0\n",
      "722   2013   45                   38.50                   17751.0                     40.35                      1121.0\n",
      "723   2013   46                   36.98                   18020.0                     40.20                      1142.0\n",
      "724   2013   47                   39.94                   17907.0                     42.60                      1368.0\n",
      "725   2013   48                   40.17                   18384.0                     43.70                      1215.0\n",
      "726   2013   49                   45.65                   21121.0                     42.40                       876.0\n",
      "727   2013   50                   48.61                   23617.0                     41.79                       738.0\n",
      "728   2013   51                   48.52                   22644.0                     43.14                       695.0\n",
      "729   2013   52                   50.58                    7100.0                     41.22                       111.0\n",
      "730   2014    1                   50.34                    9341.0                     45.44                       143.0\n",
      "731   2014    2                   48.75                   15118.0                     44.49                       352.0\n",
      "732   2014    3                   49.27                   14505.0                     44.80                       521.0\n",
      "733   2014    4                   49.72                   13699.0                     44.39                       465.0\n",
      "734   2014    5                   46.80                   13784.0                     46.98                       538.0\n",
      "735   2014    6                   45.62                   13053.0                     47.69                       535.0\n",
      "736   2014    7                   49.41                   13190.0                     46.11                       397.0\n",
      "737   2014    8                   48.76                   14324.0                     48.97                       241.0\n",
      "738   2014    9                   46.68                   15963.0                     47.49                       284.0\n",
      "739   2014   10                   44.13                   15949.0                     47.29                       446.0\n",
      "740   2014   11                   44.07                   15975.0                     46.28                       506.0\n",
      "741   2014   12                   43.63                   16449.0                     47.41                       378.0\n",
      "742   2014   13                   43.83                   16159.0                     44.18                       391.0\n",
      "743   2014   14                   44.01                   17313.0                     45.85                       431.0\n",
      "744   2014   15                   44.35                   19722.0                     44.65                       473.0\n",
      "745   2014   16                   47.40                   12057.0                     46.49                       212.0\n",
      "746   2014   17                   46.29                   14614.0                     46.09                       174.0\n",
      "747   2014   18                   44.62                   14590.0                     44.14                       445.0\n",
      "748   2014   19                   42.03                   15636.0                     46.36                       371.0\n",
      "749   2014   20                   40.28                   15695.0                     44.18                       347.0\n",
      "750   2014   21                   39.37                   16593.0                     43.99                       638.0\n",
      "751   2014   22                   38.83                   14444.0                     43.36                       623.0\n",
      "752   2014   23                   37.65                   16919.0                     42.82                       684.0\n",
      "753   2014   24                   37.51                   15355.0                     41.75                       718.0\n",
      "754   2014   25                   36.47                   17308.0                     38.94                       800.0\n",
      "755   2014   26                   33.60                   17145.0                     39.10                       900.0\n",
      "756   2014   27                   37.60                   15108.0                     39.26                       906.0\n",
      "757   2014   28                   41.66                   15256.0                     38.10                       825.0\n",
      "758   2014   29                   42.26                   14452.0                     40.22                       628.0\n",
      "759   2014   30                   42.23                   14297.0                     43.49                       342.0\n",
      "760   2014   31                   37.70                   15439.0                     43.32                       447.0\n",
      "761   2014   32                   37.48                   15634.0                     40.64                       542.0\n",
      "762   2014   33                   35.82                   15710.0                     41.42                       802.0\n",
      "763   2014   34                   34.95                   16726.0                     39.79                       967.0\n",
      "764   2014   35                   34.87                   16287.0                     40.06                       856.0\n",
      "765   2014   36                   35.71                   17045.0                     38.72                      1009.0\n",
      "766   2014   37                   34.43                   17009.0                     40.35                      1199.0\n",
      "767   2014   38                   34.05                   17405.0                     39.66                       790.0\n",
      "768   2014   39                   35.43                   17142.0                     40.04                      1058.0\n",
      "769   2014   40                   35.59                   17134.0                     40.35                      1509.0\n",
      "770   2014   41                   34.40                   17554.0                     41.19                      1054.0\n",
      "771   2014   42                   34.44                   17925.0                     42.52                      1139.0\n",
      "772   2014   43                   36.51                   17091.0                     42.03                       989.0\n",
      "773   2014   44                   37.06                   17873.0                     42.26                       792.0\n",
      "774   2014   45                   37.61                   16848.0                     39.01                       860.0\n",
      "775   2014   46                   39.95                   17877.0                     42.54                       759.0\n",
      "776   2014   47                   41.76                   17687.0                     43.78                       776.0\n",
      "777   2014   48                   43.38                   18451.0                     40.07                      1101.0\n",
      "778   2014   49                   45.29                   20184.0                     43.06                       590.0\n",
      "779   2014   50                   46.84                   21210.0                     44.48                       790.0\n",
      "780   2014   51                   42.36                   18822.0                     44.12                       542.0\n",
      "781   2014   52                   47.20                    8305.0                     39.57                       266.0\n",
      "782   2015    1                   45.57                    9466.0                     51.14                       114.0\n",
      "783   2015    2                   45.77                   15622.0                     46.74                       379.0\n",
      "784   2015    3                   46.28                   15946.0                     46.34                       505.0\n",
      "785   2015    4                   44.31                   16444.0                     49.59                       439.0\n",
      "786   2015    5                   39.78                   14810.0                     45.25                       469.0\n",
      "787   2015    6                   43.43                   14693.0                     45.46                       646.0\n",
      "788   2015    7                   44.78                   14634.0                     46.64                       557.0\n",
      "789   2015    8                   41.76                   15864.0                     47.00                       594.0\n",
      "790   2015    9                   39.10                   16173.0                     45.61                       514.0\n",
      "791   2015   10                   41.14                   15920.0                     45.53                       681.0\n",
      "792   2015   11                   42.47                   17767.0                     44.31                       724.0\n",
      "793   2015   12                   41.79                   19019.0                     45.94                       502.0\n",
      "794   2015   13                   40.32                   20283.0                     46.43                       463.0\n",
      "795   2015   14                   42.30                   12240.0                     39.44                       335.0\n",
      "796   2015   15                   42.24                   15764.0                     43.79                       292.0\n",
      "797   2015   16                   39.35                   17988.0                     43.96                       824.0\n",
      "798   2015   17                   37.62                   16066.0                     43.06                       463.0\n",
      "799   2015   18                   39.25                   16206.0                     43.15                       648.0\n",
      "800   2015   19                   36.99                   17602.0                     42.37                       397.0\n",
      "801   2015   20                   39.96                   15948.0                     39.53                       508.0\n",
      "802   2015   21                   38.65                   18209.0                     41.13                       428.0\n",
      "803   2015   22                   37.92                   16364.0                     40.63                       460.0\n",
      "804   2015   23                   38.77                   16613.0                     40.19                       498.0\n",
      "805   2015   24                   41.51                   17313.0                     40.39                       653.0\n",
      "806   2015   25                   42.69                   16036.0                     38.64                       447.0\n",
      "807   2015   26                   40.94                   16383.0                     41.55                       487.0\n",
      "808   2015   27                   39.76                   15214.0                     43.23                       525.0\n",
      "809   2015   28                   42.26                   15205.0                     41.00                       383.0\n",
      "810   2015   29                   44.81                   14930.0                     43.16                       522.0\n",
      "811   2015   30                   46.23                   15267.0                     41.90                       384.0\n",
      "812   2015   31                   45.63                   13878.0                     45.63                       225.0\n",
      "813   2015   32                   46.68                   14226.0                     44.49                       522.0\n",
      "814   2015   33                   46.63                   15798.0                     43.77                       374.0\n",
      "815   2015   34                   41.74                   16971.0                     42.69                       429.0\n",
      "816   2015   35                   39.06                   17353.0                     46.60                       340.0\n",
      "817   2015   36                   43.03                   17227.0                     40.82                       357.0\n",
      "818   2015   37                   43.18                   17706.0                     44.99                       391.0\n",
      "819   2015   38                   41.54                   19057.0                     42.89                       348.0\n",
      "820   2015   39                   40.39                   18914.0                     39.50                       623.0\n",
      "821   2015   40                   40.07                   18598.0                     42.90                       734.0\n",
      "822   2015   41                   43.09                   18604.0                     43.16                       598.0\n",
      "823   2015   42                   42.43                   18992.0                     42.20                       651.0\n",
      "824   2015   43                   41.06                   20108.0                     43.74                       688.0\n",
      "825   2015   44                   41.86                   19201.0                     44.30                       602.0\n",
      "826   2015   45                   42.98                   18118.0                     44.09                       560.0\n",
      "827   2015   46                   42.52                   18705.0                     46.47                       507.0\n",
      "828   2015   47                   44.51                   18125.0                     47.93                       681.0\n",
      "829   2015   48                   48.79                   18889.0                     42.89                       591.0\n",
      "830   2015   49                   50.06                   19802.0                     45.24                       563.0\n",
      "831   2015   50                   49.05                   20949.0                     47.68                       434.0\n",
      "832   2015   51                   51.30                   20207.0                     49.82                       427.0\n",
      "833   2015   52                   53.26                   10494.0                     42.01                       134.0\n",
      "834   2015   53                   55.06                    9593.0                     44.04                       107.0\n",
      "835   2016    1                   57.27                   14173.0                     47.90                       297.0\n",
      "836   2016    2                   61.64                   14655.0                     49.38                       414.0\n",
      "837   2016    3                   54.56                   16115.0                     47.31                       445.0\n",
      "838   2016    4                   49.24                   15700.0                     50.85                       334.0\n",
      "839   2016    5                   51.27                   14839.0                     51.21                       575.0\n",
      "840   2016    6                   53.21                   14323.0                     43.61                       337.0\n",
      "841   2016    7                   56.95                   14682.0                     52.12                       315.0\n",
      "842   2016    8                   58.54                   14627.0                     51.51                       405.0\n",
      "843   2016    9                   58.48                   16087.0                     43.81                       296.0\n",
      "844   2016   10                   56.07                   16059.0                     51.82                       377.0\n",
      "845   2016   11                   57.88                   17936.0                     52.77                       395.0\n",
      "846   2016   12                   62.51                   10405.0                     52.85                       333.0\n",
      "847   2016   13                   61.98                   13750.0                     52.70                       173.0\n",
      "848   2016   14                   59.03                   15627.0                     52.48                       314.0\n",
      "849   2016   15                   55.56                   16367.0                     56.67                       316.0\n",
      "850   2016   16                   56.47                   15169.0                     54.66                       359.0\n",
      "851   2016   17                   55.65                   15425.0                     56.24                       337.0\n",
      "852   2016   18                   56.88                   14032.0                     58.20                       240.0\n",
      "853   2016   19                   62.19                   17283.0                     51.49                       286.0\n",
      "854   2016   20                   65.71                   12320.0                     50.17                       200.0\n",
      "855   2016   21                   57.41                   16324.0                     52.15                        79.0\n",
      "856   2016   22                   57.91                   15456.0                     57.06                       283.0\n",
      "857   2016   23                   64.70                   12500.0                     62.95                       319.0\n",
      "858   2016   24                   69.44                   14209.0                     58.89                       258.0\n",
      "859   2016   25                   67.40                   13845.0                     62.35                       253.0\n",
      "860   2016   26                   65.02                   12619.0                     58.64                       270.0\n",
      "861   2016   27                   70.96                   11925.0                     62.19                       332.0\n",
      "862   2016   28                   70.38                   13694.0                     62.14                       154.0\n",
      "863   2016   29                   65.12                   13629.0                     70.85                       272.0\n",
      "864   2016   30                   59.41                   14947.0                     70.08                       317.0\n",
      "865   2016   31                   57.52                   15413.0                     65.27                       441.0\n",
      "866   2016   32                   59.61                   16386.0                     64.77                       374.0\n",
      "867   2016   33                   59.23                   16680.0                     59.36                       369.0\n",
      "868   2016   34                   56.36                   16188.0                     60.71                       409.0\n",
      "869   2016   35                   56.47                   16810.0                     63.07                       281.0\n",
      "870   2016   36                   55.28                   18063.0                     65.00                       710.0\n",
      "871   2016   37                   52.78                   18559.0                     60.62                       714.0\n",
      "872   2016   38                   53.36                   19576.0                     60.69                       661.0\n",
      "873   2016   39                   55.39                   19426.0                     58.89                       987.0\n",
      "874   2016   40                   58.64                   18261.0                     56.34                       785.0\n",
      "875   2016   41                   59.67                   16770.0                     61.19                       635.0\n",
      "876   2016   42                   61.36                   17137.0                     63.63                       500.0\n",
      "877   2016   43                   61.50                   16888.0                     65.71                       496.0\n",
      "878   2016   44                   60.65                   18472.0                     64.43                       336.0\n",
      "879   2016   45                   59.63                   17125.0                     64.99                       412.0\n",
      "880   2016   46                   63.57                   18009.0                     68.17                       556.0\n",
      "881   2016   47                   62.46                   18734.0                     72.91                       393.0\n",
      "882   2016   48                   62.94                   19131.0                     68.59                       860.0\n",
      "883   2016   49                   66.44                   18476.0                     59.77                       415.0\n",
      "884   2016   50                   69.28                   19450.0                     64.94                       419.0\n",
      "885   2016   51                   73.09                   15026.0                     69.34                       363.0\n",
      "886   2016   52                   73.53                   10408.0                     57.31                       101.0\n",
      "887   2017    1                   75.25                   11950.0                     70.72                       286.0\n",
      "888   2017    2                   72.42                   13217.0                     63.01                       263.0\n",
      "889   2017    3                   72.50                   14219.0                     71.98                       360.0\n",
      "890   2017    4                   70.35                   14137.0                     70.79                       334.0\n",
      "891   2017    5                   66.01                   14426.0                     72.33                       272.0\n",
      "892   2017    6                   64.96                   14901.0                     72.02                       584.0\n",
      "893   2017    7                   64.08                   14775.0                     70.07                       458.0\n",
      "894   2017    8                   63.20                   15311.0                     71.74                       521.0\n",
      "895   2017    9                   59.55                   15774.0                     69.88                       649.0\n",
      "896   2017   10                   58.36                   15606.0                     66.87                       387.0\n",
      "897   2017   11                   61.98                   15294.0                     65.39                       629.0\n",
      "898   2017   12                   63.76                   16351.0                     67.89                       735.0\n",
      "899   2017   13                   62.70                   17821.0                     66.79                       693.0\n",
      "900   2017   14                   62.82                   18658.0                     66.12                       396.0\n",
      "901   2017   15                   65.13                   11516.0                     62.74                       331.0\n",
      "902   2017   16                   64.85                   14381.0                     62.66                       291.0\n",
      "903   2017   17                   62.17                   13791.0                     69.50                       196.0\n",
      "904   2017   18                   65.79                   12105.0                     65.72                       364.0\n",
      "905   2017   19                   70.18                   14305.0                     61.55                       534.0\n",
      "906   2017   20                   72.47                   13034.0                     70.58                       485.0\n",
      "907   2017   21                   72.17                   13773.0                     66.51                       437.0\n",
      "908   2017   22                   66.02                   14551.0                     64.48                       436.0\n",
      "909   2017   23                   69.91                   12787.0                     69.97                       230.0\n",
      "910   2017   24                   67.87                   13680.0                     69.42                       345.0\n",
      "911   2017   25                   68.96                   13724.0                     68.79                       434.0\n",
      "912   2017   26                   69.36                   14485.0                     66.97                       445.0\n",
      "913   2017   27                   65.71                   15795.0                     70.25                       182.0\n",
      "914   2017   28                   63.22                   14234.0                     64.89                       397.0\n",
      "915   2017   29                   65.12                   14428.0                     68.12                       225.0\n",
      "916   2017   30                   62.11                   15251.0                     62.37                       190.0\n",
      "917   2017   31                   60.55                   16311.0                     61.75                       302.0\n",
      "918   2017   32                   59.53                   17373.0                     62.61                       195.0\n",
      "919   2017   33                   55.63                   17023.0                     63.01                       239.0\n",
      "920   2017   34                   56.80                   16988.0                     62.85                       435.0\n",
      "921   2017   35                   54.89                   18043.0                     61.28                       366.0\n",
      "922   2017   36                   55.56                   18273.0                     58.39                       374.0\n",
      "923   2017   37                   53.85                   19307.0                     59.66                       285.0\n",
      "924   2017   38                   55.30                   18876.0                     59.15                       553.0\n",
      "925   2017   39                   57.21                   19317.0                     59.18                       584.0\n",
      "926   2017   40                   56.61                   18964.0                     59.77                       472.0\n",
      "927   2017   41                   54.52                   18213.0                     59.71                       569.0\n",
      "928   2017   42                   55.32                   18824.0                     59.82                       511.0\n",
      "929   2017   43                   53.17                   20343.0                     61.92                       506.0\n",
      "930   2017   44                   49.05                   19574.0                     59.77                       527.0\n",
      "931   2017   45                   51.25                   19123.0                     58.11                       545.0\n",
      "932   2017   46                   53.89                   19542.0                     53.13                       541.0\n",
      "933   2017   47                   49.02                   19795.0                     57.91                       562.0\n",
      "934   2017   48                   48.65                   20927.0                     53.55                       675.0\n",
      "935   2017   49                   53.36                   21601.0                     52.97                       646.0\n",
      "936   2017   50                   53.76                   24582.0                     50.14                       585.0\n",
      "937   2017   51                   54.73                   19386.0                     53.03                       459.0\n",
      "938   2017   52                   56.23                    9901.0                     55.44                       190.0\n",
      "939   2018    1                   58.52                   14259.0                     53.80                       158.0\n",
      "940   2018    2                   57.28                   17007.0                     53.14                       296.0\n",
      "941   2018    3                   55.46                   16479.0                     56.60                       363.0\n",
      "942   2018    4                   56.96                   17441.0                     52.74                       301.0\n",
      "943   2018    5                   56.86                   17266.0                     50.60                       402.0\n",
      "944   2018    6                   54.69                   16515.0                     51.48                       372.0\n",
      "945   2018    7                   56.52                   15052.0                     55.30                       317.0\n",
      "946   2018    8                   62.20                   15688.0                     51.86                       365.0\n",
      "947   2018    9                   65.16                   15230.0                     53.26                       526.0\n",
      "948   2018   10                   67.57                   15825.0                     53.64                       470.0\n",
      "949   2018   11                   67.94                   17862.0                     59.62                       253.0\n",
      "950   2018   12                   65.12                   19138.0                     58.33                       281.0\n",
      "951   2018   13                   71.75                   11423.0                     57.02                       264.0\n",
      "952   2018   14                   71.50                   13953.0                     50.36                       187.0\n",
      "953   2018   15                   68.21                   15751.0                     56.25                       237.0\n",
      "954   2018   16                   67.32                   15094.0                     61.15                       240.0\n",
      "955   2018   17                   66.79                   14510.0                     59.83                       190.0\n",
      "956   2018   18                   71.16                   13735.0                     56.87                       310.0\n",
      "957   2018   19                   75.40                   14991.0                     60.39                       256.0\n",
      "958   2018   20                   76.09                   14951.0                     59.38                       304.0\n",
      "959   2018   21                   73.71                   15363.0                     62.70                       272.0\n",
      "960   2018   22                   66.17                   16826.0                     61.92                       317.0\n",
      "961   2018   23                   61.34                   16732.0                     69.62                       281.0\n",
      "962   2018   24                   65.00                   16548.0                     69.28                       291.0\n",
      "963   2018   25                   61.70                   16297.0                     67.02                       268.0\n",
      "964   2018   26                   58.25                   16929.0                     63.62                       358.0\n",
      "965   2018   27                   58.55                   17914.0                     60.96                       393.0\n",
      "966   2018   28                   55.40                   17402.0                     56.41                       417.0\n",
      "967   2018   29                   55.14                   17286.0                     60.53                       655.0\n",
      "968   2018   30                   56.07                   17367.0                     60.26                       351.0\n",
      "969   2018   31                   57.44                   17466.0                     64.20                       294.0\n",
      "970   2018   32                   57.33                   18978.0                     58.76                       395.0\n",
      "971   2018   33                   53.62                   19004.0                     60.03                       486.0\n",
      "972   2018   34                   52.99                   18551.0                     59.57                       495.0\n",
      "973   2018   35                   57.43                   17501.0                     60.02                       574.0\n",
      "974   2018   36                   62.60                   17919.0                     57.17                       387.0\n",
      "975   2018   37                   62.10                   18489.0                     61.48                       385.0\n",
      "976   2018   38                   60.28                   17736.0                     61.74                       241.0\n",
      "977   2018   39                   59.15                   19344.0                     56.92                       308.0\n",
      "978   2018   40                   57.93                   19999.0                     58.68                       330.0\n",
      "979   2018   41                   58.49                   19237.0                     62.47                       435.0\n",
      "980   2018   42                   58.95                   20828.0                     63.59                       442.0\n",
      "981   2018   43                   57.77                   19103.0                     62.28                       536.0\n",
      "982   2018   44                   59.07                   19305.0                     61.46                       371.0\n",
      "983   2018   45                   57.37                   18638.0                     59.47                       346.0\n",
      "984   2018   46                   55.90                   19468.0                     60.40                       500.0\n",
      "985   2018   47                   53.84                   19701.0                     62.48                       435.0\n",
      "986   2018   48                   55.76                   19860.0                     61.08                       401.0\n",
      "987   2018   49                   59.50                   21773.0                     59.92                       475.0\n",
      "988   2018   50                   58.87                   23046.0                     61.55                       256.0\n",
      "989   2018   51                   58.20                   21874.0                     58.11                       294.0\n",
      "990   2018   52                   65.15                    9179.0                     57.79                       120.0\n",
      "991   2019    1                   66.66                   12098.0                     66.29                        95.0\n",
      "992   2019    2                   63.90                   16968.0                     59.72                       281.0\n",
      "993   2019    3                   62.88                   15367.0                     56.95                       191.0\n",
      "994   2019    4                   60.83                   17427.0                     56.85                       236.0\n",
      "995   2019    5                   57.41                   16333.0                     56.43                       315.0\n",
      "996   2019    6                   56.73                   17688.0                     63.17                       250.0\n",
      "997   2019    7                   56.82                   17634.0                     62.63                       284.0\n",
      "998   2019    8                   60.00                   17103.0                     63.51                       315.0\n",
      "999   2019    9                   65.65                   15192.0                     58.95                       353.0\n",
      "1000  2019   10                   72.45                   14387.0                     57.43                       636.0\n",
      "1001  2019   11                   71.55                   14472.0                     63.08                       375.0\n",
      "1002  2019   12                   67.78                   16569.0                     61.44                       291.0\n",
      "1003  2019   13                   65.13                   17460.0                     60.93                       210.0\n",
      "1004  2019   14                   68.21                   17409.0                     64.93                       202.0\n",
      "1005  2019   15                   67.33                   19916.0                     62.36                       329.0\n",
      "1006  2019   16                   71.45                   12499.0                     65.98                       174.0\n",
      "1007  2019   17                   69.53                   16037.0                     62.63                       255.0\n",
      "1008  2019   18                   62.85                   16133.0                     57.53                       125.0\n",
      "1009  2019   19                   61.94                   16315.0                     61.15                       240.0\n",
      "1010  2019   20                   65.48                   16127.0                     64.99                       298.0\n",
      "1011  2019   21                   61.33                   18992.0                     63.02                       302.0\n",
      "1012  2019   22                   58.52                   17473.0                     63.92                       430.0\n",
      "1013  2019   23                   61.85                   15457.0                     65.82                       403.0\n",
      "1014  2019   24                   69.90                   15627.0                     63.21                       335.0\n",
      "1015  2019   25                   64.09                   17756.0                     60.56                       268.0\n",
      "1016  2019   26                   60.12                   17510.0                     67.51                       258.0\n",
      "1017  2019   27                   61.06                   15805.0                     65.79                       288.0\n",
      "1018  2019   28                   64.64                   16630.0                     58.94                       381.0\n",
      "1019  2019   29                   60.18                   16754.0                     63.25                       226.0\n",
      "1020  2019   30                   56.16                   18839.0                     63.59                       262.0\n",
      "1021  2019   31                   54.13                   19422.0                     62.98                       482.0\n",
      "1022  2019   32                   54.45                   19035.0                     59.07                       521.0\n",
      "1023  2019   33                   55.05                   19510.0                     59.97                       408.0\n",
      "1024  2019   34                   51.82                   20732.0                     57.77                       406.0\n",
      "1025  2019   35                   55.10                   19995.0                     61.12                       425.0\n",
      "1026  2019   36                   53.07                   20918.0                     59.31                       512.0\n",
      "1027  2019   37                   50.80                   21666.0                     57.54                       669.0\n",
      "1028  2019   38                   48.62                   22100.0                     54.81                       790.0\n",
      "1029  2019   39                   47.73                   22761.0                     54.06                      1050.0\n",
      "1030  2019   40                   46.83                   21618.0                     56.45                      1201.0\n",
      "1031  2019   41                   50.70                   21887.0                     56.87                       411.0\n",
      "1032  2019   42                   54.66                   21025.0                     54.96                       555.0\n",
      "1033  2019   43                   53.87                   21587.0                     55.68                       460.0\n",
      "1034  2019   44                   52.99                   21899.0                     50.83                       647.0\n",
      "1035  2019   45                   54.48                   19393.0                     58.95                       383.0\n",
      "1036  2019   46                   58.63                   20563.0                     55.34                       548.0\n",
      "1037  2019   47                   61.56                   21543.0                     56.12                       568.0\n",
      "1038  2019   48                   63.25                   21783.0                     59.84                       596.0\n",
      "1039  2019   49                   63.72                   20399.0                     58.48                       415.0\n",
      "1040  2019   50                   68.76                   22556.0                     58.60                       512.0\n",
      "1041  2019   51                   75.05                   20352.0                     57.38                       505.0\n",
      "1042  2019   52                   77.04                    8714.0                     55.82                        93.0\n",
      "1043  2020    1                   78.20                   11249.0                     54.68                        81.0\n",
      "1044  2020    2                   77.63                   16141.0                     58.03                       474.0\n",
      "1045  2020    3                   76.38                   17512.0                     57.15                       373.0\n",
      "1046  2020    4                   75.53                   16034.0                     60.71                       273.0\n",
      "1047  2020    5                   70.25                   16259.0                     52.85                       396.0\n",
      "1048  2020    6                   65.56                   15452.0                     57.41                       269.0\n",
      "1049  2020    7                   64.49                   17375.0                     67.47                       334.0\n",
      "1050  2020    8                   68.42                   15504.0                     61.90                       447.0\n",
      "1051  2020    9                   72.80                   16153.0                     60.35                       420.0\n",
      "1052  2020   10                   67.74                   14891.0                     62.21                       228.0\n",
      "1053  2020   11                   66.17                   18009.0                     59.99                       258.0\n",
      "1054  2020   12                   61.29                   15332.0                     56.66                       157.0\n",
      "1055  2020   13                   58.95                   15676.0                     53.30                       137.0\n",
      "1056  2020   14                   60.04                   16955.0                     64.18                       266.0\n",
      "1057  2020   15                   59.34                   11992.0                     65.49                       135.0\n",
      "1058  2020   16                   56.11                   15119.0                     55.64                       141.0\n",
      "1059  2020   17                   56.46                   16029.0                     61.28                       155.0\n",
      "1060  2020   18                   55.85                   15212.0                     59.13                       325.0\n",
      "1061  2020   19                   54.66                   15927.0                     57.00                       233.0\n",
      "1062  2020   20                   59.17                   16824.0                     58.67                       238.0\n",
      "1063  2020   21                   65.46                   15417.0                     52.53                       261.0\n",
      "1064  2020   22                   64.28                   16342.0                     58.56                       344.0\n",
      "1065  2020   23                   69.23                   13442.0                     59.44                       359.0\n",
      "1066  2020   24                   69.94                   17174.0                     58.79                       428.0\n",
      "1067  2020   25                   61.92                   16081.0                     63.49                       250.0\n",
      "1068  2020   26                   59.01                   15888.0                     61.46                       213.0\n",
      "1069  2020   27                   59.81                   16147.0                     63.69                       227.0\n",
      "1070  2020   28                   58.69                   18090.0                     52.54                       117.0\n",
      "1071  2020   29                   52.68                   17391.0                     64.54                       160.0\n",
      "1072  2020   30                   52.23                   16482.0                     63.39                       265.0\n",
      "1073  2020   31                   49.72                   16616.0                     58.51                       331.0\n",
      "1074  2020   32                   49.62                   18471.0                     54.00                       282.0\n",
      "1075  2020   33                   51.70                   17910.0                     56.73                       300.0\n",
      "1076  2020   34                   52.61                   18922.0                     56.03                       300.0\n",
      "1077  2020   35                   49.25                   18760.0                     57.45                       380.0\n",
      "1078  2020   36                   48.90                   21788.0                     53.19                       235.0\n",
      "1079  2020   37                   49.46                   21188.0                     59.46                       261.0\n",
      "1080  2020   38                   48.50                   20791.0                     51.25                       286.0\n",
      "1081  2020   39                   50.77                   20748.0                     55.06                       408.0\n",
      "1082  2020   40                   49.83                   23535.0                     55.83                       474.0\n",
      "1083  2020   41                   48.58                   22748.0                     61.52                       215.0\n",
      "1084  2020   42                   50.00                   21602.0                     55.35                       485.0\n",
      "1085  2020   43                   48.04                   21738.0                     57.29                       412.0\n",
      "1086  2020   44                   47.09                   21486.0                     54.97                       366.0\n",
      "1087  2020   45                   46.90                   21382.0                     52.85                       590.0\n",
      "1088  2020   46                   47.98                   20136.0                     54.24                       358.0\n",
      "1089  2020   47                   48.58                   21750.0                     52.75                       291.0\n",
      "1090  2020   48                   47.67                   21964.0                     50.44                       496.0\n",
      "1091  2020   49                   46.35                   23507.0                     47.77                       476.0\n",
      "1092  2020   50                   46.09                   24043.0                     53.02                       392.0\n",
      "1093  2020   51                   46.24                   24827.0                     50.46                       428.0\n",
      "1094  2020   52                   50.22                   14127.0                     53.70                        66.0\n",
      "1095  2020   53                   54.01                   13597.0                     54.53                       106.0\n",
      "1096  2021    1                   50.38                   18590.0                     53.57                       228.0\n",
      "1097  2021    2                   46.55                   18720.0                     47.37                       422.0\n",
      "1098  2021    3                   49.81                   19141.0                     49.97                       262.0\n",
      "1099  2021    4                   47.94                   20045.0                     47.68                       425.0\n",
      "1100  2021    5                   47.31                   19322.0                     50.78                       495.0\n",
      "1101  2021    6                   51.21                   20115.0                     48.08                       629.0\n",
      "1102  2021    7                   51.07                   19128.0                     50.73                       415.0\n",
      "1103  2021    8                   55.51                   16754.0                     47.36                       385.0\n",
      "1104  2021    9                   63.31                   17969.0                     51.40                       447.0\n",
      "1105  2021   10                   62.79                   16959.0                     51.12                       351.0\n",
      "1106  2021   11                   59.97                   17699.0                     50.92                       276.0\n",
      "1107  2021   12                   62.06                   20495.0                     52.79                       443.0\n",
      "1108  2021   13                   65.25                   14286.0                     58.80                       202.0\n",
      "1109  2021   14                   65.17                   15144.0                     54.90                       235.0\n",
      "1110  2021   15                   60.99                   17979.0                     64.01                       161.0\n",
      "1111  2021   16                   61.13                   16234.0                     58.46                       250.0\n",
      "1112  2021   17                   65.74                   14629.0                     56.74                       552.0\n",
      "1113  2021   18                   65.06                   14137.0                     53.32                       267.0\n",
      "1114  2021   19                   71.08                   14863.0                     54.85                       479.0\n",
      "1115  2021   20                   68.48                   14746.0                     53.89                       279.0\n",
      "1116  2021   21                   63.53                   15977.0                     57.07                       403.0\n",
      "1117  2021   22                   59.59                   17993.0                     58.46                       237.0\n",
      "1118  2021   23                   57.64                   17277.0                     61.68                       368.0\n",
      "1119  2021   24                   61.45                   17738.0                     54.53                       383.0\n",
      "1120  2021   25                   60.12                   19385.0                     58.60                       490.0\n",
      "1121  2021   26                   59.17                   18688.0                     58.94                       360.0\n",
      "1122  2021   27                   59.85                   18410.0                     58.62                       335.0\n",
      "1123  2021   28                   64.69                   17066.0                     58.02                       488.0\n",
      "1124  2021   29                   66.05                   19289.0                     60.82                       462.0\n",
      "1125  2021   30                   62.03                   19460.0                     58.28                       253.0\n",
      "1126  2021   31                   58.52                   20239.0                     56.78                       199.0\n",
      "1127  2021   32                   59.08                   21558.0                     60.48                       337.0\n",
      "1128  2021   33                   56.91                   22000.0                     54.68                       486.0\n",
      "1129  2021   34                   54.08                   23881.0                     60.78                       640.0\n",
      "1130  2021   35                   54.41                   24787.0                     61.93                       556.0\n",
      "1131  2021   36                   52.30                   26422.0                     59.43                       688.0\n",
      "1132  2021   37                   53.43                   25827.0                     56.99                       563.0\n",
      "1133  2021   38                   52.88                   26728.0                     60.71                       640.0\n",
      "1134  2021   39                   53.54                   26410.0                     54.73                       660.0\n",
      "1135  2021   40                   55.33                   25798.0                     57.96                       733.0\n",
      "1136  2021   41                   58.39                   24509.0                     55.85                       806.0\n",
      "1137  2021   42                   59.63                   22881.0                     57.83                       640.0\n",
      "1138  2021   43                   57.98                   24174.0                     57.53                       486.0\n",
      "1139  2021   44                   56.09                   25120.0                     58.87                       660.0\n",
      "1140  2021   45                   54.86                   24527.0                     58.66                       679.0\n",
      "1141  2021   46                   58.13                   24388.0                     57.37                       793.0\n",
      "1142  2021   47                   61.84                   24322.0                     60.83                       730.0\n",
      "1143  2021   48                   61.11                   23677.0                     60.29                       418.0\n",
      "1144  2021   49                   65.06                   23597.0                     63.15                       807.0\n",
      "1145  2021   50                   71.77                   25735.0                     64.23                       578.0\n",
      "1146  2021   51                   71.32                   18099.0                     62.35                       378.0\n",
      "1147  2021   52                   68.38                   14360.0                     59.02                       158.0\n",
      "1148  2022    1                   67.32                   18114.0                     65.12                       590.0\n",
      "1149  2022    2                   72.05                   17600.0                     65.97                       523.0\n",
      "1150  2022    3                   72.97                   17699.0                     67.57                       495.0\n",
      "1151  2022    4                   70.56                   18163.0                     65.91                       691.0\n",
      "1152  2022    5                   74.42                   17327.0                     62.06                       366.0\n",
      "1153  2022    6                   77.55                   17680.0                     66.84                       320.0\n",
      "1154  2022    7                   87.60                   17933.0                     70.36                       428.0\n",
      "1155  2022    8                   87.92                   17513.0                     72.47                       216.0\n",
      "1156  2022    9                   83.75                   16643.0                     73.06                       411.0\n",
      "1157  2022   10                   83.23                   16738.0                     72.26                       202.0\n",
      "1158  2022   11                   78.28                   17326.0                     68.99                       252.0\n",
      "1159  2022   12                   83.53                   17129.0                     83.13                       397.0\n",
      "1160  2022   13                   84.16                   16023.0                     76.16                       223.0\n",
      "1161  2022   14                   93.21                   17628.0                     74.43                       374.0\n",
      "1162  2022   15                   94.63                   12041.0                     80.14                        81.0\n",
      "1163  2022   16                   98.93                   13181.0                     80.16                       176.0\n",
      "1164  2022   17                  107.75                   14245.0                     96.65                       236.0\n",
      "1165  2022   18                  108.21                   13902.0                     78.09                       239.0\n",
      "1166  2022   19                   97.65                   16113.0                     78.97                       395.0\n",
      "1167  2022   20                   92.71                   13367.0                    103.99                        98.0\n",
      "1168  2022   21                   95.13                   14301.0                     86.89                       329.0\n",
      "1169  2022   22                   95.88                   16537.0                    102.22                       355.0\n",
      "1170  2022   23                   96.66                   13618.0                     93.56                       432.0\n",
      "1171  2022   24                   98.43                   15317.0                     82.10                       335.0\n",
      "1172  2022   25                   97.43                   16619.0                    103.98                       222.0\n",
      "1173  2022   26                   93.13                   16407.0                     81.91                       425.0\n",
      "1174  2022   27                   90.29                   16656.0                    101.63                       475.0\n",
      "1175  2022   28                   88.52                   17935.0                    105.23                       272.0\n",
      "1176  2022   29                   80.74                   18927.0                    110.04                       401.0\n",
      "1177  2022   30                   74.23                   18358.0                     89.23                       438.0\n",
      "1178  2022   31                   75.23                   18577.0                     91.08                       261.0\n",
      "1179  2022   32                   73.83                   20183.0                     94.63                       510.0\n",
      "1180  2022   33                   69.86                   22368.0                     90.75                       549.0\n",
      "1181  2022   34                   64.62                   24160.0                     86.83                       719.0\n",
      "1182  2022   35                   61.94                   24010.0                     87.02                       585.0\n",
      "1183  2022   36                   61.80                   25032.0                     83.88                       722.0\n",
      "1184  2022   37                   64.49                   25816.0                     83.22                       635.0\n",
      "1185  2022   38                   64.55                   27882.0                     82.58                       501.0\n",
      "1186  2022   39                   65.67                   26236.0                     81.06                       573.0\n",
      "1187  2022   40                   69.38                   24934.0                     87.99                       709.0\n",
      "1188  2022   41                   72.88                   25531.0                     80.52                       651.0\n",
      "1189  2022   42                   72.09                   25004.0                     89.59                       466.0\n",
      "1190  2022   43                   70.64                   23779.0                     84.86                       722.0\n",
      "1191  2022   44                   70.76                   23740.0                     85.27                       371.0\n",
      "1192  2022   45                   68.43                   24421.0                     84.56                       751.0\n",
      "1193  2022   46                   70.55                   22962.0                     79.01                       553.0\n",
      "1194  2022   47                   78.00                   22492.0                     82.37                       518.0\n",
      "1195  2022   48                   81.70                   22316.0                     87.32                       462.0\n",
      "1196  2022   49                   77.77                   23460.0                     82.03                       421.0\n",
      "1197  2022   50                   77.35                   24342.0                     82.50                       503.0\n",
      "1198  2022   51                   74.71                   18401.0                     83.75                       280.0\n",
      "1199  2022   52                   86.33                   13731.0                     78.36                       122.0\n",
      "1200  2023    1                   89.67                   14932.0                     76.18                       126.0\n",
      "1201  2023    2                   97.51                   15402.0                     84.48                       391.0\n",
      "1202  2023    3                   94.98                   16564.0                     92.93                       246.0\n",
      "1203  2023    4                   89.77                   16916.0                     92.69                       306.0\n",
      "1204  2023    5                   93.07                   16946.0                     87.22                       343.0\n",
      "1205  2023    6                   93.30                   15269.0                     97.25                       270.0\n",
      "1206  2023    7                  103.22                   14851.0                     89.70                       415.0\n",
      "1207  2023    8                  112.46                   14905.0                     89.30                       654.0\n",
      "1208  2023    9                  119.48                   15004.0                     90.57                       760.0\n",
      "1209  2023   10                  118.23                   13901.0                     89.16                       693.0\n",
      "1210  2023   11                  122.88                   13786.0                     92.42                       598.0\n",
      "1211  2023   12                  117.32                   15972.0                     92.99                       642.0\n",
      "1212  2023   13                  111.04                   17460.0                     99.72                       396.0\n",
      "1213  2023   14                  109.21                   11722.0                     96.36                       298.0\n",
      "1214  2023   15                  113.39                   15265.0                     98.37                       394.0\n",
      "1215  2023   16                  120.57                   16060.0                     95.03                       390.0\n",
      "1216  2023   17                  111.63                   17281.0                    103.11                       266.0\n",
      "1217  2023   18                  112.37                   13735.0                     95.90                       253.0\n",
      "1218  2023   19                  108.66                   15822.0                     93.28                       409.0\n",
      "1219  2023   20                  110.87                   11512.0                    100.00                       319.0\n",
      "1220  2023   21                  108.65                   15492.0                     97.19                       449.0\n",
      "1221  2023   22                  112.95                   15666.0                     89.66                       388.0\n",
      "1222  2023   23                  110.08                   18299.0                     94.03                       260.0\n",
      "1223  2023   24                  100.75                   17359.0                     98.91                       337.0\n",
      "1224  2023   25                   89.46                   16792.0                    101.43                       139.0\n",
      "1225  2023   26                   92.04                   17238.0                    101.20                       299.0\n",
      "1226  2023   27                   94.90                   19220.0                    111.66                       276.0\n",
      "1227  2023   28                   97.02                   17844.0                     93.06                       272.0\n",
      "1228  2023   29                   92.67                   17898.0                    105.03                       125.0\n",
      "1229  2023   30                   86.14                   19604.0                     96.00                       285.0\n",
      "1230  2023   31                   83.28                   20469.0                     96.95                       302.0\n",
      "1231  2023   32                   80.26                   21060.0                     89.83                       342.0\n",
      "1232  2023   33                   78.14                   22698.0                     89.35                       419.0\n",
      "1233  2023   34                   76.87                   24089.0                     89.16                       250.0\n",
      "1234  2023   35                   75.15                   25260.0                     90.97                       448.0\n",
      "1235  2023   36                   76.81                   25523.0                     96.35                       527.0\n",
      "1236  2023   37                   77.05                   25480.0                     88.72                       595.0\n",
      "1237  2023   38                   76.93                   24851.0                     87.84                       538.0\n",
      "1238  2023   39                   80.54                   24952.0                     90.03                       573.0\n",
      "1239  2023   40                   82.68                   25979.0                     88.59                       589.0\n",
      "1240  2023   41                   81.28                   24679.0                     87.99                       643.0\n",
      "1241  2023   42                   85.69                   24609.0                     89.64                       589.0\n",
      "1242  2023   43                   83.27                   26459.0                     91.98                       646.0\n",
      "1243  2023   44                   81.11                   24437.0                     95.63                       659.0\n",
      "1244  2023   45                   81.99                   23852.0                     92.39                       616.0\n",
      "1245  2023   46                   81.52                   24833.0                     92.71                       465.0\n",
      "1246  2023   47                   83.51                   22141.0                     92.69                       475.0\n",
      "1247  2023   48                   85.52                   22910.0                     94.68                       532.0\n",
      "1248  2023   49                   86.73                   22243.0                     93.61                       472.0\n",
      "1249  2023   50                   87.82                   24551.0                     95.73                       304.0\n",
      "1250  2023   51                   91.03                   18480.0                     99.84                       283.0\n",
      "1251  2023   52                  100.70                   10440.0                     85.07                        60.0\n",
      "1252  2024    1                  112.90                   12105.0                    100.85                       175.0\n",
      "1253  2024    2                  108.85                   16016.0                     88.00                       475.0\n",
      "1254  2024    3                   99.87                   14622.0                     91.95                       358.0\n",
      "1255  2024    4                  104.48                   15342.0                     86.97                       374.0\n",
      "1256  2024    5                  109.18                   13511.0                     83.99                       342.0\n",
      "1257  2024    6                  106.91                   15862.0                     83.77                       487.0\n",
      "1258  2024    7                  107.78                   13639.0                     88.46                       367.0\n",
      "1259  2024    8                  111.25                   10687.0                     82.34                       471.0\n",
      "1260  2024    9                  109.58                   12959.0                     88.62                       441.0\n",
      "1261  2024   10                  107.29                   14487.0                     93.94                       493.0\n",
      "1262  2024   11                  106.19                   14619.0                     78.18                       511.0\n",
      "1263  2024   12                  106.78                   13493.0                     91.11                       623.0\n",
      "1264  2024   13                  115.19                    9512.0                     88.74                       518.0\n",
      "1265  2024   14                  120.04                   11675.0                     90.57                       463.0\n",
      "1266  2024   15                  123.28                   13015.0                     89.08                       617.0\n",
      "1267  2024   16                  121.22                   11766.0                     85.45                       529.0\n",
      "1268  2024   17                  113.18                   12923.0                     92.45                       309.0\n",
      "1269  2024   18                  119.65                   11511.0                     78.78                       244.0\n",
      "1270  2024   19                  122.05                   10617.0                     82.51                       476.0\n",
      "1271  2024   20                  120.83                   11698.0                     91.00                       717.0\n",
      "1272  2024   21                  118.07                   12567.0                     84.50                       507.0\n",
      "1273  2024   22                  104.90                   15060.0                     92.19                       564.0\n",
      "1274  2024   23                   92.20                   16605.0                     79.34                       433.0\n",
      "1275  2024   24                   84.87                   16797.0                     85.45                       281.0\n",
      "1276  2024   25                   85.58                   18125.0                     89.30                       421.0\n",
      "1277  2024   26                   79.29                   17377.0                     95.01                       545.0\n",
      "1278  2024   27                   78.24                   19201.0                     86.40                       296.0\n",
      "1279  2024   28                   79.78                   18421.0                     81.48                       480.0\n",
      "1280  2024   29                   81.46                   18177.0                     70.13                       264.0\n",
      "1281  2024   30                   81.55                   21986.0                     84.98                       576.0\n",
      "1282  2024   31                   81.19                   22624.0                     84.87                       565.0\n",
      "1283  2024   32                   80.41                   20669.0                     87.70                       318.0\n",
      "1284  2024   33                   80.89                   21367.0                     87.29                       418.0\n",
      "1285  2024   34                   76.82                   24242.0                     81.81                       424.0\n",
      "1286  2024   35                   73.93                   25506.0                     81.97                       495.0\n",
      "1287  2024   36                   73.08                   26416.0                     79.65                       591.0\n",
      "1288  2024   37                   74.12                   27899.0                     74.99                       647.0\n",
      "1289  2024   38                   74.57                   28673.0                     73.31                       665.0\n",
      "1290  2024   39                   73.23                   29238.0                     71.97                       578.0\n",
      "1291  2024   40                   69.70                   26543.0                     78.32                       987.0\n",
      "1292  2024   41                   72.76                   25180.0                     73.69                       780.0\n",
      "1293  2024   42                   76.02                   25561.0                     81.90                       793.0\n",
      "1294  2024   43                   77.59                   24910.0                     71.49                       677.0\n",
      "1295  2024   44                   76.49                   25749.0                     82.18                       880.0\n",
      "1296  2024   45                   77.80                   23871.0                     78.44                       795.0\n",
      "1297  2024   46                   81.68                   22825.0                     83.02                       708.0\n",
      "1298  2024   47                   86.59                   23333.0                     83.33                       627.0\n",
      "1299  2024   48                   89.32                   25376.0                     80.99                       695.0\n",
      "1300  2024   49                   87.46                   25742.0                     79.33                       645.0\n",
      "1301  2024   50                   90.74                   25658.0                     73.62                       682.0\n",
      "1302  2024   51                   92.15                   22450.0                     76.39                       519.0\n",
      "1303  2024   52                  111.82                    9134.0                     93.83                       158.0\n",
      "1304  2025    1                  125.36                   11364.0                     84.19                       255.0\n",
      "1305  2025    2                  117.77                   15939.0                     90.27                       393.0\n",
      "1306  2025    3                  105.08                   17325.0                     84.59                       645.0\n",
      "1307  2025    4                   98.43                   15564.0                     88.27                       738.0\n",
      "1308  2025    5                   94.49                   16370.0                     96.78                       510.0\n",
      "1309  2025    6                   92.18                   15184.0                     92.27                       706.0\n",
      "1310  2025    7                   93.23                   15966.0                     86.96                       740.0\n",
      "1311  2025    8                   92.97                   15536.0                     82.23                       544.0\n",
      "1312  2025    9                   92.67                   18067.0                     79.50                       520.0\n",
      "1313  2025   10                   87.00                   17116.0                     93.43                       538.0\n",
      "1314  2025   11                   88.64                   17467.0                     76.23                       368.0\n",
      "1315  2025   12                   89.09                   18172.0                     95.18                       473.0\n",
      "1316  2025   13                   84.45                   18828.0                     83.03                       560.0\n",
      "1317  2025   14                   76.40                   19053.0                     76.26                       612.0\n",
      "Data hentet, sortert og formatert for visning.\n"
     ]
    }
   ],
   "source": [
    "import random \n",
    "import requests\n",
    "import pandas as pd\n",
    "from itertools import product\n",
    "\n",
    "# URL til SSB API for tabell 03024\n",
    "api_url = \"https://data.ssb.no/api/v0/no/table/03024/\"\n",
    "\n",
    "# Definerer API-spørringen\n",
    "query = {\n",
    "    \"query\": [],\n",
    "    \"response\": {\n",
    "        \"format\": \"json-stat2\"\n",
    "    }\n",
    "}\n",
    "\n",
    "# Hente data fra API\n",
    "response = requests.post(api_url, json=query)\n",
    "\n",
    "# Sjekke om forespørselen var vellykket\n",
    "if response.status_code == 200:\n",
    "    data = response.json()\n",
    "    \n",
    "    # Ekstrahere dimensjonsnavn og verdier\n",
    "    dimension_names = list(data[\"dimension\"].keys())\n",
    "    values = data[\"value\"]\n",
    "    \n",
    "    # Opprette en liste av kombinasjoner av dimensjoner\n",
    "    dimensions = [list(data[\"dimension\"][dim][\"category\"][\"label\"].values()) for dim in dimension_names]\n",
    "    \n",
    "    # Generere alle kombinasjoner av dimensjonsverdier\n",
    "    all_combinations = list(product(*dimensions))\n",
    "    \n",
    "    # Lage en DataFrame med riktige dimensjoner\n",
    "    df = pd.DataFrame(all_combinations, columns=dimension_names)\n",
    "    df[\"Value\"] = values  # Knytte verdiene til riktige rader\n",
    "    \n",
    "    # Pivotere data for å få ønsket struktur\n",
    "    df_pivot = df.pivot_table(index=\"Tid\", columns=[\"VareGrupper2\", \"ContentsCode\"], values=\"Value\", aggfunc=\"sum\").reset_index()\n",
    "    \n",
    "    # Gi kolonnene mer forståelige navn med riktig rekkefølge\n",
    "    df_pivot.columns = [\"Tid\", \"Fersk laks - Kilospris\", \"Fersk laks - Vekt (tonn)\", \"Frosset laks - Kilospris\", \"Frosset laks - Vekt (tonn)\"]\n",
    "    \n",
    "\n",
    "\n",
    "\n",
    "#Konverter \"Tid\" til str og fjern \"U\"\n",
    "    df_pivot[\"År\"] = df_pivot[\"Tid\"].str[:4].astype(int) # Første 4 tegn er årstall\n",
    "    df_pivot[\"Uke\"] = df_pivot[\"Tid\"].str[5:].astype(int)  # Etter \"U\" er uke\n",
    "\n",
    "#Fjern den opprinnelige \"Tid\"-kolonnen\n",
    "    df_pivot = df_pivot.drop(columns=[\"Tid\"])\n",
    "\n",
    "#Flytt \"ÅrUke\" først i datasettet\n",
    "    df_pivot = df_pivot[[\"Uke\"] + [col for col in df_pivot.columns if col not in [\"Uke\"]]]\n",
    "    df_pivot = df_pivot[[\"År\"] + [col for col in df_pivot.columns if col not in [\"År\"]]]\n",
    "\n",
    "    \n",
    "#Hvis du vil kombinere \"År\" og \"Uke\" til en kolonne men det er ikke lurt når man skal plotte data   \n",
    "#Lag en ny kolonne \"ÅrUke\" med format YYYYWW\n",
    "    #df_pivot[\"År/Uke\"] = df_pivot[\"År\"].astype(str) + df_pivot[\"Uke\"].astype(str).str.zfill(2)\n",
    "    #df_pivot = df_pivot.drop(columns=[\"År\", \"Uke\"])\n",
    "\n",
    "\n",
    "\n",
    "#Skriver ut data\n",
    "    print(df_pivot.to_string(index=True))\n",
    "\n",
    "    print(\"Data hentet, sortert og formatert for visning.\")\n",
    "else:\n",
    "    print(f\"Feil ved henting av data: {response.status_code}\")\n",
    "    print(response.text)  # Skriv ut feilmeldingen fra API-et\n",
    "\n",
    "\n"
   ]
  },
  {
   "cell_type": "code",
   "execution_count": null,
   "id": "816c28b5",
   "metadata": {},
   "outputs": [],
   "source": []
  }
 ],
 "metadata": {
  "kernelspec": {
   "display_name": "venv",
   "language": "python",
   "name": "python3"
  },
  "language_info": {
   "codemirror_mode": {
    "name": "ipython",
    "version": 3
   },
   "file_extension": ".py",
   "mimetype": "text/x-python",
   "name": "python",
   "nbconvert_exporter": "python",
   "pygments_lexer": "ipython3",
   "version": "3.13.2"
  }
 },
 "nbformat": 4,
 "nbformat_minor": 5
}
