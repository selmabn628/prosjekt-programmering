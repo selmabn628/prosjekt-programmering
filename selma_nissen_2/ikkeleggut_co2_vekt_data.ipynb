{
 "cells": [
  {
   "cell_type": "code",
   "execution_count": 163,
   "id": "3811af39",
   "metadata": {},
   "outputs": [
    {
     "name": "stdout",
     "output_type": "stream",
     "text": [
      "     År og ukenr. Transporttype  Total CO2-utslipp (kg)\n",
      "0         2000U01    Fersk laks               8201600.0\n",
      "1         2000U01  Frosset laks                 19150.0\n",
      "2         2000U02    Fersk laks               8918800.0\n",
      "3         2000U02  Frosset laks                 10800.0\n",
      "4         2000U03    Fersk laks               8894600.0\n",
      "...           ...           ...                     ...\n",
      "2631      2025U12  Frosset laks                 23650.0\n",
      "2632      2025U13    Fersk laks              41421600.0\n",
      "2633      2025U13  Frosset laks                 28000.0\n",
      "2634      2025U14    Fersk laks              41916600.0\n",
      "2635      2025U14  Frosset laks                 30600.0\n",
      "\n",
      "[2636 rows x 3 columns]\n"
     ]
    }
   ],
   "source": [
    "import requests\n",
    "import pandas as pd\n",
    "from itertools import product\n",
    "from pandasql import sqldf # pip install pandasql\n",
    "\n",
    "# ------------------------------\n",
    "# 1. Hente data fra SSB\n",
    "# ------------------------------\n",
    "API_URL = \"https://data.ssb.no/api/v0/no/table/03024/\"\n",
    "\n",
    "def fetch_data(api_url=API_URL):\n",
    "    \"\"\"Henter data fra SSB API og returnerer JSON-responsen.\"\"\"\n",
    "    query = {\n",
    "        \"query\": [],\n",
    "        \"response\": {\"format\": \"json-stat2\"}\n",
    "    }\n",
    "    response = requests.post(api_url, json=query)\n",
    "    if response.status_code == 200:\n",
    "        return response.json()\n",
    "    else:\n",
    "        raise Exception(f\"Feil ved henting av data: {response.status_code}\\n{response.text}\")\n",
    "\n",
    "\n",
    "# ------------------------------\n",
    "# 2. Prosessere og strukturere data\n",
    "# ------------------------------\n",
    "def process_data(data):\n",
    "    \"\"\"Prosesserer JSON-data og returnerer en formatert Pandas DataFrame.\"\"\"\n",
    "    dimension_names = list(data[\"dimension\"].keys())\n",
    "    values = data[\"value\"]\n",
    "    \n",
    "    dimensions = [list(data[\"dimension\"][dim][\"category\"][\"label\"].values()) for dim in dimension_names]\n",
    "    all_combinations = list(product(*dimensions))\n",
    "\n",
    "    df = pd.DataFrame(all_combinations, columns=dimension_names)\n",
    "    df[\"Value\"] = values\n",
    "    \n",
    "    # Pivot for å få én kolonne per måling\n",
    "    df_pivot = df.pivot_table(index=\"Tid\", columns=[\"VareGrupper2\", \"ContentsCode\"], values=\"Value\", aggfunc=\"sum\").reset_index()\n",
    "\n",
    "    # Navngi kolonner tydelig\n",
    "    df_pivot.columns = [\"År og ukenr.\", \n",
    "                        \"Fersk laks - Kilospris\", \n",
    "                        \"Fersk laks - Vekt (tonn)\", \n",
    "                        \"Frosset laks - Kilospris\", \n",
    "                        \"Frosset laks - Vekt (tonn)\"]\n",
    "\n",
    "    return df_pivot\n",
    "\n",
    "\n",
    "# ------------------------------\n",
    "# 3. Beregne CO₂-utslipp\n",
    "# ------------------------------\n",
    "CO2_FACTORS = {\n",
    "    \"Fersk laks\": 1.1,    # kg CO₂ per tonn-km (fly)\n",
    "    \"Frosset laks\": 0.01  # kg CO₂ per tonn-km (skip)\n",
    "}\n",
    "\n",
    "DISTANCES = {\n",
    "    \"Fersk laks\": 2000,\n",
    "    \"Frosset laks\": 5000\n",
    "}\n",
    "\n",
    "def beregn_co2_utslipp(df):\n",
    "    \"\"\"Legger til CO₂-utslipp basert på vekt og transporttype.\"\"\"\n",
    "    # Smelt datasettet for lettere håndtering\n",
    "    df_melted = pd.melt(\n",
    "        df, \n",
    "        id_vars=[\"År og ukenr.\"], \n",
    "        value_vars=[\"Fersk laks - Vekt (tonn)\", \"Frosset laks - Vekt (tonn)\"],\n",
    "        var_name=\"Type\", \n",
    "        value_name=\"Vekt (tonn)\"\n",
    "    )\n",
    "    df_melted.dropna(subset=[\"Vekt (tonn)\"], inplace=True)\n",
    "\n",
    "    # Trekk ut transporttype\n",
    "    df_melted[\"Transporttype\"] = df_melted[\"Type\"].apply(lambda x: \"Fersk laks\" if \"Fersk\" in x else \"Frosset laks\")\n",
    "\n",
    "    # Beregn CO₂-utslipp med list comprehension\n",
    "    df_melted[\"CO2-utslipp (kg)\"] = [\n",
    "        vekt * CO2_FACTORS[typ] * DISTANCES[typ]\n",
    "        for vekt, typ in zip(df_melted[\"Vekt (tonn)\"], df_melted[\"Transporttype\"])\n",
    "    ]\n",
    "    \n",
    "    return df_melted\n",
    "\n",
    "\n",
    "# ------------------------------\n",
    "# 4. Bruk av Pandas SQL for analyse\n",
    "# ------------------------------\n",
    "def total_utslipp_per_uke(df):\n",
    "    \"\"\"Oppsummerer CO₂-utslipp per uke med SQL.\"\"\"\n",
    "    query = \"\"\"\n",
    "        SELECT \n",
    "            `År og ukenr.`, \n",
    "            Transporttype, \n",
    "            SUM(`CO2-utslipp (kg)`) AS `Total CO2-utslipp (kg)`\n",
    "        FROM df\n",
    "        GROUP BY `År og ukenr.`, Transporttype\n",
    "        ORDER BY `År og ukenr.`\n",
    "    \"\"\"\n",
    "    return sqldf(query)\n",
    "\n",
    "\n",
    "# ------------------------------\n",
    "# 5. Kjør alt sammen\n",
    "# ------------------------------\n",
    "def main():\n",
    "    try:\n",
    "        # Hent og prosesser data\n",
    "        data = fetch_data()\n",
    "        df_pivot = process_data(data)\n",
    "\n",
    "        # Rens: fjern rader med NaN i vekt, som er nullverdier\n",
    "        df_clean = df_pivot.dropna(subset=[\"Fersk laks - Vekt (tonn)\", \"Frosset laks - Vekt (tonn)\"], how='all')\n",
    "\n",
    "        # Definerer CO₂ utslipp \n",
    "        df_with_co2 = beregn_co2_utslipp(df_clean) \n",
    "\n",
    "        # defienrer sammenfattet data\n",
    "        df_summary = total_utslipp_per_uke(df_with_co2)\n",
    "\n",
    "        return df_summary\n",
    "\n",
    "    except Exception as e:\n",
    "        print(\"Feil:\", e)\n",
    "        return None\n",
    "\n",
    "\n",
    "df_summary = main()\n",
    "print(df_summary)\n",
    "\n",
    "#if __name__ == \"__main__\":\n",
    "    #main()\n",
    "    \n",
    "\n"
   ]
  },
  {
   "cell_type": "code",
   "execution_count": 175,
   "id": "3eddfd23",
   "metadata": {},
   "outputs": [
    {
     "data": {
      "application/vnd.plotly.v1+json": {
       "config": {
        "plotlyServerURL": "https://plot.ly"
       },
       "data": [
        {
         "line": {
          "color": "darkblue"
         },
         "mode": "lines+markers",
         "name": "Fersk laks - Vekt (tonn)",
         "type": "scatter",
         "x": {
          "bdata": "0AfRB9IH0wfUB9UH1gfXB9gH2QfaB9sH3AfdB94H3wfgB+EH4gfjB+QH5QfmB+cH6AfpBw==",
          "dtype": "i2"
         },
         "xaxis": "x",
         "y": {
          "bdata": "AAAAAFQkEEEAAAAA4KsPQQAAAACkhBBBAAAAADQmE0EAAAAAKMoUQQAAAADgnRdBAAAAAOyBGEEAAAAAHHQeQQAAAADcax9BAAAAABiuIUEAAAAA3BMjQQAAAAAWJyVBAAAAAByPKUEAAAAAansoQQAAAAB2TylBAAAAAMDmKkEAAAAA/AMpQQAAAADM1SlBAAAAAFJmK0EAAAAAlsosQQAAAAAu7CxBAAAAANr1L0EAAAAAwocuQQAAAABQLC5BAAAAAFqFLUEAAAAAeFAMQQ==",
          "dtype": "f8"
         },
         "yaxis": "y"
        },
        {
         "line": {
          "color": "blue"
         },
         "mode": "lines+markers",
         "name": "CO₂-utslipp (kg)",
         "type": "scatter",
         "x": {
          "bdata": "0AfRB9IH0wfUB9UH1gfXB9gH2QfaB9sH3AfdB94H3wfgB+EH4gfjB+QH5QfmB+cH6AfpBw==",
          "dtype": "i2"
         },
         "xaxis": "x2",
         "y": {
          "bdata": "AAAAPAZXwUEAAADQ0ALBQQAAACx8vsFBAAAA3AmSxEEAAAD4KFXGQQEAAKCXXslBAQAAhJBTykEAAAAKXVvQQQAAAKpu4NBBAAAAyAP+0kEBAABUVX7UQQEAAKL8uNZBAAAAFLt020EAAADekkzaQQEAAMJbMNtBAQAAQODl3EEBAAC0R9/aQQEAACSqwNtBAQAAFupu3UEBAAAin+3eQQEAAGq1Ed9BAAAAl4wq4UEAAACz6mXgQQAAAPjMNOBBAQAArj+230EBAADocGq+QQ==",
          "dtype": "f8"
         },
         "yaxis": "y2"
        }
       ],
       "layout": {
        "annotations": [
         {
          "font": {
           "size": 16
          },
          "showarrow": false,
          "text": "Årlig eksportert vekt av laks",
          "x": 0.5,
          "xanchor": "center",
          "xref": "paper",
          "y": 1,
          "yanchor": "bottom",
          "yref": "paper"
         },
         {
          "font": {
           "size": 16
          },
          "showarrow": false,
          "text": "Årlig CO₂-utslipp fra fersk laks",
          "x": 0.5,
          "xanchor": "center",
          "xref": "paper",
          "y": 0.44,
          "yanchor": "bottom",
          "yref": "paper"
         }
        ],
        "height": 800,
        "showlegend": true,
        "template": {
         "data": {
          "bar": [
           {
            "error_x": {
             "color": "#2a3f5f"
            },
            "error_y": {
             "color": "#2a3f5f"
            },
            "marker": {
             "line": {
              "color": "#E5ECF6",
              "width": 0.5
             },
             "pattern": {
              "fillmode": "overlay",
              "size": 10,
              "solidity": 0.2
             }
            },
            "type": "bar"
           }
          ],
          "barpolar": [
           {
            "marker": {
             "line": {
              "color": "#E5ECF6",
              "width": 0.5
             },
             "pattern": {
              "fillmode": "overlay",
              "size": 10,
              "solidity": 0.2
             }
            },
            "type": "barpolar"
           }
          ],
          "carpet": [
           {
            "aaxis": {
             "endlinecolor": "#2a3f5f",
             "gridcolor": "white",
             "linecolor": "white",
             "minorgridcolor": "white",
             "startlinecolor": "#2a3f5f"
            },
            "baxis": {
             "endlinecolor": "#2a3f5f",
             "gridcolor": "white",
             "linecolor": "white",
             "minorgridcolor": "white",
             "startlinecolor": "#2a3f5f"
            },
            "type": "carpet"
           }
          ],
          "choropleth": [
           {
            "colorbar": {
             "outlinewidth": 0,
             "ticks": ""
            },
            "type": "choropleth"
           }
          ],
          "contour": [
           {
            "colorbar": {
             "outlinewidth": 0,
             "ticks": ""
            },
            "colorscale": [
             [
              0,
              "#0d0887"
             ],
             [
              0.1111111111111111,
              "#46039f"
             ],
             [
              0.2222222222222222,
              "#7201a8"
             ],
             [
              0.3333333333333333,
              "#9c179e"
             ],
             [
              0.4444444444444444,
              "#bd3786"
             ],
             [
              0.5555555555555556,
              "#d8576b"
             ],
             [
              0.6666666666666666,
              "#ed7953"
             ],
             [
              0.7777777777777778,
              "#fb9f3a"
             ],
             [
              0.8888888888888888,
              "#fdca26"
             ],
             [
              1,
              "#f0f921"
             ]
            ],
            "type": "contour"
           }
          ],
          "contourcarpet": [
           {
            "colorbar": {
             "outlinewidth": 0,
             "ticks": ""
            },
            "type": "contourcarpet"
           }
          ],
          "heatmap": [
           {
            "colorbar": {
             "outlinewidth": 0,
             "ticks": ""
            },
            "colorscale": [
             [
              0,
              "#0d0887"
             ],
             [
              0.1111111111111111,
              "#46039f"
             ],
             [
              0.2222222222222222,
              "#7201a8"
             ],
             [
              0.3333333333333333,
              "#9c179e"
             ],
             [
              0.4444444444444444,
              "#bd3786"
             ],
             [
              0.5555555555555556,
              "#d8576b"
             ],
             [
              0.6666666666666666,
              "#ed7953"
             ],
             [
              0.7777777777777778,
              "#fb9f3a"
             ],
             [
              0.8888888888888888,
              "#fdca26"
             ],
             [
              1,
              "#f0f921"
             ]
            ],
            "type": "heatmap"
           }
          ],
          "histogram": [
           {
            "marker": {
             "pattern": {
              "fillmode": "overlay",
              "size": 10,
              "solidity": 0.2
             }
            },
            "type": "histogram"
           }
          ],
          "histogram2d": [
           {
            "colorbar": {
             "outlinewidth": 0,
             "ticks": ""
            },
            "colorscale": [
             [
              0,
              "#0d0887"
             ],
             [
              0.1111111111111111,
              "#46039f"
             ],
             [
              0.2222222222222222,
              "#7201a8"
             ],
             [
              0.3333333333333333,
              "#9c179e"
             ],
             [
              0.4444444444444444,
              "#bd3786"
             ],
             [
              0.5555555555555556,
              "#d8576b"
             ],
             [
              0.6666666666666666,
              "#ed7953"
             ],
             [
              0.7777777777777778,
              "#fb9f3a"
             ],
             [
              0.8888888888888888,
              "#fdca26"
             ],
             [
              1,
              "#f0f921"
             ]
            ],
            "type": "histogram2d"
           }
          ],
          "histogram2dcontour": [
           {
            "colorbar": {
             "outlinewidth": 0,
             "ticks": ""
            },
            "colorscale": [
             [
              0,
              "#0d0887"
             ],
             [
              0.1111111111111111,
              "#46039f"
             ],
             [
              0.2222222222222222,
              "#7201a8"
             ],
             [
              0.3333333333333333,
              "#9c179e"
             ],
             [
              0.4444444444444444,
              "#bd3786"
             ],
             [
              0.5555555555555556,
              "#d8576b"
             ],
             [
              0.6666666666666666,
              "#ed7953"
             ],
             [
              0.7777777777777778,
              "#fb9f3a"
             ],
             [
              0.8888888888888888,
              "#fdca26"
             ],
             [
              1,
              "#f0f921"
             ]
            ],
            "type": "histogram2dcontour"
           }
          ],
          "mesh3d": [
           {
            "colorbar": {
             "outlinewidth": 0,
             "ticks": ""
            },
            "type": "mesh3d"
           }
          ],
          "parcoords": [
           {
            "line": {
             "colorbar": {
              "outlinewidth": 0,
              "ticks": ""
             }
            },
            "type": "parcoords"
           }
          ],
          "pie": [
           {
            "automargin": true,
            "type": "pie"
           }
          ],
          "scatter": [
           {
            "fillpattern": {
             "fillmode": "overlay",
             "size": 10,
             "solidity": 0.2
            },
            "type": "scatter"
           }
          ],
          "scatter3d": [
           {
            "line": {
             "colorbar": {
              "outlinewidth": 0,
              "ticks": ""
             }
            },
            "marker": {
             "colorbar": {
              "outlinewidth": 0,
              "ticks": ""
             }
            },
            "type": "scatter3d"
           }
          ],
          "scattercarpet": [
           {
            "marker": {
             "colorbar": {
              "outlinewidth": 0,
              "ticks": ""
             }
            },
            "type": "scattercarpet"
           }
          ],
          "scattergeo": [
           {
            "marker": {
             "colorbar": {
              "outlinewidth": 0,
              "ticks": ""
             }
            },
            "type": "scattergeo"
           }
          ],
          "scattergl": [
           {
            "marker": {
             "colorbar": {
              "outlinewidth": 0,
              "ticks": ""
             }
            },
            "type": "scattergl"
           }
          ],
          "scattermap": [
           {
            "marker": {
             "colorbar": {
              "outlinewidth": 0,
              "ticks": ""
             }
            },
            "type": "scattermap"
           }
          ],
          "scattermapbox": [
           {
            "marker": {
             "colorbar": {
              "outlinewidth": 0,
              "ticks": ""
             }
            },
            "type": "scattermapbox"
           }
          ],
          "scatterpolar": [
           {
            "marker": {
             "colorbar": {
              "outlinewidth": 0,
              "ticks": ""
             }
            },
            "type": "scatterpolar"
           }
          ],
          "scatterpolargl": [
           {
            "marker": {
             "colorbar": {
              "outlinewidth": 0,
              "ticks": ""
             }
            },
            "type": "scatterpolargl"
           }
          ],
          "scatterternary": [
           {
            "marker": {
             "colorbar": {
              "outlinewidth": 0,
              "ticks": ""
             }
            },
            "type": "scatterternary"
           }
          ],
          "surface": [
           {
            "colorbar": {
             "outlinewidth": 0,
             "ticks": ""
            },
            "colorscale": [
             [
              0,
              "#0d0887"
             ],
             [
              0.1111111111111111,
              "#46039f"
             ],
             [
              0.2222222222222222,
              "#7201a8"
             ],
             [
              0.3333333333333333,
              "#9c179e"
             ],
             [
              0.4444444444444444,
              "#bd3786"
             ],
             [
              0.5555555555555556,
              "#d8576b"
             ],
             [
              0.6666666666666666,
              "#ed7953"
             ],
             [
              0.7777777777777778,
              "#fb9f3a"
             ],
             [
              0.8888888888888888,
              "#fdca26"
             ],
             [
              1,
              "#f0f921"
             ]
            ],
            "type": "surface"
           }
          ],
          "table": [
           {
            "cells": {
             "fill": {
              "color": "#EBF0F8"
             },
             "line": {
              "color": "white"
             }
            },
            "header": {
             "fill": {
              "color": "#C8D4E3"
             },
             "line": {
              "color": "white"
             }
            },
            "type": "table"
           }
          ]
         },
         "layout": {
          "annotationdefaults": {
           "arrowcolor": "#2a3f5f",
           "arrowhead": 0,
           "arrowwidth": 1
          },
          "autotypenumbers": "strict",
          "coloraxis": {
           "colorbar": {
            "outlinewidth": 0,
            "ticks": ""
           }
          },
          "colorscale": {
           "diverging": [
            [
             0,
             "#8e0152"
            ],
            [
             0.1,
             "#c51b7d"
            ],
            [
             0.2,
             "#de77ae"
            ],
            [
             0.3,
             "#f1b6da"
            ],
            [
             0.4,
             "#fde0ef"
            ],
            [
             0.5,
             "#f7f7f7"
            ],
            [
             0.6,
             "#e6f5d0"
            ],
            [
             0.7,
             "#b8e186"
            ],
            [
             0.8,
             "#7fbc41"
            ],
            [
             0.9,
             "#4d9221"
            ],
            [
             1,
             "#276419"
            ]
           ],
           "sequential": [
            [
             0,
             "#0d0887"
            ],
            [
             0.1111111111111111,
             "#46039f"
            ],
            [
             0.2222222222222222,
             "#7201a8"
            ],
            [
             0.3333333333333333,
             "#9c179e"
            ],
            [
             0.4444444444444444,
             "#bd3786"
            ],
            [
             0.5555555555555556,
             "#d8576b"
            ],
            [
             0.6666666666666666,
             "#ed7953"
            ],
            [
             0.7777777777777778,
             "#fb9f3a"
            ],
            [
             0.8888888888888888,
             "#fdca26"
            ],
            [
             1,
             "#f0f921"
            ]
           ],
           "sequentialminus": [
            [
             0,
             "#0d0887"
            ],
            [
             0.1111111111111111,
             "#46039f"
            ],
            [
             0.2222222222222222,
             "#7201a8"
            ],
            [
             0.3333333333333333,
             "#9c179e"
            ],
            [
             0.4444444444444444,
             "#bd3786"
            ],
            [
             0.5555555555555556,
             "#d8576b"
            ],
            [
             0.6666666666666666,
             "#ed7953"
            ],
            [
             0.7777777777777778,
             "#fb9f3a"
            ],
            [
             0.8888888888888888,
             "#fdca26"
            ],
            [
             1,
             "#f0f921"
            ]
           ]
          },
          "colorway": [
           "#636efa",
           "#EF553B",
           "#00cc96",
           "#ab63fa",
           "#FFA15A",
           "#19d3f3",
           "#FF6692",
           "#B6E880",
           "#FF97FF",
           "#FECB52"
          ],
          "font": {
           "color": "#2a3f5f"
          },
          "geo": {
           "bgcolor": "white",
           "lakecolor": "white",
           "landcolor": "#E5ECF6",
           "showlakes": true,
           "showland": true,
           "subunitcolor": "white"
          },
          "hoverlabel": {
           "align": "left"
          },
          "hovermode": "closest",
          "mapbox": {
           "style": "light"
          },
          "paper_bgcolor": "white",
          "plot_bgcolor": "#E5ECF6",
          "polar": {
           "angularaxis": {
            "gridcolor": "white",
            "linecolor": "white",
            "ticks": ""
           },
           "bgcolor": "#E5ECF6",
           "radialaxis": {
            "gridcolor": "white",
            "linecolor": "white",
            "ticks": ""
           }
          },
          "scene": {
           "xaxis": {
            "backgroundcolor": "#E5ECF6",
            "gridcolor": "white",
            "gridwidth": 2,
            "linecolor": "white",
            "showbackground": true,
            "ticks": "",
            "zerolinecolor": "white"
           },
           "yaxis": {
            "backgroundcolor": "#E5ECF6",
            "gridcolor": "white",
            "gridwidth": 2,
            "linecolor": "white",
            "showbackground": true,
            "ticks": "",
            "zerolinecolor": "white"
           },
           "zaxis": {
            "backgroundcolor": "#E5ECF6",
            "gridcolor": "white",
            "gridwidth": 2,
            "linecolor": "white",
            "showbackground": true,
            "ticks": "",
            "zerolinecolor": "white"
           }
          },
          "shapedefaults": {
           "line": {
            "color": "#2a3f5f"
           }
          },
          "ternary": {
           "aaxis": {
            "gridcolor": "white",
            "linecolor": "white",
            "ticks": ""
           },
           "baxis": {
            "gridcolor": "white",
            "linecolor": "white",
            "ticks": ""
           },
           "bgcolor": "#E5ECF6",
           "caxis": {
            "gridcolor": "white",
            "linecolor": "white",
            "ticks": ""
           }
          },
          "title": {
           "x": 0.05
          },
          "xaxis": {
           "automargin": true,
           "gridcolor": "white",
           "linecolor": "white",
           "ticks": "",
           "title": {
            "standoff": 15
           },
           "zerolinecolor": "white",
           "zerolinewidth": 2
          },
          "yaxis": {
           "automargin": true,
           "gridcolor": "white",
           "linecolor": "white",
           "ticks": "",
           "title": {
            "standoff": 15
           },
           "zerolinecolor": "white",
           "zerolinewidth": 2
          }
         }
        },
        "title": {
         "text": "Interaktiv visualisering: Eksportert vekt og CO₂-utslipp av laks (per år)",
         "x": 0.5
        },
        "width": 1300,
        "xaxis": {
         "anchor": "y",
         "domain": [
          0,
          1
         ],
         "matches": "x2",
         "showticklabels": false,
         "title": {
          "text": "År"
         }
        },
        "xaxis2": {
         "anchor": "y2",
         "domain": [
          0,
          1
         ],
         "title": {
          "text": "År"
         }
        },
        "yaxis": {
         "anchor": "x",
         "domain": [
          0.56,
          1
         ],
         "title": {
          "text": "Vekt (tonn)"
         }
        },
        "yaxis2": {
         "anchor": "x2",
         "domain": [
          0,
          0.44
         ],
         "title": {
          "text": "CO₂-utslipp (kg)"
         }
        }
       }
      }
     },
     "metadata": {},
     "output_type": "display_data"
    }
   ],
   "source": [
    "import requests\n",
    "import pandas as pd\n",
    "import plotly.graph_objects as go\n",
    "from plotly.subplots import make_subplots\n",
    "from itertools import product\n",
    "\n",
    "# Hente og prosessere data\n",
    "api_url = \"https://data.ssb.no/api/v0/no/table/03024/\"\n",
    "query = {\"query\": [], \"response\": {\"format\": \"json-stat2\"}}\n",
    "response = requests.post(api_url, json=query)\n",
    "data = response.json()\n",
    "\n",
    "dim_names = list(data[\"dimension\"].keys())\n",
    "dim_values = [list(data[\"dimension\"][dim][\"category\"][\"label\"].values()) for dim in dim_names]\n",
    "combinations = list(product(*dim_values))\n",
    "df = pd.DataFrame(combinations, columns=dim_names)\n",
    "df[\"Value\"] = data[\"value\"]\n",
    "\n",
    "df_pivot = df.pivot_table(index=\"Tid\", columns=[\"VareGrupper2\", \"ContentsCode\"],\n",
    "                           values=\"Value\", aggfunc=\"sum\").reset_index()\n",
    "df_pivot.columns = [\"Tid\", \"Fersk laks - Kilospris\", \"Fersk laks - Vekt (tonn)\",\n",
    "                    \"Frosset laks - Kilospris\", \"Frosset laks - Vekt (tonn)\"]\n",
    "\n",
    "df_pivot[\"År\"] = df_pivot[\"Tid\"].str[:4].astype(int)\n",
    "df_pivot[\"Uke\"] = df_pivot[\"Tid\"].str[5:].astype(int)\n",
    "df_pivot[\"CO2-utslipp (kg)\"] = df_pivot[\"Fersk laks - Vekt (tonn)\"] * 1.1 * 2000\n",
    "\n",
    "# Gruppering per år\n",
    "vekt_per_year = df_pivot.groupby(\"År\")[[\"Fersk laks - Vekt (tonn)\", \"Frosset laks - Vekt (tonn)\"]].sum().reset_index()\n",
    "co2_per_year = df_pivot.groupby(\"År\")[\"CO2-utslipp (kg)\"].sum().reset_index()\n",
    "\n",
    "# Lage figur\n",
    "fig = make_subplots(\n",
    "    rows=2, cols=1,\n",
    "    shared_xaxes=True,\n",
    "    subplot_titles=(\"Årlig eksportert vekt av laks\", \"Årlig CO₂-utslipp fra fersk laks\"),\n",
    "    vertical_spacing=0.12\n",
    ")\n",
    "\n",
    "# Vekt-graf\n",
    "fig.add_trace(go.Scatter(\n",
    "    x=vekt_per_year[\"År\"],\n",
    "    y=vekt_per_year[\"Fersk laks - Vekt (tonn)\"],\n",
    "    mode=\"lines+markers\",\n",
    "    name=\"Fersk laks - Vekt (tonn)\",\n",
    "    line=dict(color=\"darkblue\")\n",
    "), row=1, col=1)\n",
    "\n",
    "\n",
    "\n",
    "# CO2-graf\n",
    "fig.add_trace(go.Scatter(\n",
    "    x=co2_per_year[\"År\"],\n",
    "    y=co2_per_year[\"CO2-utslipp (kg)\"],\n",
    "    mode=\"lines+markers\",\n",
    "    name=\"CO₂-utslipp (kg)\",\n",
    "    line=dict(color=\"blue\")\n",
    "), row=2, col=1)\n",
    "\n",
    "# Layout\n",
    "fig.update_layout(\n",
    "    height=800,\n",
    "    width=1300,\n",
    "    title=\"Interaktiv visualisering: Eksportert vekt og CO₂-utslipp av laks (per år)\",\n",
    "    title_x=0.5,\n",
    "    showlegend=True\n",
    ")\n",
    "\n",
    "fig.update_xaxes(title_text=\"År\", row=1, col=1)\n",
    "fig.update_yaxes(title_text=\"Vekt (tonn)\", row=1, col=1)\n",
    "\n",
    "fig.update_xaxes(title_text=\"År\", row=2, col=1)\n",
    "fig.update_yaxes(title_text=\"CO₂-utslipp (kg)\", row=2, col=1)\n",
    "\n",
    "fig.show()\n"
   ]
  }
 ],
 "metadata": {
  "kernelspec": {
   "display_name": "venv",
   "language": "python",
   "name": "python3"
  },
  "language_info": {
   "codemirror_mode": {
    "name": "ipython",
    "version": 3
   },
   "file_extension": ".py",
   "mimetype": "text/x-python",
   "name": "python",
   "nbconvert_exporter": "python",
   "pygments_lexer": "ipython3",
   "version": "3.13.2"
  }
 },
 "nbformat": 4,
 "nbformat_minor": 5
}
